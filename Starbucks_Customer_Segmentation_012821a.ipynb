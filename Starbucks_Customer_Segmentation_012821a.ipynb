{
 "cells": [
  {
   "cell_type": "code",
   "execution_count": 1,
   "metadata": {},
   "outputs": [],
   "source": [
    "# Import all libraries and packages\n",
    "\n",
    "import pandas as pd\n",
    "import numpy as np\n",
    "import math\n",
    "import json\n",
    "\n",
    "\n",
    "from sklearn.preprocessing import LabelBinarizer, MultiLabelBinarizer, MinMaxScaler\n",
    "import seaborn as sns #For Data visualization\n",
    "import matplotlib.pyplot as plt #Data plotting and visualization\n",
    "sns.set_palette(sns.color_palette('Set2'))\n",
    "import plotly.express as px\n",
    "%matplotlib inline\n",
    "\n",
    "\n",
    "from datetime import datetime\n",
    "from sklearn.preprocessing import LabelBinarizer, MultiLabelBinarizer\n",
    "from sklearn.cluster import KMeans"
   ]
  },
  {
   "cell_type": "code",
   "execution_count": 2,
   "metadata": {},
   "outputs": [],
   "source": [
    "# read in the json files\n",
    "\n",
    "portfolio = pd.read_json('data/portfolio.json', orient='records', lines=True)\n",
    "profile = pd.read_json('data/profile.json', orient='records', lines=True)\n",
    "transcript = pd.read_json('data/transcript.json', orient='records', lines=True)"
   ]
  },
  {
   "cell_type": "code",
   "execution_count": 3,
   "metadata": {},
   "outputs": [],
   "source": [
    "#Import functions with clean data\n",
    "from clean_data import clean_portfolio, clean_profile, clean_transcript\n",
    "\n",
    "#Cleaned Portfolio data\n",
    "portfolio_df = clean_portfolio(portfolio)\n",
    "\n",
    "#profile_da - Demographic data, profile_m: Demographic data with encoding\n",
    "profile_da, profile_m = clean_profile(profile)\n",
    "\n",
    "#offers- Offer data, transactions -Transaction dataframe\n",
    "offers,transactions = clean_transcript(transcript)\n"
   ]
  },
  {
   "cell_type": "code",
   "execution_count": 4,
   "metadata": {},
   "outputs": [
    {
     "data": {
      "text/html": [
       "<div>\n",
       "<style scoped>\n",
       "    .dataframe tbody tr th:only-of-type {\n",
       "        vertical-align: middle;\n",
       "    }\n",
       "\n",
       "    .dataframe tbody tr th {\n",
       "        vertical-align: top;\n",
       "    }\n",
       "\n",
       "    .dataframe thead th {\n",
       "        text-align: right;\n",
       "    }\n",
       "</style>\n",
       "<table border=\"1\" class=\"dataframe\">\n",
       "  <thead>\n",
       "    <tr style=\"text-align: right;\">\n",
       "      <th></th>\n",
       "      <th>offer_id</th>\n",
       "      <th>offer_name</th>\n",
       "      <th>offer_type</th>\n",
       "      <th>offer_difficulty</th>\n",
       "      <th>offer_duration</th>\n",
       "      <th>offer_reward</th>\n",
       "      <th>email</th>\n",
       "      <th>mobile</th>\n",
       "      <th>social</th>\n",
       "      <th>web</th>\n",
       "    </tr>\n",
       "  </thead>\n",
       "  <tbody>\n",
       "    <tr>\n",
       "      <th>0</th>\n",
       "      <td>ae264e3637204a6fb9bb56bc8210ddfd</td>\n",
       "      <td>offer_1</td>\n",
       "      <td>bogo</td>\n",
       "      <td>10</td>\n",
       "      <td>7</td>\n",
       "      <td>10</td>\n",
       "      <td>1</td>\n",
       "      <td>1</td>\n",
       "      <td>1</td>\n",
       "      <td>0</td>\n",
       "    </tr>\n",
       "    <tr>\n",
       "      <th>1</th>\n",
       "      <td>4d5c57ea9a6940dd891ad53e9dbe8da0</td>\n",
       "      <td>offer_2</td>\n",
       "      <td>bogo</td>\n",
       "      <td>10</td>\n",
       "      <td>5</td>\n",
       "      <td>10</td>\n",
       "      <td>1</td>\n",
       "      <td>1</td>\n",
       "      <td>1</td>\n",
       "      <td>1</td>\n",
       "    </tr>\n",
       "    <tr>\n",
       "      <th>2</th>\n",
       "      <td>3f207df678b143eea3cee63160fa8bed</td>\n",
       "      <td>offer_3</td>\n",
       "      <td>informational</td>\n",
       "      <td>0</td>\n",
       "      <td>4</td>\n",
       "      <td>0</td>\n",
       "      <td>1</td>\n",
       "      <td>1</td>\n",
       "      <td>0</td>\n",
       "      <td>1</td>\n",
       "    </tr>\n",
       "  </tbody>\n",
       "</table>\n",
       "</div>"
      ],
      "text/plain": [
       "                           offer_id offer_name     offer_type  \\\n",
       "0  ae264e3637204a6fb9bb56bc8210ddfd    offer_1           bogo   \n",
       "1  4d5c57ea9a6940dd891ad53e9dbe8da0    offer_2           bogo   \n",
       "2  3f207df678b143eea3cee63160fa8bed    offer_3  informational   \n",
       "\n",
       "   offer_difficulty  offer_duration  offer_reward  email  mobile  social  web  \n",
       "0                10               7            10      1       1       1    0  \n",
       "1                10               5            10      1       1       1    1  \n",
       "2                 0               4             0      1       1       0    1  "
      ]
     },
     "execution_count": 4,
     "metadata": {},
     "output_type": "execute_result"
    }
   ],
   "source": [
    "portfolio_df.head(3)"
   ]
  },
  {
   "cell_type": "code",
   "execution_count": 5,
   "metadata": {
    "scrolled": true
   },
   "outputs": [
    {
     "data": {
      "text/html": [
       "<div>\n",
       "<style scoped>\n",
       "    .dataframe tbody tr th:only-of-type {\n",
       "        vertical-align: middle;\n",
       "    }\n",
       "\n",
       "    .dataframe tbody tr th {\n",
       "        vertical-align: top;\n",
       "    }\n",
       "\n",
       "    .dataframe thead th {\n",
       "        text-align: right;\n",
       "    }\n",
       "</style>\n",
       "<table border=\"1\" class=\"dataframe\">\n",
       "  <thead>\n",
       "    <tr style=\"text-align: right;\">\n",
       "      <th></th>\n",
       "      <th>customer_id</th>\n",
       "      <th>gender</th>\n",
       "      <th>age</th>\n",
       "      <th>age_group</th>\n",
       "      <th>customer_income</th>\n",
       "      <th>customer_income_range</th>\n",
       "      <th>became_member_on</th>\n",
       "      <th>membership_year</th>\n",
       "    </tr>\n",
       "  </thead>\n",
       "  <tbody>\n",
       "    <tr>\n",
       "      <th>0</th>\n",
       "      <td>0610b486422d4921ae7d2bf64640c50b</td>\n",
       "      <td>F</td>\n",
       "      <td>55</td>\n",
       "      <td>GenXers(44-56)</td>\n",
       "      <td>112000.0</td>\n",
       "      <td>$100K</td>\n",
       "      <td>2017-07-15</td>\n",
       "      <td>2017</td>\n",
       "    </tr>\n",
       "    <tr>\n",
       "      <th>1</th>\n",
       "      <td>78afa995795e4d85b5d9ceeca43f5fef</td>\n",
       "      <td>F</td>\n",
       "      <td>75</td>\n",
       "      <td>Boomers(57-75)</td>\n",
       "      <td>100000.0</td>\n",
       "      <td>$100K</td>\n",
       "      <td>2017-05-09</td>\n",
       "      <td>2017</td>\n",
       "    </tr>\n",
       "    <tr>\n",
       "      <th>2</th>\n",
       "      <td>e2127556f4f64592b11af22de27a7932</td>\n",
       "      <td>M</td>\n",
       "      <td>68</td>\n",
       "      <td>Boomers(57-75)</td>\n",
       "      <td>70000.0</td>\n",
       "      <td>$50,000 - $74,999</td>\n",
       "      <td>2018-04-26</td>\n",
       "      <td>2018</td>\n",
       "    </tr>\n",
       "  </tbody>\n",
       "</table>\n",
       "</div>"
      ],
      "text/plain": [
       "                        customer_id gender  age       age_group  \\\n",
       "0  0610b486422d4921ae7d2bf64640c50b      F   55  GenXers(44-56)   \n",
       "1  78afa995795e4d85b5d9ceeca43f5fef      F   75  Boomers(57-75)   \n",
       "2  e2127556f4f64592b11af22de27a7932      M   68  Boomers(57-75)   \n",
       "\n",
       "   customer_income customer_income_range became_member_on  membership_year  \n",
       "0         112000.0                 $100K       2017-07-15             2017  \n",
       "1         100000.0                 $100K       2017-05-09             2017  \n",
       "2          70000.0     $50,000 - $74,999       2018-04-26             2018  "
      ]
     },
     "execution_count": 5,
     "metadata": {},
     "output_type": "execute_result"
    }
   ],
   "source": [
    "#Profile Data\n",
    "profile_da.head(3)"
   ]
  },
  {
   "cell_type": "code",
   "execution_count": 6,
   "metadata": {},
   "outputs": [
    {
     "data": {
      "text/html": [
       "<div>\n",
       "<style scoped>\n",
       "    .dataframe tbody tr th:only-of-type {\n",
       "        vertical-align: middle;\n",
       "    }\n",
       "\n",
       "    .dataframe tbody tr th {\n",
       "        vertical-align: top;\n",
       "    }\n",
       "\n",
       "    .dataframe thead th {\n",
       "        text-align: right;\n",
       "    }\n",
       "</style>\n",
       "<table border=\"1\" class=\"dataframe\">\n",
       "  <thead>\n",
       "    <tr style=\"text-align: right;\">\n",
       "      <th></th>\n",
       "      <th>customer_id</th>\n",
       "      <th>F</th>\n",
       "      <th>M</th>\n",
       "      <th>O</th>\n",
       "      <th>GenZ(18–25)</th>\n",
       "      <th>Millennias(26-43)</th>\n",
       "      <th>GenXers(44-56)</th>\n",
       "      <th>Boomers(57-75)</th>\n",
       "      <th>Matures(76+)</th>\n",
       "      <th>$50,000 - $74,999</th>\n",
       "      <th>$75,000 - $99,999</th>\n",
       "      <th>$100K</th>\n",
       "      <th>2013</th>\n",
       "      <th>2014</th>\n",
       "      <th>2015</th>\n",
       "      <th>2016</th>\n",
       "      <th>2017</th>\n",
       "      <th>2018</th>\n",
       "    </tr>\n",
       "  </thead>\n",
       "  <tbody>\n",
       "    <tr>\n",
       "      <th>0</th>\n",
       "      <td>0610b486422d4921ae7d2bf64640c50b</td>\n",
       "      <td>1</td>\n",
       "      <td>0</td>\n",
       "      <td>0</td>\n",
       "      <td>0</td>\n",
       "      <td>0</td>\n",
       "      <td>1</td>\n",
       "      <td>0</td>\n",
       "      <td>0</td>\n",
       "      <td>0</td>\n",
       "      <td>0</td>\n",
       "      <td>1</td>\n",
       "      <td>0</td>\n",
       "      <td>0</td>\n",
       "      <td>0</td>\n",
       "      <td>0</td>\n",
       "      <td>1</td>\n",
       "      <td>0</td>\n",
       "    </tr>\n",
       "    <tr>\n",
       "      <th>1</th>\n",
       "      <td>78afa995795e4d85b5d9ceeca43f5fef</td>\n",
       "      <td>1</td>\n",
       "      <td>0</td>\n",
       "      <td>0</td>\n",
       "      <td>0</td>\n",
       "      <td>0</td>\n",
       "      <td>0</td>\n",
       "      <td>1</td>\n",
       "      <td>0</td>\n",
       "      <td>0</td>\n",
       "      <td>0</td>\n",
       "      <td>1</td>\n",
       "      <td>0</td>\n",
       "      <td>0</td>\n",
       "      <td>0</td>\n",
       "      <td>0</td>\n",
       "      <td>1</td>\n",
       "      <td>0</td>\n",
       "    </tr>\n",
       "    <tr>\n",
       "      <th>2</th>\n",
       "      <td>e2127556f4f64592b11af22de27a7932</td>\n",
       "      <td>0</td>\n",
       "      <td>1</td>\n",
       "      <td>0</td>\n",
       "      <td>0</td>\n",
       "      <td>0</td>\n",
       "      <td>0</td>\n",
       "      <td>1</td>\n",
       "      <td>0</td>\n",
       "      <td>1</td>\n",
       "      <td>0</td>\n",
       "      <td>0</td>\n",
       "      <td>0</td>\n",
       "      <td>0</td>\n",
       "      <td>0</td>\n",
       "      <td>0</td>\n",
       "      <td>0</td>\n",
       "      <td>1</td>\n",
       "    </tr>\n",
       "  </tbody>\n",
       "</table>\n",
       "</div>"
      ],
      "text/plain": [
       "                        customer_id  F  M  O  GenZ(18–25)  Millennias(26-43)  \\\n",
       "0  0610b486422d4921ae7d2bf64640c50b  1  0  0            0                  0   \n",
       "1  78afa995795e4d85b5d9ceeca43f5fef  1  0  0            0                  0   \n",
       "2  e2127556f4f64592b11af22de27a7932  0  1  0            0                  0   \n",
       "\n",
       "   GenXers(44-56)  Boomers(57-75)  Matures(76+)  $50,000 - $74,999  \\\n",
       "0               1               0             0                  0   \n",
       "1               0               1             0                  0   \n",
       "2               0               1             0                  1   \n",
       "\n",
       "   $75,000 - $99,999  $100K  2013  2014  2015  2016  2017  2018  \n",
       "0                  0      1     0     0     0     0     1     0  \n",
       "1                  0      1     0     0     0     0     1     0  \n",
       "2                  0      0     0     0     0     0     0     1  "
      ]
     },
     "execution_count": 6,
     "metadata": {},
     "output_type": "execute_result"
    }
   ],
   "source": [
    "#Profile data wth encoding\n",
    "profile_m.head(3)"
   ]
  },
  {
   "cell_type": "code",
   "execution_count": 8,
   "metadata": {},
   "outputs": [
    {
     "data": {
      "text/html": [
       "<div>\n",
       "<style scoped>\n",
       "    .dataframe tbody tr th:only-of-type {\n",
       "        vertical-align: middle;\n",
       "    }\n",
       "\n",
       "    .dataframe tbody tr th {\n",
       "        vertical-align: top;\n",
       "    }\n",
       "\n",
       "    .dataframe thead th {\n",
       "        text-align: right;\n",
       "    }\n",
       "</style>\n",
       "<table border=\"1\" class=\"dataframe\">\n",
       "  <thead>\n",
       "    <tr style=\"text-align: right;\">\n",
       "      <th></th>\n",
       "      <th>customer_id</th>\n",
       "      <th>event</th>\n",
       "      <th>time_in_days</th>\n",
       "      <th>offer_id</th>\n",
       "      <th>completed</th>\n",
       "      <th>received</th>\n",
       "      <th>viewed</th>\n",
       "    </tr>\n",
       "  </thead>\n",
       "  <tbody>\n",
       "    <tr>\n",
       "      <th>0</th>\n",
       "      <td>78afa995795e4d85b5d9ceeca43f5fef</td>\n",
       "      <td>offer received</td>\n",
       "      <td>0</td>\n",
       "      <td>9b98b8c7a33c4b65b9aebfe6a799e6d9</td>\n",
       "      <td>0</td>\n",
       "      <td>1</td>\n",
       "      <td>0</td>\n",
       "    </tr>\n",
       "    <tr>\n",
       "      <th>1</th>\n",
       "      <td>a03223e636434f42ac4c3df47e8bac43</td>\n",
       "      <td>offer received</td>\n",
       "      <td>0</td>\n",
       "      <td>0b1e1539f2cc45b7b9fa7c272da2e1d7</td>\n",
       "      <td>0</td>\n",
       "      <td>1</td>\n",
       "      <td>0</td>\n",
       "    </tr>\n",
       "    <tr>\n",
       "      <th>2</th>\n",
       "      <td>e2127556f4f64592b11af22de27a7932</td>\n",
       "      <td>offer received</td>\n",
       "      <td>0</td>\n",
       "      <td>2906b810c7d4411798c6938adc9daaa5</td>\n",
       "      <td>0</td>\n",
       "      <td>1</td>\n",
       "      <td>0</td>\n",
       "    </tr>\n",
       "  </tbody>\n",
       "</table>\n",
       "</div>"
      ],
      "text/plain": [
       "                        customer_id           event  time_in_days  \\\n",
       "0  78afa995795e4d85b5d9ceeca43f5fef  offer received             0   \n",
       "1  a03223e636434f42ac4c3df47e8bac43  offer received             0   \n",
       "2  e2127556f4f64592b11af22de27a7932  offer received             0   \n",
       "\n",
       "                           offer_id  completed  received  viewed  \n",
       "0  9b98b8c7a33c4b65b9aebfe6a799e6d9          0         1       0  \n",
       "1  0b1e1539f2cc45b7b9fa7c272da2e1d7          0         1       0  \n",
       "2  2906b810c7d4411798c6938adc9daaa5          0         1       0  "
      ]
     },
     "execution_count": 8,
     "metadata": {},
     "output_type": "execute_result"
    }
   ],
   "source": [
    "#Offers data\n",
    "offers.head(3)"
   ]
  },
  {
   "cell_type": "code",
   "execution_count": 7,
   "metadata": {
    "scrolled": true
   },
   "outputs": [
    {
     "data": {
      "text/html": [
       "<div>\n",
       "<style scoped>\n",
       "    .dataframe tbody tr th:only-of-type {\n",
       "        vertical-align: middle;\n",
       "    }\n",
       "\n",
       "    .dataframe tbody tr th {\n",
       "        vertical-align: top;\n",
       "    }\n",
       "\n",
       "    .dataframe thead th {\n",
       "        text-align: right;\n",
       "    }\n",
       "</style>\n",
       "<table border=\"1\" class=\"dataframe\">\n",
       "  <thead>\n",
       "    <tr style=\"text-align: right;\">\n",
       "      <th></th>\n",
       "      <th>customer_id</th>\n",
       "      <th>event</th>\n",
       "      <th>time_in_days</th>\n",
       "      <th>amount</th>\n",
       "    </tr>\n",
       "  </thead>\n",
       "  <tbody>\n",
       "    <tr>\n",
       "      <th>12654</th>\n",
       "      <td>02c083884c7d45b39cc68e1314fec56c</td>\n",
       "      <td>transaction</td>\n",
       "      <td>0</td>\n",
       "      <td>0.83</td>\n",
       "    </tr>\n",
       "    <tr>\n",
       "      <th>12657</th>\n",
       "      <td>9fa9ae8f57894cc9a3b8a9bbe0fc1b2f</td>\n",
       "      <td>transaction</td>\n",
       "      <td>0</td>\n",
       "      <td>34.56</td>\n",
       "    </tr>\n",
       "    <tr>\n",
       "      <th>12659</th>\n",
       "      <td>54890f68699049c2a04d415abc25e717</td>\n",
       "      <td>transaction</td>\n",
       "      <td>0</td>\n",
       "      <td>13.23</td>\n",
       "    </tr>\n",
       "  </tbody>\n",
       "</table>\n",
       "</div>"
      ],
      "text/plain": [
       "                            customer_id        event  time_in_days amount\n",
       "12654  02c083884c7d45b39cc68e1314fec56c  transaction             0   0.83\n",
       "12657  9fa9ae8f57894cc9a3b8a9bbe0fc1b2f  transaction             0  34.56\n",
       "12659  54890f68699049c2a04d415abc25e717  transaction             0  13.23"
      ]
     },
     "execution_count": 7,
     "metadata": {},
     "output_type": "execute_result"
    }
   ],
   "source": [
    "#Transaction data\n",
    "transactions.head(3)"
   ]
  },
  {
   "cell_type": "markdown",
   "metadata": {},
   "source": [
    "## Feature Engineering"
   ]
  },
  {
   "cell_type": "markdown",
   "metadata": {},
   "source": [
    "In this section, we are going to create a dataFrame with features aggregated to each customer IDs along with all demographic detailes of individual customers. \n",
    "\n",
    "The objective if to create a DataFrame such that its easier to aggregarte data for data analysis and visualization. \n",
    "\n",
    "1. We will be creating the following features for each of the offer type,offer reward, offer duration, offer difficulty, channels etc. \n",
    "\n",
    "* Offer recieved count\n",
    "* Offer Viewed count/viewed rate\n",
    "* Offer complted count/completed rate\n",
    "\n",
    "2. Crete new fatures based on customer segmentation. eg RFM or cluster analysis. "
   ]
  },
  {
   "cell_type": "code",
   "execution_count": 9,
   "metadata": {},
   "outputs": [],
   "source": [
    "#Merge Offer data and portfolio dataframe\n",
    "offers_portfolio = pd.merge(offers, portfolio_df, left_on='offer_id', right_on='offer_id', how='inner')"
   ]
  },
  {
   "cell_type": "code",
   "execution_count": 10,
   "metadata": {},
   "outputs": [
    {
     "data": {
      "text/html": [
       "<div>\n",
       "<style scoped>\n",
       "    .dataframe tbody tr th:only-of-type {\n",
       "        vertical-align: middle;\n",
       "    }\n",
       "\n",
       "    .dataframe tbody tr th {\n",
       "        vertical-align: top;\n",
       "    }\n",
       "\n",
       "    .dataframe thead th {\n",
       "        text-align: right;\n",
       "    }\n",
       "</style>\n",
       "<table border=\"1\" class=\"dataframe\">\n",
       "  <thead>\n",
       "    <tr style=\"text-align: right;\">\n",
       "      <th></th>\n",
       "      <th>customer_id</th>\n",
       "      <th>event</th>\n",
       "      <th>time_in_days</th>\n",
       "      <th>offer_id</th>\n",
       "      <th>completed</th>\n",
       "      <th>received</th>\n",
       "      <th>viewed</th>\n",
       "      <th>offer_name</th>\n",
       "      <th>offer_type</th>\n",
       "      <th>offer_difficulty</th>\n",
       "      <th>offer_duration</th>\n",
       "      <th>offer_reward</th>\n",
       "      <th>email</th>\n",
       "      <th>mobile</th>\n",
       "      <th>social</th>\n",
       "      <th>web</th>\n",
       "    </tr>\n",
       "  </thead>\n",
       "  <tbody>\n",
       "    <tr>\n",
       "      <th>0</th>\n",
       "      <td>78afa995795e4d85b5d9ceeca43f5fef</td>\n",
       "      <td>offer received</td>\n",
       "      <td>0</td>\n",
       "      <td>9b98b8c7a33c4b65b9aebfe6a799e6d9</td>\n",
       "      <td>0</td>\n",
       "      <td>1</td>\n",
       "      <td>0</td>\n",
       "      <td>offer_4</td>\n",
       "      <td>bogo</td>\n",
       "      <td>5</td>\n",
       "      <td>7</td>\n",
       "      <td>5</td>\n",
       "      <td>1</td>\n",
       "      <td>1</td>\n",
       "      <td>0</td>\n",
       "      <td>1</td>\n",
       "    </tr>\n",
       "    <tr>\n",
       "      <th>1</th>\n",
       "      <td>ebe7ef46ea6f4963a7dd49f501b26779</td>\n",
       "      <td>offer received</td>\n",
       "      <td>0</td>\n",
       "      <td>9b98b8c7a33c4b65b9aebfe6a799e6d9</td>\n",
       "      <td>0</td>\n",
       "      <td>1</td>\n",
       "      <td>0</td>\n",
       "      <td>offer_4</td>\n",
       "      <td>bogo</td>\n",
       "      <td>5</td>\n",
       "      <td>7</td>\n",
       "      <td>5</td>\n",
       "      <td>1</td>\n",
       "      <td>1</td>\n",
       "      <td>0</td>\n",
       "      <td>1</td>\n",
       "    </tr>\n",
       "    <tr>\n",
       "      <th>2</th>\n",
       "      <td>f082d80f0aac47a99173ba8ef8fc1909</td>\n",
       "      <td>offer received</td>\n",
       "      <td>0</td>\n",
       "      <td>9b98b8c7a33c4b65b9aebfe6a799e6d9</td>\n",
       "      <td>0</td>\n",
       "      <td>1</td>\n",
       "      <td>0</td>\n",
       "      <td>offer_4</td>\n",
       "      <td>bogo</td>\n",
       "      <td>5</td>\n",
       "      <td>7</td>\n",
       "      <td>5</td>\n",
       "      <td>1</td>\n",
       "      <td>1</td>\n",
       "      <td>0</td>\n",
       "      <td>1</td>\n",
       "    </tr>\n",
       "  </tbody>\n",
       "</table>\n",
       "</div>"
      ],
      "text/plain": [
       "                        customer_id           event  time_in_days  \\\n",
       "0  78afa995795e4d85b5d9ceeca43f5fef  offer received             0   \n",
       "1  ebe7ef46ea6f4963a7dd49f501b26779  offer received             0   \n",
       "2  f082d80f0aac47a99173ba8ef8fc1909  offer received             0   \n",
       "\n",
       "                           offer_id  completed  received  viewed offer_name  \\\n",
       "0  9b98b8c7a33c4b65b9aebfe6a799e6d9          0         1       0    offer_4   \n",
       "1  9b98b8c7a33c4b65b9aebfe6a799e6d9          0         1       0    offer_4   \n",
       "2  9b98b8c7a33c4b65b9aebfe6a799e6d9          0         1       0    offer_4   \n",
       "\n",
       "  offer_type  offer_difficulty  offer_duration  offer_reward  email  mobile  \\\n",
       "0       bogo                 5               7             5      1       1   \n",
       "1       bogo                 5               7             5      1       1   \n",
       "2       bogo                 5               7             5      1       1   \n",
       "\n",
       "   social  web  \n",
       "0       0    1  \n",
       "1       0    1  \n",
       "2       0    1  "
      ]
     },
     "execution_count": 10,
     "metadata": {},
     "output_type": "execute_result"
    }
   ],
   "source": [
    "offers_portfolio.head(3)"
   ]
  },
  {
   "cell_type": "code",
   "execution_count": 12,
   "metadata": {},
   "outputs": [],
   "source": [
    "\n",
    "def offer_success(offers_portfolio, column):\n",
    "    \n",
    "    \"\"\"\n",
    "    This procedure is to create the following features:\n",
    "    \n",
    "    -Offer recieved count\n",
    "    -Offer Viewed count/viewed rate\n",
    "    -Offer complted count/completed rate\n",
    "    \n",
    "    For each of Offer type, Offer name, offer difficulty, offer durtion, offer reward\n",
    "    \n",
    "    INPUT: \n",
    "    - offers_portfolio: Offer_portfolio dataframe\n",
    "    - column: column name for which the feature must be created. ed - offer_type, offer_name\n",
    "    \n",
    "    OUTPUT:\n",
    "    - all_res: A list of dataframe\n",
    "    \n",
    "    \"\"\"\n",
    "\n",
    "    offer_name = offers_portfolio[column].unique()\n",
    "\n",
    "    all_res = []\n",
    "    for offer in offer_name:\n",
    "\n",
    "        success = offers_portfolio[offers_portfolio[column] == offer].groupby(['customer_id']).agg({'received': 'sum' ,\n",
    "                                                                                                          'viewed':'sum' ,\n",
    "                                                                                                          'completed': 'sum'})\n",
    "        offer_count= success.add_suffix('_count')\n",
    "        col_name = list(offer_count.columns)\n",
    "        offer_count['viewed_rate'] = offer_count[col_name[1]]/offer_count[col_name[0]]\n",
    "        offer_count['completed_rate'] = offer_count[col_name[2]]/offer_count[col_name[1]]\n",
    "        offer_count[offer_count['completed_rate']> 1] = 1\n",
    "        offer_count = offer_count.add_prefix(column+'_'+str(offer)+'_')\n",
    "        #offer_count.reset_index(inplace=True)\n",
    "\n",
    "        all_res.append(offer_count)\n",
    "    \n",
    "    return all_res\n",
    "\n",
    "\n",
    "def offer_success_channel(offers_portfolio):\n",
    "    \n",
    "    \"\"\"\n",
    "    This procedure is to create the following features:\n",
    "    \n",
    "    -Offer recieved count\n",
    "    -Offer Viewed count/viewed rate\n",
    "    -Offer complted count/completed rate\n",
    "    \n",
    "    For each of 'mobile','social','web','email' channels\n",
    "    \n",
    "    INPUT: \n",
    "    - offers_portfolio: Offer_portfolio dataframe\n",
    "    - column: column name for which the feature must be created. eg - 'mobile','social','web','email' channels\n",
    "    \n",
    "    OUTPUT:\n",
    "    - all_res: A list of dataframe\n",
    "    \n",
    "    \"\"\"    \n",
    "    all_res = []\n",
    "    \n",
    "    columns = ['mobile','social','web','email']\n",
    "    for column in columns:\n",
    "        success = offers_portfolio[(offers_portfolio[column] == 1) & \n",
    "                                   (offers_portfolio['offer_type'] != \"informational\")].groupby(['customer_id']).agg({'received': 'sum' ,'viewed':'sum' ,'completed': 'sum'})\n",
    "        \n",
    "        offer_count= success.add_suffix('_count')\n",
    "        col_name = list(offer_count.columns)\n",
    "        offer_count['viewed_rate'] = offer_count[col_name[1]]/offer_count[col_name[0]]\n",
    "        offer_count['completed_rate'] = offer_count[col_name[2]]/offer_count[col_name[1]]\n",
    "        offer_count[offer_count['completed_rate']> 1] = 1\n",
    "        offer_count = offer_count.add_prefix(column+'_')\n",
    "        #offer_count.reset_index(inplace=True)\n",
    "        \n",
    "        all_res.append(offer_count)\n",
    "        \n",
    "    return all_res"
   ]
  },
  {
   "cell_type": "code",
   "execution_count": 14,
   "metadata": {
    "scrolled": true
   },
   "outputs": [
    {
     "data": {
      "text/html": [
       "<div>\n",
       "<style scoped>\n",
       "    .dataframe tbody tr th:only-of-type {\n",
       "        vertical-align: middle;\n",
       "    }\n",
       "\n",
       "    .dataframe tbody tr th {\n",
       "        vertical-align: top;\n",
       "    }\n",
       "\n",
       "    .dataframe thead th {\n",
       "        text-align: right;\n",
       "    }\n",
       "</style>\n",
       "<table border=\"1\" class=\"dataframe\">\n",
       "  <thead>\n",
       "    <tr style=\"text-align: right;\">\n",
       "      <th></th>\n",
       "      <th>received_count</th>\n",
       "      <th>viewed_count</th>\n",
       "      <th>completed_count</th>\n",
       "      <th>viewed_rate</th>\n",
       "      <th>completed_rate</th>\n",
       "      <th>bogo_received_count</th>\n",
       "      <th>bogo_viewed_count</th>\n",
       "      <th>bogo_completed_count</th>\n",
       "      <th>bogo_viewed_rate</th>\n",
       "      <th>bogo_completed_rate</th>\n",
       "      <th>...</th>\n",
       "      <th>social_received_count</th>\n",
       "      <th>social_viewed_count</th>\n",
       "      <th>social_completed_count</th>\n",
       "      <th>social_viewed_rate</th>\n",
       "      <th>social_completed_rate</th>\n",
       "      <th>web_received_count</th>\n",
       "      <th>web_viewed_count</th>\n",
       "      <th>web_completed_count</th>\n",
       "      <th>web_viewed_rate</th>\n",
       "      <th>web_completed_rate</th>\n",
       "    </tr>\n",
       "    <tr>\n",
       "      <th>customer_id</th>\n",
       "      <th></th>\n",
       "      <th></th>\n",
       "      <th></th>\n",
       "      <th></th>\n",
       "      <th></th>\n",
       "      <th></th>\n",
       "      <th></th>\n",
       "      <th></th>\n",
       "      <th></th>\n",
       "      <th></th>\n",
       "      <th></th>\n",
       "      <th></th>\n",
       "      <th></th>\n",
       "      <th></th>\n",
       "      <th></th>\n",
       "      <th></th>\n",
       "      <th></th>\n",
       "      <th></th>\n",
       "      <th></th>\n",
       "      <th></th>\n",
       "      <th></th>\n",
       "    </tr>\n",
       "  </thead>\n",
       "  <tbody>\n",
       "    <tr>\n",
       "      <th>0009655768c64bdeb2e877511632db8f</th>\n",
       "      <td>1</td>\n",
       "      <td>1</td>\n",
       "      <td>1</td>\n",
       "      <td>1.0</td>\n",
       "      <td>1.0</td>\n",
       "      <td>1.0</td>\n",
       "      <td>1.0</td>\n",
       "      <td>1.0</td>\n",
       "      <td>1.0</td>\n",
       "      <td>1.0</td>\n",
       "      <td>...</td>\n",
       "      <td>2.0</td>\n",
       "      <td>2.0</td>\n",
       "      <td>2.0</td>\n",
       "      <td>1.0</td>\n",
       "      <td>1.0</td>\n",
       "      <td>1.0</td>\n",
       "      <td>1.0</td>\n",
       "      <td>1.0</td>\n",
       "      <td>1.0</td>\n",
       "      <td>1.0</td>\n",
       "    </tr>\n",
       "    <tr>\n",
       "      <th>00116118485d4dfda04fdbaba9a87b5c</th>\n",
       "      <td>2</td>\n",
       "      <td>2</td>\n",
       "      <td>0</td>\n",
       "      <td>1.0</td>\n",
       "      <td>0.0</td>\n",
       "      <td>2.0</td>\n",
       "      <td>2.0</td>\n",
       "      <td>0.0</td>\n",
       "      <td>1.0</td>\n",
       "      <td>0.0</td>\n",
       "      <td>...</td>\n",
       "      <td>2.0</td>\n",
       "      <td>2.0</td>\n",
       "      <td>0.0</td>\n",
       "      <td>1.0</td>\n",
       "      <td>0.0</td>\n",
       "      <td>2.0</td>\n",
       "      <td>2.0</td>\n",
       "      <td>0.0</td>\n",
       "      <td>1.0</td>\n",
       "      <td>0.0</td>\n",
       "    </tr>\n",
       "    <tr>\n",
       "      <th>0011e0d4e6b944f998e987f904e8c1e5</th>\n",
       "      <td>3</td>\n",
       "      <td>3</td>\n",
       "      <td>3</td>\n",
       "      <td>1.0</td>\n",
       "      <td>1.0</td>\n",
       "      <td>1.0</td>\n",
       "      <td>1.0</td>\n",
       "      <td>1.0</td>\n",
       "      <td>1.0</td>\n",
       "      <td>1.0</td>\n",
       "      <td>...</td>\n",
       "      <td>1.0</td>\n",
       "      <td>1.0</td>\n",
       "      <td>1.0</td>\n",
       "      <td>1.0</td>\n",
       "      <td>1.0</td>\n",
       "      <td>3.0</td>\n",
       "      <td>3.0</td>\n",
       "      <td>3.0</td>\n",
       "      <td>1.0</td>\n",
       "      <td>1.0</td>\n",
       "    </tr>\n",
       "    <tr>\n",
       "      <th>0020c2b971eb4e9188eac86d93036a77</th>\n",
       "      <td>1</td>\n",
       "      <td>1</td>\n",
       "      <td>1</td>\n",
       "      <td>1.0</td>\n",
       "      <td>1.0</td>\n",
       "      <td>2.0</td>\n",
       "      <td>1.0</td>\n",
       "      <td>1.0</td>\n",
       "      <td>0.5</td>\n",
       "      <td>1.0</td>\n",
       "      <td>...</td>\n",
       "      <td>1.0</td>\n",
       "      <td>1.0</td>\n",
       "      <td>1.0</td>\n",
       "      <td>1.0</td>\n",
       "      <td>1.0</td>\n",
       "      <td>1.0</td>\n",
       "      <td>1.0</td>\n",
       "      <td>1.0</td>\n",
       "      <td>1.0</td>\n",
       "      <td>1.0</td>\n",
       "    </tr>\n",
       "    <tr>\n",
       "      <th>0020ccbbb6d84e358d3414a3ff76cffd</th>\n",
       "      <td>3</td>\n",
       "      <td>3</td>\n",
       "      <td>3</td>\n",
       "      <td>1.0</td>\n",
       "      <td>1.0</td>\n",
       "      <td>2.0</td>\n",
       "      <td>2.0</td>\n",
       "      <td>2.0</td>\n",
       "      <td>1.0</td>\n",
       "      <td>1.0</td>\n",
       "      <td>...</td>\n",
       "      <td>2.0</td>\n",
       "      <td>2.0</td>\n",
       "      <td>2.0</td>\n",
       "      <td>1.0</td>\n",
       "      <td>1.0</td>\n",
       "      <td>3.0</td>\n",
       "      <td>3.0</td>\n",
       "      <td>3.0</td>\n",
       "      <td>1.0</td>\n",
       "      <td>1.0</td>\n",
       "    </tr>\n",
       "  </tbody>\n",
       "</table>\n",
       "<p>5 rows × 140 columns</p>\n",
       "</div>"
      ],
      "text/plain": [
       "                                  received_count  viewed_count  \\\n",
       "customer_id                                                      \n",
       "0009655768c64bdeb2e877511632db8f               1             1   \n",
       "00116118485d4dfda04fdbaba9a87b5c               2             2   \n",
       "0011e0d4e6b944f998e987f904e8c1e5               3             3   \n",
       "0020c2b971eb4e9188eac86d93036a77               1             1   \n",
       "0020ccbbb6d84e358d3414a3ff76cffd               3             3   \n",
       "\n",
       "                                  completed_count  viewed_rate  \\\n",
       "customer_id                                                      \n",
       "0009655768c64bdeb2e877511632db8f                1          1.0   \n",
       "00116118485d4dfda04fdbaba9a87b5c                0          1.0   \n",
       "0011e0d4e6b944f998e987f904e8c1e5                3          1.0   \n",
       "0020c2b971eb4e9188eac86d93036a77                1          1.0   \n",
       "0020ccbbb6d84e358d3414a3ff76cffd                3          1.0   \n",
       "\n",
       "                                  completed_rate  bogo_received_count  \\\n",
       "customer_id                                                             \n",
       "0009655768c64bdeb2e877511632db8f             1.0                  1.0   \n",
       "00116118485d4dfda04fdbaba9a87b5c             0.0                  2.0   \n",
       "0011e0d4e6b944f998e987f904e8c1e5             1.0                  1.0   \n",
       "0020c2b971eb4e9188eac86d93036a77             1.0                  2.0   \n",
       "0020ccbbb6d84e358d3414a3ff76cffd             1.0                  2.0   \n",
       "\n",
       "                                  bogo_viewed_count  bogo_completed_count  \\\n",
       "customer_id                                                                 \n",
       "0009655768c64bdeb2e877511632db8f                1.0                   1.0   \n",
       "00116118485d4dfda04fdbaba9a87b5c                2.0                   0.0   \n",
       "0011e0d4e6b944f998e987f904e8c1e5                1.0                   1.0   \n",
       "0020c2b971eb4e9188eac86d93036a77                1.0                   1.0   \n",
       "0020ccbbb6d84e358d3414a3ff76cffd                2.0                   2.0   \n",
       "\n",
       "                                  bogo_viewed_rate  bogo_completed_rate  ...  \\\n",
       "customer_id                                                              ...   \n",
       "0009655768c64bdeb2e877511632db8f               1.0                  1.0  ...   \n",
       "00116118485d4dfda04fdbaba9a87b5c               1.0                  0.0  ...   \n",
       "0011e0d4e6b944f998e987f904e8c1e5               1.0                  1.0  ...   \n",
       "0020c2b971eb4e9188eac86d93036a77               0.5                  1.0  ...   \n",
       "0020ccbbb6d84e358d3414a3ff76cffd               1.0                  1.0  ...   \n",
       "\n",
       "                                  social_received_count  social_viewed_count  \\\n",
       "customer_id                                                                    \n",
       "0009655768c64bdeb2e877511632db8f                    2.0                  2.0   \n",
       "00116118485d4dfda04fdbaba9a87b5c                    2.0                  2.0   \n",
       "0011e0d4e6b944f998e987f904e8c1e5                    1.0                  1.0   \n",
       "0020c2b971eb4e9188eac86d93036a77                    1.0                  1.0   \n",
       "0020ccbbb6d84e358d3414a3ff76cffd                    2.0                  2.0   \n",
       "\n",
       "                                  social_completed_count  social_viewed_rate  \\\n",
       "customer_id                                                                    \n",
       "0009655768c64bdeb2e877511632db8f                     2.0                 1.0   \n",
       "00116118485d4dfda04fdbaba9a87b5c                     0.0                 1.0   \n",
       "0011e0d4e6b944f998e987f904e8c1e5                     1.0                 1.0   \n",
       "0020c2b971eb4e9188eac86d93036a77                     1.0                 1.0   \n",
       "0020ccbbb6d84e358d3414a3ff76cffd                     2.0                 1.0   \n",
       "\n",
       "                                  social_completed_rate  web_received_count  \\\n",
       "customer_id                                                                   \n",
       "0009655768c64bdeb2e877511632db8f                    1.0                 1.0   \n",
       "00116118485d4dfda04fdbaba9a87b5c                    0.0                 2.0   \n",
       "0011e0d4e6b944f998e987f904e8c1e5                    1.0                 3.0   \n",
       "0020c2b971eb4e9188eac86d93036a77                    1.0                 1.0   \n",
       "0020ccbbb6d84e358d3414a3ff76cffd                    1.0                 3.0   \n",
       "\n",
       "                                  web_viewed_count  web_completed_count  \\\n",
       "customer_id                                                               \n",
       "0009655768c64bdeb2e877511632db8f               1.0                  1.0   \n",
       "00116118485d4dfda04fdbaba9a87b5c               2.0                  0.0   \n",
       "0011e0d4e6b944f998e987f904e8c1e5               3.0                  3.0   \n",
       "0020c2b971eb4e9188eac86d93036a77               1.0                  1.0   \n",
       "0020ccbbb6d84e358d3414a3ff76cffd               3.0                  3.0   \n",
       "\n",
       "                                  web_viewed_rate  web_completed_rate  \n",
       "customer_id                                                            \n",
       "0009655768c64bdeb2e877511632db8f              1.0                 1.0  \n",
       "00116118485d4dfda04fdbaba9a87b5c              1.0                 0.0  \n",
       "0011e0d4e6b944f998e987f904e8c1e5              1.0                 1.0  \n",
       "0020c2b971eb4e9188eac86d93036a77              1.0                 1.0  \n",
       "0020ccbbb6d84e358d3414a3ff76cffd              1.0                 1.0  \n",
       "\n",
       "[5 rows x 140 columns]"
      ]
     },
     "execution_count": 14,
     "metadata": {},
     "output_type": "execute_result"
    }
   ],
   "source": [
    "#Join all the features into a single datafame\n",
    "#Change feature names wherever applicable. \n",
    "\n",
    "#1. Joining features related to channnels\n",
    "offer_channel = offer_success_channel(offers_portfolio)\n",
    "\n",
    "offer_channel_mobie = offer_channel[0]#mobile\n",
    "offer_channel_social = offer_channel[1]#social\n",
    "offer_channel_web = offer_channel[2]#web\n",
    "overall= offer_channel[3]\n",
    "overall.columns = overall.columns.str.replace(\"email_\", \"\")\n",
    "offer_channel_join = offer_channel_mobie.join(offer_channel_social).join(offer_channel_web)\n",
    "\n",
    "\n",
    "#2. Joining features related to duration\n",
    "offer_duration    = offer_success(offers_portfolio, column = 'offer_duration')\n",
    "\n",
    "offer_duration_7  = offer_duration[0]#7\n",
    "offer_duration_10 = offer_duration[1]#10\n",
    "offer_duration_5  = offer_duration[2]#5\n",
    "offer_duration_join = offer_duration_7.join(offer_duration_10).join(offer_duration_5)\n",
    "\n",
    "#3. Joining features related to offer difficulty\n",
    "offer_difficulty    = offer_success(offers_portfolio, column = 'offer_difficulty')\n",
    "\n",
    "offer_difficulty_5  = offer_difficulty[0]#5\n",
    "offer_difficulty_20 = offer_difficulty[1]#20\n",
    "offer_difficulty_10 = offer_difficulty[2]#10\n",
    "offer_difficulty_7  = offer_difficulty[3]#7\n",
    "offer_difficulty_join = offer_difficulty_5.join(offer_difficulty_20).join(offer_difficulty_10).join(offer_difficulty_7)\n",
    "\n",
    "#4. Joining features related to offer reward\n",
    "offer_reward    = offer_success(offers_portfolio, column = 'offer_reward')\n",
    "\n",
    "offer_reward_5  =offer_reward[0]#5\n",
    "offer_reward_2  =offer_reward[1]#2\n",
    "offer_reward_10 =offer_reward[2]#10\n",
    "offer_reward_3  =offer_reward[3]#3\n",
    "offer_reward_join = offer_reward_5.join(offer_reward_2).join(offer_reward_10).join(offer_reward_3)\n",
    "\n",
    "#5. Joining features related to offer Types\n",
    "offer_type               = offer_success(offers_portfolio, column = 'offer_type')\n",
    "\n",
    "offer_type_bogo          = offer_type[0]#Bogo\n",
    "offer_type_discount      = offer_type[1]#Discount\n",
    "offer_type_informational = offer_type[2]#informational\n",
    "\n",
    "offer_type_join = overall.join(offer_type_bogo).join(offer_type_discount).join(offer_type_informational)\n",
    "offer_type_join.columns = offer_type_join.columns.str.replace(\"offer_type_\", \"\")\n",
    "\n",
    "\n",
    "#6. Joining features related to offer names\n",
    "offer_name      = offer_success(offers_portfolio, column = 'offer_name')\n",
    "\n",
    "offer_name_01   = offer_name[8]#Offer_1\n",
    "offer_name_02   = offer_name[4]#Offer_2\n",
    "offer_name_03   = offer_name[7]#Offer_3\n",
    "offer_name_04   = offer_name[0]#Offer_4\n",
    "offer_name_05   = offer_name[1]#Offer_5\n",
    "offer_name_06   = offer_name[6]#Offer_6\n",
    "offer_name_07   = offer_name[3]#Offer_7\n",
    "offer_name_08   = offer_name[9]#Offer_8\n",
    "offer_name_09   = offer_name[5]#Offer_9\n",
    "offer_name_10   = offer_name[2]#Offer_10\n",
    "offer_name_join = offer_name_01.join(offer_name_02).join(offer_name_03).join(offer_name_04).join(offer_name_05).join(offer_name_06).join(offer_name_07).join(offer_name_08).join(offer_name_09).join(offer_name_10)\n",
    "offer_name_join.columns = offer_name_join.columns.str.replace(\"offer_name_\", \"\")\n",
    "\n",
    "\n",
    "#Merge all offer features together\n",
    "cust_offer = offer_type_join.join(offer_name_join).join(offer_difficulty_join).join(offer_duration_join).join(offer_reward_join).join(offer_channel_join)\n",
    "cust_offer.head(5)"
   ]
  },
  {
   "cell_type": "code",
   "execution_count": null,
   "metadata": {},
   "outputs": [],
   "source": []
  },
  {
   "cell_type": "code",
   "execution_count": null,
   "metadata": {},
   "outputs": [],
   "source": [
    "# read in the json files\n",
    "#rfm_df = pd.read_excel('rfm.xlsx')"
   ]
  },
  {
   "cell_type": "code",
   "execution_count": null,
   "metadata": {},
   "outputs": [],
   "source": [
    "#rfm_df = rfm_df.iloc[0:,1:]\n",
    "#rfm_df"
   ]
  },
  {
   "cell_type": "code",
   "execution_count": 20,
   "metadata": {},
   "outputs": [
    {
     "data": {
      "text/html": [
       "<div>\n",
       "<style scoped>\n",
       "    .dataframe tbody tr th:only-of-type {\n",
       "        vertical-align: middle;\n",
       "    }\n",
       "\n",
       "    .dataframe tbody tr th {\n",
       "        vertical-align: top;\n",
       "    }\n",
       "\n",
       "    .dataframe thead th {\n",
       "        text-align: right;\n",
       "    }\n",
       "</style>\n",
       "<table border=\"1\" class=\"dataframe\">\n",
       "  <thead>\n",
       "    <tr style=\"text-align: right;\">\n",
       "      <th></th>\n",
       "      <th>customer_id</th>\n",
       "      <th>gender</th>\n",
       "      <th>age</th>\n",
       "      <th>age_group</th>\n",
       "      <th>customer_income</th>\n",
       "      <th>customer_income_range</th>\n",
       "      <th>became_member_on</th>\n",
       "      <th>membership_year</th>\n",
       "      <th>F</th>\n",
       "      <th>M</th>\n",
       "      <th>...</th>\n",
       "      <th>social_received_count</th>\n",
       "      <th>social_viewed_count</th>\n",
       "      <th>social_completed_count</th>\n",
       "      <th>social_viewed_rate</th>\n",
       "      <th>social_completed_rate</th>\n",
       "      <th>web_received_count</th>\n",
       "      <th>web_viewed_count</th>\n",
       "      <th>web_completed_count</th>\n",
       "      <th>web_viewed_rate</th>\n",
       "      <th>web_completed_rate</th>\n",
       "    </tr>\n",
       "  </thead>\n",
       "  <tbody>\n",
       "    <tr>\n",
       "      <th>0</th>\n",
       "      <td>0610b486422d4921ae7d2bf64640c50b</td>\n",
       "      <td>F</td>\n",
       "      <td>55</td>\n",
       "      <td>GenXers(44-56)</td>\n",
       "      <td>112000.0</td>\n",
       "      <td>$100K</td>\n",
       "      <td>2017-07-15</td>\n",
       "      <td>2017</td>\n",
       "      <td>1</td>\n",
       "      <td>0</td>\n",
       "      <td>...</td>\n",
       "      <td>NaN</td>\n",
       "      <td>NaN</td>\n",
       "      <td>NaN</td>\n",
       "      <td>NaN</td>\n",
       "      <td>NaN</td>\n",
       "      <td>1.0</td>\n",
       "      <td>1.0</td>\n",
       "      <td>1.0</td>\n",
       "      <td>1.0</td>\n",
       "      <td>1.000000</td>\n",
       "    </tr>\n",
       "    <tr>\n",
       "      <th>1</th>\n",
       "      <td>78afa995795e4d85b5d9ceeca43f5fef</td>\n",
       "      <td>F</td>\n",
       "      <td>75</td>\n",
       "      <td>Boomers(57-75)</td>\n",
       "      <td>100000.0</td>\n",
       "      <td>$100K</td>\n",
       "      <td>2017-05-09</td>\n",
       "      <td>2017</td>\n",
       "      <td>1</td>\n",
       "      <td>0</td>\n",
       "      <td>...</td>\n",
       "      <td>2.0</td>\n",
       "      <td>2.0</td>\n",
       "      <td>2.0</td>\n",
       "      <td>1.0</td>\n",
       "      <td>1.0</td>\n",
       "      <td>2.0</td>\n",
       "      <td>2.0</td>\n",
       "      <td>2.0</td>\n",
       "      <td>1.0</td>\n",
       "      <td>1.000000</td>\n",
       "    </tr>\n",
       "    <tr>\n",
       "      <th>2</th>\n",
       "      <td>e2127556f4f64592b11af22de27a7932</td>\n",
       "      <td>M</td>\n",
       "      <td>68</td>\n",
       "      <td>Boomers(57-75)</td>\n",
       "      <td>70000.0</td>\n",
       "      <td>$50,000 - $74,999</td>\n",
       "      <td>2018-04-26</td>\n",
       "      <td>2018</td>\n",
       "      <td>0</td>\n",
       "      <td>1</td>\n",
       "      <td>...</td>\n",
       "      <td>1.0</td>\n",
       "      <td>1.0</td>\n",
       "      <td>1.0</td>\n",
       "      <td>1.0</td>\n",
       "      <td>1.0</td>\n",
       "      <td>3.0</td>\n",
       "      <td>3.0</td>\n",
       "      <td>2.0</td>\n",
       "      <td>1.0</td>\n",
       "      <td>0.666667</td>\n",
       "    </tr>\n",
       "  </tbody>\n",
       "</table>\n",
       "<p>3 rows × 165 columns</p>\n",
       "</div>"
      ],
      "text/plain": [
       "                        customer_id gender  age       age_group  \\\n",
       "0  0610b486422d4921ae7d2bf64640c50b      F   55  GenXers(44-56)   \n",
       "1  78afa995795e4d85b5d9ceeca43f5fef      F   75  Boomers(57-75)   \n",
       "2  e2127556f4f64592b11af22de27a7932      M   68  Boomers(57-75)   \n",
       "\n",
       "   customer_income customer_income_range became_member_on  membership_year  F  \\\n",
       "0         112000.0                 $100K       2017-07-15             2017  1   \n",
       "1         100000.0                 $100K       2017-05-09             2017  1   \n",
       "2          70000.0     $50,000 - $74,999       2018-04-26             2018  0   \n",
       "\n",
       "   M  ...  social_received_count  social_viewed_count  social_completed_count  \\\n",
       "0  0  ...                    NaN                  NaN                     NaN   \n",
       "1  0  ...                    2.0                  2.0                     2.0   \n",
       "2  1  ...                    1.0                  1.0                     1.0   \n",
       "\n",
       "   social_viewed_rate  social_completed_rate  web_received_count  \\\n",
       "0                 NaN                    NaN                 1.0   \n",
       "1                 1.0                    1.0                 2.0   \n",
       "2                 1.0                    1.0                 3.0   \n",
       "\n",
       "   web_viewed_count  web_completed_count  web_viewed_rate  web_completed_rate  \n",
       "0               1.0                  1.0              1.0            1.000000  \n",
       "1               2.0                  2.0              1.0            1.000000  \n",
       "2               3.0                  2.0              1.0            0.666667  \n",
       "\n",
       "[3 rows x 165 columns]"
      ]
     },
     "execution_count": 20,
     "metadata": {},
     "output_type": "execute_result"
    }
   ],
   "source": [
    "#Combine profile_da,profile_m, cust_offer dataframe\n",
    "profile_offer = pd.merge(profile_da,profile_m,  on= 'customer_id')\n",
    "profile_offer = pd.merge(profile_offer, cust_offer, on= 'customer_id')\n",
    "profile_offer.head(3)"
   ]
  },
  {
   "cell_type": "code",
   "execution_count": 115,
   "metadata": {},
   "outputs": [],
   "source": [
    "def plot_data(df,demo,groupby,palette,col_wrap,height,label_rotation):\n",
    "    \n",
    "    \"\"\"\n",
    "    This procedue is used to create aggregate measures per demographic group, and then plot those measures in rplot\n",
    "    \n",
    "    \n",
    "    INPUT: \n",
    "    \n",
    "    -Data input\n",
    "    --df: input profile_offer dataframe with the measures to be aggrigated. \n",
    "    --demo: input profile_offer dataframe\n",
    "    --groupby: input the domographic group you want to aggrigate for\n",
    "    \n",
    "    -Variables for Data visualization\n",
    "    --palette: Input the No of color palatte for the bar plot\n",
    "    --col_wrap: Input th enumber of column in the grid\n",
    "    --height: Input the height of the plot\n",
    "    --label_rotation: Input degrees to which X-axis labels need to be rotated.\n",
    "\n",
    "    \n",
    "    OUTPUT:\n",
    "    - df: return dataframe with te aggregated measures and the plot\n",
    "    \n",
    "    \"\"\"       \n",
    "    \n",
    "    \n",
    "    df = df.join(demo[groupby])\n",
    "    df = df.copy().reset_index()\n",
    "    df = df.melt(id_vars=['customer_id', groupby],ignore_index = True)\n",
    "    df = df.groupby([groupby, 'variable']).mean().reset_index()\n",
    "    df = df[df['variable']!='index']\n",
    "    starbucks = [\"#008248\", \"#604c4c\", \"#eac784\", \"#f0cddb\", \"#6B9997\"]\n",
    "    \n",
    "    sns.set_palette(sns.color_palette(starbucks,palette))\n",
    "    g = sns.FacetGrid(df, col='variable', hue= groupby, col_wrap=col_wrap, height=height, sharey=False)\n",
    "    g = g.map(plt.bar, groupby, 'value').set_titles(\"{col_name}\")\n",
    "    g.set_xticklabels(rotation = label_rotation)\n",
    "    g.tight_layout()\n",
    "    \n",
    "    \n",
    "    return df\n",
    "\n",
    "\n",
    "def plot_data_overall(df,palette,label_rotation, order):\n",
    "    \n",
    "    \n",
    "    \"\"\"\n",
    "    This procedue is used to create overall aggregate measures and then plot\n",
    "    \n",
    "    \n",
    "    INPUT: \n",
    "    \n",
    "    -Data input\n",
    "    --df: input profile_offer dataframe with the measures to be aggrigated.\n",
    "    \n",
    "    -Variables for Data visualization\n",
    "    --palette: Input the No of color palatte for the bar plot.\n",
    "    --label_rotation: Input degrees to which X-axis labels need to be rotated.\n",
    "    --order: input list of variables in the same order as how should appear in plot\n",
    "\n",
    "    \n",
    "    OUTPUT:\n",
    "    - df: return dataframe with te aggregated measures and the plot\n",
    "    \n",
    "    \"\"\"    \n",
    "    \n",
    "    df = df.copy().reset_index()\n",
    "    df = df.melt(id_vars=['customer_id'],ignore_index = True)\n",
    "    df = df.groupby(['variable']).mean().reset_index()\n",
    "    df = df[df['variable']!='index']\n",
    "    df\n",
    "    plt.figure(figsize=(3, 3))\n",
    "    g = sns.barplot(data=df, x=\"variable\", y=\"value\", order = order)\n",
    "    g.set_xticklabels(g.get_xticklabels(), rotation=label_rotation)\n",
    "\n",
    "    sns.set_palette(sns.color_palette(\"CMRmap\",palette))\n",
    "    \n",
    "    return df\n",
    "        \n",
    "\n"
   ]
  },
  {
   "cell_type": "markdown",
   "metadata": {},
   "source": [
    "# Analyzing the Offers\n",
    "\n",
    "\n",
    "In this section we are going to deep dive into each of the offers and determine how the users have responded to the offers."
   ]
  },
  {
   "cell_type": "code",
   "execution_count": 116,
   "metadata": {},
   "outputs": [],
   "source": [
    "offer_overall = profile_offer[['customer_id',\n",
    " 'viewed_rate',\n",
    " 'completed_rate', 'bogo_viewed_rate',\n",
    " 'bogo_completed_rate', 'discount_viewed_rate',\n",
    " 'discount_completed_rate']]"
   ]
  },
  {
   "cell_type": "code",
   "execution_count": 118,
   "metadata": {},
   "outputs": [
    {
     "data": {
      "image/png": "[encoded data removed]",
      "text/plain": [
       "<Figure size 216x216 with 1 Axes>"
      ]
     },
     "metadata": {
      "needs_background": "light"
     },
     "output_type": "display_data"
    }
   ],
   "source": [
    "#Analyze Viewed rate and completed rate overall\n",
    "\n",
    "df = plot_data_overall(offer_overall, 2, 30, ['viewed_rate','completed_rate'])"
   ]
  },
  {
   "cell_type": "code",
   "execution_count": 84,
   "metadata": {},
   "outputs": [
    {
     "data": {
      "image/png": "[encoded data removed]",
      "text/plain": [
       "<Figure size 216x216 with 1 Axes>"
      ]
     },
     "metadata": {
      "needs_background": "light"
     },
     "output_type": "display_data"
    }
   ],
   "source": [
    "#Analyze Viewed rate and completed rate for BOGO\n",
    "\n",
    "df = plot_data_overall(offer_overall, 2, 30, ['bogo_viewed_rate','bogo_completed_rate'])"
   ]
  },
  {
   "cell_type": "code",
   "execution_count": 85,
   "metadata": {
    "scrolled": true
   },
   "outputs": [
    {
     "data": {
      "image/png": "[encoded data removed]",
      "text/plain": [
       "<Figure size 216x216 with 1 Axes>"
      ]
     },
     "metadata": {
      "needs_background": "light"
     },
     "output_type": "display_data"
    }
   ],
   "source": [
    "#Analyze Viewed rate and completed rate for Discount\n",
    "df = plot_data_overall(offer_overall, 2, 30, ['discount_viewed_rate','discount_completed_rate'])"
   ]
  },
  {
   "cell_type": "markdown",
   "metadata": {},
   "source": [
    "###### Analysis:\n",
    "\n",
    "**Overall** 86% of the offer recieved are Viewed, and 69% of those viewed are completed. \n",
    "\n",
    "**BOGO** with 90% has the **highest View rate**, also **least completeion rate** of 62%\n",
    "\n",
    "**Disconunt** with 77% has the **highest completion rate**\n"
   ]
  },
  {
   "cell_type": "markdown",
   "metadata": {},
   "source": [
    "### Offer Analysis: Overall response to the offer"
   ]
  },
  {
   "cell_type": "code",
   "execution_count": 128,
   "metadata": {},
   "outputs": [],
   "source": [
    "offer_overall = profile_offer[['customer_id',\n",
    " 'viewed_count',\n",
    " 'completed_count',\n",
    " 'viewed_rate',\n",
    " 'completed_rate']]\n",
    "\n",
    "offer_bogo = profile_offer[['customer_id',\n",
    " 'bogo_viewed_count',\n",
    " 'bogo_completed_count',\n",
    " 'bogo_viewed_rate',\n",
    " 'bogo_completed_rate']]\n",
    "\n",
    "offer_discount = profile_offer[['customer_id',\n",
    " 'discount_viewed_count',\n",
    " 'discount_completed_count',\n",
    " 'discount_viewed_rate',\n",
    " 'discount_completed_rate']]\n"
   ]
  },
  {
   "cell_type": "code",
   "execution_count": 184,
   "metadata": {},
   "outputs": [],
   "source": [
    "starbucks = [\"#fcfdfe\",\"#869b92\",\"#416753\",\"#2f6144\" ,  \"#224634\", \"#006241\", '#101010']\n",
    "starbucks_d = [\"#cce6da\", \"#66b491\", \"#008248\"]"
   ]
  },
  {
   "cell_type": "code",
   "execution_count": 185,
   "metadata": {},
   "outputs": [
    {
     "data": {
      "image/png": "[encoded data removed]",
      "text/plain": [
       "<Figure size 1440x1080 with 7 Axes>"
      ]
     },
     "metadata": {
      "needs_background": "light"
     },
     "output_type": "display_data"
    }
   ],
   "source": [
    "#plt.figure(figsize=(6, 5))\n",
    "fig, axs = plt.subplots(ncols=2, nrows = 2, figsize=(20, 15))\n",
    "\n",
    "ax = sns.heatmap(offer_overall.corr(), annot=True, linewidths=1, center=0, cmap = starbucks, ax= axs[0,0])\n",
    "ax = sns.heatmap(offer_bogo.corr(), annot=True, linewidths=1, center=0, cmap = starbucks, ax= axs[1,0])\n",
    "ax = sns.heatmap(offer_discount.corr(), annot=True, linewidths=1, center=0, cmap = starbucks, ax= axs[1,1])"
   ]
  },
  {
   "cell_type": "markdown",
   "metadata": {},
   "source": [
    "Analysis:\n",
    "\n",
    "Moderate correlation between \n",
    "* completed counts and completed rate\n",
    "* completed count and viewed count"
   ]
  },
  {
   "cell_type": "code",
   "execution_count": null,
   "metadata": {},
   "outputs": [],
   "source": []
  },
  {
   "cell_type": "code",
   "execution_count": null,
   "metadata": {},
   "outputs": [],
   "source": []
  },
  {
   "cell_type": "code",
   "execution_count": null,
   "metadata": {},
   "outputs": [],
   "source": []
  },
  {
   "cell_type": "code",
   "execution_count": null,
   "metadata": {},
   "outputs": [],
   "source": []
  },
  {
   "cell_type": "code",
   "execution_count": null,
   "metadata": {},
   "outputs": [],
   "source": []
  },
  {
   "cell_type": "code",
   "execution_count": null,
   "metadata": {},
   "outputs": [],
   "source": []
  },
  {
   "cell_type": "code",
   "execution_count": null,
   "metadata": {},
   "outputs": [],
   "source": []
  },
  {
   "cell_type": "markdown",
   "metadata": {},
   "source": [
    "### Analyse BOGO"
   ]
  },
  {
   "cell_type": "markdown",
   "metadata": {},
   "source": [
    "### Analyse Offer1 2 4 9"
   ]
  },
  {
   "cell_type": "code",
   "execution_count": null,
   "metadata": {},
   "outputs": [],
   "source": [
    "offer1_data = profile_offer[['offer_name_offer_1_viewed_count',\n",
    " 'offer_name_offer_1_completed_count','offer_name_offer_1_view_rate','offer_name_offer_1_completed_rate']]\n",
    "offer1_data.columns = offer1_data.columns.str.replace(\"offer_name_\", \"\")\n",
    "\n",
    "offer2_data = profile_offer[['offer_name_offer_2_viewed_count',\n",
    " 'offer_name_offer_2_completed_count','offer_name_offer_2_view_rate','offer_name_offer_2_completed_rate']]\n",
    "\n",
    "offer2_data.columns = offer2_data.columns.str.replace(\"offer_name_\", \"\")\n",
    "\n",
    "offer4_data = profile_offer[['offer_name_offer_4_viewed_count',\n",
    " 'offer_name_offer_4_completed_count','offer_name_offer_4_view_rate','offer_name_offer_4_completed_rate']]\n",
    "\n",
    "offer4_data.columns = offer4_data.columns.str.replace(\"offer_name_\", \"\")\n",
    "\n",
    "offer9_data = profile_offer[['offer_name_offer_9_viewed_count',\n",
    " 'offer_name_offer_9_completed_count','offer_name_offer_9_view_rate','offer_name_offer_9_completed_rate']]\n",
    "\n",
    "offer9_data.columns = offer9_data.columns.str.replace(\"offer_name_\", \"\")"
   ]
  },
  {
   "cell_type": "code",
   "execution_count": null,
   "metadata": {
    "scrolled": true
   },
   "outputs": [],
   "source": [
    "fig, axs =  plt.subplots(ncols=2, figsize=(20, 4))\n",
    "\n",
    "\n",
    "corr = offer1_data.corr()\n",
    "matrix = np.triu(corr)\n",
    "ax = sns.heatmap(corr, annot=True,  mask = matrix, linewidths=1, center=0, cmap = \"CMRmap_r\", ax=axs[0])\n",
    "\n",
    "\n",
    "corr = offer2_data.corr()\n",
    "matrix = np.triu(corr)\n",
    "ax = sns.heatmap(corr, annot=True,  mask = matrix, linewidths=1, center=0, cmap = \"CMRmap_r\", ax=axs[1])"
   ]
  },
  {
   "cell_type": "code",
   "execution_count": null,
   "metadata": {},
   "outputs": [],
   "source": [
    "fig, axs =  plt.subplots(ncols=2, figsize=(20, 4))\n",
    "\n",
    "corr = offer4_data.corr()\n",
    "matrix = np.triu(corr)\n",
    "ax = sns.heatmap(corr, annot=True,  mask = matrix, linewidths=1, center=0, cmap = \"CMRmap_r\", ax=axs[0])\n",
    "\n",
    "\n",
    "corr = offer9_data.corr()\n",
    "matrix = np.triu(corr)\n",
    "ax = sns.heatmap(corr, annot=True,  mask = matrix, linewidths=1, center=0, cmap = \"CMRmap_r\", ax=axs[1])"
   ]
  },
  {
   "cell_type": "code",
   "execution_count": 27,
   "metadata": {
    "scrolled": false
   },
   "outputs": [
    {
     "data": {
      "image/png": "[encoded data removed]",
      "text/plain": [
       "<Figure size 1080x216 with 4 Axes>"
      ]
     },
     "metadata": {
      "needs_background": "light"
     },
     "output_type": "display_data"
    }
   ],
   "source": [
    "df = plot_data(offer_bogo,profile_offer,  groupby = 'gender',palette =3,col_wrap=5,height=3,label_rotation =0)"
   ]
  },
  {
   "cell_type": "code",
   "execution_count": 114,
   "metadata": {},
   "outputs": [],
   "source": [
    "#FFFFFF"
   ]
  },
  {
   "cell_type": "code",
   "execution_count": null,
   "metadata": {
    "scrolled": true
   },
   "outputs": [],
   "source": [
    "df = plot_data(offer_bogo,profile_offer,  groupby = 'age_group',palette =6,col_wrap=5,height=4,label_rotation =30)"
   ]
  },
  {
   "cell_type": "code",
   "execution_count": null,
   "metadata": {
    "scrolled": true
   },
   "outputs": [],
   "source": [
    "df = plot_data(offer_bogo,profile_offer,  groupby = 'customer_income_range',palette =6,col_wrap=5,height=4,label_rotation =30)"
   ]
  },
  {
   "cell_type": "code",
   "execution_count": null,
   "metadata": {},
   "outputs": [],
   "source": [
    "df = plot_data(offer_bogo,profile_offer,  groupby = 'membership_year', palette =6,col_wrap=5,height=5,label_rotation =30)"
   ]
  },
  {
   "cell_type": "code",
   "execution_count": null,
   "metadata": {},
   "outputs": [],
   "source": []
  },
  {
   "cell_type": "markdown",
   "metadata": {},
   "source": [
    "# Offer Discount"
   ]
  },
  {
   "cell_type": "code",
   "execution_count": null,
   "metadata": {},
   "outputs": [],
   "source": [
    "offer_discount = profile_offer[['customer_id','offer_type_discount_received_count',\n",
    " 'offer_type_discount_viewed_count',\n",
    " 'offer_type_discount_completed_count',\n",
    " 'offer_type_discount_view_rate',\n",
    " 'offer_type_discount_completed_rate']]\n",
    "\n",
    "plt.figure(figsize=(8, 7))\n",
    "sns.heatmap(offer_discount.corr(), annot=True, linewidths=1, center=0, cmap = \"CMRmap_r\")"
   ]
  },
  {
   "cell_type": "code",
   "execution_count": null,
   "metadata": {},
   "outputs": [],
   "source": [
    "offer5_data = profile_offer[['offer_name_offer_5_viewed_count',\n",
    " 'offer_name_offer_5_completed_count','offer_name_offer_5_view_rate','offer_name_offer_5_completed_rate']]\n",
    "offer5_data.columns = offer5_data.columns.str.replace(\"offer_name_\", \"\")\n",
    "\n",
    "offer6_data = profile_offer[['offer_name_offer_6_viewed_count',\n",
    " 'offer_name_offer_6_completed_count','offer_name_offer_6_view_rate','offer_name_offer_6_completed_rate']]\n",
    "\n",
    "offer6_data.columns = offer6_data.columns.str.replace(\"offer_name_\", \"\")\n",
    "\n",
    "offer7_data = profile_offer[['offer_name_offer_7_viewed_count',\n",
    " 'offer_name_offer_7_completed_count','offer_name_offer_7_view_rate','offer_name_offer_7_completed_rate']]\n",
    "\n",
    "offer7_data.columns = offer7_data.columns.str.replace(\"offer_name_\", \"\")\n",
    "\n",
    "offer10_data = profile_offer[['offer_name_offer_10_viewed_count',\n",
    " 'offer_name_offer_10_completed_count','offer_name_offer_10_view_rate','offer_name_offer_10_completed_rate']]\n",
    "\n",
    "offer10_data.columns = offer10_data.columns.str.replace(\"offer_name_\", \"\")"
   ]
  },
  {
   "cell_type": "code",
   "execution_count": null,
   "metadata": {},
   "outputs": [],
   "source": [
    "fig, axs =  plt.subplots(ncols=2, figsize=(20, 4))\n",
    "\n",
    "\n",
    "corr = offer5_data.corr()\n",
    "matrix = np.triu(corr)\n",
    "ax = sns.heatmap(corr, annot=True,  mask = matrix, linewidths=1, center=0, cmap = \"CMRmap_r\", ax=axs[0])\n",
    "\n",
    "\n",
    "corr = offer6_data.corr()\n",
    "matrix = np.triu(corr)\n",
    "ax = sns.heatmap(corr, annot=True,  mask = matrix, linewidths=1, center=0, cmap = \"CMRmap_r\", ax=axs[1])"
   ]
  },
  {
   "cell_type": "code",
   "execution_count": null,
   "metadata": {},
   "outputs": [],
   "source": [
    "fig, axs =  plt.subplots(ncols=2, figsize=(20, 4))\n",
    "\n",
    "\n",
    "corr = offer7_data.corr()\n",
    "matrix = np.triu(corr)\n",
    "ax = sns.heatmap(corr, annot=True,  mask = matrix, linewidths=1, center=0, cmap = \"CMRmap_r\", ax=axs[0])\n",
    "\n",
    "\n",
    "corr = offer10_data.corr()\n",
    "matrix = np.triu(corr)\n",
    "ax = sns.heatmap(corr, annot=True,  mask = matrix, linewidths=1, center=0, cmap = \"CMRmap_r\", ax=axs[1])"
   ]
  },
  {
   "cell_type": "code",
   "execution_count": null,
   "metadata": {},
   "outputs": [],
   "source": [
    "df = plot_data(offer_discount,profile_offer,  groupby = 'gender',palette =3,col_wrap=5,height=3,label_rotation =0)"
   ]
  },
  {
   "cell_type": "code",
   "execution_count": null,
   "metadata": {},
   "outputs": [],
   "source": [
    "df = plot_data(offer_discount,profile_offer,  groupby = 'age_group',palette =6,col_wrap=5,height=4,label_rotation =30)"
   ]
  },
  {
   "cell_type": "code",
   "execution_count": null,
   "metadata": {},
   "outputs": [],
   "source": [
    "df = plot_data(offer_discount,profile_offer,  groupby = 'customer_income_range',palette =5,col_wrap=5,height=4,label_rotation =30)"
   ]
  },
  {
   "cell_type": "code",
   "execution_count": null,
   "metadata": {},
   "outputs": [],
   "source": [
    "df = plot_data(offer_discount,profile_offer,  groupby = 'membership_year',palette =6,col_wrap=5,height=4,label_rotation =30)\n"
   ]
  },
  {
   "cell_type": "code",
   "execution_count": null,
   "metadata": {},
   "outputs": [],
   "source": []
  },
  {
   "cell_type": "markdown",
   "metadata": {},
   "source": [
    "## Offer Information"
   ]
  },
  {
   "cell_type": "code",
   "execution_count": null,
   "metadata": {},
   "outputs": [],
   "source": [
    "offer_informational = profile_offer[['customer_id', \n",
    " 'offer_type_informational_viewed_count',\n",
    " 'offer_type_informational_view_rate']]"
   ]
  },
  {
   "cell_type": "code",
   "execution_count": null,
   "metadata": {},
   "outputs": [],
   "source": [
    "df = plot_data(offer_informational ,profile_offer,  groupby = 'gender',palette =3,col_wrap=3,height=3,label_rotation =0)\n"
   ]
  },
  {
   "cell_type": "code",
   "execution_count": null,
   "metadata": {},
   "outputs": [],
   "source": [
    "df = plot_data(offer_informational,profile_offer,  groupby = 'age_group',palette =6,col_wrap=2,height=3,label_rotation =30)\n"
   ]
  },
  {
   "cell_type": "code",
   "execution_count": null,
   "metadata": {},
   "outputs": [],
   "source": [
    "df = plot_data(offer_informational,profile_offer,  groupby = 'customer_income_range',palette =5,col_wrap=3,height=3,label_rotation =30)\n"
   ]
  },
  {
   "cell_type": "code",
   "execution_count": null,
   "metadata": {},
   "outputs": [],
   "source": [
    "df = plot_data(offer_informational,profile_offer,  groupby = 'membership_year',palette =6,col_wrap=5,height=3,label_rotation =30)\n"
   ]
  },
  {
   "cell_type": "code",
   "execution_count": null,
   "metadata": {},
   "outputs": [],
   "source": []
  },
  {
   "cell_type": "markdown",
   "metadata": {},
   "source": [
    "## Offer Difficulty 5"
   ]
  },
  {
   "cell_type": "code",
   "execution_count": null,
   "metadata": {},
   "outputs": [],
   "source": [
    "offer_difficulty =  profile_offer[['customer_id',\n",
    " 'offer_difficulty_5_completed_rate',\n",
    " 'offer_difficulty_20_completed_rate',\n",
    " 'offer_difficulty_10_completed_rate',\n",
    " 'offer_difficulty_7_completed_rate']]"
   ]
  },
  {
   "cell_type": "code",
   "execution_count": null,
   "metadata": {},
   "outputs": [],
   "source": [
    "df = plot_data(offer_informational ,profile_offer,  groupby = 'gender',palette =3,col_wrap=5,height=3,label_rotation =0)"
   ]
  },
  {
   "cell_type": "code",
   "execution_count": null,
   "metadata": {},
   "outputs": [],
   "source": [
    "df = plot_data(offer_informational,profile_offer,  groupby = 'age_group',palette =6,col_wrap=5,height=4,label_rotation =30)"
   ]
  },
  {
   "cell_type": "code",
   "execution_count": null,
   "metadata": {},
   "outputs": [],
   "source": []
  },
  {
   "cell_type": "code",
   "execution_count": null,
   "metadata": {},
   "outputs": [],
   "source": []
  },
  {
   "cell_type": "code",
   "execution_count": null,
   "metadata": {},
   "outputs": [],
   "source": [
    "df = plot_data(offer_difficulty,profile_offer,  groupby = 'rfm_segment',palette =4,col_wrap=5,height=4,label_rotation =30)"
   ]
  },
  {
   "cell_type": "code",
   "execution_count": null,
   "metadata": {},
   "outputs": [],
   "source": [
    " offer_duration =  profile_offer[['customer_id', 'offer_duration_7_view_rate',\n",
    " 'offer_duration_7_completed_rate',\n",
    " 'offer_duration_10_view_rate',\n",
    " 'offer_duration_10_completed_rate',\n",
    " 'offer_duration_5_view_rate',\n",
    " 'offer_duration_5_completed_rate']]\n",
    "    "
   ]
  },
  {
   "cell_type": "code",
   "execution_count": null,
   "metadata": {},
   "outputs": [],
   "source": [
    "df = plot_data( offer_duration ,profile_offer,  groupby = 'gender',palette =3,col_wrap=4,height=3,label_rotation =0)\n"
   ]
  },
  {
   "cell_type": "code",
   "execution_count": null,
   "metadata": {},
   "outputs": [],
   "source": [
    "\n",
    "df = plot_data( offer_duration,profile_offer,  groupby = 'age_group',palette =6,col_wrap=4,height=3,label_rotation =30)\n",
    "\n"
   ]
  },
  {
   "cell_type": "code",
   "execution_count": null,
   "metadata": {},
   "outputs": [],
   "source": [
    "df = plot_data( offer_duration,profile_offer,  groupby = 'customer_income_range',palette =5,col_wrap=5,height=4,label_rotation =30)\n",
    "\n"
   ]
  },
  {
   "cell_type": "code",
   "execution_count": null,
   "metadata": {},
   "outputs": [],
   "source": [
    "df = plot_data( offer_duration,profile_offer,  groupby = 'membership_year',palette =6,col_wrap=4,height=3,label_rotation =30)\n"
   ]
  },
  {
   "cell_type": "code",
   "execution_count": null,
   "metadata": {},
   "outputs": [],
   "source": []
  },
  {
   "cell_type": "code",
   "execution_count": null,
   "metadata": {},
   "outputs": [],
   "source": [
    " offer_mobile =  profile_offer[['customer_id',  \n",
    " 'mobile_received_count',\n",
    " 'mobile_viewed_count',\n",
    " 'mobile_completed_count',\n",
    " 'mobile_view_rate',\n",
    " 'mobile_completed_rate',\n",
    "]]\n",
    "\n",
    "df = plot_data(offer_mobile ,profile_offer,  groupby = 'rfm_segment',palette =4,col_wrap=3,height=3,label_rotation =30)"
   ]
  },
  {
   "cell_type": "code",
   "execution_count": null,
   "metadata": {},
   "outputs": [],
   "source": [
    " offer_social =  profile_offer[['customer_id',  \n",
    " 'social_received_count',\n",
    " 'social_viewed_count',\n",
    " 'social_completed_count',\n",
    " 'social_view_rate',\n",
    " 'social_completed_rate']]\n",
    "\n",
    "df = plot_data(offer_social ,profile_offer,  groupby = 'rfm_segment',palette =4,col_wrap=3,height=3,label_rotation =30)"
   ]
  },
  {
   "cell_type": "code",
   "execution_count": null,
   "metadata": {},
   "outputs": [],
   "source": [
    " offer_web =  profile_offer[['customer_id',  \n",
    " 'web_received_count',\n",
    " 'web_viewed_count',\n",
    " 'web_completed_count',\n",
    " 'web_view_rate',\n",
    " 'web_completed_rate']]\n",
    "\n",
    "df = plot_data(  offer_web ,profile_offer,  groupby = 'rfm_segment',palette =4,col_wrap=3,height=3,label_rotation =30)"
   ]
  },
  {
   "cell_type": "code",
   "execution_count": null,
   "metadata": {},
   "outputs": [],
   "source": [
    "offer_informational = profile_offer[['customer_id',  'web_received_count',\n",
    " 'web_viewed_count',\n",
    " 'web_completed_count',\n",
    " 'web_view_rate',\n",
    " 'web_completed_rate']]\n",
    "\n",
    "plt.figure(figsize=(7, 6))\n",
    "sns.heatmap(offer_informational.corr(), annot=True, linewidths=1, center=0, cmap = \"CMRmap_r\")"
   ]
  },
  {
   "cell_type": "code",
   "execution_count": null,
   "metadata": {},
   "outputs": [],
   "source": [
    "offer_informational = profile_offer[['customer_id',  \n",
    " 'social_received_count',\n",
    " 'social_viewed_count',\n",
    " 'social_completed_count',\n",
    " 'social_view_rate',\n",
    " 'social_completed_rate']]\n",
    "\n",
    "plt.figure(figsize=(7, 6))\n",
    "sns.heatmap(offer_informational.corr(), annot=True, linewidths=1, center=0, cmap = \"CMRmap_r\")"
   ]
  },
  {
   "cell_type": "code",
   "execution_count": null,
   "metadata": {},
   "outputs": [],
   "source": [
    "offer_123 = profile_offer[['customer_id',\n",
    "\n",
    "   'web_view_rate',\n",
    " 'web_completed_rate',                         \n",
    " 'Recency',\n",
    " 'Frequency',\n",
    " 'Monetary',\n",
    "\n",
    "                          ]]\n",
    "\n",
    "plt.figure(figsize=(7, 6))\n",
    "sns.heatmap(offer_123.corr(), annot=True, linewidths=1, center=0, cmap = \"CMRmap_r\")"
   ]
  },
  {
   "cell_type": "code",
   "execution_count": null,
   "metadata": {},
   "outputs": [],
   "source": []
  },
  {
   "cell_type": "markdown",
   "metadata": {},
   "source": [
    "### Customer Segmentation: Create new features based on RFM analysis.\n",
    "\n",
    "### RFM Analysis\n",
    "\n",
    "In this section we are going to perform Recency Frequency Monetary value analysis of the customer. \n",
    "\n",
    "RFM Analysis is a very commonly used method in marketing analytics to segments customers into homogeneous groups. The three variables used for RFM analysis are:\n",
    "\n",
    "* **Recency**: When did the customer make the last purchase?\n",
    "\n",
    "* **Frequency**: How frequently does the customer make a purchase?\n",
    "\n",
    "* **Monetary**: How much has the customer spent?\n",
    "\n",
    "These values can be collected from the customer's transaction data based on information like Date of purchase, money spent for each transactions."
   ]
  },
  {
   "cell_type": "code",
   "execution_count": 21,
   "metadata": {},
   "outputs": [
    {
     "ename": "NameError",
     "evalue": "name 'plot_data' is not defined",
     "output_type": "error",
     "traceback": [
      "\u001b[1;31m---------------------------------------------------------------------------\u001b[0m",
      "\u001b[1;31mNameError\u001b[0m                                 Traceback (most recent call last)",
      "\u001b[1;32m<ipython-input-21-a049f52e1ceb>\u001b[0m in \u001b[0;36m<module>\u001b[1;34m\u001b[0m\n\u001b[1;32m----> 1\u001b[1;33m \u001b[0mdf\u001b[0m \u001b[1;33m=\u001b[0m \u001b[0mplot_data\u001b[0m\u001b[1;33m(\u001b[0m\u001b[0moffer_bogo\u001b[0m\u001b[1;33m,\u001b[0m\u001b[0mprofile_offer\u001b[0m\u001b[1;33m,\u001b[0m  \u001b[0mgroupby\u001b[0m \u001b[1;33m=\u001b[0m \u001b[1;34m'rfm_segment'\u001b[0m\u001b[1;33m,\u001b[0m\u001b[0mpalette\u001b[0m \u001b[1;33m=\u001b[0m\u001b[1;36m4\u001b[0m\u001b[1;33m,\u001b[0m\u001b[0mcol_wrap\u001b[0m\u001b[1;33m=\u001b[0m\u001b[1;36m5\u001b[0m\u001b[1;33m,\u001b[0m\u001b[0mheight\u001b[0m\u001b[1;33m=\u001b[0m\u001b[1;36m5\u001b[0m\u001b[1;33m,\u001b[0m\u001b[0mlabel_rotation\u001b[0m \u001b[1;33m=\u001b[0m\u001b[1;36m30\u001b[0m\u001b[1;33m)\u001b[0m\u001b[1;33m\u001b[0m\u001b[1;33m\u001b[0m\u001b[0m\n\u001b[0m\u001b[0;32m      2\u001b[0m \u001b[0mdf\u001b[0m \u001b[1;33m=\u001b[0m \u001b[0mplot_data\u001b[0m\u001b[1;33m(\u001b[0m \u001b[0moffer_duration\u001b[0m\u001b[1;33m,\u001b[0m\u001b[0mprofile_offer\u001b[0m\u001b[1;33m,\u001b[0m  \u001b[0mgroupby\u001b[0m \u001b[1;33m=\u001b[0m \u001b[1;34m'rfm_segment'\u001b[0m\u001b[1;33m,\u001b[0m\u001b[0mpalette\u001b[0m \u001b[1;33m=\u001b[0m\u001b[1;36m4\u001b[0m\u001b[1;33m,\u001b[0m\u001b[0mcol_wrap\u001b[0m\u001b[1;33m=\u001b[0m\u001b[1;36m4\u001b[0m\u001b[1;33m,\u001b[0m\u001b[0mheight\u001b[0m\u001b[1;33m=\u001b[0m\u001b[1;36m3\u001b[0m\u001b[1;33m,\u001b[0m\u001b[0mlabel_rotation\u001b[0m \u001b[1;33m=\u001b[0m\u001b[1;36m30\u001b[0m\u001b[1;33m)\u001b[0m\u001b[1;33m\u001b[0m\u001b[1;33m\u001b[0m\u001b[0m\n\u001b[0;32m      3\u001b[0m \u001b[0mdf\u001b[0m \u001b[1;33m=\u001b[0m \u001b[0mplot_data\u001b[0m\u001b[1;33m(\u001b[0m\u001b[0moffer_informational\u001b[0m\u001b[1;33m,\u001b[0m\u001b[0mprofile_offer\u001b[0m\u001b[1;33m,\u001b[0m  \u001b[0mgroupby\u001b[0m \u001b[1;33m=\u001b[0m \u001b[1;34m'rfm_segment'\u001b[0m\u001b[1;33m,\u001b[0m\u001b[0mpalette\u001b[0m \u001b[1;33m=\u001b[0m\u001b[1;36m4\u001b[0m\u001b[1;33m,\u001b[0m\u001b[0mcol_wrap\u001b[0m\u001b[1;33m=\u001b[0m\u001b[1;36m5\u001b[0m\u001b[1;33m,\u001b[0m\u001b[0mheight\u001b[0m\u001b[1;33m=\u001b[0m\u001b[1;36m3\u001b[0m\u001b[1;33m,\u001b[0m\u001b[0mlabel_rotation\u001b[0m \u001b[1;33m=\u001b[0m\u001b[1;36m30\u001b[0m\u001b[1;33m)\u001b[0m\u001b[1;33m\u001b[0m\u001b[1;33m\u001b[0m\u001b[0m\n\u001b[0;32m      4\u001b[0m \u001b[0mdf\u001b[0m \u001b[1;33m=\u001b[0m \u001b[0mplot_data\u001b[0m\u001b[1;33m(\u001b[0m\u001b[0moffer_discount\u001b[0m\u001b[1;33m,\u001b[0m\u001b[0mprofile_offer\u001b[0m\u001b[1;33m,\u001b[0m  \u001b[0mgroupby\u001b[0m \u001b[1;33m=\u001b[0m \u001b[1;34m'rfm_segment'\u001b[0m\u001b[1;33m,\u001b[0m\u001b[0mpalette\u001b[0m \u001b[1;33m=\u001b[0m\u001b[1;36m4\u001b[0m\u001b[1;33m,\u001b[0m\u001b[0mcol_wrap\u001b[0m\u001b[1;33m=\u001b[0m\u001b[1;36m5\u001b[0m\u001b[1;33m,\u001b[0m\u001b[0mheight\u001b[0m\u001b[1;33m=\u001b[0m\u001b[1;36m4\u001b[0m\u001b[1;33m,\u001b[0m\u001b[0mlabel_rotation\u001b[0m \u001b[1;33m=\u001b[0m\u001b[1;36m30\u001b[0m\u001b[1;33m)\u001b[0m\u001b[1;33m\u001b[0m\u001b[1;33m\u001b[0m\u001b[0m\n",
      "\u001b[1;31mNameError\u001b[0m: name 'plot_data' is not defined"
     ]
    }
   ],
   "source": [
    "df = plot_data(offer_bogo,profile_offer,  groupby = 'rfm_segment',palette =4,col_wrap=5,height=5,label_rotation =30)\n",
    "df = plot_data( offer_duration,profile_offer,  groupby = 'rfm_segment',palette =4,col_wrap=4,height=3,label_rotation =30)\n",
    "df = plot_data(offer_informational,profile_offer,  groupby = 'rfm_segment',palette =4,col_wrap=5,height=3,label_rotation =30)\n",
    "df = plot_data(offer_discount,profile_offer,  groupby = 'rfm_segment',palette =4,col_wrap=5,height=4,label_rotation =30)"
   ]
  },
  {
   "cell_type": "code",
   "execution_count": null,
   "metadata": {},
   "outputs": [],
   "source": []
  }
 ],
 "metadata": {
  "kernelspec": {
   "display_name": "Python 3",
   "language": "python",
   "name": "python3"
  },
  "language_info": {
   "codemirror_mode": {
    "name": "ipython",
    "version": 3
   },
   "file_extension": ".py",
   "mimetype": "text/x-python",
   "name": "python",
   "nbconvert_exporter": "python",
   "pygments_lexer": "ipython3",
   "version": "3.8.5"
  }
 },
 "nbformat": 4,
 "nbformat_minor": 2
}
