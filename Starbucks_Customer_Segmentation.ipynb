{
 "cells": [
  {
   "cell_type": "markdown",
   "metadata": {},
   "source": [
    "# Data Sets\n",
    "\n",
    "The data is contained in three files:\n",
    "\n",
    "* portfolio.json - containing offer ids and meta data about each offer (duration, type, etc.)\n",
    "* profile.json - demographic data for each customer\n",
    "* transcript.json - records for transactions, offers received, offers viewed, and offers completed\n",
    "\n",
    "Here is the schema and explanation of each variable in the files:\n",
    "\n",
    "**portfolio.json**\n",
    "* id (string) - offer id\n",
    "* offer_type (string) - type of offer ie BOGO, discount, informational\n",
    "* difficulty (int) - minimum required spend to complete an offer\n",
    "* reward (int) - reward given for completing an offer\n",
    "* duration (int) - time for offer to be open, in days\n",
    "* channels (list of strings)\n",
    "\n",
    "**profile.json**\n",
    "* age (int) - age of the customer \n",
    "* became_member_on (int) - date when customer created an app account\n",
    "* gender (str) - gender of the customer (note some entries contain 'O' for other rather than M or F)\n",
    "* id (str) - customer id\n",
    "* income (float) - customer's income\n",
    "\n",
    "**transcript.json**\n",
    "* event (str) - record description (ie transaction, offer received, offer viewed, etc.)\n",
    "* person (str) - customer id\n",
    "* time (int) - time in hours since start of test. The data begins at time t=0\n",
    "* value - (dict of strings) - either an offer id or transaction amount depending on the record\n",
    "\n",
    "**Note:** If you are using the workspace, you will need to go to the terminal and run the command `conda update pandas` before reading in the files. This is because the version of pandas in the workspace cannot read in the transcript.json file correctly, but the newest version of pandas can. You can access the termnal from the orange icon in the top left of this notebook.  \n",
    "\n",
    "You can see how to access the terminal and how the install works using the two images below.  First you need to access the terminal:\n",
    "\n",
    "<img src=\"pic1.png\"/>\n",
    "\n",
    "Then you will want to run the above command:\n",
    "\n",
    "<img src=\"pic2.png\"/>\n",
    "\n",
    "Finally, when you enter back into the notebook (use the jupyter icon again), you should be able to run the below cell without any errors."
   ]
  },
  {
   "cell_type": "code",
   "execution_count": 1,
   "metadata": {},
   "outputs": [],
   "source": [
    "import pandas as pd\n",
    "import numpy as np\n",
    "import math\n",
    "import json\n",
    "\n",
    "\n",
    "from sklearn.preprocessing import LabelBinarizer, MultiLabelBinarizer, MinMaxScaler\n",
    "import seaborn as sns #For Data visualization\n",
    "import matplotlib.pyplot as plt #Data plotting and visualization\n",
    "sns.set_palette(sns.color_palette('Set2'))\n",
    "import plotly.express as px\n",
    "%matplotlib inline\n"
   ]
  },
  {
   "cell_type": "code",
   "execution_count": 2,
   "metadata": {},
   "outputs": [],
   "source": [
    "# read in the json files\n",
    "portfolio = pd.read_json('data/portfolio.json', orient='records', lines=True)\n",
    "profile = pd.read_json('data/profile.json', orient='records', lines=True)\n",
    "transcript = pd.read_json('data/transcript.json', orient='records', lines=True)"
   ]
  },
  {
   "cell_type": "code",
   "execution_count": 3,
   "metadata": {},
   "outputs": [],
   "source": [
    "from datetime import datetime\n",
    "from sklearn.preprocessing import LabelBinarizer, MultiLabelBinarizer\n",
    "from sklearn.cluster import KMeans"
   ]
  },
  {
   "cell_type": "code",
   "execution_count": 4,
   "metadata": {},
   "outputs": [],
   "source": [
    "#Import functions\n",
    "from clean_data import clean_portfolio, clean_profile, clean_transcript\n",
    "\n",
    "\n",
    "portfolio_df = clean_portfolio(portfolio)\n",
    "#portfolio_df = portfolio_df[['offer_reward', 'channels', 'offer_difficulty', \n",
    "                             #'offer_duration', 'offer_type', 'offer_id', 'offer_name']]\n",
    "\n",
    "profile_da, profile_m = clean_profile(profile)\n",
    "#profile_df = profile_df[['gender','age', 'customer_id','became_member_on','customer_income','membership_year','age_group']]\n",
    "\n",
    "offers_df,transactions_df  = clean_transcript(transcript)\n"
   ]
  },
  {
   "cell_type": "code",
   "execution_count": 5,
   "metadata": {},
   "outputs": [
    {
     "data": {
      "text/html": [
       "<div>\n",
       "<style scoped>\n",
       "    .dataframe tbody tr th:only-of-type {\n",
       "        vertical-align: middle;\n",
       "    }\n",
       "\n",
       "    .dataframe tbody tr th {\n",
       "        vertical-align: top;\n",
       "    }\n",
       "\n",
       "    .dataframe thead th {\n",
       "        text-align: right;\n",
       "    }\n",
       "</style>\n",
       "<table border=\"1\" class=\"dataframe\">\n",
       "  <thead>\n",
       "    <tr style=\"text-align: right;\">\n",
       "      <th></th>\n",
       "      <th>offer_id</th>\n",
       "      <th>offer_name</th>\n",
       "      <th>offer_type</th>\n",
       "      <th>offer_difficulty</th>\n",
       "      <th>offer_duration</th>\n",
       "      <th>offer_reward</th>\n",
       "      <th>email</th>\n",
       "      <th>mobile</th>\n",
       "      <th>social</th>\n",
       "      <th>web</th>\n",
       "    </tr>\n",
       "  </thead>\n",
       "  <tbody>\n",
       "    <tr>\n",
       "      <th>0</th>\n",
       "      <td>ae264e3637204a6fb9bb56bc8210ddfd</td>\n",
       "      <td>offer_1</td>\n",
       "      <td>bogo</td>\n",
       "      <td>10</td>\n",
       "      <td>7</td>\n",
       "      <td>10</td>\n",
       "      <td>1</td>\n",
       "      <td>1</td>\n",
       "      <td>1</td>\n",
       "      <td>0</td>\n",
       "    </tr>\n",
       "    <tr>\n",
       "      <th>1</th>\n",
       "      <td>4d5c57ea9a6940dd891ad53e9dbe8da0</td>\n",
       "      <td>offer_2</td>\n",
       "      <td>bogo</td>\n",
       "      <td>10</td>\n",
       "      <td>5</td>\n",
       "      <td>10</td>\n",
       "      <td>1</td>\n",
       "      <td>1</td>\n",
       "      <td>1</td>\n",
       "      <td>1</td>\n",
       "    </tr>\n",
       "    <tr>\n",
       "      <th>2</th>\n",
       "      <td>3f207df678b143eea3cee63160fa8bed</td>\n",
       "      <td>offer_3</td>\n",
       "      <td>informational</td>\n",
       "      <td>0</td>\n",
       "      <td>4</td>\n",
       "      <td>0</td>\n",
       "      <td>1</td>\n",
       "      <td>1</td>\n",
       "      <td>0</td>\n",
       "      <td>1</td>\n",
       "    </tr>\n",
       "    <tr>\n",
       "      <th>3</th>\n",
       "      <td>9b98b8c7a33c4b65b9aebfe6a799e6d9</td>\n",
       "      <td>offer_4</td>\n",
       "      <td>bogo</td>\n",
       "      <td>5</td>\n",
       "      <td>7</td>\n",
       "      <td>5</td>\n",
       "      <td>1</td>\n",
       "      <td>1</td>\n",
       "      <td>0</td>\n",
       "      <td>1</td>\n",
       "    </tr>\n",
       "    <tr>\n",
       "      <th>4</th>\n",
       "      <td>0b1e1539f2cc45b7b9fa7c272da2e1d7</td>\n",
       "      <td>offer_5</td>\n",
       "      <td>discount</td>\n",
       "      <td>20</td>\n",
       "      <td>10</td>\n",
       "      <td>5</td>\n",
       "      <td>1</td>\n",
       "      <td>0</td>\n",
       "      <td>0</td>\n",
       "      <td>1</td>\n",
       "    </tr>\n",
       "    <tr>\n",
       "      <th>5</th>\n",
       "      <td>2298d6c36e964ae4a3e7e9706d1fb8c2</td>\n",
       "      <td>offer_6</td>\n",
       "      <td>discount</td>\n",
       "      <td>7</td>\n",
       "      <td>7</td>\n",
       "      <td>3</td>\n",
       "      <td>1</td>\n",
       "      <td>1</td>\n",
       "      <td>1</td>\n",
       "      <td>1</td>\n",
       "    </tr>\n",
       "    <tr>\n",
       "      <th>6</th>\n",
       "      <td>fafdcd668e3743c1bb461111dcafc2a4</td>\n",
       "      <td>offer_7</td>\n",
       "      <td>discount</td>\n",
       "      <td>10</td>\n",
       "      <td>10</td>\n",
       "      <td>2</td>\n",
       "      <td>1</td>\n",
       "      <td>1</td>\n",
       "      <td>1</td>\n",
       "      <td>1</td>\n",
       "    </tr>\n",
       "    <tr>\n",
       "      <th>7</th>\n",
       "      <td>5a8bc65990b245e5a138643cd4eb9837</td>\n",
       "      <td>offer_8</td>\n",
       "      <td>informational</td>\n",
       "      <td>0</td>\n",
       "      <td>3</td>\n",
       "      <td>0</td>\n",
       "      <td>1</td>\n",
       "      <td>1</td>\n",
       "      <td>1</td>\n",
       "      <td>0</td>\n",
       "    </tr>\n",
       "    <tr>\n",
       "      <th>8</th>\n",
       "      <td>f19421c1d4aa40978ebb69ca19b0e20d</td>\n",
       "      <td>offer_9</td>\n",
       "      <td>bogo</td>\n",
       "      <td>5</td>\n",
       "      <td>5</td>\n",
       "      <td>5</td>\n",
       "      <td>1</td>\n",
       "      <td>1</td>\n",
       "      <td>1</td>\n",
       "      <td>1</td>\n",
       "    </tr>\n",
       "    <tr>\n",
       "      <th>9</th>\n",
       "      <td>2906b810c7d4411798c6938adc9daaa5</td>\n",
       "      <td>offer_10</td>\n",
       "      <td>discount</td>\n",
       "      <td>10</td>\n",
       "      <td>7</td>\n",
       "      <td>2</td>\n",
       "      <td>1</td>\n",
       "      <td>1</td>\n",
       "      <td>0</td>\n",
       "      <td>1</td>\n",
       "    </tr>\n",
       "  </tbody>\n",
       "</table>\n",
       "</div>"
      ],
      "text/plain": [
       "                           offer_id offer_name     offer_type  \\\n",
       "0  ae264e3637204a6fb9bb56bc8210ddfd    offer_1           bogo   \n",
       "1  4d5c57ea9a6940dd891ad53e9dbe8da0    offer_2           bogo   \n",
       "2  3f207df678b143eea3cee63160fa8bed    offer_3  informational   \n",
       "3  9b98b8c7a33c4b65b9aebfe6a799e6d9    offer_4           bogo   \n",
       "4  0b1e1539f2cc45b7b9fa7c272da2e1d7    offer_5       discount   \n",
       "5  2298d6c36e964ae4a3e7e9706d1fb8c2    offer_6       discount   \n",
       "6  fafdcd668e3743c1bb461111dcafc2a4    offer_7       discount   \n",
       "7  5a8bc65990b245e5a138643cd4eb9837    offer_8  informational   \n",
       "8  f19421c1d4aa40978ebb69ca19b0e20d    offer_9           bogo   \n",
       "9  2906b810c7d4411798c6938adc9daaa5   offer_10       discount   \n",
       "\n",
       "   offer_difficulty  offer_duration  offer_reward  email  mobile  social  web  \n",
       "0                10               7            10      1       1       1    0  \n",
       "1                10               5            10      1       1       1    1  \n",
       "2                 0               4             0      1       1       0    1  \n",
       "3                 5               7             5      1       1       0    1  \n",
       "4                20              10             5      1       0       0    1  \n",
       "5                 7               7             3      1       1       1    1  \n",
       "6                10              10             2      1       1       1    1  \n",
       "7                 0               3             0      1       1       1    0  \n",
       "8                 5               5             5      1       1       1    1  \n",
       "9                10               7             2      1       1       0    1  "
      ]
     },
     "execution_count": 5,
     "metadata": {},
     "output_type": "execute_result"
    }
   ],
   "source": [
    "portfolio_df"
   ]
  },
  {
   "cell_type": "code",
   "execution_count": 6,
   "metadata": {},
   "outputs": [],
   "source": [
    "#Store clean Portfolio data to portfoio_df\n",
    "portfolio_df = clean_portfolio(portfolio)\n",
    "\n",
    "#Store clean Profile data to profile_df\n",
    "profile_df, profile_m = clean_profile(profile)\n",
    "\n",
    "#Store clean transcript data to two seperate data frames. \n",
    "#Offers_df to store offer data, transactions_df to store transactions data\n",
    "offers_df,transactions_df  = clean_transcript(transcript)"
   ]
  },
  {
   "cell_type": "code",
   "execution_count": 7,
   "metadata": {},
   "outputs": [
    {
     "data": {
      "text/html": [
       "<div>\n",
       "<style scoped>\n",
       "    .dataframe tbody tr th:only-of-type {\n",
       "        vertical-align: middle;\n",
       "    }\n",
       "\n",
       "    .dataframe tbody tr th {\n",
       "        vertical-align: top;\n",
       "    }\n",
       "\n",
       "    .dataframe thead th {\n",
       "        text-align: right;\n",
       "    }\n",
       "</style>\n",
       "<table border=\"1\" class=\"dataframe\">\n",
       "  <thead>\n",
       "    <tr style=\"text-align: right;\">\n",
       "      <th></th>\n",
       "      <th>customer_id</th>\n",
       "      <th>gender</th>\n",
       "      <th>age</th>\n",
       "      <th>age_group</th>\n",
       "      <th>customer_income</th>\n",
       "      <th>customer_income_range</th>\n",
       "      <th>became_member_on</th>\n",
       "      <th>membership_year</th>\n",
       "    </tr>\n",
       "  </thead>\n",
       "  <tbody>\n",
       "    <tr>\n",
       "      <th>0</th>\n",
       "      <td>0610b486422d4921ae7d2bf64640c50b</td>\n",
       "      <td>F</td>\n",
       "      <td>55</td>\n",
       "      <td>GenXers(44-56)</td>\n",
       "      <td>112000.0</td>\n",
       "      <td>$100K</td>\n",
       "      <td>2017-07-15</td>\n",
       "      <td>2017</td>\n",
       "    </tr>\n",
       "    <tr>\n",
       "      <th>1</th>\n",
       "      <td>78afa995795e4d85b5d9ceeca43f5fef</td>\n",
       "      <td>F</td>\n",
       "      <td>75</td>\n",
       "      <td>Boomers(57-75)</td>\n",
       "      <td>100000.0</td>\n",
       "      <td>$100K</td>\n",
       "      <td>2017-05-09</td>\n",
       "      <td>2017</td>\n",
       "    </tr>\n",
       "    <tr>\n",
       "      <th>2</th>\n",
       "      <td>e2127556f4f64592b11af22de27a7932</td>\n",
       "      <td>M</td>\n",
       "      <td>68</td>\n",
       "      <td>Boomers(57-75)</td>\n",
       "      <td>70000.0</td>\n",
       "      <td>$50,000 - $74,999</td>\n",
       "      <td>2018-04-26</td>\n",
       "      <td>2018</td>\n",
       "    </tr>\n",
       "    <tr>\n",
       "      <th>3</th>\n",
       "      <td>389bc3fa690240e798340f5a15918d5c</td>\n",
       "      <td>M</td>\n",
       "      <td>65</td>\n",
       "      <td>Boomers(57-75)</td>\n",
       "      <td>53000.0</td>\n",
       "      <td>$50,000 - $74,999</td>\n",
       "      <td>2018-02-09</td>\n",
       "      <td>2018</td>\n",
       "    </tr>\n",
       "    <tr>\n",
       "      <th>4</th>\n",
       "      <td>2eeac8d8feae4a8cad5a6af0499a211d</td>\n",
       "      <td>M</td>\n",
       "      <td>58</td>\n",
       "      <td>Boomers(57-75)</td>\n",
       "      <td>51000.0</td>\n",
       "      <td>$50,000 - $74,999</td>\n",
       "      <td>2017-11-11</td>\n",
       "      <td>2017</td>\n",
       "    </tr>\n",
       "    <tr>\n",
       "      <th>...</th>\n",
       "      <td>...</td>\n",
       "      <td>...</td>\n",
       "      <td>...</td>\n",
       "      <td>...</td>\n",
       "      <td>...</td>\n",
       "      <td>...</td>\n",
       "      <td>...</td>\n",
       "      <td>...</td>\n",
       "    </tr>\n",
       "    <tr>\n",
       "      <th>14820</th>\n",
       "      <td>6d5f3a774f3d4714ab0c092238f3a1d7</td>\n",
       "      <td>F</td>\n",
       "      <td>45</td>\n",
       "      <td>GenXers(44-56)</td>\n",
       "      <td>54000.0</td>\n",
       "      <td>$50,000 - $74,999</td>\n",
       "      <td>2018-06-04</td>\n",
       "      <td>2018</td>\n",
       "    </tr>\n",
       "    <tr>\n",
       "      <th>14821</th>\n",
       "      <td>2cb4f97358b841b9a9773a7aa05a9d77</td>\n",
       "      <td>M</td>\n",
       "      <td>61</td>\n",
       "      <td>Boomers(57-75)</td>\n",
       "      <td>72000.0</td>\n",
       "      <td>$50,000 - $74,999</td>\n",
       "      <td>2018-07-13</td>\n",
       "      <td>2018</td>\n",
       "    </tr>\n",
       "    <tr>\n",
       "      <th>14822</th>\n",
       "      <td>01d26f638c274aa0b965d24cefe3183f</td>\n",
       "      <td>M</td>\n",
       "      <td>49</td>\n",
       "      <td>GenXers(44-56)</td>\n",
       "      <td>73000.0</td>\n",
       "      <td>$50,000 - $74,999</td>\n",
       "      <td>2017-01-26</td>\n",
       "      <td>2017</td>\n",
       "    </tr>\n",
       "    <tr>\n",
       "      <th>14823</th>\n",
       "      <td>9dc1421481194dcd9400aec7c9ae6366</td>\n",
       "      <td>F</td>\n",
       "      <td>83</td>\n",
       "      <td>Matures(76+)</td>\n",
       "      <td>50000.0</td>\n",
       "      <td>$50,000 - $74,999</td>\n",
       "      <td>2016-03-07</td>\n",
       "      <td>2016</td>\n",
       "    </tr>\n",
       "    <tr>\n",
       "      <th>14824</th>\n",
       "      <td>e4052622e5ba45a8b96b59aba68cf068</td>\n",
       "      <td>F</td>\n",
       "      <td>62</td>\n",
       "      <td>Boomers(57-75)</td>\n",
       "      <td>82000.0</td>\n",
       "      <td>$75,000 - $99,999</td>\n",
       "      <td>2017-07-22</td>\n",
       "      <td>2017</td>\n",
       "    </tr>\n",
       "  </tbody>\n",
       "</table>\n",
       "<p>14825 rows × 8 columns</p>\n",
       "</div>"
      ],
      "text/plain": [
       "                            customer_id gender  age       age_group  \\\n",
       "0      0610b486422d4921ae7d2bf64640c50b      F   55  GenXers(44-56)   \n",
       "1      78afa995795e4d85b5d9ceeca43f5fef      F   75  Boomers(57-75)   \n",
       "2      e2127556f4f64592b11af22de27a7932      M   68  Boomers(57-75)   \n",
       "3      389bc3fa690240e798340f5a15918d5c      M   65  Boomers(57-75)   \n",
       "4      2eeac8d8feae4a8cad5a6af0499a211d      M   58  Boomers(57-75)   \n",
       "...                                 ...    ...  ...             ...   \n",
       "14820  6d5f3a774f3d4714ab0c092238f3a1d7      F   45  GenXers(44-56)   \n",
       "14821  2cb4f97358b841b9a9773a7aa05a9d77      M   61  Boomers(57-75)   \n",
       "14822  01d26f638c274aa0b965d24cefe3183f      M   49  GenXers(44-56)   \n",
       "14823  9dc1421481194dcd9400aec7c9ae6366      F   83    Matures(76+)   \n",
       "14824  e4052622e5ba45a8b96b59aba68cf068      F   62  Boomers(57-75)   \n",
       "\n",
       "       customer_income customer_income_range became_member_on  membership_year  \n",
       "0             112000.0                 $100K       2017-07-15             2017  \n",
       "1             100000.0                 $100K       2017-05-09             2017  \n",
       "2              70000.0     $50,000 - $74,999       2018-04-26             2018  \n",
       "3              53000.0     $50,000 - $74,999       2018-02-09             2018  \n",
       "4              51000.0     $50,000 - $74,999       2017-11-11             2017  \n",
       "...                ...                   ...              ...              ...  \n",
       "14820          54000.0     $50,000 - $74,999       2018-06-04             2018  \n",
       "14821          72000.0     $50,000 - $74,999       2018-07-13             2018  \n",
       "14822          73000.0     $50,000 - $74,999       2017-01-26             2017  \n",
       "14823          50000.0     $50,000 - $74,999       2016-03-07             2016  \n",
       "14824          82000.0     $75,000 - $99,999       2017-07-22             2017  \n",
       "\n",
       "[14825 rows x 8 columns]"
      ]
     },
     "execution_count": 7,
     "metadata": {},
     "output_type": "execute_result"
    }
   ],
   "source": [
    "profile_df"
   ]
  },
  {
   "cell_type": "markdown",
   "metadata": {},
   "source": [
    "## RFM Analysis "
   ]
  },
  {
   "cell_type": "markdown",
   "metadata": {},
   "source": [
    "In this section we are going to perform Recency Frequency Monetary value analysis of the customer. \n",
    "\n",
    "RFM Analysis is a very commonly used method in marketing analytics to segments customers into homogeneous groups. The three variables used for RFM analysis are:\n",
    "\n",
    "* **Recency**: When did the customer make the last purchase?\n",
    "\n",
    "* **Frequency**: How frequently does the customer make a purchase?\n",
    "\n",
    "* **Monetary**: How much has the customer spent?\n",
    "\n",
    "These values can be collected from the customer's transaction data based on information like Date of purchase, money spent for each transactions."
   ]
  },
  {
   "cell_type": "code",
   "execution_count": 8,
   "metadata": {},
   "outputs": [],
   "source": [
    "#RFM Analysis"
   ]
  },
  {
   "cell_type": "code",
   "execution_count": 9,
   "metadata": {},
   "outputs": [],
   "source": [
    "#Function to calcuate the most (R)ecent purchase,(F)requecny of purchase, and the (M)onetry sum of total purchase.\n",
    "\n",
    "def rfm_funct(transactions = transactions_df):\n",
    "    \n",
    "    \"\"\"\n",
    "    INPUT :\n",
    "        transactions : transactions_df(processed transctions data)\n",
    "        \n",
    "    RETURN :\n",
    "        rfm_df : updated portfolio df with addtional col of name of each offer ids\n",
    "        \n",
    "    \"\"\"\n",
    "    \n",
    "    rfm_df = transactions.groupby('customer_id').agg(\n",
    "    {'time_in_days': 'max' ,'amount': ['count', 'sum'] }).reset_index(col_level=1)\n",
    "    \n",
    "    rfm_df.columns = ['customer_id' , 'time_in_days'  ,'Frequency', 'Monetary']\n",
    "    \n",
    "    rfm_df = rfm_df.sort_values(['time_in_days', 'Frequency', 'Monetary'], ascending=False)\n",
    "    \n",
    "    rfm_df['Recency']  = rfm_df['time_in_days'].max() - rfm_df['time_in_days']\n",
    "    \n",
    "    rfm_df = rfm_df[['customer_id', 'Recency', 'Frequency', 'Monetary']]\n",
    "    \n",
    "    return rfm_df\n",
    "\n",
    "\n",
    "rfm_df = rfm_funct(transactions_df)"
   ]
  },
  {
   "cell_type": "markdown",
   "metadata": {},
   "source": [
    "### Analyze RFM Dataset before scoring"
   ]
  },
  {
   "cell_type": "code",
   "execution_count": 10,
   "metadata": {},
   "outputs": [
    {
     "data": {
      "text/html": [
       "<div>\n",
       "<style scoped>\n",
       "    .dataframe tbody tr th:only-of-type {\n",
       "        vertical-align: middle;\n",
       "    }\n",
       "\n",
       "    .dataframe tbody tr th {\n",
       "        vertical-align: top;\n",
       "    }\n",
       "\n",
       "    .dataframe thead th {\n",
       "        text-align: right;\n",
       "    }\n",
       "</style>\n",
       "<table border=\"1\" class=\"dataframe\">\n",
       "  <thead>\n",
       "    <tr style=\"text-align: right;\">\n",
       "      <th></th>\n",
       "      <th>customer_id</th>\n",
       "      <th>Recency</th>\n",
       "      <th>Frequency</th>\n",
       "      <th>Monetary</th>\n",
       "    </tr>\n",
       "  </thead>\n",
       "  <tbody>\n",
       "    <tr>\n",
       "      <th>4918</th>\n",
       "      <td>4bdd34a262b24807a6f327967aa42ea6</td>\n",
       "      <td>3</td>\n",
       "      <td>7</td>\n",
       "      <td>71.35</td>\n",
       "    </tr>\n",
       "    <tr>\n",
       "      <th>4402</th>\n",
       "      <td>43ab1831aeb0431f98efd3578f14bf67</td>\n",
       "      <td>6</td>\n",
       "      <td>2</td>\n",
       "      <td>72.11</td>\n",
       "    </tr>\n",
       "    <tr>\n",
       "      <th>3913</th>\n",
       "      <td>3c58128ef72145af98aa1d3b7d6b6906</td>\n",
       "      <td>4</td>\n",
       "      <td>8</td>\n",
       "      <td>87.35</td>\n",
       "    </tr>\n",
       "    <tr>\n",
       "      <th>16185</th>\n",
       "      <td>f9aa97d0dd164f8bae52c0a4f9dd9f6e</td>\n",
       "      <td>1</td>\n",
       "      <td>12</td>\n",
       "      <td>153.59</td>\n",
       "    </tr>\n",
       "    <tr>\n",
       "      <th>10011</th>\n",
       "      <td>99baac12030a4aa6acfc7f8c5453567d</td>\n",
       "      <td>4</td>\n",
       "      <td>2</td>\n",
       "      <td>52.11</td>\n",
       "    </tr>\n",
       "    <tr>\n",
       "      <th>1878</th>\n",
       "      <td>1e1bbc0184534a5180015c5e138ef85a</td>\n",
       "      <td>0</td>\n",
       "      <td>6</td>\n",
       "      <td>563.13</td>\n",
       "    </tr>\n",
       "    <tr>\n",
       "      <th>10688</th>\n",
       "      <td>a34313f47d9a4c9381937c4d778a49e3</td>\n",
       "      <td>5</td>\n",
       "      <td>4</td>\n",
       "      <td>8.42</td>\n",
       "    </tr>\n",
       "    <tr>\n",
       "      <th>14954</th>\n",
       "      <td>e6590c7f954f4ff482c069b45070b351</td>\n",
       "      <td>2</td>\n",
       "      <td>14</td>\n",
       "      <td>171.81</td>\n",
       "    </tr>\n",
       "    <tr>\n",
       "      <th>1560</th>\n",
       "      <td>18bffae1579b4f8598420ec807052cfa</td>\n",
       "      <td>2</td>\n",
       "      <td>17</td>\n",
       "      <td>728.51</td>\n",
       "    </tr>\n",
       "    <tr>\n",
       "      <th>11497</th>\n",
       "      <td>af9a7712bc024eeaa0533cfcff3e86aa</td>\n",
       "      <td>8</td>\n",
       "      <td>7</td>\n",
       "      <td>79.13</td>\n",
       "    </tr>\n",
       "  </tbody>\n",
       "</table>\n",
       "</div>"
      ],
      "text/plain": [
       "                            customer_id  Recency  Frequency  Monetary\n",
       "4918   4bdd34a262b24807a6f327967aa42ea6        3          7     71.35\n",
       "4402   43ab1831aeb0431f98efd3578f14bf67        6          2     72.11\n",
       "3913   3c58128ef72145af98aa1d3b7d6b6906        4          8     87.35\n",
       "16185  f9aa97d0dd164f8bae52c0a4f9dd9f6e        1         12    153.59\n",
       "10011  99baac12030a4aa6acfc7f8c5453567d        4          2     52.11\n",
       "1878   1e1bbc0184534a5180015c5e138ef85a        0          6    563.13\n",
       "10688  a34313f47d9a4c9381937c4d778a49e3        5          4      8.42\n",
       "14954  e6590c7f954f4ff482c069b45070b351        2         14    171.81\n",
       "1560   18bffae1579b4f8598420ec807052cfa        2         17    728.51\n",
       "11497  af9a7712bc024eeaa0533cfcff3e86aa        8          7     79.13"
      ]
     },
     "execution_count": 10,
     "metadata": {},
     "output_type": "execute_result"
    }
   ],
   "source": [
    "rfm_df.sample(10)"
   ]
  },
  {
   "cell_type": "code",
   "execution_count": 11,
   "metadata": {},
   "outputs": [
    {
     "data": {
      "text/html": [
       "<div>\n",
       "<style scoped>\n",
       "    .dataframe tbody tr th:only-of-type {\n",
       "        vertical-align: middle;\n",
       "    }\n",
       "\n",
       "    .dataframe tbody tr th {\n",
       "        vertical-align: top;\n",
       "    }\n",
       "\n",
       "    .dataframe thead th {\n",
       "        text-align: right;\n",
       "    }\n",
       "</style>\n",
       "<table border=\"1\" class=\"dataframe\">\n",
       "  <thead>\n",
       "    <tr style=\"text-align: right;\">\n",
       "      <th></th>\n",
       "      <th>Recency</th>\n",
       "      <th>Frequency</th>\n",
       "      <th>Monetary</th>\n",
       "    </tr>\n",
       "  </thead>\n",
       "  <tbody>\n",
       "    <tr>\n",
       "      <th>count</th>\n",
       "      <td>16578.000000</td>\n",
       "      <td>16578.000000</td>\n",
       "      <td>16578.000000</td>\n",
       "    </tr>\n",
       "    <tr>\n",
       "      <th>mean</th>\n",
       "      <td>3.202015</td>\n",
       "      <td>8.381771</td>\n",
       "      <td>107.096874</td>\n",
       "    </tr>\n",
       "    <tr>\n",
       "      <th>std</th>\n",
       "      <td>3.442917</td>\n",
       "      <td>5.009822</td>\n",
       "      <td>126.393939</td>\n",
       "    </tr>\n",
       "    <tr>\n",
       "      <th>min</th>\n",
       "      <td>0.000000</td>\n",
       "      <td>1.000000</td>\n",
       "      <td>0.050000</td>\n",
       "    </tr>\n",
       "    <tr>\n",
       "      <th>25%</th>\n",
       "      <td>1.000000</td>\n",
       "      <td>5.000000</td>\n",
       "      <td>23.682500</td>\n",
       "    </tr>\n",
       "    <tr>\n",
       "      <th>50%</th>\n",
       "      <td>2.000000</td>\n",
       "      <td>7.000000</td>\n",
       "      <td>72.410000</td>\n",
       "    </tr>\n",
       "    <tr>\n",
       "      <th>75%</th>\n",
       "      <td>5.000000</td>\n",
       "      <td>11.000000</td>\n",
       "      <td>150.937500</td>\n",
       "    </tr>\n",
       "    <tr>\n",
       "      <th>max</th>\n",
       "      <td>29.000000</td>\n",
       "      <td>36.000000</td>\n",
       "      <td>1608.690000</td>\n",
       "    </tr>\n",
       "  </tbody>\n",
       "</table>\n",
       "</div>"
      ],
      "text/plain": [
       "            Recency     Frequency      Monetary\n",
       "count  16578.000000  16578.000000  16578.000000\n",
       "mean       3.202015      8.381771    107.096874\n",
       "std        3.442917      5.009822    126.393939\n",
       "min        0.000000      1.000000      0.050000\n",
       "25%        1.000000      5.000000     23.682500\n",
       "50%        2.000000      7.000000     72.410000\n",
       "75%        5.000000     11.000000    150.937500\n",
       "max       29.000000     36.000000   1608.690000"
      ]
     },
     "metadata": {},
     "output_type": "display_data"
    }
   ],
   "source": [
    "#Discriptive analysis\n",
    "display(rfm_df.describe())"
   ]
  },
  {
   "cell_type": "code",
   "execution_count": 12,
   "metadata": {
    "scrolled": false
   },
   "outputs": [],
   "source": [
    "\n",
    "def RFM_DistributionPlot(rfm_df = rfm_df):\n",
    "\n",
    "    #Recency distribution\n",
    "\n",
    "    plt.figure(figsize=[10,3])\n",
    "    rfm_hist1 = sns.histplot(data = rfm_df, x = 'Recency',  multiple = \"dodge\",element = 'step', \n",
    "                            bins = 30, kde = True ,stat = 'count' ).set_title(\"Recency distribution\")\n",
    "    plt.xlabel(\"Recency\")\n",
    "    plt.ylabel(\"Customer count\")\n",
    "\n",
    "\n",
    "    #Frequency distribution\n",
    "\n",
    "    plt.figure(figsize=[10,3])\n",
    "    rfm_hist1 = sns.histplot(data = rfm_df, x = 'Frequency',  multiple = \"dodge\",element = 'step', \n",
    "                            bins = 20, kde = True ,stat = 'count' ).set_title(\"Frequency distribution\")\n",
    "    plt.xlabel(\"Frequency\")\n",
    "    plt.ylabel(\"Customer count\")\n",
    "\n",
    "\n",
    "    #Monetary distribution\n",
    "\n",
    "    plt.figure(figsize=[10,3])\n",
    "    rfm_hist1 = sns.histplot(data = rfm_df, x = 'Monetary',  multiple = \"dodge\",element = 'step', \n",
    "                            bins = 100, kde = True ,stat = 'count' ).set_title(\"Spend distribution\")\n",
    "    plt.xlabel(\"Monetary(USD)\")\n",
    "    plt.ylabel(\"Customer count\")\n",
    "    \n",
    "    return rfm_hist1"
   ]
  },
  {
   "cell_type": "code",
   "execution_count": 13,
   "metadata": {},
   "outputs": [
    {
     "data": {
      "image/png": "[encoded data removed]",
      "text/plain": [
       "<Figure size 720x216 with 1 Axes>"
      ]
     },
     "metadata": {
      "needs_background": "light"
     },
     "output_type": "display_data"
    },
    {
     "data": {
      "image/png": "[encoded data removed]",
      "text/plain": [
       "<Figure size 720x216 with 1 Axes>"
      ]
     },
     "metadata": {
      "needs_background": "light"
     },
     "output_type": "display_data"
    },
    {
     "data": {
      "image/png": "[encoded data removed]",
      "text/plain": [
       "<Figure size 720x216 with 1 Axes>"
      ]
     },
     "metadata": {
      "needs_background": "light"
     },
     "output_type": "display_data"
    }
   ],
   "source": [
    "#RFM distribution\n",
    "\n",
    "rfm_dist = RFM_DistributionPlot(rfm_df)"
   ]
  },
  {
   "cell_type": "markdown",
   "metadata": {},
   "source": [
    "Based on the above graphs we can see that the Recency, Frequency and Monetary values are right-Skewed. \n",
    "\n",
    "* Recency mean value: ~ 3 days.\n",
    "* Frequency mean value: ~ 8 purchases.\n",
    "* Monetary mean value: USD 107"
   ]
  },
  {
   "cell_type": "code",
   "execution_count": 14,
   "metadata": {},
   "outputs": [],
   "source": [
    "#Since the recency, frequency and monetary data is highly skewed to right. We perform normalization \n",
    "scaler = MinMaxScaler()\n",
    "rfm_normalized = pd.DataFrame(scaler.fit_transform(rfm_df[['Recency', 'Frequency', 'Monetary']]))\n",
    "rfm_normalized.columns = ['Recency', 'Frequency', 'Monetary']"
   ]
  },
  {
   "cell_type": "code",
   "execution_count": 15,
   "metadata": {},
   "outputs": [],
   "source": [
    "from sklearn import preprocessing\n",
    "d = preprocessing.normalize(rfm_df[['Recency', 'Frequency', 'Monetary']], axis=0)\n",
    "scaled_df = pd.DataFrame(d, columns=['Recency', 'Frequency', 'Monetary'])"
   ]
  },
  {
   "cell_type": "code",
   "execution_count": 16,
   "metadata": {},
   "outputs": [
    {
     "data": {
      "image/png": "[encoded data removed]",
      "text/plain": [
       "<Figure size 720x216 with 1 Axes>"
      ]
     },
     "metadata": {
      "needs_background": "light"
     },
     "output_type": "display_data"
    },
    {
     "data": {
      "image/png": "[encoded data removed]",
      "text/plain": [
       "<Figure size 720x216 with 1 Axes>"
      ]
     },
     "metadata": {
      "needs_background": "light"
     },
     "output_type": "display_data"
    },
    {
     "data": {
      "image/png": "[encoded data removed]",
      "text/plain": [
       "<Figure size 720x216 with 1 Axes>"
      ]
     },
     "metadata": {
      "needs_background": "light"
     },
     "output_type": "display_data"
    }
   ],
   "source": [
    "rfm_n_dist_test = RFM_DistributionPlot(rfm_normalized)"
   ]
  },
  {
   "cell_type": "code",
   "execution_count": 17,
   "metadata": {},
   "outputs": [
    {
     "data": {
      "text/html": [
       "<div>\n",
       "<style scoped>\n",
       "    .dataframe tbody tr th:only-of-type {\n",
       "        vertical-align: middle;\n",
       "    }\n",
       "\n",
       "    .dataframe tbody tr th {\n",
       "        vertical-align: top;\n",
       "    }\n",
       "\n",
       "    .dataframe thead th {\n",
       "        text-align: right;\n",
       "    }\n",
       "</style>\n",
       "<table border=\"1\" class=\"dataframe\">\n",
       "  <thead>\n",
       "    <tr style=\"text-align: right;\">\n",
       "      <th></th>\n",
       "      <th>Recency</th>\n",
       "      <th>Frequency</th>\n",
       "      <th>Monetary</th>\n",
       "    </tr>\n",
       "  </thead>\n",
       "  <tbody>\n",
       "    <tr>\n",
       "      <th>0</th>\n",
       "      <td>0.000000</td>\n",
       "      <td>1.000000</td>\n",
       "      <td>0.107768</td>\n",
       "    </tr>\n",
       "    <tr>\n",
       "      <th>1</th>\n",
       "      <td>0.000000</td>\n",
       "      <td>0.971429</td>\n",
       "      <td>0.056060</td>\n",
       "    </tr>\n",
       "    <tr>\n",
       "      <th>2</th>\n",
       "      <td>0.000000</td>\n",
       "      <td>0.857143</td>\n",
       "      <td>0.286602</td>\n",
       "    </tr>\n",
       "    <tr>\n",
       "      <th>3</th>\n",
       "      <td>0.000000</td>\n",
       "      <td>0.828571</td>\n",
       "      <td>0.445818</td>\n",
       "    </tr>\n",
       "    <tr>\n",
       "      <th>4</th>\n",
       "      <td>0.000000</td>\n",
       "      <td>0.828571</td>\n",
       "      <td>0.162025</td>\n",
       "    </tr>\n",
       "    <tr>\n",
       "      <th>...</th>\n",
       "      <td>...</td>\n",
       "      <td>...</td>\n",
       "      <td>...</td>\n",
       "    </tr>\n",
       "    <tr>\n",
       "      <th>16573</th>\n",
       "      <td>0.896552</td>\n",
       "      <td>0.000000</td>\n",
       "      <td>0.015554</td>\n",
       "    </tr>\n",
       "    <tr>\n",
       "      <th>16574</th>\n",
       "      <td>0.931034</td>\n",
       "      <td>0.057143</td>\n",
       "      <td>0.032705</td>\n",
       "    </tr>\n",
       "    <tr>\n",
       "      <th>16575</th>\n",
       "      <td>0.931034</td>\n",
       "      <td>0.000000</td>\n",
       "      <td>0.010966</td>\n",
       "    </tr>\n",
       "    <tr>\n",
       "      <th>16576</th>\n",
       "      <td>0.931034</td>\n",
       "      <td>0.000000</td>\n",
       "      <td>0.009573</td>\n",
       "    </tr>\n",
       "    <tr>\n",
       "      <th>16577</th>\n",
       "      <td>1.000000</td>\n",
       "      <td>0.000000</td>\n",
       "      <td>0.011643</td>\n",
       "    </tr>\n",
       "  </tbody>\n",
       "</table>\n",
       "<p>16578 rows × 3 columns</p>\n",
       "</div>"
      ],
      "text/plain": [
       "        Recency  Frequency  Monetary\n",
       "0      0.000000   1.000000  0.107768\n",
       "1      0.000000   0.971429  0.056060\n",
       "2      0.000000   0.857143  0.286602\n",
       "3      0.000000   0.828571  0.445818\n",
       "4      0.000000   0.828571  0.162025\n",
       "...         ...        ...       ...\n",
       "16573  0.896552   0.000000  0.015554\n",
       "16574  0.931034   0.057143  0.032705\n",
       "16575  0.931034   0.000000  0.010966\n",
       "16576  0.931034   0.000000  0.009573\n",
       "16577  1.000000   0.000000  0.011643\n",
       "\n",
       "[16578 rows x 3 columns]"
      ]
     },
     "execution_count": 17,
     "metadata": {},
     "output_type": "execute_result"
    }
   ],
   "source": [
    "rfm_normalized"
   ]
  },
  {
   "cell_type": "code",
   "execution_count": 18,
   "metadata": {
    "scrolled": false
   },
   "outputs": [
    {
     "data": {
      "text/plain": [
       "Text(0.5, 1.0, 'Correlation Heatmap')"
      ]
     },
     "execution_count": 18,
     "metadata": {},
     "output_type": "execute_result"
    },
    {
     "data": {
      "image/png": "[encoded data removed]",
      "text/plain": [
       "<Figure size 432x288 with 2 Axes>"
      ]
     },
     "metadata": {
      "needs_background": "light"
     },
     "output_type": "display_data"
    }
   ],
   "source": [
    "#Correlation between Recency, Frequency and monetary values\n",
    "\n",
    "sns.heatmap(rfm_normalized.iloc[:,0:4].corr() )\n",
    "plt.title('Correlation Heatmap')"
   ]
  },
  {
   "cell_type": "markdown",
   "metadata": {},
   "source": [
    "We can observe:\n",
    "\n",
    "* Correlation between Frequency and the Monetary value. \n",
    "* Negatve correlation between Recency and Monetary\n",
    "\n"
   ]
  },
  {
   "cell_type": "markdown",
   "metadata": {},
   "source": [
    "### Computation of RFM\n",
    "\n",
    "Here we are going to determing how to compute the Recency,Frequency and Monetary data values. \n",
    "\n",
    "Ther are few approcahes to do this. Here we are going to check two such approches and check which shows the best results. \n",
    "\n",
    "The two approaches that we are going to check are:\n",
    "\n",
    "#### Method 1: \n",
    "Compute the RFM codes by using K-Means clusteing algorithm. \n",
    "\n",
    "#### Method 2: \n",
    "Sort customers based on R, F, M values and then combine into RFM codes using traditional method,then use K-means clustering to determine cluster. \n",
    "\n"
   ]
  },
  {
   "cell_type": "markdown",
   "metadata": {},
   "source": [
    "### Method1: Compute the RFM codes by using K-Means clusteing algorithm."
   ]
  },
  {
   "cell_type": "code",
   "execution_count": 19,
   "metadata": {},
   "outputs": [
    {
     "data": {
      "image/png": "[encoded data removed]",
      "text/plain": [
       "<Figure size 432x288 with 1 Axes>"
      ]
     },
     "metadata": {
      "needs_background": "light"
     },
     "output_type": "display_data"
    }
   ],
   "source": [
    "#Use elbow method to determine the optimum number of clusters needed for Method1\n",
    "\n",
    "wcss = []\n",
    "\n",
    "for i in range(1,11):\n",
    "    kmeans = KMeans(n_clusters = i,init = 'k-means++', random_state = 42)\n",
    "    kmeans.fit(rfm_normalized)\n",
    "    wcss.append(kmeans.inertia_)\n",
    "    \n",
    "sns.pointplot(x=list(range(1,11)), y=wcss)\n",
    "plt.title('The Elbow method')\n",
    "plt.xlabel('Number of clusters')\n",
    "plt.xlabel('WCSS')\n",
    "plt.show()"
   ]
  },
  {
   "cell_type": "markdown",
   "metadata": {},
   "source": [
    "The WCSS value starts slowing down after the 4th cluster. 'Elbow' at k=4, thus the optimal number of cluster is 4. "
   ]
  },
  {
   "cell_type": "code",
   "execution_count": 20,
   "metadata": {},
   "outputs": [
    {
     "data": {
      "text/html": [
       "<div>\n",
       "<style scoped>\n",
       "    .dataframe tbody tr th:only-of-type {\n",
       "        vertical-align: middle;\n",
       "    }\n",
       "\n",
       "    .dataframe tbody tr th {\n",
       "        vertical-align: top;\n",
       "    }\n",
       "\n",
       "    .dataframe thead th {\n",
       "        text-align: right;\n",
       "    }\n",
       "</style>\n",
       "<table border=\"1\" class=\"dataframe\">\n",
       "  <thead>\n",
       "    <tr style=\"text-align: right;\">\n",
       "      <th></th>\n",
       "      <th>Recency</th>\n",
       "      <th>Frequency</th>\n",
       "      <th>Monetary</th>\n",
       "    </tr>\n",
       "  </thead>\n",
       "  <tbody>\n",
       "    <tr>\n",
       "      <th>0</th>\n",
       "      <td>0.000000</td>\n",
       "      <td>1.000000</td>\n",
       "      <td>0.107768</td>\n",
       "    </tr>\n",
       "    <tr>\n",
       "      <th>1</th>\n",
       "      <td>0.000000</td>\n",
       "      <td>0.971429</td>\n",
       "      <td>0.056060</td>\n",
       "    </tr>\n",
       "    <tr>\n",
       "      <th>2</th>\n",
       "      <td>0.000000</td>\n",
       "      <td>0.857143</td>\n",
       "      <td>0.286602</td>\n",
       "    </tr>\n",
       "    <tr>\n",
       "      <th>3</th>\n",
       "      <td>0.000000</td>\n",
       "      <td>0.828571</td>\n",
       "      <td>0.445818</td>\n",
       "    </tr>\n",
       "    <tr>\n",
       "      <th>4</th>\n",
       "      <td>0.000000</td>\n",
       "      <td>0.828571</td>\n",
       "      <td>0.162025</td>\n",
       "    </tr>\n",
       "    <tr>\n",
       "      <th>...</th>\n",
       "      <td>...</td>\n",
       "      <td>...</td>\n",
       "      <td>...</td>\n",
       "    </tr>\n",
       "    <tr>\n",
       "      <th>16573</th>\n",
       "      <td>0.896552</td>\n",
       "      <td>0.000000</td>\n",
       "      <td>0.015554</td>\n",
       "    </tr>\n",
       "    <tr>\n",
       "      <th>16574</th>\n",
       "      <td>0.931034</td>\n",
       "      <td>0.057143</td>\n",
       "      <td>0.032705</td>\n",
       "    </tr>\n",
       "    <tr>\n",
       "      <th>16575</th>\n",
       "      <td>0.931034</td>\n",
       "      <td>0.000000</td>\n",
       "      <td>0.010966</td>\n",
       "    </tr>\n",
       "    <tr>\n",
       "      <th>16576</th>\n",
       "      <td>0.931034</td>\n",
       "      <td>0.000000</td>\n",
       "      <td>0.009573</td>\n",
       "    </tr>\n",
       "    <tr>\n",
       "      <th>16577</th>\n",
       "      <td>1.000000</td>\n",
       "      <td>0.000000</td>\n",
       "      <td>0.011643</td>\n",
       "    </tr>\n",
       "  </tbody>\n",
       "</table>\n",
       "<p>16578 rows × 3 columns</p>\n",
       "</div>"
      ],
      "text/plain": [
       "        Recency  Frequency  Monetary\n",
       "0      0.000000   1.000000  0.107768\n",
       "1      0.000000   0.971429  0.056060\n",
       "2      0.000000   0.857143  0.286602\n",
       "3      0.000000   0.828571  0.445818\n",
       "4      0.000000   0.828571  0.162025\n",
       "...         ...        ...       ...\n",
       "16573  0.896552   0.000000  0.015554\n",
       "16574  0.931034   0.057143  0.032705\n",
       "16575  0.931034   0.000000  0.010966\n",
       "16576  0.931034   0.000000  0.009573\n",
       "16577  1.000000   0.000000  0.011643\n",
       "\n",
       "[16578 rows x 3 columns]"
      ]
     },
     "execution_count": 20,
     "metadata": {},
     "output_type": "execute_result"
    }
   ],
   "source": [
    "rfm_normalized"
   ]
  },
  {
   "cell_type": "code",
   "execution_count": 21,
   "metadata": {
    "scrolled": true
   },
   "outputs": [
    {
     "data": {
      "text/plain": [
       "<mpl_toolkits.mplot3d.art3d.Path3DCollection at 0x21c540e8e50>"
      ]
     },
     "execution_count": 21,
     "metadata": {},
     "output_type": "execute_result"
    },
    {
     "data": {
      "image/png": "[encoded data removed]",
      "text/plain": [
       "<Figure size 360x360 with 1 Axes>"
      ]
     },
     "metadata": {
      "needs_background": "light"
     },
     "output_type": "display_data"
    }
   ],
   "source": [
    "#Visualize the clusters in a 3-d scatter plot\n",
    "\n",
    "kmeans = KMeans(n_clusters = 4,init = 'k-means++', random_state = 42)\n",
    "kmeans.fit(rfm_normalized)\n",
    "centers = kmeans.cluster_centers_\n",
    "\n",
    "sns.set_palette(sns.color_palette('Set2'))\n",
    "\n",
    "fig = plt.figure(figsize=[5,5])\n",
    "ax = fig.add_subplot(111,projection = '3d')\n",
    "ax.scatter(rfm_normalized['Recency'],rfm_normalized['Frequency'],rfm_normalized['Monetary'], \n",
    "           cmap = 'brg', c=kmeans.predict(rfm_normalized))\n",
    "\n",
    "\n",
    "ax.set_xlabel(\"Recency\")\n",
    "ax.set_ylabel(\"Frequency\")\n",
    "ax.set_zlabel(\"Monetary\")\n",
    "\n",
    "ax.scatter(centers[:,0], centers[:,1], c='black')"
   ]
  },
  {
   "cell_type": "code",
   "execution_count": 22,
   "metadata": {
    "scrolled": true
   },
   "outputs": [
    {
     "name": "stderr",
     "output_type": "stream",
     "text": [
      "C:\\Users\\Arjun Achuthan\\anaconda3\\lib\\site-packages\\seaborn\\_decorators.py:36: FutureWarning: Pass the following variables as keyword args: x, y. From version 0.12, the only valid positional argument will be `data`, and passing other arguments without an explicit keyword will result in an error or misinterpretation.\n",
      "  warnings.warn(\n"
     ]
    },
    {
     "data": {
      "text/plain": [
       "<matplotlib.legend.Legend at 0x21c54406d90>"
      ]
     },
     "execution_count": 22,
     "metadata": {},
     "output_type": "execute_result"
    },
    {
     "data": {
      "image/png": "[encoded data removed]",
      "text/plain": [
       "<Figure size 432x288 with 1 Axes>"
      ]
     },
     "metadata": {
      "needs_background": "light"
     },
     "output_type": "display_data"
    }
   ],
   "source": [
    "rfm_method1 = rfm_normalized.copy()#pd.DataFrame(scaler.inverse_transform(rfm_normalized))\n",
    "#rfm_plot2.columns = rfm_df[['Recency', 'Frequency', 'Monetary']].columns\n",
    "rfm_method1['Index_a'] = rfm_df.index\n",
    "rfm_method1['cluster'] = kmeans.labels_\n",
    "\n",
    "melted_rfm_normalized = pd.melt(rfm_method1.reset_index(), id_vars=['Index_a','cluster'],\n",
    "                                value_vars = ['Recency', 'Frequency', 'Monetary'],\n",
    "                                var_name = 'Features', value_name = 'Value')\n",
    "\n",
    "sns.lineplot('Features', 'Value', hue = 'cluster', data = melted_rfm_normalized)\n",
    "plt.legend()"
   ]
  },
  {
   "cell_type": "code",
   "execution_count": 24,
   "metadata": {},
   "outputs": [
    {
     "data": {
      "text/html": [
       "<div>\n",
       "<style scoped>\n",
       "    .dataframe tbody tr th:only-of-type {\n",
       "        vertical-align: middle;\n",
       "    }\n",
       "\n",
       "    .dataframe tbody tr th {\n",
       "        vertical-align: top;\n",
       "    }\n",
       "\n",
       "    .dataframe thead th {\n",
       "        text-align: right;\n",
       "    }\n",
       "</style>\n",
       "<table border=\"1\" class=\"dataframe\">\n",
       "  <thead>\n",
       "    <tr style=\"text-align: right;\">\n",
       "      <th></th>\n",
       "      <th>customer_id</th>\n",
       "      <th>Recency</th>\n",
       "      <th>Frequency</th>\n",
       "      <th>Monetary</th>\n",
       "      <th>rfm_cluster</th>\n",
       "    </tr>\n",
       "  </thead>\n",
       "  <tbody>\n",
       "    <tr>\n",
       "      <th>7887</th>\n",
       "      <td>79d9d4f86aca4bed9290350fb43817c2</td>\n",
       "      <td>0</td>\n",
       "      <td>36</td>\n",
       "      <td>173.41</td>\n",
       "      <td>1</td>\n",
       "    </tr>\n",
       "    <tr>\n",
       "      <th>9702</th>\n",
       "      <td>94de646f7b6041228ca7dec82adb97d2</td>\n",
       "      <td>0</td>\n",
       "      <td>35</td>\n",
       "      <td>90.23</td>\n",
       "      <td>0</td>\n",
       "    </tr>\n",
       "    <tr>\n",
       "      <th>10740</th>\n",
       "      <td>a42ed50acc4d4b25bca647c9e0b916ad</td>\n",
       "      <td>0</td>\n",
       "      <td>31</td>\n",
       "      <td>461.09</td>\n",
       "      <td>1</td>\n",
       "    </tr>\n",
       "    <tr>\n",
       "      <th>11192</th>\n",
       "      <td>ab25fd6fbd5040f880751921e4029757</td>\n",
       "      <td>0</td>\n",
       "      <td>30</td>\n",
       "      <td>717.21</td>\n",
       "      <td>0</td>\n",
       "    </tr>\n",
       "    <tr>\n",
       "      <th>13558</th>\n",
       "      <td>d0a80415b84c4df4908b8403b19765e3</td>\n",
       "      <td>0</td>\n",
       "      <td>30</td>\n",
       "      <td>260.69</td>\n",
       "      <td>0</td>\n",
       "    </tr>\n",
       "    <tr>\n",
       "      <th>...</th>\n",
       "      <td>...</td>\n",
       "      <td>...</td>\n",
       "      <td>...</td>\n",
       "      <td>...</td>\n",
       "      <td>...</td>\n",
       "    </tr>\n",
       "    <tr>\n",
       "      <th>6978</th>\n",
       "      <td>6ba58d2b211847d999213ea0b56b7f6a</td>\n",
       "      <td>26</td>\n",
       "      <td>1</td>\n",
       "      <td>25.07</td>\n",
       "      <td>0</td>\n",
       "    </tr>\n",
       "    <tr>\n",
       "      <th>14675</th>\n",
       "      <td>e20a018d829b41e5a01e46d71a6dd009</td>\n",
       "      <td>27</td>\n",
       "      <td>3</td>\n",
       "      <td>52.66</td>\n",
       "      <td>2</td>\n",
       "    </tr>\n",
       "    <tr>\n",
       "      <th>5957</th>\n",
       "      <td>5bf1841520a24a789b8addd9b383dad1</td>\n",
       "      <td>27</td>\n",
       "      <td>1</td>\n",
       "      <td>17.69</td>\n",
       "      <td>1</td>\n",
       "    </tr>\n",
       "    <tr>\n",
       "      <th>16227</th>\n",
       "      <td>fa6335ecdd5744dfbf4cbdfcae5414fd</td>\n",
       "      <td>27</td>\n",
       "      <td>1</td>\n",
       "      <td>15.45</td>\n",
       "      <td>2</td>\n",
       "    </tr>\n",
       "    <tr>\n",
       "      <th>7764</th>\n",
       "      <td>77caa79f70754278b0b1fdd68e7796b9</td>\n",
       "      <td>29</td>\n",
       "      <td>1</td>\n",
       "      <td>18.78</td>\n",
       "      <td>0</td>\n",
       "    </tr>\n",
       "  </tbody>\n",
       "</table>\n",
       "<p>16578 rows × 5 columns</p>\n",
       "</div>"
      ],
      "text/plain": [
       "                            customer_id  Recency  Frequency  Monetary  \\\n",
       "7887   79d9d4f86aca4bed9290350fb43817c2        0         36    173.41   \n",
       "9702   94de646f7b6041228ca7dec82adb97d2        0         35     90.23   \n",
       "10740  a42ed50acc4d4b25bca647c9e0b916ad        0         31    461.09   \n",
       "11192  ab25fd6fbd5040f880751921e4029757        0         30    717.21   \n",
       "13558  d0a80415b84c4df4908b8403b19765e3        0         30    260.69   \n",
       "...                                 ...      ...        ...       ...   \n",
       "6978   6ba58d2b211847d999213ea0b56b7f6a       26          1     25.07   \n",
       "14675  e20a018d829b41e5a01e46d71a6dd009       27          3     52.66   \n",
       "5957   5bf1841520a24a789b8addd9b383dad1       27          1     17.69   \n",
       "16227  fa6335ecdd5744dfbf4cbdfcae5414fd       27          1     15.45   \n",
       "7764   77caa79f70754278b0b1fdd68e7796b9       29          1     18.78   \n",
       "\n",
       "       rfm_cluster  \n",
       "7887             1  \n",
       "9702             0  \n",
       "10740            1  \n",
       "11192            0  \n",
       "13558            0  \n",
       "...            ...  \n",
       "6978             0  \n",
       "14675            2  \n",
       "5957             1  \n",
       "16227            2  \n",
       "7764             0  \n",
       "\n",
       "[16578 rows x 5 columns]"
      ]
     },
     "execution_count": 24,
     "metadata": {},
     "output_type": "execute_result"
    }
   ],
   "source": [
    "rfm_df_method1 = rfm_df.copy()\n",
    "\n",
    "rfm_df_method1['rfm_cluster']= rfm_method1['cluster'].copy()\n",
    "rfm_df_method1"
   ]
  },
  {
   "cell_type": "code",
   "execution_count": 25,
   "metadata": {},
   "outputs": [
    {
     "data": {
      "text/html": [
       "<div>\n",
       "<style scoped>\n",
       "    .dataframe tbody tr th:only-of-type {\n",
       "        vertical-align: middle;\n",
       "    }\n",
       "\n",
       "    .dataframe tbody tr th {\n",
       "        vertical-align: top;\n",
       "    }\n",
       "\n",
       "    .dataframe thead tr th {\n",
       "        text-align: left;\n",
       "    }\n",
       "\n",
       "    .dataframe thead tr:last-of-type th {\n",
       "        text-align: right;\n",
       "    }\n",
       "</style>\n",
       "<table border=\"1\" class=\"dataframe\">\n",
       "  <thead>\n",
       "    <tr>\n",
       "      <th></th>\n",
       "      <th colspan=\"5\" halign=\"left\">Recency</th>\n",
       "      <th colspan=\"5\" halign=\"left\">Frequency</th>\n",
       "      <th colspan=\"5\" halign=\"left\">Monetary</th>\n",
       "    </tr>\n",
       "    <tr>\n",
       "      <th></th>\n",
       "      <th>count</th>\n",
       "      <th>mean</th>\n",
       "      <th>median</th>\n",
       "      <th>min</th>\n",
       "      <th>max</th>\n",
       "      <th>count</th>\n",
       "      <th>mean</th>\n",
       "      <th>median</th>\n",
       "      <th>min</th>\n",
       "      <th>max</th>\n",
       "      <th>count</th>\n",
       "      <th>mean</th>\n",
       "      <th>median</th>\n",
       "      <th>min</th>\n",
       "      <th>max</th>\n",
       "    </tr>\n",
       "    <tr>\n",
       "      <th>rfm_cluster</th>\n",
       "      <th></th>\n",
       "      <th></th>\n",
       "      <th></th>\n",
       "      <th></th>\n",
       "      <th></th>\n",
       "      <th></th>\n",
       "      <th></th>\n",
       "      <th></th>\n",
       "      <th></th>\n",
       "      <th></th>\n",
       "      <th></th>\n",
       "      <th></th>\n",
       "      <th></th>\n",
       "      <th></th>\n",
       "      <th></th>\n",
       "    </tr>\n",
       "  </thead>\n",
       "  <tbody>\n",
       "    <tr>\n",
       "      <th>0</th>\n",
       "      <td>5367</td>\n",
       "      <td>3.200671</td>\n",
       "      <td>2</td>\n",
       "      <td>0</td>\n",
       "      <td>29</td>\n",
       "      <td>5367</td>\n",
       "      <td>8.325694</td>\n",
       "      <td>7</td>\n",
       "      <td>1</td>\n",
       "      <td>36</td>\n",
       "      <td>5367</td>\n",
       "      <td>106.726844</td>\n",
       "      <td>72.110</td>\n",
       "      <td>0.05</td>\n",
       "      <td>1327.74</td>\n",
       "    </tr>\n",
       "    <tr>\n",
       "      <th>1</th>\n",
       "      <td>6308</td>\n",
       "      <td>3.235098</td>\n",
       "      <td>2</td>\n",
       "      <td>0</td>\n",
       "      <td>27</td>\n",
       "      <td>6308</td>\n",
       "      <td>8.381579</td>\n",
       "      <td>7</td>\n",
       "      <td>1</td>\n",
       "      <td>36</td>\n",
       "      <td>6308</td>\n",
       "      <td>106.098031</td>\n",
       "      <td>71.865</td>\n",
       "      <td>0.05</td>\n",
       "      <td>1321.42</td>\n",
       "    </tr>\n",
       "    <tr>\n",
       "      <th>2</th>\n",
       "      <td>2867</td>\n",
       "      <td>3.193931</td>\n",
       "      <td>2</td>\n",
       "      <td>0</td>\n",
       "      <td>27</td>\n",
       "      <td>2867</td>\n",
       "      <td>8.493198</td>\n",
       "      <td>8</td>\n",
       "      <td>1</td>\n",
       "      <td>29</td>\n",
       "      <td>2867</td>\n",
       "      <td>110.575145</td>\n",
       "      <td>75.960</td>\n",
       "      <td>0.05</td>\n",
       "      <td>1365.66</td>\n",
       "    </tr>\n",
       "    <tr>\n",
       "      <th>3</th>\n",
       "      <td>2036</td>\n",
       "      <td>3.114440</td>\n",
       "      <td>2</td>\n",
       "      <td>0</td>\n",
       "      <td>22</td>\n",
       "      <td>2036</td>\n",
       "      <td>8.373281</td>\n",
       "      <td>7</td>\n",
       "      <td>1</td>\n",
       "      <td>29</td>\n",
       "      <td>2036</td>\n",
       "      <td>106.268998</td>\n",
       "      <td>71.015</td>\n",
       "      <td>0.10</td>\n",
       "      <td>1608.69</td>\n",
       "    </tr>\n",
       "  </tbody>\n",
       "</table>\n",
       "</div>"
      ],
      "text/plain": [
       "            Recency                          Frequency                       \\\n",
       "              count      mean median min max     count      mean median min   \n",
       "rfm_cluster                                                                   \n",
       "0              5367  3.200671      2   0  29      5367  8.325694      7   1   \n",
       "1              6308  3.235098      2   0  27      6308  8.381579      7   1   \n",
       "2              2867  3.193931      2   0  27      2867  8.493198      8   1   \n",
       "3              2036  3.114440      2   0  22      2036  8.373281      7   1   \n",
       "\n",
       "                Monetary                                     \n",
       "            max    count        mean  median   min      max  \n",
       "rfm_cluster                                                  \n",
       "0            36     5367  106.726844  72.110  0.05  1327.74  \n",
       "1            36     6308  106.098031  71.865  0.05  1321.42  \n",
       "2            29     2867  110.575145  75.960  0.05  1365.66  \n",
       "3            29     2036  106.268998  71.015  0.10  1608.69  "
      ]
     },
     "execution_count": 25,
     "metadata": {},
     "output_type": "execute_result"
    }
   ],
   "source": [
    "rfm_df_method1.groupby('rfm_cluster').agg({\n",
    "    'Recency': ['count','mean', 'median','min','max'],\n",
    "    'Frequency': ['count','mean', 'median','min', 'max'],\n",
    "    'Monetary': ['count','mean', 'median','min', 'max']\n",
    "})"
   ]
  },
  {
   "cell_type": "markdown",
   "metadata": {},
   "source": [
    "### Method 2: \n",
    "#### Using RFM ranking and then dividing the segments using K-means clustering of the ranked variabes. "
   ]
  },
  {
   "cell_type": "code",
   "execution_count": 26,
   "metadata": {},
   "outputs": [],
   "source": [
    "#Method 2:\n",
    "\n",
    "\n",
    "\n",
    "#Assign recency variables to four equal quartile groups\n",
    "r_labels = range(4,0,-1)\n",
    "r_groups = pd.qcut(rfm_df['Recency'], q=4, labels= r_labels)\n",
    "rfm_df['r_score'] = pd.DataFrame(r_groups)\n",
    "\n",
    "#Assign recency variables to four equal quartile groups\n",
    "f_labels = range(1,5)\n",
    "f_groups = pd.qcut(rfm_df['Frequency'], q=4, labels= f_labels)\n",
    "rfm_df['f_score'] = pd.DataFrame(f_groups)\n",
    "\n",
    "#Assign recency variables to four equal quartile groups\n",
    "m_labels = range(1,5)\n",
    "m_groups = pd.qcut(rfm_df['Monetary'], q=4, labels= m_labels)\n",
    "rfm_df['m_score'] = pd.DataFrame(m_groups)\n",
    "\n"
   ]
  },
  {
   "cell_type": "code",
   "execution_count": 27,
   "metadata": {},
   "outputs": [
    {
     "data": {
      "text/html": [
       "<div>\n",
       "<style scoped>\n",
       "    .dataframe tbody tr th:only-of-type {\n",
       "        vertical-align: middle;\n",
       "    }\n",
       "\n",
       "    .dataframe tbody tr th {\n",
       "        vertical-align: top;\n",
       "    }\n",
       "\n",
       "    .dataframe thead th {\n",
       "        text-align: right;\n",
       "    }\n",
       "</style>\n",
       "<table border=\"1\" class=\"dataframe\">\n",
       "  <thead>\n",
       "    <tr style=\"text-align: right;\">\n",
       "      <th></th>\n",
       "      <th>customer_id</th>\n",
       "      <th>Recency</th>\n",
       "      <th>Frequency</th>\n",
       "      <th>Monetary</th>\n",
       "      <th>r_score</th>\n",
       "      <th>f_score</th>\n",
       "      <th>m_score</th>\n",
       "    </tr>\n",
       "  </thead>\n",
       "  <tbody>\n",
       "    <tr>\n",
       "      <th>7887</th>\n",
       "      <td>79d9d4f86aca4bed9290350fb43817c2</td>\n",
       "      <td>0</td>\n",
       "      <td>36</td>\n",
       "      <td>173.41</td>\n",
       "      <td>4</td>\n",
       "      <td>4</td>\n",
       "      <td>4</td>\n",
       "    </tr>\n",
       "    <tr>\n",
       "      <th>9702</th>\n",
       "      <td>94de646f7b6041228ca7dec82adb97d2</td>\n",
       "      <td>0</td>\n",
       "      <td>35</td>\n",
       "      <td>90.23</td>\n",
       "      <td>4</td>\n",
       "      <td>4</td>\n",
       "      <td>3</td>\n",
       "    </tr>\n",
       "    <tr>\n",
       "      <th>10740</th>\n",
       "      <td>a42ed50acc4d4b25bca647c9e0b916ad</td>\n",
       "      <td>0</td>\n",
       "      <td>31</td>\n",
       "      <td>461.09</td>\n",
       "      <td>4</td>\n",
       "      <td>4</td>\n",
       "      <td>4</td>\n",
       "    </tr>\n",
       "    <tr>\n",
       "      <th>11192</th>\n",
       "      <td>ab25fd6fbd5040f880751921e4029757</td>\n",
       "      <td>0</td>\n",
       "      <td>30</td>\n",
       "      <td>717.21</td>\n",
       "      <td>4</td>\n",
       "      <td>4</td>\n",
       "      <td>4</td>\n",
       "    </tr>\n",
       "    <tr>\n",
       "      <th>13558</th>\n",
       "      <td>d0a80415b84c4df4908b8403b19765e3</td>\n",
       "      <td>0</td>\n",
       "      <td>30</td>\n",
       "      <td>260.69</td>\n",
       "      <td>4</td>\n",
       "      <td>4</td>\n",
       "      <td>4</td>\n",
       "    </tr>\n",
       "  </tbody>\n",
       "</table>\n",
       "</div>"
      ],
      "text/plain": [
       "                            customer_id  Recency  Frequency  Monetary  \\\n",
       "7887   79d9d4f86aca4bed9290350fb43817c2        0         36    173.41   \n",
       "9702   94de646f7b6041228ca7dec82adb97d2        0         35     90.23   \n",
       "10740  a42ed50acc4d4b25bca647c9e0b916ad        0         31    461.09   \n",
       "11192  ab25fd6fbd5040f880751921e4029757        0         30    717.21   \n",
       "13558  d0a80415b84c4df4908b8403b19765e3        0         30    260.69   \n",
       "\n",
       "       r_score  f_score  m_score  \n",
       "7887         4        4        4  \n",
       "9702         4        4        3  \n",
       "10740        4        4        4  \n",
       "11192        4        4        4  \n",
       "13558        4        4        4  "
      ]
     },
     "execution_count": 27,
     "metadata": {},
     "output_type": "execute_result"
    }
   ],
   "source": [
    "rfm_df.head()"
   ]
  },
  {
   "cell_type": "code",
   "execution_count": 28,
   "metadata": {},
   "outputs": [
    {
     "data": {
      "image/png": "[encoded data removed]",
      "text/plain": [
       "<Figure size 432x288 with 1 Axes>"
      ]
     },
     "metadata": {
      "needs_background": "light"
     },
     "output_type": "display_data"
    }
   ],
   "source": [
    "#Use elbow method to determine the optimum number of clusters needed for Method2\n",
    "wcss = []\n",
    "\n",
    "for i in range(1,11):\n",
    "    kmeans = KMeans(n_clusters = i,init = 'k-means++', random_state = 42)\n",
    "    kmeans.fit(rfm_df.iloc[:,4:7])\n",
    "    wcss.append(kmeans.inertia_)\n",
    "    \n",
    "sns.pointplot(x=list(range(1,11)), y=wcss)\n",
    "plt.title('The Elbow method')\n",
    "plt.xlabel('Number of clusters')\n",
    "plt.xlabel('WCSS')\n",
    "plt.show()"
   ]
  },
  {
   "cell_type": "code",
   "execution_count": 29,
   "metadata": {
    "scrolled": false
   },
   "outputs": [
    {
     "data": {
      "text/plain": [
       "<mpl_toolkits.mplot3d.art3d.Path3DCollection at 0x21c54254310>"
      ]
     },
     "execution_count": 29,
     "metadata": {},
     "output_type": "execute_result"
    },
    {
     "data": {
      "image/png": "[encoded data removed]",
      "text/plain": [
       "<Figure size 360x360 with 1 Axes>"
      ]
     },
     "metadata": {
      "needs_background": "light"
     },
     "output_type": "display_data"
    }
   ],
   "source": [
    "kmeans1 = KMeans(n_clusters = 4,init = 'k-means++', random_state = 42)\n",
    "kmeans1.fit(rfm_df.iloc[:,4:7])\n",
    "centers = kmeans1.cluster_centers_\n",
    "\n",
    "fig = plt.figure(figsize=[5,5])\n",
    "ax = fig.add_subplot(111,projection = '3d')\n",
    "ax.scatter(rfm_df['r_score'],rfm_df['f_score'],rfm_df['m_score'], \n",
    "           cmap = 'brg', c=kmeans1.predict(rfm_df.iloc[:,4:7]))\n",
    "\n",
    "ax.set_xlabel(\"Recency\")\n",
    "ax.set_ylabel(\"Frequency\")\n",
    "ax.set_zlabel(\"Monetary\")\n",
    "\n",
    "ax.scatter(centers[:,0], centers[:,1], c='black')"
   ]
  },
  {
   "cell_type": "code",
   "execution_count": 35,
   "metadata": {},
   "outputs": [],
   "source": [
    "rfm_method2 = rfm_df.iloc[:,4:7] #pd.DataFrame(scaler.inverse_transform(rfm_normalized))\n",
    "rfm_method2.columns = rfm_method2[['r_score', 'f_score', 'm_score']].columns\n",
    "rfm_method2['index_a'] = rfm_df.index\n",
    "rfm_method2['rfm_cluster'] = kmeans1.labels_"
   ]
  },
  {
   "cell_type": "code",
   "execution_count": 36,
   "metadata": {},
   "outputs": [
    {
     "name": "stderr",
     "output_type": "stream",
     "text": [
      "C:\\Users\\Arjun Achuthan\\anaconda3\\lib\\site-packages\\seaborn\\_decorators.py:36: FutureWarning: Pass the following variables as keyword args: x, y. From version 0.12, the only valid positional argument will be `data`, and passing other arguments without an explicit keyword will result in an error or misinterpretation.\n",
      "  warnings.warn(\n"
     ]
    },
    {
     "data": {
      "text/plain": [
       "<matplotlib.legend.Legend at 0x21c54130220>"
      ]
     },
     "execution_count": 36,
     "metadata": {},
     "output_type": "execute_result"
    },
    {
     "data": {
      "image/png": "[encoded data removed]",
      "text/plain": [
       "<Figure size 432x288 with 1 Axes>"
      ]
     },
     "metadata": {
      "needs_background": "light"
     },
     "output_type": "display_data"
    }
   ],
   "source": [
    "melted_rfm = pd.melt( rfm_method2, id_vars=['index_a','rfm_cluster'],\n",
    "                                value_vars = ['r_score', 'f_score', 'm_score'],\n",
    "                                var_name = 'Features', value_name = 'Value')\n",
    "\n",
    "sns.lineplot('Features', 'Value', hue = 'rfm_cluster', data = melted_rfm)\n",
    "plt.legend()"
   ]
  },
  {
   "cell_type": "markdown",
   "metadata": {},
   "source": [
    "0 - Low recency , Hight frequency and High monetary = High value wih high risk of leaving\n",
    "\n",
    "1 - High reency, low frequency and low monetary = New Customer\n",
    "\n",
    "2 - High recency , high frequency and high monetary = Best Customer\n",
    "\n",
    "3 - Low recency, low frequency and low monetary = Low value customer"
   ]
  },
  {
   "cell_type": "code",
   "execution_count": 37,
   "metadata": {},
   "outputs": [],
   "source": [
    "rfm_df['rfm_segment']= rfm_method2['rfm_cluster'].copy()\n",
    "rfm_df['rfm_cluster'] = rfm_method2['rfm_cluster'].copy()\n"
   ]
  },
  {
   "cell_type": "code",
   "execution_count": 38,
   "metadata": {},
   "outputs": [],
   "source": [
    "rfm_df['rfm_segment'] = rfm_df['rfm_segment'].replace([0,1,2,3], ['High value/High risk','New Customer',\n",
    "                                                                  'Best Customer','Low Value Customer'])\n"
   ]
  },
  {
   "cell_type": "code",
   "execution_count": 39,
   "metadata": {},
   "outputs": [
    {
     "data": {
      "text/html": [
       "<div>\n",
       "<style scoped>\n",
       "    .dataframe tbody tr th:only-of-type {\n",
       "        vertical-align: middle;\n",
       "    }\n",
       "\n",
       "    .dataframe tbody tr th {\n",
       "        vertical-align: top;\n",
       "    }\n",
       "\n",
       "    .dataframe thead tr th {\n",
       "        text-align: left;\n",
       "    }\n",
       "\n",
       "    .dataframe thead tr:last-of-type th {\n",
       "        text-align: right;\n",
       "    }\n",
       "</style>\n",
       "<table border=\"1\" class=\"dataframe\">\n",
       "  <thead>\n",
       "    <tr>\n",
       "      <th></th>\n",
       "      <th colspan=\"5\" halign=\"left\">Recency</th>\n",
       "      <th colspan=\"5\" halign=\"left\">Frequency</th>\n",
       "      <th colspan=\"5\" halign=\"left\">Monetary</th>\n",
       "    </tr>\n",
       "    <tr>\n",
       "      <th></th>\n",
       "      <th>count</th>\n",
       "      <th>mean</th>\n",
       "      <th>median</th>\n",
       "      <th>min</th>\n",
       "      <th>max</th>\n",
       "      <th>count</th>\n",
       "      <th>mean</th>\n",
       "      <th>median</th>\n",
       "      <th>min</th>\n",
       "      <th>max</th>\n",
       "      <th>count</th>\n",
       "      <th>mean</th>\n",
       "      <th>median</th>\n",
       "      <th>min</th>\n",
       "      <th>max</th>\n",
       "    </tr>\n",
       "    <tr>\n",
       "      <th>rfm_segment</th>\n",
       "      <th></th>\n",
       "      <th></th>\n",
       "      <th></th>\n",
       "      <th></th>\n",
       "      <th></th>\n",
       "      <th></th>\n",
       "      <th></th>\n",
       "      <th></th>\n",
       "      <th></th>\n",
       "      <th></th>\n",
       "      <th></th>\n",
       "      <th></th>\n",
       "      <th></th>\n",
       "      <th></th>\n",
       "      <th></th>\n",
       "    </tr>\n",
       "  </thead>\n",
       "  <tbody>\n",
       "    <tr>\n",
       "      <th>Best Customer</th>\n",
       "      <td>4871</td>\n",
       "      <td>0.814822</td>\n",
       "      <td>1</td>\n",
       "      <td>0</td>\n",
       "      <td>2</td>\n",
       "      <td>4871</td>\n",
       "      <td>13.282899</td>\n",
       "      <td>13</td>\n",
       "      <td>6</td>\n",
       "      <td>36</td>\n",
       "      <td>4871</td>\n",
       "      <td>175.729388</td>\n",
       "      <td>157.270</td>\n",
       "      <td>12.91</td>\n",
       "      <td>1608.69</td>\n",
       "    </tr>\n",
       "    <tr>\n",
       "      <th>High value/High risk</th>\n",
       "      <td>3243</td>\n",
       "      <td>4.637064</td>\n",
       "      <td>4</td>\n",
       "      <td>2</td>\n",
       "      <td>18</td>\n",
       "      <td>3243</td>\n",
       "      <td>10.134135</td>\n",
       "      <td>9</td>\n",
       "      <td>2</td>\n",
       "      <td>29</td>\n",
       "      <td>3243</td>\n",
       "      <td>166.951230</td>\n",
       "      <td>145.970</td>\n",
       "      <td>14.43</td>\n",
       "      <td>1327.74</td>\n",
       "    </tr>\n",
       "    <tr>\n",
       "      <th>Low Value Customer</th>\n",
       "      <td>4456</td>\n",
       "      <td>6.807899</td>\n",
       "      <td>6</td>\n",
       "      <td>3</td>\n",
       "      <td>29</td>\n",
       "      <td>4456</td>\n",
       "      <td>4.082361</td>\n",
       "      <td>4</td>\n",
       "      <td>1</td>\n",
       "      <td>11</td>\n",
       "      <td>4456</td>\n",
       "      <td>38.623153</td>\n",
       "      <td>21.425</td>\n",
       "      <td>0.05</td>\n",
       "      <td>150.63</td>\n",
       "    </tr>\n",
       "    <tr>\n",
       "      <th>New Customer</th>\n",
       "      <td>4008</td>\n",
       "      <td>0.933134</td>\n",
       "      <td>1</td>\n",
       "      <td>0</td>\n",
       "      <td>2</td>\n",
       "      <td>4008</td>\n",
       "      <td>5.787425</td>\n",
       "      <td>6</td>\n",
       "      <td>1</td>\n",
       "      <td>11</td>\n",
       "      <td>4008</td>\n",
       "      <td>51.383860</td>\n",
       "      <td>29.200</td>\n",
       "      <td>0.05</td>\n",
       "      <td>1153.11</td>\n",
       "    </tr>\n",
       "  </tbody>\n",
       "</table>\n",
       "</div>"
      ],
      "text/plain": [
       "                     Recency                          Frequency             \\\n",
       "                       count      mean median min max     count       mean   \n",
       "rfm_segment                                                                  \n",
       "Best Customer           4871  0.814822      1   0   2      4871  13.282899   \n",
       "High value/High risk    3243  4.637064      4   2  18      3243  10.134135   \n",
       "Low Value Customer      4456  6.807899      6   3  29      4456   4.082361   \n",
       "New Customer            4008  0.933134      1   0   2      4008   5.787425   \n",
       "\n",
       "                                    Monetary                              \\\n",
       "                     median min max    count        mean   median    min   \n",
       "rfm_segment                                                                \n",
       "Best Customer            13   6  36     4871  175.729388  157.270  12.91   \n",
       "High value/High risk      9   2  29     3243  166.951230  145.970  14.43   \n",
       "Low Value Customer        4   1  11     4456   38.623153   21.425   0.05   \n",
       "New Customer              6   1  11     4008   51.383860   29.200   0.05   \n",
       "\n",
       "                               \n",
       "                          max  \n",
       "rfm_segment                    \n",
       "Best Customer         1608.69  \n",
       "High value/High risk  1327.74  \n",
       "Low Value Customer     150.63  \n",
       "New Customer          1153.11  "
      ]
     },
     "execution_count": 39,
     "metadata": {},
     "output_type": "execute_result"
    }
   ],
   "source": [
    "rfm_df.groupby('rfm_segment').agg({\n",
    "    'Recency': ['count','mean', 'median','min','max'],\n",
    "    'Frequency': ['count','mean', 'median','min', 'max'],\n",
    "    'Monetary': ['count','mean', 'median','min', 'max']\n",
    "})"
   ]
  },
  {
   "cell_type": "code",
   "execution_count": 40,
   "metadata": {},
   "outputs": [],
   "source": [
    "rfm_df.to_csv(\"rfm.csv\")"
   ]
  },
  {
   "cell_type": "markdown",
   "metadata": {},
   "source": [
    "### Now lets analyze demographics of each clusters"
   ]
  },
  {
   "cell_type": "code",
   "execution_count": null,
   "metadata": {
    "scrolled": true
   },
   "outputs": [],
   "source": [
    "profile_analysis = pd.merge(profile_df, rfm_df, left_on='customer_id', right_on='customer_id', how='inner')"
   ]
  },
  {
   "cell_type": "code",
   "execution_count": null,
   "metadata": {},
   "outputs": [],
   "source": [
    "profile_analysis.head(4)"
   ]
  },
  {
   "cell_type": "code",
   "execution_count": null,
   "metadata": {},
   "outputs": [],
   "source": [
    "profile_analysis_c0 = profile_analysis[profile_analysis['rfm_cluster']==0]\n",
    "profile_analysis_c1 = profile_analysis[profile_analysis['rfm_cluster']==1]\n",
    "profile_analysis_c2 = profile_analysis[profile_analysis['rfm_cluster']==2]\n",
    "profile_analysis_c3 = profile_analysis[profile_analysis['rfm_cluster']==3]"
   ]
  },
  {
   "cell_type": "code",
   "execution_count": null,
   "metadata": {},
   "outputs": [],
   "source": [
    "color_p = [\"#2D2D2D\", \"#003f5c\" , \"#374c80\", \"#7a5195\",\"#bc5090\", \"#ef5675\",\"#ff764a\",\"#ffa600\"]"
   ]
  },
  {
   "cell_type": "code",
   "execution_count": null,
   "metadata": {},
   "outputs": [],
   "source": [
    "#Age groups per segment\n",
    "sns.set_palette(sns.color_palette('Dark2'))\n",
    "\n",
    "fig, axs = plt.subplots( nrows = 2,ncols=2, figsize=(20, 10))\n",
    "\n",
    "ax = sns.countplot(x='age_group',data=profile_analysis_c0,  ax= axs[0,0])\n",
    "ax.set(title = 'High value/High risk')\n",
    "\n",
    "\n",
    "ax = sns.countplot(x='age_group',data=profile_analysis_c1,  ax= axs[0,1])\n",
    "ax.set( title = 'New Customer')\n",
    "\n",
    "ax = sns.countplot(x='age_group',data=profile_analysis_c2,  ax= axs[1,0])\n",
    "ax.set(title = 'Best Customer')\n",
    "\n",
    "ax = sns.countplot(x='age_group',data=profile_analysis_c3,  ax= axs[1,1])\n",
    "ax.set( title = 'Low Value Customer')\n"
   ]
  },
  {
   "cell_type": "code",
   "execution_count": null,
   "metadata": {},
   "outputs": [],
   "source": [
    "#Gender distribution per segment\n",
    "\n",
    "\n",
    "fig, axs = plt.subplots( nrows = 2,ncols=2, figsize=(25, 15))\n",
    "sns.set_palette(sns.color_palette(\"Dark2\"))\n",
    "\n",
    "ax = sns.countplot(x= profile_analysis_c0['gender'], order = \n",
    "                   profile_analysis_c0['gender'].value_counts().index , ax= axs[0,0])\n",
    "ax.set(title = 'High value/High risk')\n",
    "\n",
    "ax = sns.countplot(x= profile_analysis_c1['gender'], order = \n",
    "                   profile_analysis_c1['gender'].value_counts().index , ax= axs[0,1])\n",
    "ax.set( title = 'New Customer')\n",
    "\n",
    "ax = sns.countplot(x= profile_analysis_c2['gender'], order = \n",
    "                   profile_analysis_c2['gender'].value_counts().index , ax= axs[1,0])\n",
    "ax.set(title = 'Best Customer')\n",
    "\n",
    "ax = sns.countplot(x= profile_analysis_c3['gender'], order = \n",
    "                   profile_analysis_c3['gender'].value_counts().index , ax= axs[1,1])\n",
    "ax.set( title = 'Low Value Customer')\n"
   ]
  },
  {
   "cell_type": "code",
   "execution_count": null,
   "metadata": {},
   "outputs": [],
   "source": [
    "profile_analysis.groupby(['rfm_segment', 'gender']).size() / profile_analysis.groupby(['rfm_segment']).size()"
   ]
  },
  {
   "cell_type": "code",
   "execution_count": null,
   "metadata": {},
   "outputs": [],
   "source": [
    "#Income distribution by gender\n",
    "sns.set_palette(sns.color_palette('Set2'))\n",
    "plt.figure(figsize=[12,8])\n",
    "sal_hist = sns.boxplot(data = profile_analysis, x = 'rfm_segment', y = 'customer_income' ).set_title(\"Seegment wise Customer Income distribution\")\n",
    "plt.ylabel(\"Salary(USD)\")"
   ]
  },
  {
   "cell_type": "code",
   "execution_count": null,
   "metadata": {
    "scrolled": true
   },
   "outputs": [],
   "source": [
    "round(profile_analysis.groupby(['rfm_segment', 'gender'])['customer_income'].mean() )"
   ]
  },
  {
   "cell_type": "code",
   "execution_count": null,
   "metadata": {
    "scrolled": true
   },
   "outputs": [],
   "source": [
    "#Group the Membership year\n",
    "\n",
    "fig, axs = plt.subplots(nrows = 2, ncols=2, figsize=(20, 15))\n",
    "sns.set_palette(sns.color_palette('Set2'))\n",
    "\n",
    "ax = sns.countplot(x='membership_year',data=profile_analysis_c0, ax=axs[0,0]).set(title = 'High value/High risk')\n",
    "ax = sns.countplot(x='membership_year',data=profile_analysis_c1, ax=axs[0,1]).set(title = 'New Customer')\n",
    "ax = sns.countplot(x='membership_year',data=profile_analysis_c2, ax=axs[1,0]).set(title = 'Best Customer')\n",
    "ax = sns.countplot(x='membership_year',data=profile_analysis_c3, ax=axs[1,1]).set(title = 'Low Value Customer')"
   ]
  },
  {
   "cell_type": "markdown",
   "metadata": {},
   "source": [
    "### Offer analysis"
   ]
  },
  {
   "cell_type": "code",
   "execution_count": null,
   "metadata": {},
   "outputs": [],
   "source": [
    "offers, transactions = clean_transcript(transcript)"
   ]
  },
  {
   "cell_type": "code",
   "execution_count": null,
   "metadata": {},
   "outputs": [],
   "source": [
    "def offer_conversion(offers= offers):\n",
    "    \n",
    "\n",
    "    offer_stat = offers.groupby(['customer_id', 'offer_id']).agg({'received': 'sum' ,'viewed': 'sum' ,'completed': 'sum'})\n",
    "    offer_stat.reset_index(level=[0,1], inplace=True)\n",
    "\n",
    "    # Figure out if a offer was successful or not\n",
    "    offer_success_temp = offer_stat['completed'] * offer_stat['viewed']\n",
    "    offer_stat['offer_success'] = offer_success_temp.apply(lambda x: 1 if x > 0 else 0)\n",
    "    \n",
    "    offer_stat  = pd.merge(offer_stat, portfolio_df, left_on='offer_id', right_on='offer_id', how='inner')\n",
    "    \n",
    "    return offer_stat\n",
    "\n",
    "offer_stat= offer_conversion(offers)"
   ]
  },
  {
   "cell_type": "code",
   "execution_count": null,
   "metadata": {},
   "outputs": [],
   "source": [
    "offer_stat.head(6)"
   ]
  },
  {
   "cell_type": "code",
   "execution_count": null,
   "metadata": {
    "scrolled": true
   },
   "outputs": [],
   "source": [
    "offer_analysis = pd.merge(offer_stat, rfm_df, left_on='customer_id', right_on='customer_id', how='inner')\n",
    "offer_analysis.head(20)"
   ]
  },
  {
   "cell_type": "code",
   "execution_count": null,
   "metadata": {},
   "outputs": [],
   "source": [
    "#Acceptance rate per offer\n",
    "\n",
    "plt.figure(figsize=[10,5])\n",
    "sns.countplot(x= offer_analysis['rfm_segment'], hue = offer_analysis['offer_success'])\n",
    "\n",
    "plt.title('Success rate per segment', fontsize=19)"
   ]
  },
  {
   "cell_type": "markdown",
   "metadata": {},
   "source": [
    "Summary of the finding:\n",
    "\n",
    "\n",
    "#### Segment 1: High value/High risk customers.\n",
    "\n",
    "Frequent customers with heavy spending. But it has been considerabe time since their last transaction. \n",
    "\n",
    "* Most successful offers: offer_7, offer_6, offer_9\n",
    "* Lesser cuccessful offer: offer_1, offer_4, offer_2\n",
    "* Least successful offers: offer_5"
   ]
  },
  {
   "cell_type": "markdown",
   "metadata": {},
   "source": [
    "#### Segment 2: New Customer\n",
    "\n",
    "Rescent customers with lest spending and least frequency of shopping\n",
    "\n",
    "* Most successful offers: offer_7, offer_6\n",
    "* Lesser cuccessful offer: offer_4\n",
    "* Least successful offers: offer_5, offer_10, offer_1, offer_2"
   ]
  },
  {
   "cell_type": "code",
   "execution_count": null,
   "metadata": {},
   "outputs": [],
   "source": []
  },
  {
   "cell_type": "code",
   "execution_count": null,
   "metadata": {},
   "outputs": [],
   "source": []
  }
 ],
 "metadata": {
  "kernelspec": {
   "display_name": "Python 3",
   "language": "python",
   "name": "python3"
  },
  "language_info": {
   "codemirror_mode": {
    "name": "ipython",
    "version": 3
   },
   "file_extension": ".py",
   "mimetype": "text/x-python",
   "name": "python",
   "nbconvert_exporter": "python",
   "pygments_lexer": "ipython3",
   "version": "3.8.5"
  }
 },
 "nbformat": 4,
 "nbformat_minor": 2
}
