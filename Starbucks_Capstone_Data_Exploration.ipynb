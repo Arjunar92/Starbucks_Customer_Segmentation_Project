{
 "cells": [
  {
   "cell_type": "markdown",
   "metadata": {},
   "source": [
    "# Data Sets\n",
    "\n",
    "The data is contained in three files:\n",
    "\n",
    "* portfolio.json - containing offer ids and meta data about each offer (duration, type, etc.)\n",
    "* profile.json - demographic data for each customer\n",
    "* transcript.json - records for transactions, offers received, offers viewed, and offers completed\n",
    "\n",
    "Here is the schema and explanation of each variable in the files:\n",
    "\n",
    "**portfolio.json**\n",
    "* id (string) - offer id\n",
    "* offer_type (string) - type of offer ie BOGO, discount, informational\n",
    "* difficulty (int) - minimum required spend to complete an offer\n",
    "* reward (int) - reward given for completing an offer\n",
    "* duration (int) - time for offer to be open, in days\n",
    "* channels (list of strings)\n",
    "\n",
    "**profile.json**\n",
    "* age (int) - age of the customer \n",
    "* became_member_on (int) - date when customer created an app account\n",
    "* gender (str) - gender of the customer (note some entries contain 'O' for other rather than M or F)\n",
    "* id (str) - customer id\n",
    "* income (float) - customer's income\n",
    "\n",
    "**transcript.json**\n",
    "* event (str) - record description (ie transaction, offer received, offer viewed, etc.)\n",
    "* person (str) - customer id\n",
    "* time (int) - time in hours since start of test. The data begins at time t=0\n",
    "* value - (dict of strings) - either an offer id or transaction amount depending on the record\n"
   ]
  },
  {
   "cell_type": "markdown",
   "metadata": {},
   "source": [
    "### Importing Libraries"
   ]
  },
  {
   "cell_type": "code",
   "execution_count": 6,
   "metadata": {},
   "outputs": [],
   "source": [
    "import pandas as pd\n",
    "import numpy as np\n",
    "import math\n",
    "import json\n",
    "\n",
    "\n",
    "from sklearn.preprocessing import LabelBinarizer, MultiLabelBinarizer, MinMaxScaler\n",
    "import seaborn as sns #For Data visualization\n",
    "import matplotlib.pyplot as plt #Data plotting and visualization\n",
    "sns.set_palette(sns.color_palette('Set2'))\n",
    "import plotly.express as px\n",
    "%matplotlib inline\n",
    "\n",
    "\n",
    "from datetime import datetime\n",
    "from sklearn.preprocessing import LabelBinarizer, MultiLabelBinarizer\n",
    "from sklearn.cluster import KMeans"
   ]
  },
  {
   "cell_type": "code",
   "execution_count": null,
   "metadata": {},
   "outputs": [],
   "source": []
  },
  {
   "cell_type": "markdown",
   "metadata": {},
   "source": [
    "# Data Wrangling\n",
    "\n",
    "Steps in Data Wrangling:\n",
    "* Data Loading\n",
    "* Data Exploration\n",
    "* Data Structuring\n",
    "* Data Cleaning\n",
    "* Data Publishing"
   ]
  },
  {
   "cell_type": "markdown",
   "metadata": {},
   "source": [
    "## Data Loading"
   ]
  },
  {
   "cell_type": "code",
   "execution_count": 81,
   "metadata": {},
   "outputs": [],
   "source": [
    "# Importing the data from json file\n",
    "\n",
    "portfolio = pd.read_json('data/portfolio.json', orient='records', lines=True)\n",
    "\n",
    "profile = pd.read_json('data/profile.json', orient='records', lines=True)\n",
    "\n",
    "transcript = pd.read_json('data/transcript.json', orient='records', lines=True)"
   ]
  },
  {
   "cell_type": "markdown",
   "metadata": {},
   "source": [
    "## Data Exploration\n",
    "\n",
    "Prilimainary exploration of the raw data from the json file. "
   ]
  },
  {
   "cell_type": "markdown",
   "metadata": {},
   "source": [
    "### Portfolio Data\n",
    "\n",
    "\n",
    "**portfolio.json**\n",
    "* id (string) - offer id\n",
    "* offer_type (string) - type of offer ie BOGO, discount, informational\n",
    "* difficulty (int) - minimum required spend to complete an offer\n",
    "* reward (int) - reward given for completing an offer\n",
    "* duration (int) - time for offer to be open, in days\n",
    "* channels (list of strings)"
   ]
  },
  {
   "cell_type": "code",
   "execution_count": 84,
   "metadata": {},
   "outputs": [
    {
     "data": {
      "text/html": [
       "<div>\n",
       "<style scoped>\n",
       "    .dataframe tbody tr th:only-of-type {\n",
       "        vertical-align: middle;\n",
       "    }\n",
       "\n",
       "    .dataframe tbody tr th {\n",
       "        vertical-align: top;\n",
       "    }\n",
       "\n",
       "    .dataframe thead th {\n",
       "        text-align: right;\n",
       "    }\n",
       "</style>\n",
       "<table border=\"1\" class=\"dataframe\">\n",
       "  <thead>\n",
       "    <tr style=\"text-align: right;\">\n",
       "      <th></th>\n",
       "      <th>reward</th>\n",
       "      <th>channels</th>\n",
       "      <th>difficulty</th>\n",
       "      <th>duration</th>\n",
       "      <th>offer_type</th>\n",
       "      <th>id</th>\n",
       "    </tr>\n",
       "  </thead>\n",
       "  <tbody>\n",
       "    <tr>\n",
       "      <th>0</th>\n",
       "      <td>10</td>\n",
       "      <td>[email, mobile, social]</td>\n",
       "      <td>10</td>\n",
       "      <td>7</td>\n",
       "      <td>bogo</td>\n",
       "      <td>ae264e3637204a6fb9bb56bc8210ddfd</td>\n",
       "    </tr>\n",
       "    <tr>\n",
       "      <th>1</th>\n",
       "      <td>10</td>\n",
       "      <td>[web, email, mobile, social]</td>\n",
       "      <td>10</td>\n",
       "      <td>5</td>\n",
       "      <td>bogo</td>\n",
       "      <td>4d5c57ea9a6940dd891ad53e9dbe8da0</td>\n",
       "    </tr>\n",
       "    <tr>\n",
       "      <th>2</th>\n",
       "      <td>0</td>\n",
       "      <td>[web, email, mobile]</td>\n",
       "      <td>0</td>\n",
       "      <td>4</td>\n",
       "      <td>informational</td>\n",
       "      <td>3f207df678b143eea3cee63160fa8bed</td>\n",
       "    </tr>\n",
       "    <tr>\n",
       "      <th>3</th>\n",
       "      <td>5</td>\n",
       "      <td>[web, email, mobile]</td>\n",
       "      <td>5</td>\n",
       "      <td>7</td>\n",
       "      <td>bogo</td>\n",
       "      <td>9b98b8c7a33c4b65b9aebfe6a799e6d9</td>\n",
       "    </tr>\n",
       "    <tr>\n",
       "      <th>4</th>\n",
       "      <td>5</td>\n",
       "      <td>[web, email]</td>\n",
       "      <td>20</td>\n",
       "      <td>10</td>\n",
       "      <td>discount</td>\n",
       "      <td>0b1e1539f2cc45b7b9fa7c272da2e1d7</td>\n",
       "    </tr>\n",
       "    <tr>\n",
       "      <th>5</th>\n",
       "      <td>3</td>\n",
       "      <td>[web, email, mobile, social]</td>\n",
       "      <td>7</td>\n",
       "      <td>7</td>\n",
       "      <td>discount</td>\n",
       "      <td>2298d6c36e964ae4a3e7e9706d1fb8c2</td>\n",
       "    </tr>\n",
       "    <tr>\n",
       "      <th>6</th>\n",
       "      <td>2</td>\n",
       "      <td>[web, email, mobile, social]</td>\n",
       "      <td>10</td>\n",
       "      <td>10</td>\n",
       "      <td>discount</td>\n",
       "      <td>fafdcd668e3743c1bb461111dcafc2a4</td>\n",
       "    </tr>\n",
       "    <tr>\n",
       "      <th>7</th>\n",
       "      <td>0</td>\n",
       "      <td>[email, mobile, social]</td>\n",
       "      <td>0</td>\n",
       "      <td>3</td>\n",
       "      <td>informational</td>\n",
       "      <td>5a8bc65990b245e5a138643cd4eb9837</td>\n",
       "    </tr>\n",
       "    <tr>\n",
       "      <th>8</th>\n",
       "      <td>5</td>\n",
       "      <td>[web, email, mobile, social]</td>\n",
       "      <td>5</td>\n",
       "      <td>5</td>\n",
       "      <td>bogo</td>\n",
       "      <td>f19421c1d4aa40978ebb69ca19b0e20d</td>\n",
       "    </tr>\n",
       "    <tr>\n",
       "      <th>9</th>\n",
       "      <td>2</td>\n",
       "      <td>[web, email, mobile]</td>\n",
       "      <td>10</td>\n",
       "      <td>7</td>\n",
       "      <td>discount</td>\n",
       "      <td>2906b810c7d4411798c6938adc9daaa5</td>\n",
       "    </tr>\n",
       "  </tbody>\n",
       "</table>\n",
       "</div>"
      ],
      "text/plain": [
       "   reward                      channels  difficulty  duration     offer_type  \\\n",
       "0      10       [email, mobile, social]          10         7           bogo   \n",
       "1      10  [web, email, mobile, social]          10         5           bogo   \n",
       "2       0          [web, email, mobile]           0         4  informational   \n",
       "3       5          [web, email, mobile]           5         7           bogo   \n",
       "4       5                  [web, email]          20        10       discount   \n",
       "5       3  [web, email, mobile, social]           7         7       discount   \n",
       "6       2  [web, email, mobile, social]          10        10       discount   \n",
       "7       0       [email, mobile, social]           0         3  informational   \n",
       "8       5  [web, email, mobile, social]           5         5           bogo   \n",
       "9       2          [web, email, mobile]          10         7       discount   \n",
       "\n",
       "                                 id  \n",
       "0  ae264e3637204a6fb9bb56bc8210ddfd  \n",
       "1  4d5c57ea9a6940dd891ad53e9dbe8da0  \n",
       "2  3f207df678b143eea3cee63160fa8bed  \n",
       "3  9b98b8c7a33c4b65b9aebfe6a799e6d9  \n",
       "4  0b1e1539f2cc45b7b9fa7c272da2e1d7  \n",
       "5  2298d6c36e964ae4a3e7e9706d1fb8c2  \n",
       "6  fafdcd668e3743c1bb461111dcafc2a4  \n",
       "7  5a8bc65990b245e5a138643cd4eb9837  \n",
       "8  f19421c1d4aa40978ebb69ca19b0e20d  \n",
       "9  2906b810c7d4411798c6938adc9daaa5  "
      ]
     },
     "execution_count": 84,
     "metadata": {},
     "output_type": "execute_result"
    }
   ],
   "source": [
    "#Glimpse of Portfolio data\n",
    "portfolio"
   ]
  },
  {
   "cell_type": "code",
   "execution_count": 85,
   "metadata": {},
   "outputs": [
    {
     "name": "stdout",
     "output_type": "stream",
     "text": [
      "<class 'pandas.core.frame.DataFrame'>\n",
      "RangeIndex: 10 entries, 0 to 9\n",
      "Data columns (total 6 columns):\n",
      " #   Column      Non-Null Count  Dtype \n",
      "---  ------      --------------  ----- \n",
      " 0   reward      10 non-null     int64 \n",
      " 1   channels    10 non-null     object\n",
      " 2   difficulty  10 non-null     int64 \n",
      " 3   duration    10 non-null     int64 \n",
      " 4   offer_type  10 non-null     object\n",
      " 5   id          10 non-null     object\n",
      "dtypes: int64(3), object(3)\n",
      "memory usage: 608.0+ bytes\n"
     ]
    }
   ],
   "source": [
    "#Info of portfolio data\n",
    "portfolio.info()"
   ]
  },
  {
   "cell_type": "code",
   "execution_count": 87,
   "metadata": {},
   "outputs": [
    {
     "data": {
      "text/html": [
       "<div>\n",
       "<style scoped>\n",
       "    .dataframe tbody tr th:only-of-type {\n",
       "        vertical-align: middle;\n",
       "    }\n",
       "\n",
       "    .dataframe tbody tr th {\n",
       "        vertical-align: top;\n",
       "    }\n",
       "\n",
       "    .dataframe thead th {\n",
       "        text-align: right;\n",
       "    }\n",
       "</style>\n",
       "<table border=\"1\" class=\"dataframe\">\n",
       "  <thead>\n",
       "    <tr style=\"text-align: right;\">\n",
       "      <th></th>\n",
       "      <th>reward</th>\n",
       "      <th>difficulty</th>\n",
       "      <th>duration</th>\n",
       "    </tr>\n",
       "  </thead>\n",
       "  <tbody>\n",
       "    <tr>\n",
       "      <th>count</th>\n",
       "      <td>10.000000</td>\n",
       "      <td>10.000000</td>\n",
       "      <td>10.000000</td>\n",
       "    </tr>\n",
       "    <tr>\n",
       "      <th>mean</th>\n",
       "      <td>4.200000</td>\n",
       "      <td>7.700000</td>\n",
       "      <td>6.500000</td>\n",
       "    </tr>\n",
       "    <tr>\n",
       "      <th>std</th>\n",
       "      <td>3.583915</td>\n",
       "      <td>5.831905</td>\n",
       "      <td>2.321398</td>\n",
       "    </tr>\n",
       "    <tr>\n",
       "      <th>min</th>\n",
       "      <td>0.000000</td>\n",
       "      <td>0.000000</td>\n",
       "      <td>3.000000</td>\n",
       "    </tr>\n",
       "    <tr>\n",
       "      <th>25%</th>\n",
       "      <td>2.000000</td>\n",
       "      <td>5.000000</td>\n",
       "      <td>5.000000</td>\n",
       "    </tr>\n",
       "    <tr>\n",
       "      <th>50%</th>\n",
       "      <td>4.000000</td>\n",
       "      <td>8.500000</td>\n",
       "      <td>7.000000</td>\n",
       "    </tr>\n",
       "    <tr>\n",
       "      <th>75%</th>\n",
       "      <td>5.000000</td>\n",
       "      <td>10.000000</td>\n",
       "      <td>7.000000</td>\n",
       "    </tr>\n",
       "    <tr>\n",
       "      <th>max</th>\n",
       "      <td>10.000000</td>\n",
       "      <td>20.000000</td>\n",
       "      <td>10.000000</td>\n",
       "    </tr>\n",
       "  </tbody>\n",
       "</table>\n",
       "</div>"
      ],
      "text/plain": [
       "          reward  difficulty   duration\n",
       "count  10.000000   10.000000  10.000000\n",
       "mean    4.200000    7.700000   6.500000\n",
       "std     3.583915    5.831905   2.321398\n",
       "min     0.000000    0.000000   3.000000\n",
       "25%     2.000000    5.000000   5.000000\n",
       "50%     4.000000    8.500000   7.000000\n",
       "75%     5.000000   10.000000   7.000000\n",
       "max    10.000000   20.000000  10.000000"
      ]
     },
     "execution_count": 87,
     "metadata": {},
     "output_type": "execute_result"
    }
   ],
   "source": [
    "#Discription of Protfolio Data\n",
    "portfolio.describe()"
   ]
  },
  {
   "cell_type": "code",
   "execution_count": 100,
   "metadata": {
    "scrolled": true
   },
   "outputs": [
    {
     "name": "stdout",
     "output_type": "stream",
     "text": [
      "No of Duplicate values = 0\n",
      "\n",
      "\n",
      "No of Null values\n",
      "\n",
      " reward        0\n",
      "channels      0\n",
      "difficulty    0\n",
      "duration      0\n",
      "offer_type    0\n",
      "id            0\n",
      "dtype: int64\n"
     ]
    }
   ],
   "source": [
    "#Duplicat eand Null values check\n",
    "\n",
    "print('No of Duplicate values =',portfolio['id'].duplicated().sum())\n",
    "print('\\n')\n",
    "print('No of Null values\\n\\n', portfolio.isna().sum())"
   ]
  },
  {
   "cell_type": "code",
   "execution_count": null,
   "metadata": {},
   "outputs": [],
   "source": []
  },
  {
   "cell_type": "code",
   "execution_count": null,
   "metadata": {},
   "outputs": [],
   "source": [
    "## Profile Data"
   ]
  },
  {
   "cell_type": "markdown",
   "metadata": {},
   "source": [
    "### Profile Data\n",
    "\n",
    "**profile.json**\n",
    "* age (int) - age of the customer \n",
    "* became_member_on (int) - date when customer created an app account\n",
    "* gender (str) - gender of the customer (note some entries contain 'O' for other rather than M or F)\n",
    "* id (str) - customer id\n",
    "* income (float) - customer's income\n"
   ]
  },
  {
   "cell_type": "code",
   "execution_count": 103,
   "metadata": {},
   "outputs": [
    {
     "data": {
      "text/html": [
       "<div>\n",
       "<style scoped>\n",
       "    .dataframe tbody tr th:only-of-type {\n",
       "        vertical-align: middle;\n",
       "    }\n",
       "\n",
       "    .dataframe tbody tr th {\n",
       "        vertical-align: top;\n",
       "    }\n",
       "\n",
       "    .dataframe thead th {\n",
       "        text-align: right;\n",
       "    }\n",
       "</style>\n",
       "<table border=\"1\" class=\"dataframe\">\n",
       "  <thead>\n",
       "    <tr style=\"text-align: right;\">\n",
       "      <th></th>\n",
       "      <th>gender</th>\n",
       "      <th>age</th>\n",
       "      <th>id</th>\n",
       "      <th>became_member_on</th>\n",
       "      <th>income</th>\n",
       "    </tr>\n",
       "  </thead>\n",
       "  <tbody>\n",
       "    <tr>\n",
       "      <th>16523</th>\n",
       "      <td>F</td>\n",
       "      <td>50</td>\n",
       "      <td>5f102735c1ca4dffb40d7c34631d4ad5</td>\n",
       "      <td>20171030</td>\n",
       "      <td>105000.0</td>\n",
       "    </tr>\n",
       "    <tr>\n",
       "      <th>6307</th>\n",
       "      <td>None</td>\n",
       "      <td>118</td>\n",
       "      <td>d9952c05f5e045b5ae01147bf905bb51</td>\n",
       "      <td>20171004</td>\n",
       "      <td>NaN</td>\n",
       "    </tr>\n",
       "    <tr>\n",
       "      <th>2455</th>\n",
       "      <td>None</td>\n",
       "      <td>118</td>\n",
       "      <td>ccfd44eac85a466abbd7881b302b68ea</td>\n",
       "      <td>20160727</td>\n",
       "      <td>NaN</td>\n",
       "    </tr>\n",
       "    <tr>\n",
       "      <th>3139</th>\n",
       "      <td>None</td>\n",
       "      <td>118</td>\n",
       "      <td>676ee3fbf66b46078484ecaa99bc8d1a</td>\n",
       "      <td>20151122</td>\n",
       "      <td>NaN</td>\n",
       "    </tr>\n",
       "    <tr>\n",
       "      <th>9175</th>\n",
       "      <td>M</td>\n",
       "      <td>57</td>\n",
       "      <td>c7465dc15a4249acbd6a7bc688896e4b</td>\n",
       "      <td>20151205</td>\n",
       "      <td>73000.0</td>\n",
       "    </tr>\n",
       "    <tr>\n",
       "      <th>6978</th>\n",
       "      <td>F</td>\n",
       "      <td>44</td>\n",
       "      <td>8ce65a3b2b79468980312b5a61b77e29</td>\n",
       "      <td>20180329</td>\n",
       "      <td>83000.0</td>\n",
       "    </tr>\n",
       "    <tr>\n",
       "      <th>16730</th>\n",
       "      <td>M</td>\n",
       "      <td>73</td>\n",
       "      <td>857ae53b4f1f4461b2001ed57673f984</td>\n",
       "      <td>20171024</td>\n",
       "      <td>33000.0</td>\n",
       "    </tr>\n",
       "    <tr>\n",
       "      <th>9205</th>\n",
       "      <td>None</td>\n",
       "      <td>118</td>\n",
       "      <td>092e0c1da23a48f3bc18627d390e83d5</td>\n",
       "      <td>20161222</td>\n",
       "      <td>NaN</td>\n",
       "    </tr>\n",
       "    <tr>\n",
       "      <th>15621</th>\n",
       "      <td>None</td>\n",
       "      <td>118</td>\n",
       "      <td>34302ff0fcf8450eb335db6e878080db</td>\n",
       "      <td>20160427</td>\n",
       "      <td>NaN</td>\n",
       "    </tr>\n",
       "    <tr>\n",
       "      <th>14930</th>\n",
       "      <td>F</td>\n",
       "      <td>55</td>\n",
       "      <td>6e51792cc50a4df3be356d38cbe5d692</td>\n",
       "      <td>20151003</td>\n",
       "      <td>118000.0</td>\n",
       "    </tr>\n",
       "  </tbody>\n",
       "</table>\n",
       "</div>"
      ],
      "text/plain": [
       "      gender  age                                id  became_member_on  \\\n",
       "16523      F   50  5f102735c1ca4dffb40d7c34631d4ad5          20171030   \n",
       "6307    None  118  d9952c05f5e045b5ae01147bf905bb51          20171004   \n",
       "2455    None  118  ccfd44eac85a466abbd7881b302b68ea          20160727   \n",
       "3139    None  118  676ee3fbf66b46078484ecaa99bc8d1a          20151122   \n",
       "9175       M   57  c7465dc15a4249acbd6a7bc688896e4b          20151205   \n",
       "6978       F   44  8ce65a3b2b79468980312b5a61b77e29          20180329   \n",
       "16730      M   73  857ae53b4f1f4461b2001ed57673f984          20171024   \n",
       "9205    None  118  092e0c1da23a48f3bc18627d390e83d5          20161222   \n",
       "15621   None  118  34302ff0fcf8450eb335db6e878080db          20160427   \n",
       "14930      F   55  6e51792cc50a4df3be356d38cbe5d692          20151003   \n",
       "\n",
       "         income  \n",
       "16523  105000.0  \n",
       "6307        NaN  \n",
       "2455        NaN  \n",
       "3139        NaN  \n",
       "9175    73000.0  \n",
       "6978    83000.0  \n",
       "16730   33000.0  \n",
       "9205        NaN  \n",
       "15621       NaN  \n",
       "14930  118000.0  "
      ]
     },
     "execution_count": 103,
     "metadata": {},
     "output_type": "execute_result"
    }
   ],
   "source": [
    "#Glimpse of Profile data\n",
    "profile.sample(10)"
   ]
  },
  {
   "cell_type": "code",
   "execution_count": 105,
   "metadata": {},
   "outputs": [
    {
     "name": "stdout",
     "output_type": "stream",
     "text": [
      "<class 'pandas.core.frame.DataFrame'>\n",
      "RangeIndex: 17000 entries, 0 to 16999\n",
      "Data columns (total 5 columns):\n",
      " #   Column            Non-Null Count  Dtype  \n",
      "---  ------            --------------  -----  \n",
      " 0   gender            14825 non-null  object \n",
      " 1   age               17000 non-null  int64  \n",
      " 2   id                17000 non-null  object \n",
      " 3   became_member_on  17000 non-null  int64  \n",
      " 4   income            14825 non-null  float64\n",
      "dtypes: float64(1), int64(2), object(2)\n",
      "memory usage: 664.2+ KB\n"
     ]
    }
   ],
   "source": [
    "#Info of Profile data\n",
    "profile.info()"
   ]
  },
  {
   "cell_type": "code",
   "execution_count": 172,
   "metadata": {
    "scrolled": false
   },
   "outputs": [
    {
     "data": {
      "text/html": [
       "<div>\n",
       "<style scoped>\n",
       "    .dataframe tbody tr th:only-of-type {\n",
       "        vertical-align: middle;\n",
       "    }\n",
       "\n",
       "    .dataframe tbody tr th {\n",
       "        vertical-align: top;\n",
       "    }\n",
       "\n",
       "    .dataframe thead th {\n",
       "        text-align: right;\n",
       "    }\n",
       "</style>\n",
       "<table border=\"1\" class=\"dataframe\">\n",
       "  <thead>\n",
       "    <tr style=\"text-align: right;\">\n",
       "      <th></th>\n",
       "      <th>age</th>\n",
       "      <th>became_member_on</th>\n",
       "      <th>income</th>\n",
       "    </tr>\n",
       "  </thead>\n",
       "  <tbody>\n",
       "    <tr>\n",
       "      <th>count</th>\n",
       "      <td>17000.000000</td>\n",
       "      <td>1.700000e+04</td>\n",
       "      <td>14825.000000</td>\n",
       "    </tr>\n",
       "    <tr>\n",
       "      <th>mean</th>\n",
       "      <td>62.531412</td>\n",
       "      <td>2.016703e+07</td>\n",
       "      <td>65404.991568</td>\n",
       "    </tr>\n",
       "    <tr>\n",
       "      <th>std</th>\n",
       "      <td>26.738580</td>\n",
       "      <td>1.167750e+04</td>\n",
       "      <td>21598.299410</td>\n",
       "    </tr>\n",
       "    <tr>\n",
       "      <th>min</th>\n",
       "      <td>18.000000</td>\n",
       "      <td>2.013073e+07</td>\n",
       "      <td>30000.000000</td>\n",
       "    </tr>\n",
       "    <tr>\n",
       "      <th>25%</th>\n",
       "      <td>45.000000</td>\n",
       "      <td>2.016053e+07</td>\n",
       "      <td>49000.000000</td>\n",
       "    </tr>\n",
       "    <tr>\n",
       "      <th>50%</th>\n",
       "      <td>58.000000</td>\n",
       "      <td>2.017080e+07</td>\n",
       "      <td>64000.000000</td>\n",
       "    </tr>\n",
       "    <tr>\n",
       "      <th>75%</th>\n",
       "      <td>73.000000</td>\n",
       "      <td>2.017123e+07</td>\n",
       "      <td>80000.000000</td>\n",
       "    </tr>\n",
       "    <tr>\n",
       "      <th>max</th>\n",
       "      <td>118.000000</td>\n",
       "      <td>2.018073e+07</td>\n",
       "      <td>120000.000000</td>\n",
       "    </tr>\n",
       "  </tbody>\n",
       "</table>\n",
       "</div>"
      ],
      "text/plain": [
       "                age  became_member_on         income\n",
       "count  17000.000000      1.700000e+04   14825.000000\n",
       "mean      62.531412      2.016703e+07   65404.991568\n",
       "std       26.738580      1.167750e+04   21598.299410\n",
       "min       18.000000      2.013073e+07   30000.000000\n",
       "25%       45.000000      2.016053e+07   49000.000000\n",
       "50%       58.000000      2.017080e+07   64000.000000\n",
       "75%       73.000000      2.017123e+07   80000.000000\n",
       "max      118.000000      2.018073e+07  120000.000000"
      ]
     },
     "execution_count": 172,
     "metadata": {},
     "output_type": "execute_result"
    }
   ],
   "source": [
    "#Discription of Profile Data\n",
    "profile.describe()\n"
   ]
  },
  {
   "cell_type": "code",
   "execution_count": 174,
   "metadata": {},
   "outputs": [
    {
     "data": {
      "text/plain": [
       "<AxesSubplot:xlabel='age'>"
      ]
     },
     "execution_count": 174,
     "metadata": {},
     "output_type": "execute_result"
    },
    {
     "data": {
      "image/png": "[encoded data removed]",
      "text/plain": [
       "<Figure size 432x72 with 1 Axes>"
      ]
     },
     "metadata": {
      "needs_background": "light"
     },
     "output_type": "display_data"
    }
   ],
   "source": [
    "#Box plot for age distribution\n",
    "\n",
    "plt.figure(figsize=[6,1])\n",
    "sns.boxplot(data=profile, x='age')"
   ]
  },
  {
   "cell_type": "markdown",
   "metadata": {},
   "source": [
    "There seems to be few very haigh values for age(eg: 118 yrs). This is  likely to be an erronious data. "
   ]
  },
  {
   "cell_type": "code",
   "execution_count": 127,
   "metadata": {},
   "outputs": [
    {
     "name": "stdout",
     "output_type": "stream",
     "text": [
      "No of Duplicate values = 0\n",
      "\n",
      "\n",
      "No of Null values\n",
      "\n",
      " gender              2175\n",
      "age                    0\n",
      "id                     0\n",
      "became_member_on       0\n",
      "income              2175\n",
      "dtype: int64\n",
      "\n",
      "\n",
      "\n",
      "Percentage of missing data:  12.79 %\n"
     ]
    }
   ],
   "source": [
    "#Duplicate and Null values check\n",
    "\n",
    "\n",
    "print('No of Duplicate values =',profile['id'].duplicated().sum())\n",
    "print('\\n')\n",
    "print('No of Null values\\n\\n', profile.isna().sum())\n",
    "print('\\n')\n",
    "# Checking percentage of null values\n",
    "print('\\nPercentage of missing data: ', round((profile.gender.isna().sum()*100 / profile.shape[0]),2),'%')\n"
   ]
  },
  {
   "cell_type": "code",
   "execution_count": 130,
   "metadata": {},
   "outputs": [
    {
     "data": {
      "text/plain": [
       "<AxesSubplot:>"
      ]
     },
     "execution_count": 130,
     "metadata": {},
     "output_type": "execute_result"
    },
    {
     "data": {
      "image/png": "[encoded data removed]",
      "text/plain": [
       "<Figure size 432x288 with 1 Axes>"
      ]
     },
     "metadata": {
      "needs_background": "light"
     },
     "output_type": "display_data"
    }
   ],
   "source": [
    "\n",
    "# Visualize Missing Data\n",
    "sns.heatmap(profile.isnull(), yticklabels = False, cbar = False, cmap=\"Blues\")\n"
   ]
  },
  {
   "cell_type": "markdown",
   "metadata": {},
   "source": [
    "### Transcript Data\n",
    "\n",
    "**transcript.json**\n",
    "\n",
    "* event (str) - record description (ie transaction, offer received, offer viewed, etc.)\n",
    "* person (str) - customer id\n",
    "* time (int) - time in hours since start of test. The data begins at time t=0\n",
    "* value - (dict of strings) - either an offer id or transaction amount depending on the record\n"
   ]
  },
  {
   "cell_type": "code",
   "execution_count": 132,
   "metadata": {},
   "outputs": [
    {
     "data": {
      "text/html": [
       "<div>\n",
       "<style scoped>\n",
       "    .dataframe tbody tr th:only-of-type {\n",
       "        vertical-align: middle;\n",
       "    }\n",
       "\n",
       "    .dataframe tbody tr th {\n",
       "        vertical-align: top;\n",
       "    }\n",
       "\n",
       "    .dataframe thead th {\n",
       "        text-align: right;\n",
       "    }\n",
       "</style>\n",
       "<table border=\"1\" class=\"dataframe\">\n",
       "  <thead>\n",
       "    <tr style=\"text-align: right;\">\n",
       "      <th></th>\n",
       "      <th>person</th>\n",
       "      <th>event</th>\n",
       "      <th>value</th>\n",
       "      <th>time</th>\n",
       "    </tr>\n",
       "  </thead>\n",
       "  <tbody>\n",
       "    <tr>\n",
       "      <th>95761</th>\n",
       "      <td>cf9c65efdfcd479dae3bb780f4b4ab49</td>\n",
       "      <td>transaction</td>\n",
       "      <td>{'amount': 2.62}</td>\n",
       "      <td>252</td>\n",
       "    </tr>\n",
       "    <tr>\n",
       "      <th>293111</th>\n",
       "      <td>d5d487cfdc5b456b84b7881ad5d3640b</td>\n",
       "      <td>offer completed</td>\n",
       "      <td>{'offer_id': '0b1e1539f2cc45b7b9fa7c272da2e1d7...</td>\n",
       "      <td>654</td>\n",
       "    </tr>\n",
       "    <tr>\n",
       "      <th>227884</th>\n",
       "      <td>8c410d84af08408fb41f953c93ffac27</td>\n",
       "      <td>offer completed</td>\n",
       "      <td>{'offer_id': 'fafdcd668e3743c1bb461111dcafc2a4...</td>\n",
       "      <td>528</td>\n",
       "    </tr>\n",
       "    <tr>\n",
       "      <th>169337</th>\n",
       "      <td>5ff23c5696454a21a6284d9ce9ae8234</td>\n",
       "      <td>offer completed</td>\n",
       "      <td>{'offer_id': '2298d6c36e964ae4a3e7e9706d1fb8c2...</td>\n",
       "      <td>414</td>\n",
       "    </tr>\n",
       "    <tr>\n",
       "      <th>57230</th>\n",
       "      <td>8109d451a16e4e2690383f084e575a57</td>\n",
       "      <td>offer received</td>\n",
       "      <td>{'offer id': '2298d6c36e964ae4a3e7e9706d1fb8c2'}</td>\n",
       "      <td>168</td>\n",
       "    </tr>\n",
       "    <tr>\n",
       "      <th>10400</th>\n",
       "      <td>2332714b1fb54741b3a7b27f259dc994</td>\n",
       "      <td>offer received</td>\n",
       "      <td>{'offer id': '4d5c57ea9a6940dd891ad53e9dbe8da0'}</td>\n",
       "      <td>0</td>\n",
       "    </tr>\n",
       "    <tr>\n",
       "      <th>190644</th>\n",
       "      <td>feed77a618d24d6dbd22913fc6601803</td>\n",
       "      <td>transaction</td>\n",
       "      <td>{'amount': 16.42}</td>\n",
       "      <td>462</td>\n",
       "    </tr>\n",
       "    <tr>\n",
       "      <th>252222</th>\n",
       "      <td>61734abecbcf4018a4003af9adffdb27</td>\n",
       "      <td>offer received</td>\n",
       "      <td>{'offer id': '0b1e1539f2cc45b7b9fa7c272da2e1d7'}</td>\n",
       "      <td>576</td>\n",
       "    </tr>\n",
       "    <tr>\n",
       "      <th>242351</th>\n",
       "      <td>cccc28cea9bf4b1f94bd032402c66438</td>\n",
       "      <td>transaction</td>\n",
       "      <td>{'amount': 6.46}</td>\n",
       "      <td>564</td>\n",
       "    </tr>\n",
       "    <tr>\n",
       "      <th>186539</th>\n",
       "      <td>83e65dfdda80471991a6f1fa12c76b19</td>\n",
       "      <td>offer viewed</td>\n",
       "      <td>{'offer id': '3f207df678b143eea3cee63160fa8bed'}</td>\n",
       "      <td>450</td>\n",
       "    </tr>\n",
       "  </tbody>\n",
       "</table>\n",
       "</div>"
      ],
      "text/plain": [
       "                                  person            event  \\\n",
       "95761   cf9c65efdfcd479dae3bb780f4b4ab49      transaction   \n",
       "293111  d5d487cfdc5b456b84b7881ad5d3640b  offer completed   \n",
       "227884  8c410d84af08408fb41f953c93ffac27  offer completed   \n",
       "169337  5ff23c5696454a21a6284d9ce9ae8234  offer completed   \n",
       "57230   8109d451a16e4e2690383f084e575a57   offer received   \n",
       "10400   2332714b1fb54741b3a7b27f259dc994   offer received   \n",
       "190644  feed77a618d24d6dbd22913fc6601803      transaction   \n",
       "252222  61734abecbcf4018a4003af9adffdb27   offer received   \n",
       "242351  cccc28cea9bf4b1f94bd032402c66438      transaction   \n",
       "186539  83e65dfdda80471991a6f1fa12c76b19     offer viewed   \n",
       "\n",
       "                                                    value  time  \n",
       "95761                                    {'amount': 2.62}   252  \n",
       "293111  {'offer_id': '0b1e1539f2cc45b7b9fa7c272da2e1d7...   654  \n",
       "227884  {'offer_id': 'fafdcd668e3743c1bb461111dcafc2a4...   528  \n",
       "169337  {'offer_id': '2298d6c36e964ae4a3e7e9706d1fb8c2...   414  \n",
       "57230    {'offer id': '2298d6c36e964ae4a3e7e9706d1fb8c2'}   168  \n",
       "10400    {'offer id': '4d5c57ea9a6940dd891ad53e9dbe8da0'}     0  \n",
       "190644                                  {'amount': 16.42}   462  \n",
       "252222   {'offer id': '0b1e1539f2cc45b7b9fa7c272da2e1d7'}   576  \n",
       "242351                                   {'amount': 6.46}   564  \n",
       "186539   {'offer id': '3f207df678b143eea3cee63160fa8bed'}   450  "
      ]
     },
     "execution_count": 132,
     "metadata": {},
     "output_type": "execute_result"
    }
   ],
   "source": [
    "#Glimpse of Profile data\n",
    "transcript.sample(10)"
   ]
  },
  {
   "cell_type": "code",
   "execution_count": 133,
   "metadata": {},
   "outputs": [
    {
     "name": "stdout",
     "output_type": "stream",
     "text": [
      "<class 'pandas.core.frame.DataFrame'>\n",
      "RangeIndex: 306534 entries, 0 to 306533\n",
      "Data columns (total 4 columns):\n",
      " #   Column  Non-Null Count   Dtype \n",
      "---  ------  --------------   ----- \n",
      " 0   person  306534 non-null  object\n",
      " 1   event   306534 non-null  object\n",
      " 2   value   306534 non-null  object\n",
      " 3   time    306534 non-null  int64 \n",
      "dtypes: int64(1), object(3)\n",
      "memory usage: 9.4+ MB\n"
     ]
    }
   ],
   "source": [
    "#Info of Profile data\n",
    "transcript.info()"
   ]
  },
  {
   "cell_type": "code",
   "execution_count": 134,
   "metadata": {},
   "outputs": [
    {
     "data": {
      "text/html": [
       "<div>\n",
       "<style scoped>\n",
       "    .dataframe tbody tr th:only-of-type {\n",
       "        vertical-align: middle;\n",
       "    }\n",
       "\n",
       "    .dataframe tbody tr th {\n",
       "        vertical-align: top;\n",
       "    }\n",
       "\n",
       "    .dataframe thead th {\n",
       "        text-align: right;\n",
       "    }\n",
       "</style>\n",
       "<table border=\"1\" class=\"dataframe\">\n",
       "  <thead>\n",
       "    <tr style=\"text-align: right;\">\n",
       "      <th></th>\n",
       "      <th>time</th>\n",
       "    </tr>\n",
       "  </thead>\n",
       "  <tbody>\n",
       "    <tr>\n",
       "      <th>count</th>\n",
       "      <td>306534.000000</td>\n",
       "    </tr>\n",
       "    <tr>\n",
       "      <th>mean</th>\n",
       "      <td>366.382940</td>\n",
       "    </tr>\n",
       "    <tr>\n",
       "      <th>std</th>\n",
       "      <td>200.326314</td>\n",
       "    </tr>\n",
       "    <tr>\n",
       "      <th>min</th>\n",
       "      <td>0.000000</td>\n",
       "    </tr>\n",
       "    <tr>\n",
       "      <th>25%</th>\n",
       "      <td>186.000000</td>\n",
       "    </tr>\n",
       "    <tr>\n",
       "      <th>50%</th>\n",
       "      <td>408.000000</td>\n",
       "    </tr>\n",
       "    <tr>\n",
       "      <th>75%</th>\n",
       "      <td>528.000000</td>\n",
       "    </tr>\n",
       "    <tr>\n",
       "      <th>max</th>\n",
       "      <td>714.000000</td>\n",
       "    </tr>\n",
       "  </tbody>\n",
       "</table>\n",
       "</div>"
      ],
      "text/plain": [
       "                time\n",
       "count  306534.000000\n",
       "mean      366.382940\n",
       "std       200.326314\n",
       "min         0.000000\n",
       "25%       186.000000\n",
       "50%       408.000000\n",
       "75%       528.000000\n",
       "max       714.000000"
      ]
     },
     "execution_count": 134,
     "metadata": {},
     "output_type": "execute_result"
    }
   ],
   "source": [
    "#Discription of Profile Data\n",
    "transcript.describe()"
   ]
  },
  {
   "cell_type": "code",
   "execution_count": 136,
   "metadata": {},
   "outputs": [
    {
     "name": "stdout",
     "output_type": "stream",
     "text": [
      "No of Null values\n",
      "\n",
      " person    0\n",
      "event     0\n",
      "value     0\n",
      "time      0\n",
      "dtype: int64\n",
      "\n",
      "\n"
     ]
    }
   ],
   "source": [
    "#Null values check\n",
    "\n",
    "print('No of Null values\\n\\n', transcript.isna().sum())\n",
    "print('\\n')\n",
    "\n"
   ]
  },
  {
   "cell_type": "markdown",
   "metadata": {},
   "source": [
    "## Data Structuring"
   ]
  },
  {
   "cell_type": "markdown",
   "metadata": {},
   "source": [
    "### Portfolio\n",
    "\n",
    "* 'Channels' colum is in the form of list.\n",
    "* Rename column name to make it consistant actoss all datasets.\n",
    "* Create a column offer_name, assign a recogonizable identifyer\n"
   ]
  },
  {
   "cell_type": "code",
   "execution_count": 137,
   "metadata": {},
   "outputs": [],
   "source": [
    "def rename_cols(df, new_col_names):\n",
    "    \"\"\"\n",
    "    INPUT\n",
    "    ----------\n",
    "    df: input dataframe for renaming columns\n",
    "    new_col_names: define new column name for each column\n",
    "    \n",
    "    OUTPUT\n",
    "    -------\n",
    "    df: output data frame with renamed column names\n",
    "       \n",
    "    \"\"\"\n",
    "\n",
    "    df= df.rename(columns = new_col_names)\n",
    "    return df"
   ]
  },
  {
   "cell_type": "code",
   "execution_count": 148,
   "metadata": {},
   "outputs": [],
   "source": [
    "def clean_portfolio(portfolio=portfolio):\n",
    "    '''\n",
    "    INPUT:\n",
    "    portfolio - (pandas dataframe), portfolio data\n",
    "    \n",
    "    OUTPUT:\n",
    "    portfolio - (pandas dataframe), cleaned portfolio data\n",
    "\n",
    "    \n",
    "    Description:\n",
    "    This function cleans the dat and provides a DatFrame with Offer ID and other data about the offer. \n",
    "    '''    \n",
    "    new_col_names_portfolio = {'difficulty':'offer_difficulty' , 'id':'offer_id', \n",
    "                 'duration':'offer_duration', 'reward': 'offer_reward'}\n",
    "    portfolio  = rename_cols(portfolio, new_col_names_portfolio )\n",
    "    \n",
    "    \n",
    "    #Create new column Offer name to assign a recogonizable identifyer for each of the 10 offers. \n",
    "    new_col = {'offer_name' : ['offer_1', 'offer_2','offer_3','offer_4',\n",
    "                              'offer_5','offer_6','offer_7','offer_8','offer_9','offer_10' ]}\n",
    "    portfolio['offer_name'] = pd.DataFrame(new_col)\n",
    "    \n",
    "    # One hot encode the 'offertype' column\n",
    "    #offertype = pd.get_dummies(portfolio['offer_type'])\n",
    "    \n",
    "    # One hot encode the 'channels' columns\n",
    "    mlb = MultiLabelBinarizer()\n",
    "    mlb_fit = mlb.fit(portfolio['channels'])\n",
    "    channels_df = pd.DataFrame(mlb_fit.transform(portfolio['channels']),columns=mlb_fit.classes_)\n",
    "    \n",
    "    #Drop the old 'channels'\n",
    "    portfolio = portfolio.drop(columns=['channels'])\n",
    "    \n",
    "    #Replace the 'offertype' and 'channels' columns\n",
    "    portfolio = pd.concat([portfolio, channels_df], axis=1)\n",
    "    \n",
    "    \n",
    "    #Reorder the columns order\n",
    "    #portfolio = portfolio[[ 'offer_id','offer_difficulty','offer_duration','offer_reward','bogo','discount',\n",
    "    #                        'informational','email','mobile','social','web']]\n",
    "\n",
    "    return portfolio"
   ]
  },
  {
   "cell_type": "code",
   "execution_count": 149,
   "metadata": {
    "scrolled": true
   },
   "outputs": [
    {
     "data": {
      "text/html": [
       "<div>\n",
       "<style scoped>\n",
       "    .dataframe tbody tr th:only-of-type {\n",
       "        vertical-align: middle;\n",
       "    }\n",
       "\n",
       "    .dataframe tbody tr th {\n",
       "        vertical-align: top;\n",
       "    }\n",
       "\n",
       "    .dataframe thead th {\n",
       "        text-align: right;\n",
       "    }\n",
       "</style>\n",
       "<table border=\"1\" class=\"dataframe\">\n",
       "  <thead>\n",
       "    <tr style=\"text-align: right;\">\n",
       "      <th></th>\n",
       "      <th>offer_reward</th>\n",
       "      <th>offer_difficulty</th>\n",
       "      <th>offer_duration</th>\n",
       "      <th>offer_type</th>\n",
       "      <th>offer_id</th>\n",
       "      <th>offer_name</th>\n",
       "      <th>email</th>\n",
       "      <th>mobile</th>\n",
       "      <th>social</th>\n",
       "      <th>web</th>\n",
       "    </tr>\n",
       "  </thead>\n",
       "  <tbody>\n",
       "    <tr>\n",
       "      <th>0</th>\n",
       "      <td>10</td>\n",
       "      <td>10</td>\n",
       "      <td>7</td>\n",
       "      <td>bogo</td>\n",
       "      <td>ae264e3637204a6fb9bb56bc8210ddfd</td>\n",
       "      <td>offer_1</td>\n",
       "      <td>1</td>\n",
       "      <td>1</td>\n",
       "      <td>1</td>\n",
       "      <td>0</td>\n",
       "    </tr>\n",
       "    <tr>\n",
       "      <th>1</th>\n",
       "      <td>10</td>\n",
       "      <td>10</td>\n",
       "      <td>5</td>\n",
       "      <td>bogo</td>\n",
       "      <td>4d5c57ea9a6940dd891ad53e9dbe8da0</td>\n",
       "      <td>offer_2</td>\n",
       "      <td>1</td>\n",
       "      <td>1</td>\n",
       "      <td>1</td>\n",
       "      <td>1</td>\n",
       "    </tr>\n",
       "    <tr>\n",
       "      <th>2</th>\n",
       "      <td>0</td>\n",
       "      <td>0</td>\n",
       "      <td>4</td>\n",
       "      <td>informational</td>\n",
       "      <td>3f207df678b143eea3cee63160fa8bed</td>\n",
       "      <td>offer_3</td>\n",
       "      <td>1</td>\n",
       "      <td>1</td>\n",
       "      <td>0</td>\n",
       "      <td>1</td>\n",
       "    </tr>\n",
       "    <tr>\n",
       "      <th>3</th>\n",
       "      <td>5</td>\n",
       "      <td>5</td>\n",
       "      <td>7</td>\n",
       "      <td>bogo</td>\n",
       "      <td>9b98b8c7a33c4b65b9aebfe6a799e6d9</td>\n",
       "      <td>offer_4</td>\n",
       "      <td>1</td>\n",
       "      <td>1</td>\n",
       "      <td>0</td>\n",
       "      <td>1</td>\n",
       "    </tr>\n",
       "    <tr>\n",
       "      <th>4</th>\n",
       "      <td>5</td>\n",
       "      <td>20</td>\n",
       "      <td>10</td>\n",
       "      <td>discount</td>\n",
       "      <td>0b1e1539f2cc45b7b9fa7c272da2e1d7</td>\n",
       "      <td>offer_5</td>\n",
       "      <td>1</td>\n",
       "      <td>0</td>\n",
       "      <td>0</td>\n",
       "      <td>1</td>\n",
       "    </tr>\n",
       "    <tr>\n",
       "      <th>5</th>\n",
       "      <td>3</td>\n",
       "      <td>7</td>\n",
       "      <td>7</td>\n",
       "      <td>discount</td>\n",
       "      <td>2298d6c36e964ae4a3e7e9706d1fb8c2</td>\n",
       "      <td>offer_6</td>\n",
       "      <td>1</td>\n",
       "      <td>1</td>\n",
       "      <td>1</td>\n",
       "      <td>1</td>\n",
       "    </tr>\n",
       "    <tr>\n",
       "      <th>6</th>\n",
       "      <td>2</td>\n",
       "      <td>10</td>\n",
       "      <td>10</td>\n",
       "      <td>discount</td>\n",
       "      <td>fafdcd668e3743c1bb461111dcafc2a4</td>\n",
       "      <td>offer_7</td>\n",
       "      <td>1</td>\n",
       "      <td>1</td>\n",
       "      <td>1</td>\n",
       "      <td>1</td>\n",
       "    </tr>\n",
       "    <tr>\n",
       "      <th>7</th>\n",
       "      <td>0</td>\n",
       "      <td>0</td>\n",
       "      <td>3</td>\n",
       "      <td>informational</td>\n",
       "      <td>5a8bc65990b245e5a138643cd4eb9837</td>\n",
       "      <td>offer_8</td>\n",
       "      <td>1</td>\n",
       "      <td>1</td>\n",
       "      <td>1</td>\n",
       "      <td>0</td>\n",
       "    </tr>\n",
       "    <tr>\n",
       "      <th>8</th>\n",
       "      <td>5</td>\n",
       "      <td>5</td>\n",
       "      <td>5</td>\n",
       "      <td>bogo</td>\n",
       "      <td>f19421c1d4aa40978ebb69ca19b0e20d</td>\n",
       "      <td>offer_9</td>\n",
       "      <td>1</td>\n",
       "      <td>1</td>\n",
       "      <td>1</td>\n",
       "      <td>1</td>\n",
       "    </tr>\n",
       "    <tr>\n",
       "      <th>9</th>\n",
       "      <td>2</td>\n",
       "      <td>10</td>\n",
       "      <td>7</td>\n",
       "      <td>discount</td>\n",
       "      <td>2906b810c7d4411798c6938adc9daaa5</td>\n",
       "      <td>offer_10</td>\n",
       "      <td>1</td>\n",
       "      <td>1</td>\n",
       "      <td>0</td>\n",
       "      <td>1</td>\n",
       "    </tr>\n",
       "  </tbody>\n",
       "</table>\n",
       "</div>"
      ],
      "text/plain": [
       "   offer_reward  offer_difficulty  offer_duration     offer_type  \\\n",
       "0            10                10               7           bogo   \n",
       "1            10                10               5           bogo   \n",
       "2             0                 0               4  informational   \n",
       "3             5                 5               7           bogo   \n",
       "4             5                20              10       discount   \n",
       "5             3                 7               7       discount   \n",
       "6             2                10              10       discount   \n",
       "7             0                 0               3  informational   \n",
       "8             5                 5               5           bogo   \n",
       "9             2                10               7       discount   \n",
       "\n",
       "                           offer_id offer_name  email  mobile  social  web  \n",
       "0  ae264e3637204a6fb9bb56bc8210ddfd    offer_1      1       1       1    0  \n",
       "1  4d5c57ea9a6940dd891ad53e9dbe8da0    offer_2      1       1       1    1  \n",
       "2  3f207df678b143eea3cee63160fa8bed    offer_3      1       1       0    1  \n",
       "3  9b98b8c7a33c4b65b9aebfe6a799e6d9    offer_4      1       1       0    1  \n",
       "4  0b1e1539f2cc45b7b9fa7c272da2e1d7    offer_5      1       0       0    1  \n",
       "5  2298d6c36e964ae4a3e7e9706d1fb8c2    offer_6      1       1       1    1  \n",
       "6  fafdcd668e3743c1bb461111dcafc2a4    offer_7      1       1       1    1  \n",
       "7  5a8bc65990b245e5a138643cd4eb9837    offer_8      1       1       1    0  \n",
       "8  f19421c1d4aa40978ebb69ca19b0e20d    offer_9      1       1       1    1  \n",
       "9  2906b810c7d4411798c6938adc9daaa5   offer_10      1       1       0    1  "
      ]
     },
     "execution_count": 149,
     "metadata": {},
     "output_type": "execute_result"
    }
   ],
   "source": [
    "#Checking the data\n",
    "\n",
    "\n",
    "portfolio_df = clean_portfolio(portfolio)\n",
    "#portfolio_df = portfolio_df[['offer_reward', 'channels', 'offer_difficulty', \n",
    "                             #'offer_duration', 'offer_type', 'offer_id', 'offer_name']]\n",
    "    \n",
    "portfolio_df"
   ]
  },
  {
   "cell_type": "code",
   "execution_count": null,
   "metadata": {},
   "outputs": [],
   "source": []
  },
  {
   "cell_type": "markdown",
   "metadata": {},
   "source": [
    "### Profile \n",
    "\n",
    "\n",
    "* Rename 'id', 'income' column.\n",
    "* Remove rows wth no 'income' data. \n",
    "* Encode 'gender' data. \n",
    "* Change datatype of 'became_member_on' column datatime.\n",
    "* Grouup the age into age ranges. \n",
    "* Encode the age ranges. \n"
   ]
  },
  {
   "cell_type": "code",
   "execution_count": null,
   "metadata": {},
   "outputs": [],
   "source": [
    "def clean_profile(profile = profile):\n",
    "\n",
    "        '''\n",
    "    INPUT:\n",
    "    profile - (pandas dataframe), profile data\n",
    "    \n",
    "    OUTPUT:\n",
    "    portfolio - (pandas dataframe), cleaned profile data\n",
    "\n",
    "    \n",
    "    Description:\n",
    "    This function cleans the data and provides a DatFrame with cleaned profile data. \n",
    "    '''    \n",
    "        \n",
    "    #rename profile columns\n",
    "    new_col_profile = {'id':'customer_id' , 'income':'customer_income'}\n",
    "    profile = rename_cols(profile, new_col_profile )\n",
    "    \n",
    "    #Removed those with no income data\n",
    "    profile = profile[profile['customer_income'].notnull()]\n",
    "    \n",
    "    \n",
    "    #Removed customer with unspecified Gender\n",
    "    #profile = profile[profile['gender'] != 'O']\n",
    "    profile = profile.reset_index(drop=True)\n",
    "    \n",
    "    binarizerobj = LabelBinarizer()\n",
    "    profile['gender'] = binarizerobj.fit_transform(profile['gender'])\n",
    "    \n",
    "    gender_integer_map = {}\n",
    "    for i in binarizerobj.classes_:\n",
    "        gender_integer_map[i] = binarizerobj.transform([i])[0,0]\n",
    "        \n",
    "        \n",
    "    \n",
    "    #Change datetype of bacame_member_on column\n",
    "    profile['became_member_on'] = pd.to_datetime(profile['became_member_on'], format = '%Y%m%d')   \n",
    "    #Encode the year values\n",
    "    profile['membership_year'] = profile['became_member_on'].apply(lambda elem: elem.year)\n",
    "    membership_year_df = pd.get_dummies(profile['membership_year'])\n",
    "    \n",
    "    \n",
    "    #Group the age ranges\n",
    "    labels = ['GenZ(18–25)', 'Millennias(26-43)', 'GenXers(44-56)',\n",
    "                            'Boomers(57-75)', 'Matures(76+)']\n",
    "    profile['age_group'] = pd.cut(profile['age'], bins=[18, 26, 44, 57, 76, 101] , \n",
    "                                  labels=labels, include_lowest=True)\n",
    "    \n",
    "    # Encode for Age ranges\n",
    "    agerange_df = pd.get_dummies(profile['age_group'])\n",
    "    \n",
    "    \n",
    "    # Appened all the encoded variables to the main dataframe\n",
    "    profile = pd.concat([profile,\n",
    "                         agerange_df,\n",
    "                         membership_year_df], axis=1)\n",
    "\n",
    "    \n",
    "    # Drop depcreated columns\n",
    "    '''profile = profile.drop(columns=['age',\n",
    "                                    'age_group',\n",
    "                                    'became_member_on',\n",
    "                                    'membership_year'])'''\n",
    "    return profile\n",
    "profile_df = clean_profile(profile)\n",
    "profile_df = profile_df[['gender','age', 'customer_id','became_member_on',\n",
    "            'customer_income','membership_year','age_group']]"
   ]
  },
  {
   "cell_type": "code",
   "execution_count": 156,
   "metadata": {},
   "outputs": [
    {
     "data": {
      "text/html": [
       "<div>\n",
       "<style scoped>\n",
       "    .dataframe tbody tr th:only-of-type {\n",
       "        vertical-align: middle;\n",
       "    }\n",
       "\n",
       "    .dataframe tbody tr th {\n",
       "        vertical-align: top;\n",
       "    }\n",
       "\n",
       "    .dataframe thead th {\n",
       "        text-align: right;\n",
       "    }\n",
       "</style>\n",
       "<table border=\"1\" class=\"dataframe\">\n",
       "  <thead>\n",
       "    <tr style=\"text-align: right;\">\n",
       "      <th></th>\n",
       "      <th>gender</th>\n",
       "      <th>age</th>\n",
       "      <th>customer_id</th>\n",
       "      <th>became_member_on</th>\n",
       "      <th>customer_income</th>\n",
       "      <th>membership_year</th>\n",
       "      <th>age_group</th>\n",
       "    </tr>\n",
       "  </thead>\n",
       "  <tbody>\n",
       "    <tr>\n",
       "      <th>6864</th>\n",
       "      <td>F</td>\n",
       "      <td>58</td>\n",
       "      <td>8d87b4721b494123b655374a403a75ed</td>\n",
       "      <td>2018-04-28</td>\n",
       "      <td>41000.0</td>\n",
       "      <td>2018</td>\n",
       "      <td>Boomers(57-75)</td>\n",
       "    </tr>\n",
       "    <tr>\n",
       "      <th>6854</th>\n",
       "      <td>M</td>\n",
       "      <td>49</td>\n",
       "      <td>1342d779e7594c899f9ce936e55790d7</td>\n",
       "      <td>2016-12-23</td>\n",
       "      <td>32000.0</td>\n",
       "      <td>2016</td>\n",
       "      <td>GenXers(44-56)</td>\n",
       "    </tr>\n",
       "    <tr>\n",
       "      <th>5899</th>\n",
       "      <td>M</td>\n",
       "      <td>26</td>\n",
       "      <td>a32052af10d14dceb5c818f6d712da3c</td>\n",
       "      <td>2016-11-24</td>\n",
       "      <td>74000.0</td>\n",
       "      <td>2016</td>\n",
       "      <td>GenZ(18–25)</td>\n",
       "    </tr>\n",
       "    <tr>\n",
       "      <th>6177</th>\n",
       "      <td>F</td>\n",
       "      <td>31</td>\n",
       "      <td>b4c4cb0440c4420baa94cfcffe6d7390</td>\n",
       "      <td>2018-05-08</td>\n",
       "      <td>45000.0</td>\n",
       "      <td>2018</td>\n",
       "      <td>Millennias(26-43)</td>\n",
       "    </tr>\n",
       "    <tr>\n",
       "      <th>13198</th>\n",
       "      <td>F</td>\n",
       "      <td>83</td>\n",
       "      <td>5956a3014010475fb534b5939fd1c0ff</td>\n",
       "      <td>2016-06-18</td>\n",
       "      <td>96000.0</td>\n",
       "      <td>2016</td>\n",
       "      <td>Matures(76+)</td>\n",
       "    </tr>\n",
       "  </tbody>\n",
       "</table>\n",
       "</div>"
      ],
      "text/plain": [
       "      gender  age                       customer_id became_member_on  \\\n",
       "6864       F   58  8d87b4721b494123b655374a403a75ed       2018-04-28   \n",
       "6854       M   49  1342d779e7594c899f9ce936e55790d7       2016-12-23   \n",
       "5899       M   26  a32052af10d14dceb5c818f6d712da3c       2016-11-24   \n",
       "6177       F   31  b4c4cb0440c4420baa94cfcffe6d7390       2018-05-08   \n",
       "13198      F   83  5956a3014010475fb534b5939fd1c0ff       2016-06-18   \n",
       "\n",
       "       customer_income  membership_year          age_group  \n",
       "6864           41000.0             2018     Boomers(57-75)  \n",
       "6854           32000.0             2016     GenXers(44-56)  \n",
       "5899           74000.0             2016        GenZ(18–25)  \n",
       "6177           45000.0             2018  Millennias(26-43)  \n",
       "13198          96000.0             2016       Matures(76+)  "
      ]
     },
     "execution_count": 156,
     "metadata": {},
     "output_type": "execute_result"
    }
   ],
   "source": [
    "profile_df.sample(5)"
   ]
  },
  {
   "cell_type": "markdown",
   "metadata": {},
   "source": [
    "### Transcript:\n",
    "\n",
    "\n",
    "* Rename 'person', 'offerid' columns. \n",
    "* Remove customer ids that are not in 'Profile' data. \n",
    "* Convert hours to days and rename the 'time' column to 'time_in_days'\n",
    "* Extract 'offer_id' and -amount' details from the 'value' column and store them in separate columns.\n",
    "* Create 2 data frames one with Transaction data and another with offer data."
   ]
  },
  {
   "cell_type": "code",
   "execution_count": 150,
   "metadata": {},
   "outputs": [],
   "source": [
    "def clean_transcript(transcript =transcript):\n",
    "    \n",
    "    # Rename Transcript columns\n",
    "    new_col_transcript = {'person': 'customer_id' , 'offerid' : 'offer_id' }\n",
    "    transcript = rename_cols(transcript, new_col_transcript)\n",
    "\n",
    "    \n",
    "    # Remove customer id's that are not in the customer profile DataFrame\n",
    "    select_data = transcript['customer_id'].isin(profile['id'])\n",
    "    transcript = transcript[select_data]\n",
    "    \n",
    "    # Convert from hours to days\n",
    "    transcript['time'] = transcript['time'] // 24   \n",
    "    \n",
    "    # Change'person' column name to 'customer_id'\n",
    "    transcript = transcript.rename(columns={'time': 'time_in_days'})\n",
    "    \n",
    "    transcript['offer_id'] =\\\n",
    "        transcript['value'].apply(lambda elem: list(elem.values())[0])\n",
    "    \n",
    "    #Create seperate Dataframes for Offers and Transactions\n",
    "    \n",
    "    #1.Create Dataframe for Transactions\n",
    "    transactions = transcript[transcript['event']=='transaction'].drop(['value'], axis =1)\n",
    "    transactions = transactions.rename(columns={'offer_id': 'amount'})\n",
    "    \n",
    "    \n",
    "    # One hot encode customer offer events\n",
    "    transcript = transcript[transcript['event'].isin(['offer received' , \n",
    "                                                      'offer completed', 'offer viewed' ])].drop(['value'], axis =1)\n",
    "    event_df = pd.get_dummies(transcript['event'])\n",
    "    \n",
    "    #2.Create Dataframe for offers\n",
    "\n",
    "    offers = pd.concat([transcript,event_df], axis =1)\n",
    "    offers  = offers.rename(columns={'offer completed': 'completed','offer received':'received' , 'offer viewed': 'viewed'})\n",
    "    #offers = offers[['offer_id','customer_id', 'time_in_days', 'completed',\n",
    "           #'received', 'viewed']]\n",
    "    \n",
    "    return offers,transactions \n",
    "offers_df,transactions_df  = clean_transcript(transcript)"
   ]
  },
  {
   "cell_type": "code",
   "execution_count": 159,
   "metadata": {},
   "outputs": [
    {
     "data": {
      "text/html": [
       "<div>\n",
       "<style scoped>\n",
       "    .dataframe tbody tr th:only-of-type {\n",
       "        vertical-align: middle;\n",
       "    }\n",
       "\n",
       "    .dataframe tbody tr th {\n",
       "        vertical-align: top;\n",
       "    }\n",
       "\n",
       "    .dataframe thead th {\n",
       "        text-align: right;\n",
       "    }\n",
       "</style>\n",
       "<table border=\"1\" class=\"dataframe\">\n",
       "  <thead>\n",
       "    <tr style=\"text-align: right;\">\n",
       "      <th></th>\n",
       "      <th>customer_id</th>\n",
       "      <th>event</th>\n",
       "      <th>time_in_days</th>\n",
       "      <th>offer_id</th>\n",
       "    </tr>\n",
       "  </thead>\n",
       "  <tbody>\n",
       "    <tr>\n",
       "      <th>207847</th>\n",
       "      <td>8feb7b4289bd4515a2ee2c9bd0aed75c</td>\n",
       "      <td>offer received</td>\n",
       "      <td>21</td>\n",
       "      <td>3f207df678b143eea3cee63160fa8bed</td>\n",
       "    </tr>\n",
       "    <tr>\n",
       "      <th>215605</th>\n",
       "      <td>47b014746315472f8127c2031441506e</td>\n",
       "      <td>offer viewed</td>\n",
       "      <td>21</td>\n",
       "      <td>4d5c57ea9a6940dd891ad53e9dbe8da0</td>\n",
       "    </tr>\n",
       "    <tr>\n",
       "      <th>8750</th>\n",
       "      <td>ee131d9539e44c4aa22d218213089281</td>\n",
       "      <td>offer received</td>\n",
       "      <td>0</td>\n",
       "      <td>2906b810c7d4411798c6938adc9daaa5</td>\n",
       "    </tr>\n",
       "    <tr>\n",
       "      <th>243932</th>\n",
       "      <td>44ee7090baf5466aa816d356fa832b73</td>\n",
       "      <td>offer completed</td>\n",
       "      <td>23</td>\n",
       "      <td>9b98b8c7a33c4b65b9aebfe6a799e6d9</td>\n",
       "    </tr>\n",
       "    <tr>\n",
       "      <th>184350</th>\n",
       "      <td>a118079090144aec9dd4ddb957a5ede5</td>\n",
       "      <td>offer completed</td>\n",
       "      <td>18</td>\n",
       "      <td>ae264e3637204a6fb9bb56bc8210ddfd</td>\n",
       "    </tr>\n",
       "  </tbody>\n",
       "</table>\n",
       "</div>"
      ],
      "text/plain": [
       "                             customer_id            event  time_in_days  \\\n",
       "207847  8feb7b4289bd4515a2ee2c9bd0aed75c   offer received            21   \n",
       "215605  47b014746315472f8127c2031441506e     offer viewed            21   \n",
       "8750    ee131d9539e44c4aa22d218213089281   offer received             0   \n",
       "243932  44ee7090baf5466aa816d356fa832b73  offer completed            23   \n",
       "184350  a118079090144aec9dd4ddb957a5ede5  offer completed            18   \n",
       "\n",
       "                                offer_id  \n",
       "207847  3f207df678b143eea3cee63160fa8bed  \n",
       "215605  4d5c57ea9a6940dd891ad53e9dbe8da0  \n",
       "8750    2906b810c7d4411798c6938adc9daaa5  \n",
       "243932  9b98b8c7a33c4b65b9aebfe6a799e6d9  \n",
       "184350  ae264e3637204a6fb9bb56bc8210ddfd  "
      ]
     },
     "execution_count": 159,
     "metadata": {},
     "output_type": "execute_result"
    }
   ],
   "source": [
    "offers_df.sample(5)"
   ]
  },
  {
   "cell_type": "code",
   "execution_count": 160,
   "metadata": {
    "scrolled": true
   },
   "outputs": [
    {
     "data": {
      "text/html": [
       "<div>\n",
       "<style scoped>\n",
       "    .dataframe tbody tr th:only-of-type {\n",
       "        vertical-align: middle;\n",
       "    }\n",
       "\n",
       "    .dataframe tbody tr th {\n",
       "        vertical-align: top;\n",
       "    }\n",
       "\n",
       "    .dataframe thead th {\n",
       "        text-align: right;\n",
       "    }\n",
       "</style>\n",
       "<table border=\"1\" class=\"dataframe\">\n",
       "  <thead>\n",
       "    <tr style=\"text-align: right;\">\n",
       "      <th></th>\n",
       "      <th>customer_id</th>\n",
       "      <th>event</th>\n",
       "      <th>time_in_days</th>\n",
       "      <th>amount</th>\n",
       "    </tr>\n",
       "  </thead>\n",
       "  <tbody>\n",
       "    <tr>\n",
       "      <th>195959</th>\n",
       "      <td>905c7b26eac2451b9b1f0ebc7be8b9fd</td>\n",
       "      <td>transaction</td>\n",
       "      <td>20</td>\n",
       "      <td>414.18</td>\n",
       "    </tr>\n",
       "    <tr>\n",
       "      <th>134998</th>\n",
       "      <td>ca1fbde7bf6a41a4a4ea9cea66a72e37</td>\n",
       "      <td>transaction</td>\n",
       "      <td>14</td>\n",
       "      <td>24.46</td>\n",
       "    </tr>\n",
       "    <tr>\n",
       "      <th>186681</th>\n",
       "      <td>0f6ff347c72c45ecb8a10010061419cb</td>\n",
       "      <td>transaction</td>\n",
       "      <td>18</td>\n",
       "      <td>3.1</td>\n",
       "    </tr>\n",
       "    <tr>\n",
       "      <th>302389</th>\n",
       "      <td>9b57b7bc4ea24fc1a3d2f4760a141941</td>\n",
       "      <td>transaction</td>\n",
       "      <td>29</td>\n",
       "      <td>1.3</td>\n",
       "    </tr>\n",
       "    <tr>\n",
       "      <th>226803</th>\n",
       "      <td>6cac9ac049e84da5a6172f82b92a00a7</td>\n",
       "      <td>transaction</td>\n",
       "      <td>21</td>\n",
       "      <td>26.88</td>\n",
       "    </tr>\n",
       "  </tbody>\n",
       "</table>\n",
       "</div>"
      ],
      "text/plain": [
       "                             customer_id        event  time_in_days  amount\n",
       "195959  905c7b26eac2451b9b1f0ebc7be8b9fd  transaction            20  414.18\n",
       "134998  ca1fbde7bf6a41a4a4ea9cea66a72e37  transaction            14   24.46\n",
       "186681  0f6ff347c72c45ecb8a10010061419cb  transaction            18     3.1\n",
       "302389  9b57b7bc4ea24fc1a3d2f4760a141941  transaction            29     1.3\n",
       "226803  6cac9ac049e84da5a6172f82b92a00a7  transaction            21   26.88"
      ]
     },
     "execution_count": 160,
     "metadata": {},
     "output_type": "execute_result"
    }
   ],
   "source": [
    "transactions_df.sample(5)"
   ]
  },
  {
   "cell_type": "code",
   "execution_count": null,
   "metadata": {},
   "outputs": [],
   "source": []
  },
  {
   "cell_type": "code",
   "execution_count": null,
   "metadata": {},
   "outputs": [],
   "source": []
  },
  {
   "cell_type": "code",
   "execution_count": null,
   "metadata": {},
   "outputs": [],
   "source": []
  },
  {
   "cell_type": "markdown",
   "metadata": {},
   "source": [
    "## Portfolio: Data Analysis"
   ]
  },
  {
   "cell_type": "code",
   "execution_count": 161,
   "metadata": {},
   "outputs": [
    {
     "data": {
      "text/html": [
       "<div>\n",
       "<style scoped>\n",
       "    .dataframe tbody tr th:only-of-type {\n",
       "        vertical-align: middle;\n",
       "    }\n",
       "\n",
       "    .dataframe tbody tr th {\n",
       "        vertical-align: top;\n",
       "    }\n",
       "\n",
       "    .dataframe thead th {\n",
       "        text-align: right;\n",
       "    }\n",
       "</style>\n",
       "<table border=\"1\" class=\"dataframe\">\n",
       "  <thead>\n",
       "    <tr style=\"text-align: right;\">\n",
       "      <th></th>\n",
       "      <th>offer_reward</th>\n",
       "      <th>offer_difficulty</th>\n",
       "      <th>offer_duration</th>\n",
       "      <th>offer_type</th>\n",
       "      <th>offer_id</th>\n",
       "      <th>offer_name</th>\n",
       "      <th>email</th>\n",
       "      <th>mobile</th>\n",
       "      <th>social</th>\n",
       "      <th>web</th>\n",
       "    </tr>\n",
       "  </thead>\n",
       "  <tbody>\n",
       "    <tr>\n",
       "      <th>0</th>\n",
       "      <td>10</td>\n",
       "      <td>10</td>\n",
       "      <td>7</td>\n",
       "      <td>bogo</td>\n",
       "      <td>ae264e3637204a6fb9bb56bc8210ddfd</td>\n",
       "      <td>offer_1</td>\n",
       "      <td>1</td>\n",
       "      <td>1</td>\n",
       "      <td>1</td>\n",
       "      <td>0</td>\n",
       "    </tr>\n",
       "    <tr>\n",
       "      <th>1</th>\n",
       "      <td>10</td>\n",
       "      <td>10</td>\n",
       "      <td>5</td>\n",
       "      <td>bogo</td>\n",
       "      <td>4d5c57ea9a6940dd891ad53e9dbe8da0</td>\n",
       "      <td>offer_2</td>\n",
       "      <td>1</td>\n",
       "      <td>1</td>\n",
       "      <td>1</td>\n",
       "      <td>1</td>\n",
       "    </tr>\n",
       "    <tr>\n",
       "      <th>2</th>\n",
       "      <td>0</td>\n",
       "      <td>0</td>\n",
       "      <td>4</td>\n",
       "      <td>informational</td>\n",
       "      <td>3f207df678b143eea3cee63160fa8bed</td>\n",
       "      <td>offer_3</td>\n",
       "      <td>1</td>\n",
       "      <td>1</td>\n",
       "      <td>0</td>\n",
       "      <td>1</td>\n",
       "    </tr>\n",
       "    <tr>\n",
       "      <th>3</th>\n",
       "      <td>5</td>\n",
       "      <td>5</td>\n",
       "      <td>7</td>\n",
       "      <td>bogo</td>\n",
       "      <td>9b98b8c7a33c4b65b9aebfe6a799e6d9</td>\n",
       "      <td>offer_4</td>\n",
       "      <td>1</td>\n",
       "      <td>1</td>\n",
       "      <td>0</td>\n",
       "      <td>1</td>\n",
       "    </tr>\n",
       "    <tr>\n",
       "      <th>4</th>\n",
       "      <td>5</td>\n",
       "      <td>20</td>\n",
       "      <td>10</td>\n",
       "      <td>discount</td>\n",
       "      <td>0b1e1539f2cc45b7b9fa7c272da2e1d7</td>\n",
       "      <td>offer_5</td>\n",
       "      <td>1</td>\n",
       "      <td>0</td>\n",
       "      <td>0</td>\n",
       "      <td>1</td>\n",
       "    </tr>\n",
       "    <tr>\n",
       "      <th>5</th>\n",
       "      <td>3</td>\n",
       "      <td>7</td>\n",
       "      <td>7</td>\n",
       "      <td>discount</td>\n",
       "      <td>2298d6c36e964ae4a3e7e9706d1fb8c2</td>\n",
       "      <td>offer_6</td>\n",
       "      <td>1</td>\n",
       "      <td>1</td>\n",
       "      <td>1</td>\n",
       "      <td>1</td>\n",
       "    </tr>\n",
       "    <tr>\n",
       "      <th>6</th>\n",
       "      <td>2</td>\n",
       "      <td>10</td>\n",
       "      <td>10</td>\n",
       "      <td>discount</td>\n",
       "      <td>fafdcd668e3743c1bb461111dcafc2a4</td>\n",
       "      <td>offer_7</td>\n",
       "      <td>1</td>\n",
       "      <td>1</td>\n",
       "      <td>1</td>\n",
       "      <td>1</td>\n",
       "    </tr>\n",
       "    <tr>\n",
       "      <th>7</th>\n",
       "      <td>0</td>\n",
       "      <td>0</td>\n",
       "      <td>3</td>\n",
       "      <td>informational</td>\n",
       "      <td>5a8bc65990b245e5a138643cd4eb9837</td>\n",
       "      <td>offer_8</td>\n",
       "      <td>1</td>\n",
       "      <td>1</td>\n",
       "      <td>1</td>\n",
       "      <td>0</td>\n",
       "    </tr>\n",
       "    <tr>\n",
       "      <th>8</th>\n",
       "      <td>5</td>\n",
       "      <td>5</td>\n",
       "      <td>5</td>\n",
       "      <td>bogo</td>\n",
       "      <td>f19421c1d4aa40978ebb69ca19b0e20d</td>\n",
       "      <td>offer_9</td>\n",
       "      <td>1</td>\n",
       "      <td>1</td>\n",
       "      <td>1</td>\n",
       "      <td>1</td>\n",
       "    </tr>\n",
       "    <tr>\n",
       "      <th>9</th>\n",
       "      <td>2</td>\n",
       "      <td>10</td>\n",
       "      <td>7</td>\n",
       "      <td>discount</td>\n",
       "      <td>2906b810c7d4411798c6938adc9daaa5</td>\n",
       "      <td>offer_10</td>\n",
       "      <td>1</td>\n",
       "      <td>1</td>\n",
       "      <td>0</td>\n",
       "      <td>1</td>\n",
       "    </tr>\n",
       "  </tbody>\n",
       "</table>\n",
       "</div>"
      ],
      "text/plain": [
       "   offer_reward  offer_difficulty  offer_duration     offer_type  \\\n",
       "0            10                10               7           bogo   \n",
       "1            10                10               5           bogo   \n",
       "2             0                 0               4  informational   \n",
       "3             5                 5               7           bogo   \n",
       "4             5                20              10       discount   \n",
       "5             3                 7               7       discount   \n",
       "6             2                10              10       discount   \n",
       "7             0                 0               3  informational   \n",
       "8             5                 5               5           bogo   \n",
       "9             2                10               7       discount   \n",
       "\n",
       "                           offer_id offer_name  email  mobile  social  web  \n",
       "0  ae264e3637204a6fb9bb56bc8210ddfd    offer_1      1       1       1    0  \n",
       "1  4d5c57ea9a6940dd891ad53e9dbe8da0    offer_2      1       1       1    1  \n",
       "2  3f207df678b143eea3cee63160fa8bed    offer_3      1       1       0    1  \n",
       "3  9b98b8c7a33c4b65b9aebfe6a799e6d9    offer_4      1       1       0    1  \n",
       "4  0b1e1539f2cc45b7b9fa7c272da2e1d7    offer_5      1       0       0    1  \n",
       "5  2298d6c36e964ae4a3e7e9706d1fb8c2    offer_6      1       1       1    1  \n",
       "6  fafdcd668e3743c1bb461111dcafc2a4    offer_7      1       1       1    1  \n",
       "7  5a8bc65990b245e5a138643cd4eb9837    offer_8      1       1       1    0  \n",
       "8  f19421c1d4aa40978ebb69ca19b0e20d    offer_9      1       1       1    1  \n",
       "9  2906b810c7d4411798c6938adc9daaa5   offer_10      1       1       0    1  "
      ]
     },
     "metadata": {},
     "output_type": "display_data"
    }
   ],
   "source": [
    "display(portfolio_df)"
   ]
  },
  {
   "cell_type": "code",
   "execution_count": 162,
   "metadata": {
    "scrolled": false
   },
   "outputs": [
    {
     "name": "stdout",
     "output_type": "stream",
     "text": [
      "<class 'pandas.core.frame.DataFrame'>\n",
      "RangeIndex: 10 entries, 0 to 9\n",
      "Data columns (total 10 columns):\n",
      " #   Column            Non-Null Count  Dtype \n",
      "---  ------            --------------  ----- \n",
      " 0   offer_reward      10 non-null     int64 \n",
      " 1   offer_difficulty  10 non-null     int64 \n",
      " 2   offer_duration    10 non-null     int64 \n",
      " 3   offer_type        10 non-null     object\n",
      " 4   offer_id          10 non-null     object\n",
      " 5   offer_name        10 non-null     object\n",
      " 6   email             10 non-null     int32 \n",
      " 7   mobile            10 non-null     int32 \n",
      " 8   social            10 non-null     int32 \n",
      " 9   web               10 non-null     int32 \n",
      "dtypes: int32(4), int64(3), object(3)\n",
      "memory usage: 768.0+ bytes\n"
     ]
    }
   ],
   "source": [
    "portfolio_df.info()"
   ]
  },
  {
   "cell_type": "code",
   "execution_count": 165,
   "metadata": {},
   "outputs": [
    {
     "data": {
      "text/plain": [
       "discount         4\n",
       "bogo             4\n",
       "informational    2\n",
       "Name: offer_type, dtype: int64"
      ]
     },
     "execution_count": 165,
     "metadata": {},
     "output_type": "execute_result"
    }
   ],
   "source": [
    "portfolio_df['offer_type'].value_counts()"
   ]
  },
  {
   "cell_type": "markdown",
   "metadata": {},
   "source": [
    "## Profile: Data Exploration"
   ]
  },
  {
   "cell_type": "code",
   "execution_count": 166,
   "metadata": {
    "scrolled": true
   },
   "outputs": [
    {
     "data": {
      "text/html": [
       "<div>\n",
       "<style scoped>\n",
       "    .dataframe tbody tr th:only-of-type {\n",
       "        vertical-align: middle;\n",
       "    }\n",
       "\n",
       "    .dataframe tbody tr th {\n",
       "        vertical-align: top;\n",
       "    }\n",
       "\n",
       "    .dataframe thead th {\n",
       "        text-align: right;\n",
       "    }\n",
       "</style>\n",
       "<table border=\"1\" class=\"dataframe\">\n",
       "  <thead>\n",
       "    <tr style=\"text-align: right;\">\n",
       "      <th></th>\n",
       "      <th>gender</th>\n",
       "      <th>age</th>\n",
       "      <th>customer_id</th>\n",
       "      <th>became_member_on</th>\n",
       "      <th>customer_income</th>\n",
       "      <th>membership_year</th>\n",
       "      <th>age_group</th>\n",
       "    </tr>\n",
       "  </thead>\n",
       "  <tbody>\n",
       "    <tr>\n",
       "      <th>0</th>\n",
       "      <td>F</td>\n",
       "      <td>55</td>\n",
       "      <td>0610b486422d4921ae7d2bf64640c50b</td>\n",
       "      <td>2017-07-15</td>\n",
       "      <td>112000.0</td>\n",
       "      <td>2017</td>\n",
       "      <td>GenXers(44-56)</td>\n",
       "    </tr>\n",
       "    <tr>\n",
       "      <th>1</th>\n",
       "      <td>F</td>\n",
       "      <td>75</td>\n",
       "      <td>78afa995795e4d85b5d9ceeca43f5fef</td>\n",
       "      <td>2017-05-09</td>\n",
       "      <td>100000.0</td>\n",
       "      <td>2017</td>\n",
       "      <td>Boomers(57-75)</td>\n",
       "    </tr>\n",
       "    <tr>\n",
       "      <th>2</th>\n",
       "      <td>M</td>\n",
       "      <td>68</td>\n",
       "      <td>e2127556f4f64592b11af22de27a7932</td>\n",
       "      <td>2018-04-26</td>\n",
       "      <td>70000.0</td>\n",
       "      <td>2018</td>\n",
       "      <td>Boomers(57-75)</td>\n",
       "    </tr>\n",
       "    <tr>\n",
       "      <th>3</th>\n",
       "      <td>M</td>\n",
       "      <td>65</td>\n",
       "      <td>389bc3fa690240e798340f5a15918d5c</td>\n",
       "      <td>2018-02-09</td>\n",
       "      <td>53000.0</td>\n",
       "      <td>2018</td>\n",
       "      <td>Boomers(57-75)</td>\n",
       "    </tr>\n",
       "    <tr>\n",
       "      <th>4</th>\n",
       "      <td>M</td>\n",
       "      <td>58</td>\n",
       "      <td>2eeac8d8feae4a8cad5a6af0499a211d</td>\n",
       "      <td>2017-11-11</td>\n",
       "      <td>51000.0</td>\n",
       "      <td>2017</td>\n",
       "      <td>Boomers(57-75)</td>\n",
       "    </tr>\n",
       "    <tr>\n",
       "      <th>...</th>\n",
       "      <td>...</td>\n",
       "      <td>...</td>\n",
       "      <td>...</td>\n",
       "      <td>...</td>\n",
       "      <td>...</td>\n",
       "      <td>...</td>\n",
       "      <td>...</td>\n",
       "    </tr>\n",
       "    <tr>\n",
       "      <th>14820</th>\n",
       "      <td>F</td>\n",
       "      <td>45</td>\n",
       "      <td>6d5f3a774f3d4714ab0c092238f3a1d7</td>\n",
       "      <td>2018-06-04</td>\n",
       "      <td>54000.0</td>\n",
       "      <td>2018</td>\n",
       "      <td>GenXers(44-56)</td>\n",
       "    </tr>\n",
       "    <tr>\n",
       "      <th>14821</th>\n",
       "      <td>M</td>\n",
       "      <td>61</td>\n",
       "      <td>2cb4f97358b841b9a9773a7aa05a9d77</td>\n",
       "      <td>2018-07-13</td>\n",
       "      <td>72000.0</td>\n",
       "      <td>2018</td>\n",
       "      <td>Boomers(57-75)</td>\n",
       "    </tr>\n",
       "    <tr>\n",
       "      <th>14822</th>\n",
       "      <td>M</td>\n",
       "      <td>49</td>\n",
       "      <td>01d26f638c274aa0b965d24cefe3183f</td>\n",
       "      <td>2017-01-26</td>\n",
       "      <td>73000.0</td>\n",
       "      <td>2017</td>\n",
       "      <td>GenXers(44-56)</td>\n",
       "    </tr>\n",
       "    <tr>\n",
       "      <th>14823</th>\n",
       "      <td>F</td>\n",
       "      <td>83</td>\n",
       "      <td>9dc1421481194dcd9400aec7c9ae6366</td>\n",
       "      <td>2016-03-07</td>\n",
       "      <td>50000.0</td>\n",
       "      <td>2016</td>\n",
       "      <td>Matures(76+)</td>\n",
       "    </tr>\n",
       "    <tr>\n",
       "      <th>14824</th>\n",
       "      <td>F</td>\n",
       "      <td>62</td>\n",
       "      <td>e4052622e5ba45a8b96b59aba68cf068</td>\n",
       "      <td>2017-07-22</td>\n",
       "      <td>82000.0</td>\n",
       "      <td>2017</td>\n",
       "      <td>Boomers(57-75)</td>\n",
       "    </tr>\n",
       "  </tbody>\n",
       "</table>\n",
       "<p>14825 rows × 7 columns</p>\n",
       "</div>"
      ],
      "text/plain": [
       "      gender  age                       customer_id became_member_on  \\\n",
       "0          F   55  0610b486422d4921ae7d2bf64640c50b       2017-07-15   \n",
       "1          F   75  78afa995795e4d85b5d9ceeca43f5fef       2017-05-09   \n",
       "2          M   68  e2127556f4f64592b11af22de27a7932       2018-04-26   \n",
       "3          M   65  389bc3fa690240e798340f5a15918d5c       2018-02-09   \n",
       "4          M   58  2eeac8d8feae4a8cad5a6af0499a211d       2017-11-11   \n",
       "...      ...  ...                               ...              ...   \n",
       "14820      F   45  6d5f3a774f3d4714ab0c092238f3a1d7       2018-06-04   \n",
       "14821      M   61  2cb4f97358b841b9a9773a7aa05a9d77       2018-07-13   \n",
       "14822      M   49  01d26f638c274aa0b965d24cefe3183f       2017-01-26   \n",
       "14823      F   83  9dc1421481194dcd9400aec7c9ae6366       2016-03-07   \n",
       "14824      F   62  e4052622e5ba45a8b96b59aba68cf068       2017-07-22   \n",
       "\n",
       "       customer_income  membership_year       age_group  \n",
       "0             112000.0             2017  GenXers(44-56)  \n",
       "1             100000.0             2017  Boomers(57-75)  \n",
       "2              70000.0             2018  Boomers(57-75)  \n",
       "3              53000.0             2018  Boomers(57-75)  \n",
       "4              51000.0             2017  Boomers(57-75)  \n",
       "...                ...              ...             ...  \n",
       "14820          54000.0             2018  GenXers(44-56)  \n",
       "14821          72000.0             2018  Boomers(57-75)  \n",
       "14822          73000.0             2017  GenXers(44-56)  \n",
       "14823          50000.0             2016    Matures(76+)  \n",
       "14824          82000.0             2017  Boomers(57-75)  \n",
       "\n",
       "[14825 rows x 7 columns]"
      ]
     },
     "metadata": {},
     "output_type": "display_data"
    }
   ],
   "source": [
    "display(profile_df)"
   ]
  },
  {
   "cell_type": "code",
   "execution_count": 18,
   "metadata": {},
   "outputs": [
    {
     "name": "stdout",
     "output_type": "stream",
     "text": [
      "                age\n",
      "count  14825.000000\n",
      "mean      54.393524\n",
      "std       17.383705\n",
      "min       18.000000\n",
      "25%       42.000000\n",
      "50%       55.000000\n",
      "75%       66.000000\n",
      "max      101.000000\n",
      "\n",
      "       customer_income\n",
      "count     14825.000000\n",
      "mean      65404.991568\n",
      "std       21598.299410\n",
      "min       30000.000000\n",
      "25%       49000.000000\n",
      "50%       64000.000000\n",
      "75%       80000.000000\n",
      "max      120000.000000\n"
     ]
    }
   ],
   "source": [
    "print(pd.DataFrame(profile_df['age'].describe()))\n",
    "print('')\n",
    "print(pd.DataFrame(profile_df['customer_income'].describe()))"
   ]
  },
  {
   "cell_type": "markdown",
   "metadata": {},
   "source": []
  },
  {
   "cell_type": "code",
   "execution_count": 20,
   "metadata": {
    "scrolled": true
   },
   "outputs": [
    {
     "name": "stdout",
     "output_type": "stream",
     "text": [
      "<class 'pandas.core.frame.DataFrame'>\n",
      "Int64Index: 14825 entries, 0 to 14824\n",
      "Data columns (total 7 columns):\n",
      " #   Column            Non-Null Count  Dtype         \n",
      "---  ------            --------------  -----         \n",
      " 0   gender            14825 non-null  object        \n",
      " 1   age               14825 non-null  int64         \n",
      " 2   customer_id       14825 non-null  object        \n",
      " 3   became_member_on  14825 non-null  datetime64[ns]\n",
      " 4   customer_income   14825 non-null  float64       \n",
      " 5   membership_year   14825 non-null  int64         \n",
      " 6   age_group         14825 non-null  category      \n",
      "dtypes: category(1), datetime64[ns](1), float64(1), int64(2), object(2)\n",
      "memory usage: 825.4+ KB\n",
      "None\n"
     ]
    }
   ],
   "source": [
    "profile_df = profile_df[profile_df['customer_income'].notnull()]\n",
    "print(profile_df.info())"
   ]
  },
  {
   "cell_type": "code",
   "execution_count": 21,
   "metadata": {},
   "outputs": [
    {
     "name": "stdout",
     "output_type": "stream",
     "text": [
      "Median Age  : $ 55.0\n"
     ]
    },
    {
     "data": {
      "text/plain": [
       "Text(0.5, 1.0, 'Age Distribution')"
      ]
     },
     "execution_count": 21,
     "metadata": {},
     "output_type": "execute_result"
    },
    {
     "data": {
      "image/png": "[encoded data removed]",
      "text/plain": [
       "<Figure size 432x288 with 1 Axes>"
      ]
     },
     "metadata": {
      "needs_background": "light"
     },
     "output_type": "display_data"
    },
    {
     "data": {
      "image/png": "[encoded data removed]",
      "text/plain": [
       "<Figure size 489.6x72 with 1 Axes>"
      ]
     },
     "metadata": {
      "needs_background": "light"
     },
     "output_type": "display_data"
    }
   ],
   "source": [
    "# Age Distributiobn:Histogram\n",
    "\n",
    "profile_df['age'].hist(bins=10)\n",
    "\n",
    "plt.title('Age Distribution')\n",
    "\n",
    "#Age distribution: Box Plot\n",
    "\n",
    "print(\"Median Age  : $\",profile_df['age'].median())\n",
    "\n",
    "\n",
    "plt.figure(figsize=[6.8,1])\n",
    "sns.boxplot(data=profile_df, x='age')\n",
    "plt.title('Age Distribution')"
   ]
  },
  {
   "cell_type": "markdown",
   "metadata": {},
   "source": [
    "Code Age in terms of Generation criteria:\n",
    "- Gen Z: 18 – 25\n",
    "- Millennials: 26 – 43\n",
    "- Gen Xers: 44 – 56\n",
    "- Boomers: 57 – 75\n",
    "- Matures: 76+ ]\n"
   ]
  },
  {
   "cell_type": "code",
   "execution_count": 79,
   "metadata": {},
   "outputs": [
    {
     "data": {
      "text/plain": [
       "Boomers(57-75)       5147\n",
       "GenXers(44-56)       4058\n",
       "Millennias(26-43)    2956\n",
       "Matures(76+)         1495\n",
       "GenZ(18–25)          1169\n",
       "Name: age_group, dtype: int64"
      ]
     },
     "execution_count": 79,
     "metadata": {},
     "output_type": "execute_result"
    }
   ],
   "source": [
    "profile_df['age_group'].value_counts()"
   ]
  },
  {
   "cell_type": "code",
   "execution_count": 175,
   "metadata": {
    "scrolled": true
   },
   "outputs": [
    {
     "data": {
      "text/plain": [
       "Text(0.5, 1.0, 'Customer Age group')"
      ]
     },
     "execution_count": 175,
     "metadata": {},
     "output_type": "execute_result"
    },
    {
     "data": {
      "image/png": "[encoded data removed]",
      "text/plain": [
       "<Figure size 864x288 with 1 Axes>"
      ]
     },
     "metadata": {
      "needs_background": "light"
     },
     "output_type": "display_data"
    }
   ],
   "source": [
    "#Group the age ranges\n",
    "\n",
    "fig = plt.figure(figsize = (12,4))\n",
    "sns.countplot(x='age_group',data=profile_df)\n",
    "plt.xticks(rotation=30)\n",
    "plt.title('Customer Age group')\n"
   ]
  },
  {
   "cell_type": "code",
   "execution_count": 188,
   "metadata": {
    "scrolled": false
   },
   "outputs": [
    {
     "data": {
      "text/plain": [
       "<matplotlib.legend.Legend at 0x1b5ae93f820>"
      ]
     },
     "execution_count": 188,
     "metadata": {},
     "output_type": "execute_result"
    },
    {
     "data": {
      "image/png": "[encoded data removed]",
      "text/plain": [
       "<Figure size 432x432 with 1 Axes>"
      ]
     },
     "metadata": {
      "needs_background": "light"
     },
     "output_type": "display_data"
    },
    {
     "data": {
      "image/png": "[encoded data removed]",
      "text/plain": [
       "<Figure size 432x432 with 1 Axes>"
      ]
     },
     "metadata": {},
     "output_type": "display_data"
    }
   ],
   "source": [
    "#Gender distribution\n",
    "\n",
    "plt.figure(figsize=[6,6])\n",
    "sns.countplot(x= profile_df['gender'], order = profile_df['gender'].value_counts().index)\n",
    "\n",
    "plt.title('Customers count vs Gender', fontsize=19)\n",
    "\n",
    "#Gender Distribution in Percentage\n",
    "\n",
    "gender = profile_df['gender'].value_counts()\n",
    "\n",
    "plt.figure(figsize=(6, 6))\n",
    "plt.pie(gender, labels=['Male', 'Female' , 'Others'], shadow=True, autopct='%1.1f%%', \n",
    "            textprops={'color': \"w\", 'fontsize': 20})\n",
    "\n",
    "plt.axis('equal')\n",
    "plt.title('Customers vs Gender', fontsize=19)\n",
    "plt.legend(loc='best')"
   ]
  },
  {
   "cell_type": "code",
   "execution_count": 24,
   "metadata": {},
   "outputs": [
    {
     "data": {
      "text/plain": [
       "M    8484\n",
       "F    6129\n",
       "O     212\n",
       "Name: gender, dtype: int64"
      ]
     },
     "execution_count": 24,
     "metadata": {},
     "output_type": "execute_result"
    }
   ],
   "source": [
    "gender"
   ]
  },
  {
   "cell_type": "code",
   "execution_count": 25,
   "metadata": {},
   "outputs": [
    {
     "data": {
      "text/plain": [
       "count     14825.000000\n",
       "mean      65404.991568\n",
       "std       21598.299410\n",
       "min       30000.000000\n",
       "25%       49000.000000\n",
       "50%       64000.000000\n",
       "75%       80000.000000\n",
       "max      120000.000000\n",
       "Name: customer_income, dtype: float64"
      ]
     },
     "execution_count": 25,
     "metadata": {},
     "output_type": "execute_result"
    }
   ],
   "source": [
    "#Analyze income:\n",
    "\n",
    "profile_df['customer_income'].describe()\n"
   ]
  },
  {
   "cell_type": "code",
   "execution_count": 189,
   "metadata": {},
   "outputs": [
    {
     "data": {
      "text/plain": [
       "Text(0.5, 0, 'Salary(USD)')"
      ]
     },
     "execution_count": 189,
     "metadata": {},
     "output_type": "execute_result"
    },
    {
     "data": {
      "image/png": "[encoded data removed]",
      "text/plain": [
       "<Figure size 864x288 with 1 Axes>"
      ]
     },
     "metadata": {
      "needs_background": "light"
     },
     "output_type": "display_data"
    },
    {
     "data": {
      "image/png": "[encoded data removed]",
      "text/plain": [
       "<Figure size 864x288 with 1 Axes>"
      ]
     },
     "metadata": {
      "needs_background": "light"
     },
     "output_type": "display_data"
    }
   ],
   "source": [
    "#Income distribution\n",
    "\n",
    "plt.figure(figsize=[12,4])\n",
    "sal_hist1 = sns.histplot(data = profile_df, x = 'customer_income',  multiple = \"dodge\",element = 'step', \n",
    "                        bins = 20, kde = True ,stat = 'density' ).set_title(\"Customer Income distribution\")\n",
    "plt.xlabel(\"Salary(USD)\")\n",
    "\n",
    "#Income distribution by gender\n",
    "\n",
    "plt.figure(figsize=[12,4])\n",
    "sal_hist = sns.histplot(data = profile_df, x = 'customer_income', hue = 'gender', \n",
    "                        multiple = \"dodge\",element = 'step', bins = 20, kde = True ,stat = 'density' ).set_title(\"Gender wise Customer Income distribution\")\n",
    "plt.xlabel(\"Salary(USD)\")"
   ]
  },
  {
   "cell_type": "code",
   "execution_count": 200,
   "metadata": {},
   "outputs": [
    {
     "name": "stdout",
     "output_type": "stream",
     "text": [
      "Median Income  : $ 64000.0\n",
      "Maximum Income : $ 120000.0\n",
      "Maximum Income : $ 30000.0\n",
      "Median Income for Males  : $ 59000.0\n",
      "Median Income Females : $ 71000.0\n"
     ]
    }
   ],
   "source": [
    "#Median Income\n",
    "\n",
    "print(\"Median Income  : $\",profile_df['customer_income'].median())\n",
    "print(\"Maximum Income : $\",profile_df['customer_income'].max())\n",
    "print(\"Maximum Income : $\",profile_df['customer_income'].min())\n",
    "\n",
    "print(\"Median Income for Males  : $\",profile_df[profile_df['gender']=='M']['customer_income'].median())\n",
    "\n",
    "print(\"Median Income Females : $\",profile_df[profile_df['gender']=='F']['customer_income'].median())\n",
    "\n"
   ]
  },
  {
   "cell_type": "code",
   "execution_count": null,
   "metadata": {},
   "outputs": [],
   "source": []
  },
  {
   "cell_type": "code",
   "execution_count": 28,
   "metadata": {
    "scrolled": true
   },
   "outputs": [],
   "source": [
    "#profile_df['became_member_on'] = pd.to_datetime(profile['became_member_on'], format = '%Y%m%d') "
   ]
  },
  {
   "cell_type": "code",
   "execution_count": 190,
   "metadata": {
    "scrolled": true
   },
   "outputs": [
    {
     "data": {
      "text/plain": [
       "Text(0, 0.5, 'Number of Customers or Test Subjects')"
      ]
     },
     "execution_count": 190,
     "metadata": {},
     "output_type": "execute_result"
    },
    {
     "data": {
      "image/png": "[encoded data removed]",
      "text/plain": [
       "<Figure size 1080x432 with 1 Axes>"
      ]
     },
     "metadata": {
      "needs_background": "light"
     },
     "output_type": "display_data"
    }
   ],
   "source": [
    "# membership by year of joining\n",
    "\n",
    "plt.figure(figsize=(15, 6))\n",
    "profile_df['became_member_on'].groupby(profile_df['became_member_on'].dt.year).hist(bins=10)\n",
    "plt.title('Customers vs Membership Year', fontsize=15)\n",
    "plt.xlabel('Memebership by Month and Year')\n",
    "plt.ylabel('Number of Customers or Test Subjects')"
   ]
  },
  {
   "cell_type": "code",
   "execution_count": 197,
   "metadata": {},
   "outputs": [
    {
     "data": {
      "text/plain": [
       "Timestamp('2013-07-29 00:00:00')"
      ]
     },
     "execution_count": 197,
     "metadata": {},
     "output_type": "execute_result"
    }
   ],
   "source": [
    "profile_df['became_member_on'].groupby(profile_df['became_member_on'].dt.year)\n",
    "profile_df['became_member_on'].min()"
   ]
  },
  {
   "cell_type": "code",
   "execution_count": 198,
   "metadata": {},
   "outputs": [
    {
     "data": {
      "text/plain": [
       "Timestamp('2018-07-26 00:00:00')"
      ]
     },
     "execution_count": 198,
     "metadata": {},
     "output_type": "execute_result"
    }
   ],
   "source": [
    "profile_df['became_member_on'].max()"
   ]
  },
  {
   "cell_type": "markdown",
   "metadata": {},
   "source": [
    "## Transcript: Data Exploration"
   ]
  },
  {
   "cell_type": "code",
   "execution_count": 178,
   "metadata": {},
   "outputs": [],
   "source": [
    "#Seperatng transaction and offer data from transcript dataframe\n",
    "\n",
    "offers_df, transactions_df = clean_transcript(transcript)"
   ]
  },
  {
   "cell_type": "code",
   "execution_count": 182,
   "metadata": {},
   "outputs": [
    {
     "data": {
      "text/html": [
       "<div>\n",
       "<style scoped>\n",
       "    .dataframe tbody tr th:only-of-type {\n",
       "        vertical-align: middle;\n",
       "    }\n",
       "\n",
       "    .dataframe tbody tr th {\n",
       "        vertical-align: top;\n",
       "    }\n",
       "\n",
       "    .dataframe thead th {\n",
       "        text-align: right;\n",
       "    }\n",
       "</style>\n",
       "<table border=\"1\" class=\"dataframe\">\n",
       "  <thead>\n",
       "    <tr style=\"text-align: right;\">\n",
       "      <th></th>\n",
       "      <th>customer_id</th>\n",
       "      <th>event</th>\n",
       "      <th>time_in_days</th>\n",
       "      <th>offer_id</th>\n",
       "      <th>completed</th>\n",
       "      <th>received</th>\n",
       "      <th>viewed</th>\n",
       "    </tr>\n",
       "  </thead>\n",
       "  <tbody>\n",
       "    <tr>\n",
       "      <th>286103</th>\n",
       "      <td>f5bab1d29685425d9ac6ce00c0d0b123</td>\n",
       "      <td>offer completed</td>\n",
       "      <td>26</td>\n",
       "      <td>f19421c1d4aa40978ebb69ca19b0e20d</td>\n",
       "      <td>1</td>\n",
       "      <td>0</td>\n",
       "      <td>0</td>\n",
       "    </tr>\n",
       "    <tr>\n",
       "      <th>101403</th>\n",
       "      <td>281c7fdffd2b4b3eb4662a3b0039b197</td>\n",
       "      <td>offer completed</td>\n",
       "      <td>11</td>\n",
       "      <td>f19421c1d4aa40978ebb69ca19b0e20d</td>\n",
       "      <td>1</td>\n",
       "      <td>0</td>\n",
       "      <td>0</td>\n",
       "    </tr>\n",
       "    <tr>\n",
       "      <th>155940</th>\n",
       "      <td>0785f1fce0b04ba08e01c7d2ebab4917</td>\n",
       "      <td>offer received</td>\n",
       "      <td>17</td>\n",
       "      <td>4d5c57ea9a6940dd891ad53e9dbe8da0</td>\n",
       "      <td>0</td>\n",
       "      <td>1</td>\n",
       "      <td>0</td>\n",
       "    </tr>\n",
       "    <tr>\n",
       "      <th>103980</th>\n",
       "      <td>a72733b3057644809e9db04b7eb8c986</td>\n",
       "      <td>offer completed</td>\n",
       "      <td>12</td>\n",
       "      <td>2906b810c7d4411798c6938adc9daaa5</td>\n",
       "      <td>1</td>\n",
       "      <td>0</td>\n",
       "      <td>0</td>\n",
       "    </tr>\n",
       "    <tr>\n",
       "      <th>122866</th>\n",
       "      <td>05aca359cfb04309a05362db256954ae</td>\n",
       "      <td>offer received</td>\n",
       "      <td>14</td>\n",
       "      <td>5a8bc65990b245e5a138643cd4eb9837</td>\n",
       "      <td>0</td>\n",
       "      <td>1</td>\n",
       "      <td>0</td>\n",
       "    </tr>\n",
       "    <tr>\n",
       "      <th>11816</th>\n",
       "      <td>938db8510d784474b1229747751ff27c</td>\n",
       "      <td>offer received</td>\n",
       "      <td>0</td>\n",
       "      <td>ae264e3637204a6fb9bb56bc8210ddfd</td>\n",
       "      <td>0</td>\n",
       "      <td>1</td>\n",
       "      <td>0</td>\n",
       "    </tr>\n",
       "    <tr>\n",
       "      <th>288070</th>\n",
       "      <td>f168dfeb0f904c369419f5927e15bb0e</td>\n",
       "      <td>offer completed</td>\n",
       "      <td>26</td>\n",
       "      <td>2298d6c36e964ae4a3e7e9706d1fb8c2</td>\n",
       "      <td>1</td>\n",
       "      <td>0</td>\n",
       "      <td>0</td>\n",
       "    </tr>\n",
       "    <tr>\n",
       "      <th>183049</th>\n",
       "      <td>996fb8e62375461f8f6ca0cf7d2eeaa3</td>\n",
       "      <td>offer completed</td>\n",
       "      <td>18</td>\n",
       "      <td>ae264e3637204a6fb9bb56bc8210ddfd</td>\n",
       "      <td>1</td>\n",
       "      <td>0</td>\n",
       "      <td>0</td>\n",
       "    </tr>\n",
       "    <tr>\n",
       "      <th>58498</th>\n",
       "      <td>7cb8642dbbd34261babbce3da1ab8e33</td>\n",
       "      <td>offer received</td>\n",
       "      <td>7</td>\n",
       "      <td>ae264e3637204a6fb9bb56bc8210ddfd</td>\n",
       "      <td>0</td>\n",
       "      <td>1</td>\n",
       "      <td>0</td>\n",
       "    </tr>\n",
       "    <tr>\n",
       "      <th>12110</th>\n",
       "      <td>f8f608c3227a4398bad5dc1b6b692578</td>\n",
       "      <td>offer received</td>\n",
       "      <td>0</td>\n",
       "      <td>2906b810c7d4411798c6938adc9daaa5</td>\n",
       "      <td>0</td>\n",
       "      <td>1</td>\n",
       "      <td>0</td>\n",
       "    </tr>\n",
       "  </tbody>\n",
       "</table>\n",
       "</div>"
      ],
      "text/plain": [
       "                             customer_id            event  time_in_days  \\\n",
       "286103  f5bab1d29685425d9ac6ce00c0d0b123  offer completed            26   \n",
       "101403  281c7fdffd2b4b3eb4662a3b0039b197  offer completed            11   \n",
       "155940  0785f1fce0b04ba08e01c7d2ebab4917   offer received            17   \n",
       "103980  a72733b3057644809e9db04b7eb8c986  offer completed            12   \n",
       "122866  05aca359cfb04309a05362db256954ae   offer received            14   \n",
       "11816   938db8510d784474b1229747751ff27c   offer received             0   \n",
       "288070  f168dfeb0f904c369419f5927e15bb0e  offer completed            26   \n",
       "183049  996fb8e62375461f8f6ca0cf7d2eeaa3  offer completed            18   \n",
       "58498   7cb8642dbbd34261babbce3da1ab8e33   offer received             7   \n",
       "12110   f8f608c3227a4398bad5dc1b6b692578   offer received             0   \n",
       "\n",
       "                                offer_id  completed  received  viewed  \n",
       "286103  f19421c1d4aa40978ebb69ca19b0e20d          1         0       0  \n",
       "101403  f19421c1d4aa40978ebb69ca19b0e20d          1         0       0  \n",
       "155940  4d5c57ea9a6940dd891ad53e9dbe8da0          0         1       0  \n",
       "103980  2906b810c7d4411798c6938adc9daaa5          1         0       0  \n",
       "122866  5a8bc65990b245e5a138643cd4eb9837          0         1       0  \n",
       "11816   ae264e3637204a6fb9bb56bc8210ddfd          0         1       0  \n",
       "288070  2298d6c36e964ae4a3e7e9706d1fb8c2          1         0       0  \n",
       "183049  ae264e3637204a6fb9bb56bc8210ddfd          1         0       0  \n",
       "58498   ae264e3637204a6fb9bb56bc8210ddfd          0         1       0  \n",
       "12110   2906b810c7d4411798c6938adc9daaa5          0         1       0  "
      ]
     },
     "execution_count": 182,
     "metadata": {},
     "output_type": "execute_result"
    }
   ],
   "source": [
    "#Offer Data\n",
    "offers_df.sample(10)"
   ]
  },
  {
   "cell_type": "code",
   "execution_count": 183,
   "metadata": {},
   "outputs": [
    {
     "data": {
      "text/html": [
       "<div>\n",
       "<style scoped>\n",
       "    .dataframe tbody tr th:only-of-type {\n",
       "        vertical-align: middle;\n",
       "    }\n",
       "\n",
       "    .dataframe tbody tr th {\n",
       "        vertical-align: top;\n",
       "    }\n",
       "\n",
       "    .dataframe thead th {\n",
       "        text-align: right;\n",
       "    }\n",
       "</style>\n",
       "<table border=\"1\" class=\"dataframe\">\n",
       "  <thead>\n",
       "    <tr style=\"text-align: right;\">\n",
       "      <th></th>\n",
       "      <th>customer_id</th>\n",
       "      <th>event</th>\n",
       "      <th>time_in_days</th>\n",
       "      <th>amount</th>\n",
       "    </tr>\n",
       "  </thead>\n",
       "  <tbody>\n",
       "    <tr>\n",
       "      <th>168646</th>\n",
       "      <td>bb9e58e712404f8caa0105bbae0c6edb</td>\n",
       "      <td>transaction</td>\n",
       "      <td>17</td>\n",
       "      <td>0.89</td>\n",
       "    </tr>\n",
       "    <tr>\n",
       "      <th>26054</th>\n",
       "      <td>4f17683973c440d6a4775e796ed14dd3</td>\n",
       "      <td>transaction</td>\n",
       "      <td>1</td>\n",
       "      <td>19.08</td>\n",
       "    </tr>\n",
       "    <tr>\n",
       "      <th>286898</th>\n",
       "      <td>f1d381a167414e6790fa19abea39d9e8</td>\n",
       "      <td>transaction</td>\n",
       "      <td>26</td>\n",
       "      <td>19.33</td>\n",
       "    </tr>\n",
       "    <tr>\n",
       "      <th>48213</th>\n",
       "      <td>a2c2d33befb94372833451fdd0820148</td>\n",
       "      <td>transaction</td>\n",
       "      <td>5</td>\n",
       "      <td>3.09</td>\n",
       "    </tr>\n",
       "    <tr>\n",
       "      <th>36889</th>\n",
       "      <td>3a1cca6c614e4541b8b7478afbb72ac9</td>\n",
       "      <td>transaction</td>\n",
       "      <td>3</td>\n",
       "      <td>6.21</td>\n",
       "    </tr>\n",
       "    <tr>\n",
       "      <th>110545</th>\n",
       "      <td>a87dd5ea878444f08ab557b145c5377c</td>\n",
       "      <td>transaction</td>\n",
       "      <td>13</td>\n",
       "      <td>20.94</td>\n",
       "    </tr>\n",
       "    <tr>\n",
       "      <th>259641</th>\n",
       "      <td>4e3fa85725f141f6b4bf3bae3a485986</td>\n",
       "      <td>transaction</td>\n",
       "      <td>24</td>\n",
       "      <td>3.79</td>\n",
       "    </tr>\n",
       "    <tr>\n",
       "      <th>303425</th>\n",
       "      <td>82b13a64bcba4a59a11d5323f9e04134</td>\n",
       "      <td>transaction</td>\n",
       "      <td>29</td>\n",
       "      <td>8.69</td>\n",
       "    </tr>\n",
       "    <tr>\n",
       "      <th>199539</th>\n",
       "      <td>c86f6d63ebfe40f388040037a16255da</td>\n",
       "      <td>transaction</td>\n",
       "      <td>20</td>\n",
       "      <td>13.07</td>\n",
       "    </tr>\n",
       "    <tr>\n",
       "      <th>132738</th>\n",
       "      <td>677605ce51a948d4ba74fa54229119e4</td>\n",
       "      <td>transaction</td>\n",
       "      <td>14</td>\n",
       "      <td>0.51</td>\n",
       "    </tr>\n",
       "  </tbody>\n",
       "</table>\n",
       "</div>"
      ],
      "text/plain": [
       "                             customer_id        event  time_in_days amount\n",
       "168646  bb9e58e712404f8caa0105bbae0c6edb  transaction            17   0.89\n",
       "26054   4f17683973c440d6a4775e796ed14dd3  transaction             1  19.08\n",
       "286898  f1d381a167414e6790fa19abea39d9e8  transaction            26  19.33\n",
       "48213   a2c2d33befb94372833451fdd0820148  transaction             5   3.09\n",
       "36889   3a1cca6c614e4541b8b7478afbb72ac9  transaction             3   6.21\n",
       "110545  a87dd5ea878444f08ab557b145c5377c  transaction            13  20.94\n",
       "259641  4e3fa85725f141f6b4bf3bae3a485986  transaction            24   3.79\n",
       "303425  82b13a64bcba4a59a11d5323f9e04134  transaction            29   8.69\n",
       "199539  c86f6d63ebfe40f388040037a16255da  transaction            20  13.07\n",
       "132738  677605ce51a948d4ba74fa54229119e4  transaction            14   0.51"
      ]
     },
     "execution_count": 183,
     "metadata": {},
     "output_type": "execute_result"
    }
   ],
   "source": [
    "#Transactions Data\n",
    "transactions_df.sample(10)"
   ]
  },
  {
   "cell_type": "code",
   "execution_count": 32,
   "metadata": {},
   "outputs": [
    {
     "name": "stdout",
     "output_type": "stream",
     "text": [
      "<class 'pandas.core.frame.DataFrame'>\n",
      "Int64Index: 167581 entries, 0 to 306527\n",
      "Data columns (total 4 columns):\n",
      " #   Column        Non-Null Count   Dtype \n",
      "---  ------        --------------   ----- \n",
      " 0   customer_id   167581 non-null  object\n",
      " 1   event         167581 non-null  object\n",
      " 2   time_in_days  167581 non-null  int64 \n",
      " 3   offer_id      167581 non-null  object\n",
      "dtypes: int64(1), object(3)\n",
      "memory usage: 6.4+ MB\n"
     ]
    }
   ],
   "source": [
    "\n",
    "offers_df.info()\n"
   ]
  },
  {
   "cell_type": "code",
   "execution_count": 33,
   "metadata": {},
   "outputs": [
    {
     "name": "stdout",
     "output_type": "stream",
     "text": [
      "<class 'pandas.core.frame.DataFrame'>\n",
      "Int64Index: 138953 entries, 12654 to 306533\n",
      "Data columns (total 4 columns):\n",
      " #   Column        Non-Null Count   Dtype \n",
      "---  ------        --------------   ----- \n",
      " 0   customer_id   138953 non-null  object\n",
      " 1   event         138953 non-null  object\n",
      " 2   time_in_days  138953 non-null  int64 \n",
      " 3   amount        138953 non-null  object\n",
      "dtypes: int64(1), object(3)\n",
      "memory usage: 5.3+ MB\n"
     ]
    }
   ],
   "source": [
    "\n",
    "transactions_df.info()\n"
   ]
  },
  {
   "cell_type": "code",
   "execution_count": 34,
   "metadata": {},
   "outputs": [
    {
     "data": {
      "text/html": [
       "<div>\n",
       "<style scoped>\n",
       "    .dataframe tbody tr th:only-of-type {\n",
       "        vertical-align: middle;\n",
       "    }\n",
       "\n",
       "    .dataframe tbody tr th {\n",
       "        vertical-align: top;\n",
       "    }\n",
       "\n",
       "    .dataframe thead th {\n",
       "        text-align: right;\n",
       "    }\n",
       "</style>\n",
       "<table border=\"1\" class=\"dataframe\">\n",
       "  <thead>\n",
       "    <tr style=\"text-align: right;\">\n",
       "      <th></th>\n",
       "      <th>customer_id</th>\n",
       "      <th>event</th>\n",
       "      <th>time_in_days</th>\n",
       "      <th>offer_id</th>\n",
       "      <th>offer_reward</th>\n",
       "      <th>channels</th>\n",
       "      <th>offer_difficulty</th>\n",
       "      <th>offer_duration</th>\n",
       "      <th>offer_type</th>\n",
       "      <th>offer_name</th>\n",
       "    </tr>\n",
       "  </thead>\n",
       "  <tbody>\n",
       "    <tr>\n",
       "      <th>0</th>\n",
       "      <td>78afa995795e4d85b5d9ceeca43f5fef</td>\n",
       "      <td>offer received</td>\n",
       "      <td>0</td>\n",
       "      <td>9b98b8c7a33c4b65b9aebfe6a799e6d9</td>\n",
       "      <td>5</td>\n",
       "      <td>[web, email, mobile]</td>\n",
       "      <td>5</td>\n",
       "      <td>7</td>\n",
       "      <td>bogo</td>\n",
       "      <td>offer_4</td>\n",
       "    </tr>\n",
       "    <tr>\n",
       "      <th>1</th>\n",
       "      <td>ebe7ef46ea6f4963a7dd49f501b26779</td>\n",
       "      <td>offer received</td>\n",
       "      <td>0</td>\n",
       "      <td>9b98b8c7a33c4b65b9aebfe6a799e6d9</td>\n",
       "      <td>5</td>\n",
       "      <td>[web, email, mobile]</td>\n",
       "      <td>5</td>\n",
       "      <td>7</td>\n",
       "      <td>bogo</td>\n",
       "      <td>offer_4</td>\n",
       "    </tr>\n",
       "  </tbody>\n",
       "</table>\n",
       "</div>"
      ],
      "text/plain": [
       "                        customer_id           event  time_in_days  \\\n",
       "0  78afa995795e4d85b5d9ceeca43f5fef  offer received             0   \n",
       "1  ebe7ef46ea6f4963a7dd49f501b26779  offer received             0   \n",
       "\n",
       "                           offer_id  offer_reward              channels  \\\n",
       "0  9b98b8c7a33c4b65b9aebfe6a799e6d9             5  [web, email, mobile]   \n",
       "1  9b98b8c7a33c4b65b9aebfe6a799e6d9             5  [web, email, mobile]   \n",
       "\n",
       "   offer_difficulty  offer_duration offer_type offer_name  \n",
       "0                 5               7       bogo    offer_4  \n",
       "1                 5               7       bogo    offer_4  "
      ]
     },
     "execution_count": 34,
     "metadata": {},
     "output_type": "execute_result"
    }
   ],
   "source": [
    "offers_type = pd.merge(offers_df, portfolio_df, left_on='offer_id', right_on='offer_id', how='inner')\n",
    "offers_type.head(2)"
   ]
  },
  {
   "cell_type": "code",
   "execution_count": 35,
   "metadata": {},
   "outputs": [
    {
     "data": {
      "text/html": [
       "<div>\n",
       "<style scoped>\n",
       "    .dataframe tbody tr th:only-of-type {\n",
       "        vertical-align: middle;\n",
       "    }\n",
       "\n",
       "    .dataframe tbody tr th {\n",
       "        vertical-align: top;\n",
       "    }\n",
       "\n",
       "    .dataframe thead th {\n",
       "        text-align: right;\n",
       "    }\n",
       "</style>\n",
       "<table border=\"1\" class=\"dataframe\">\n",
       "  <thead>\n",
       "    <tr style=\"text-align: right;\">\n",
       "      <th></th>\n",
       "      <th>customer_id</th>\n",
       "      <th>event</th>\n",
       "      <th>time_in_days</th>\n",
       "      <th>offer_id</th>\n",
       "      <th>offer_reward</th>\n",
       "      <th>channels</th>\n",
       "      <th>offer_difficulty</th>\n",
       "      <th>offer_duration</th>\n",
       "      <th>offer_type</th>\n",
       "      <th>offer_name</th>\n",
       "      <th>gender</th>\n",
       "      <th>age</th>\n",
       "      <th>became_member_on</th>\n",
       "      <th>customer_income</th>\n",
       "      <th>membership_year</th>\n",
       "      <th>age_group</th>\n",
       "    </tr>\n",
       "  </thead>\n",
       "  <tbody>\n",
       "    <tr>\n",
       "      <th>0</th>\n",
       "      <td>78afa995795e4d85b5d9ceeca43f5fef</td>\n",
       "      <td>offer received</td>\n",
       "      <td>0</td>\n",
       "      <td>9b98b8c7a33c4b65b9aebfe6a799e6d9</td>\n",
       "      <td>5</td>\n",
       "      <td>[web, email, mobile]</td>\n",
       "      <td>5</td>\n",
       "      <td>7</td>\n",
       "      <td>bogo</td>\n",
       "      <td>offer_4</td>\n",
       "      <td>F</td>\n",
       "      <td>75</td>\n",
       "      <td>2017-05-09</td>\n",
       "      <td>100000.0</td>\n",
       "      <td>2017</td>\n",
       "      <td>Boomers(57-75)</td>\n",
       "    </tr>\n",
       "    <tr>\n",
       "      <th>1</th>\n",
       "      <td>78afa995795e4d85b5d9ceeca43f5fef</td>\n",
       "      <td>offer viewed</td>\n",
       "      <td>0</td>\n",
       "      <td>9b98b8c7a33c4b65b9aebfe6a799e6d9</td>\n",
       "      <td>5</td>\n",
       "      <td>[web, email, mobile]</td>\n",
       "      <td>5</td>\n",
       "      <td>7</td>\n",
       "      <td>bogo</td>\n",
       "      <td>offer_4</td>\n",
       "      <td>F</td>\n",
       "      <td>75</td>\n",
       "      <td>2017-05-09</td>\n",
       "      <td>100000.0</td>\n",
       "      <td>2017</td>\n",
       "      <td>Boomers(57-75)</td>\n",
       "    </tr>\n",
       "  </tbody>\n",
       "</table>\n",
       "</div>"
      ],
      "text/plain": [
       "                        customer_id           event  time_in_days  \\\n",
       "0  78afa995795e4d85b5d9ceeca43f5fef  offer received             0   \n",
       "1  78afa995795e4d85b5d9ceeca43f5fef    offer viewed             0   \n",
       "\n",
       "                           offer_id  offer_reward              channels  \\\n",
       "0  9b98b8c7a33c4b65b9aebfe6a799e6d9             5  [web, email, mobile]   \n",
       "1  9b98b8c7a33c4b65b9aebfe6a799e6d9             5  [web, email, mobile]   \n",
       "\n",
       "   offer_difficulty  offer_duration offer_type offer_name gender  age  \\\n",
       "0                 5               7       bogo    offer_4      F   75   \n",
       "1                 5               7       bogo    offer_4      F   75   \n",
       "\n",
       "  became_member_on  customer_income  membership_year       age_group  \n",
       "0       2017-05-09         100000.0             2017  Boomers(57-75)  \n",
       "1       2017-05-09         100000.0             2017  Boomers(57-75)  "
      ]
     },
     "execution_count": 35,
     "metadata": {},
     "output_type": "execute_result"
    }
   ],
   "source": [
    "data_all = pd.merge(offers_type, profile_df, left_on='customer_id', right_on='customer_id', how='inner')\n",
    "data_all.head(2)"
   ]
  },
  {
   "cell_type": "code",
   "execution_count": 184,
   "metadata": {
    "scrolled": true
   },
   "outputs": [
    {
     "data": {
      "text/plain": [
       "<AxesSubplot:title={'center':'Informational'}, ylabel='Count'>"
      ]
     },
     "execution_count": 184,
     "metadata": {},
     "output_type": "execute_result"
    },
    {
     "data": {
      "image/png": "[encoded data removed]",
      "text/plain": [
       "<Figure size 1440x360 with 3 Axes>"
      ]
     },
     "metadata": {
      "needs_background": "light"
     },
     "output_type": "display_data"
    }
   ],
   "source": [
    "#Comparing offer recieved, viewed, completed by offer type\n",
    "\n",
    "def offer_conversion_rate(offers_type):\n",
    "    \n",
    "    df_graph = offers_type.groupby(['event', 'offer_type'])['customer_id'].count().reset_index()\n",
    "    df_graph['event'] = pd.Categorical(df_graph['event'], [\"offer received\", \"offer viewed\", \"offer completed\"])\n",
    "\n",
    "    df_graph.sort_values('event', inplace = True)\n",
    "    df_graph = df_graph.rename(columns = {'customer_id':'customer_count'})\n",
    "\n",
    "    df_graph.sort_values('event', inplace=True)\n",
    "\n",
    "    fig, axs = plt.subplots(ncols=3, figsize=(20, 5))\n",
    "\n",
    "    sns.set_palette(sns.color_palette('Set2'))\n",
    "\n",
    "    ax = sns.barplot(x = 'event', y='customer_count', data=df_graph.query('offer_type == \"bogo\"'),ax=axs[0])\n",
    "    ax.set(xlabel='', ylabel='Count', title='BOGO')\n",
    "\n",
    "    ax = sns.barplot(x = 'event', y='customer_count', data=df_graph.query('offer_type == \"discount\"'),ax=axs[1])\n",
    "    ax.set(xlabel='', ylabel='Count', title='Discount')\n",
    "\n",
    "    ax = sns.barplot(x = 'event', y='customer_count', data=df_graph.query('offer_type == \"informational\"'), ax=axs[2])\n",
    "    ax.set(xlabel='', ylabel='Count', title='Informational')\n",
    "    \n",
    "    return ax\n",
    "\n",
    "offer_conversion_rate(offers_type)"
   ]
  },
  {
   "cell_type": "code",
   "execution_count": null,
   "metadata": {},
   "outputs": [],
   "source": []
  }
 ],
 "metadata": {
  "kernelspec": {
   "display_name": "Python 3",
   "language": "python",
   "name": "python3"
  },
  "language_info": {
   "codemirror_mode": {
    "name": "ipython",
    "version": 3
   },
   "file_extension": ".py",
   "mimetype": "text/x-python",
   "name": "python",
   "nbconvert_exporter": "python",
   "pygments_lexer": "ipython3",
   "version": "3.8.5"
  }
 },
 "nbformat": 4,
 "nbformat_minor": 2
}
