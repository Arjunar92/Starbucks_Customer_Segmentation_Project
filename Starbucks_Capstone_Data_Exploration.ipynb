{
 "cells": [
  {
   "cell_type": "markdown",
   "metadata": {},
   "source": [
    "# Data Sets\n",
    "\n",
    "The data is contained in three files:\n",
    "\n",
    "* portfolio.json - containing offer ids and meta data about each offer (duration, type, etc.)\n",
    "* profile.json - demographic data for each customer\n",
    "* transcript.json - records for transactions, offers received, offers viewed, and offers completed\n",
    "\n",
    "Here is the schema and explanation of each variable in the files:\n",
    "\n",
    "**portfolio.json**\n",
    "* id (string) - offer id\n",
    "* offer_type (string) - type of offer ie BOGO, discount, informational\n",
    "* difficulty (int) - minimum required spend to complete an offer\n",
    "* reward (int) - reward given for completing an offer\n",
    "* duration (int) - time for offer to be open, in days\n",
    "* channels (list of strings)\n",
    "\n",
    "**profile.json**\n",
    "* age (int) - age of the customer \n",
    "* became_member_on (int) - date when customer created an app account\n",
    "* gender (str) - gender of the customer (note some entries contain 'O' for other rather than M or F)\n",
    "* id (str) - customer id\n",
    "* income (float) - customer's income\n",
    "\n",
    "**transcript.json**\n",
    "* event (str) - record description (ie transaction, offer received, offer viewed, etc.)\n",
    "* person (str) - customer id\n",
    "* time (int) - time in hours since start of test. The data begins at time t=0\n",
    "* value - (dict of strings) - either an offer id or transaction amount depending on the record\n"
   ]
  },
  {
   "cell_type": "markdown",
   "metadata": {},
   "source": [
    "### Importing Libraries"
   ]
  },
  {
   "cell_type": "code",
   "execution_count": 1,
   "metadata": {},
   "outputs": [],
   "source": [
    "import pandas as pd\n",
    "import numpy as np\n",
    "import math\n",
    "import json\n",
    "\n",
    "\n",
    "from sklearn.preprocessing import LabelBinarizer, MultiLabelBinarizer, MinMaxScaler\n",
    "import seaborn as sns #For Data visualization\n",
    "import matplotlib.pyplot as plt #Data plotting and visualization\n",
    "sns.set_palette(sns.color_palette('Accent'))\n",
    "import plotly.express as px\n",
    "%matplotlib inline\n",
    "\n",
    "\n",
    "from datetime import datetime\n",
    "from sklearn.preprocessing import LabelBinarizer, MultiLabelBinarizer\n",
    "from sklearn.cluster import KMeans"
   ]
  },
  {
   "cell_type": "code",
   "execution_count": null,
   "metadata": {},
   "outputs": [],
   "source": []
  },
  {
   "cell_type": "markdown",
   "metadata": {},
   "source": [
    "# Data Wrangling\n",
    "\n",
    "Steps in Data Wrangling:\n",
    "* Data Loading\n",
    "* Data Exploration\n",
    "* Data Structuring\n",
    "* Data Cleaning\n",
    "* Data Publishing"
   ]
  },
  {
   "cell_type": "markdown",
   "metadata": {},
   "source": [
    "## Data Loading"
   ]
  },
  {
   "cell_type": "code",
   "execution_count": 2,
   "metadata": {},
   "outputs": [],
   "source": [
    "# Importing the data from json file\n",
    "\n",
    "portfolio = pd.read_json('data/portfolio.json', orient='records', lines=True)\n",
    "\n",
    "profile = pd.read_json('data/profile.json', orient='records', lines=True)\n",
    "\n",
    "transcript = pd.read_json('data/transcript.json', orient='records', lines=True)"
   ]
  },
  {
   "cell_type": "markdown",
   "metadata": {},
   "source": [
    "## Data Exploration\n",
    "\n",
    "Prilimainary exploration of the raw data from the json file. "
   ]
  },
  {
   "cell_type": "markdown",
   "metadata": {},
   "source": [
    "### Portfolio Data\n",
    "\n",
    "\n",
    "**portfolio.json**\n",
    "* id (string) - offer id\n",
    "* offer_type (string) - type of offer ie BOGO, discount, informational\n",
    "* difficulty (int) - minimum required spend to complete an offer\n",
    "* reward (int) - reward given for completing an offer\n",
    "* duration (int) - time for offer to be open, in days\n",
    "* channels (list of strings)"
   ]
  },
  {
   "cell_type": "code",
   "execution_count": 3,
   "metadata": {},
   "outputs": [
    {
     "data": {
      "text/html": [
       "<div>\n",
       "<style scoped>\n",
       "    .dataframe tbody tr th:only-of-type {\n",
       "        vertical-align: middle;\n",
       "    }\n",
       "\n",
       "    .dataframe tbody tr th {\n",
       "        vertical-align: top;\n",
       "    }\n",
       "\n",
       "    .dataframe thead th {\n",
       "        text-align: right;\n",
       "    }\n",
       "</style>\n",
       "<table border=\"1\" class=\"dataframe\">\n",
       "  <thead>\n",
       "    <tr style=\"text-align: right;\">\n",
       "      <th></th>\n",
       "      <th>reward</th>\n",
       "      <th>channels</th>\n",
       "      <th>difficulty</th>\n",
       "      <th>duration</th>\n",
       "      <th>offer_type</th>\n",
       "      <th>id</th>\n",
       "    </tr>\n",
       "  </thead>\n",
       "  <tbody>\n",
       "    <tr>\n",
       "      <th>0</th>\n",
       "      <td>10</td>\n",
       "      <td>[email, mobile, social]</td>\n",
       "      <td>10</td>\n",
       "      <td>7</td>\n",
       "      <td>bogo</td>\n",
       "      <td>ae264e3637204a6fb9bb56bc8210ddfd</td>\n",
       "    </tr>\n",
       "    <tr>\n",
       "      <th>1</th>\n",
       "      <td>10</td>\n",
       "      <td>[web, email, mobile, social]</td>\n",
       "      <td>10</td>\n",
       "      <td>5</td>\n",
       "      <td>bogo</td>\n",
       "      <td>4d5c57ea9a6940dd891ad53e9dbe8da0</td>\n",
       "    </tr>\n",
       "    <tr>\n",
       "      <th>2</th>\n",
       "      <td>0</td>\n",
       "      <td>[web, email, mobile]</td>\n",
       "      <td>0</td>\n",
       "      <td>4</td>\n",
       "      <td>informational</td>\n",
       "      <td>3f207df678b143eea3cee63160fa8bed</td>\n",
       "    </tr>\n",
       "    <tr>\n",
       "      <th>3</th>\n",
       "      <td>5</td>\n",
       "      <td>[web, email, mobile]</td>\n",
       "      <td>5</td>\n",
       "      <td>7</td>\n",
       "      <td>bogo</td>\n",
       "      <td>9b98b8c7a33c4b65b9aebfe6a799e6d9</td>\n",
       "    </tr>\n",
       "    <tr>\n",
       "      <th>4</th>\n",
       "      <td>5</td>\n",
       "      <td>[web, email]</td>\n",
       "      <td>20</td>\n",
       "      <td>10</td>\n",
       "      <td>discount</td>\n",
       "      <td>0b1e1539f2cc45b7b9fa7c272da2e1d7</td>\n",
       "    </tr>\n",
       "    <tr>\n",
       "      <th>5</th>\n",
       "      <td>3</td>\n",
       "      <td>[web, email, mobile, social]</td>\n",
       "      <td>7</td>\n",
       "      <td>7</td>\n",
       "      <td>discount</td>\n",
       "      <td>2298d6c36e964ae4a3e7e9706d1fb8c2</td>\n",
       "    </tr>\n",
       "    <tr>\n",
       "      <th>6</th>\n",
       "      <td>2</td>\n",
       "      <td>[web, email, mobile, social]</td>\n",
       "      <td>10</td>\n",
       "      <td>10</td>\n",
       "      <td>discount</td>\n",
       "      <td>fafdcd668e3743c1bb461111dcafc2a4</td>\n",
       "    </tr>\n",
       "    <tr>\n",
       "      <th>7</th>\n",
       "      <td>0</td>\n",
       "      <td>[email, mobile, social]</td>\n",
       "      <td>0</td>\n",
       "      <td>3</td>\n",
       "      <td>informational</td>\n",
       "      <td>5a8bc65990b245e5a138643cd4eb9837</td>\n",
       "    </tr>\n",
       "    <tr>\n",
       "      <th>8</th>\n",
       "      <td>5</td>\n",
       "      <td>[web, email, mobile, social]</td>\n",
       "      <td>5</td>\n",
       "      <td>5</td>\n",
       "      <td>bogo</td>\n",
       "      <td>f19421c1d4aa40978ebb69ca19b0e20d</td>\n",
       "    </tr>\n",
       "    <tr>\n",
       "      <th>9</th>\n",
       "      <td>2</td>\n",
       "      <td>[web, email, mobile]</td>\n",
       "      <td>10</td>\n",
       "      <td>7</td>\n",
       "      <td>discount</td>\n",
       "      <td>2906b810c7d4411798c6938adc9daaa5</td>\n",
       "    </tr>\n",
       "  </tbody>\n",
       "</table>\n",
       "</div>"
      ],
      "text/plain": [
       "   reward                      channels  difficulty  duration     offer_type  \\\n",
       "0      10       [email, mobile, social]          10         7           bogo   \n",
       "1      10  [web, email, mobile, social]          10         5           bogo   \n",
       "2       0          [web, email, mobile]           0         4  informational   \n",
       "3       5          [web, email, mobile]           5         7           bogo   \n",
       "4       5                  [web, email]          20        10       discount   \n",
       "5       3  [web, email, mobile, social]           7         7       discount   \n",
       "6       2  [web, email, mobile, social]          10        10       discount   \n",
       "7       0       [email, mobile, social]           0         3  informational   \n",
       "8       5  [web, email, mobile, social]           5         5           bogo   \n",
       "9       2          [web, email, mobile]          10         7       discount   \n",
       "\n",
       "                                 id  \n",
       "0  ae264e3637204a6fb9bb56bc8210ddfd  \n",
       "1  4d5c57ea9a6940dd891ad53e9dbe8da0  \n",
       "2  3f207df678b143eea3cee63160fa8bed  \n",
       "3  9b98b8c7a33c4b65b9aebfe6a799e6d9  \n",
       "4  0b1e1539f2cc45b7b9fa7c272da2e1d7  \n",
       "5  2298d6c36e964ae4a3e7e9706d1fb8c2  \n",
       "6  fafdcd668e3743c1bb461111dcafc2a4  \n",
       "7  5a8bc65990b245e5a138643cd4eb9837  \n",
       "8  f19421c1d4aa40978ebb69ca19b0e20d  \n",
       "9  2906b810c7d4411798c6938adc9daaa5  "
      ]
     },
     "execution_count": 3,
     "metadata": {},
     "output_type": "execute_result"
    }
   ],
   "source": [
    "#Glimpse of Portfolio data\n",
    "portfolio"
   ]
  },
  {
   "cell_type": "code",
   "execution_count": 4,
   "metadata": {},
   "outputs": [
    {
     "name": "stdout",
     "output_type": "stream",
     "text": [
      "<class 'pandas.core.frame.DataFrame'>\n",
      "RangeIndex: 10 entries, 0 to 9\n",
      "Data columns (total 6 columns):\n",
      " #   Column      Non-Null Count  Dtype \n",
      "---  ------      --------------  ----- \n",
      " 0   reward      10 non-null     int64 \n",
      " 1   channels    10 non-null     object\n",
      " 2   difficulty  10 non-null     int64 \n",
      " 3   duration    10 non-null     int64 \n",
      " 4   offer_type  10 non-null     object\n",
      " 5   id          10 non-null     object\n",
      "dtypes: int64(3), object(3)\n",
      "memory usage: 608.0+ bytes\n"
     ]
    }
   ],
   "source": [
    "#Info of portfolio data\n",
    "portfolio.info()"
   ]
  },
  {
   "cell_type": "code",
   "execution_count": 5,
   "metadata": {},
   "outputs": [
    {
     "data": {
      "text/html": [
       "<div>\n",
       "<style scoped>\n",
       "    .dataframe tbody tr th:only-of-type {\n",
       "        vertical-align: middle;\n",
       "    }\n",
       "\n",
       "    .dataframe tbody tr th {\n",
       "        vertical-align: top;\n",
       "    }\n",
       "\n",
       "    .dataframe thead th {\n",
       "        text-align: right;\n",
       "    }\n",
       "</style>\n",
       "<table border=\"1\" class=\"dataframe\">\n",
       "  <thead>\n",
       "    <tr style=\"text-align: right;\">\n",
       "      <th></th>\n",
       "      <th>reward</th>\n",
       "      <th>difficulty</th>\n",
       "      <th>duration</th>\n",
       "    </tr>\n",
       "  </thead>\n",
       "  <tbody>\n",
       "    <tr>\n",
       "      <th>count</th>\n",
       "      <td>10.000000</td>\n",
       "      <td>10.000000</td>\n",
       "      <td>10.000000</td>\n",
       "    </tr>\n",
       "    <tr>\n",
       "      <th>mean</th>\n",
       "      <td>4.200000</td>\n",
       "      <td>7.700000</td>\n",
       "      <td>6.500000</td>\n",
       "    </tr>\n",
       "    <tr>\n",
       "      <th>std</th>\n",
       "      <td>3.583915</td>\n",
       "      <td>5.831905</td>\n",
       "      <td>2.321398</td>\n",
       "    </tr>\n",
       "    <tr>\n",
       "      <th>min</th>\n",
       "      <td>0.000000</td>\n",
       "      <td>0.000000</td>\n",
       "      <td>3.000000</td>\n",
       "    </tr>\n",
       "    <tr>\n",
       "      <th>25%</th>\n",
       "      <td>2.000000</td>\n",
       "      <td>5.000000</td>\n",
       "      <td>5.000000</td>\n",
       "    </tr>\n",
       "    <tr>\n",
       "      <th>50%</th>\n",
       "      <td>4.000000</td>\n",
       "      <td>8.500000</td>\n",
       "      <td>7.000000</td>\n",
       "    </tr>\n",
       "    <tr>\n",
       "      <th>75%</th>\n",
       "      <td>5.000000</td>\n",
       "      <td>10.000000</td>\n",
       "      <td>7.000000</td>\n",
       "    </tr>\n",
       "    <tr>\n",
       "      <th>max</th>\n",
       "      <td>10.000000</td>\n",
       "      <td>20.000000</td>\n",
       "      <td>10.000000</td>\n",
       "    </tr>\n",
       "  </tbody>\n",
       "</table>\n",
       "</div>"
      ],
      "text/plain": [
       "          reward  difficulty   duration\n",
       "count  10.000000   10.000000  10.000000\n",
       "mean    4.200000    7.700000   6.500000\n",
       "std     3.583915    5.831905   2.321398\n",
       "min     0.000000    0.000000   3.000000\n",
       "25%     2.000000    5.000000   5.000000\n",
       "50%     4.000000    8.500000   7.000000\n",
       "75%     5.000000   10.000000   7.000000\n",
       "max    10.000000   20.000000  10.000000"
      ]
     },
     "execution_count": 5,
     "metadata": {},
     "output_type": "execute_result"
    }
   ],
   "source": [
    "#Discription of Protfolio Data\n",
    "portfolio.describe()"
   ]
  },
  {
   "cell_type": "code",
   "execution_count": 6,
   "metadata": {
    "scrolled": true
   },
   "outputs": [
    {
     "name": "stdout",
     "output_type": "stream",
     "text": [
      "No of Duplicate values = 0\n",
      "\n",
      "\n",
      "No of Null values\n",
      "\n",
      " reward        0\n",
      "channels      0\n",
      "difficulty    0\n",
      "duration      0\n",
      "offer_type    0\n",
      "id            0\n",
      "dtype: int64\n"
     ]
    }
   ],
   "source": [
    "#Duplicat eand Null values check\n",
    "\n",
    "print('No of Duplicate values =',portfolio['id'].duplicated().sum())\n",
    "print('\\n')\n",
    "print('No of Null values\\n\\n', portfolio.isna().sum())"
   ]
  },
  {
   "cell_type": "code",
   "execution_count": null,
   "metadata": {},
   "outputs": [],
   "source": []
  },
  {
   "cell_type": "code",
   "execution_count": 7,
   "metadata": {},
   "outputs": [],
   "source": [
    "## Profile Data"
   ]
  },
  {
   "cell_type": "markdown",
   "metadata": {},
   "source": [
    "### Profile Data\n",
    "\n",
    "**profile.json**\n",
    "* age (int) - age of the customer \n",
    "* became_member_on (int) - date when customer created an app account\n",
    "* gender (str) - gender of the customer (note some entries contain 'O' for other rather than M or F)\n",
    "* id (str) - customer id\n",
    "* income (float) - customer's income\n"
   ]
  },
  {
   "cell_type": "code",
   "execution_count": 8,
   "metadata": {},
   "outputs": [
    {
     "data": {
      "text/html": [
       "<div>\n",
       "<style scoped>\n",
       "    .dataframe tbody tr th:only-of-type {\n",
       "        vertical-align: middle;\n",
       "    }\n",
       "\n",
       "    .dataframe tbody tr th {\n",
       "        vertical-align: top;\n",
       "    }\n",
       "\n",
       "    .dataframe thead th {\n",
       "        text-align: right;\n",
       "    }\n",
       "</style>\n",
       "<table border=\"1\" class=\"dataframe\">\n",
       "  <thead>\n",
       "    <tr style=\"text-align: right;\">\n",
       "      <th></th>\n",
       "      <th>gender</th>\n",
       "      <th>age</th>\n",
       "      <th>id</th>\n",
       "      <th>became_member_on</th>\n",
       "      <th>income</th>\n",
       "    </tr>\n",
       "  </thead>\n",
       "  <tbody>\n",
       "    <tr>\n",
       "      <th>12458</th>\n",
       "      <td>None</td>\n",
       "      <td>118</td>\n",
       "      <td>c28414b774094421b34abfe44c6d303c</td>\n",
       "      <td>20180313</td>\n",
       "      <td>NaN</td>\n",
       "    </tr>\n",
       "    <tr>\n",
       "      <th>1276</th>\n",
       "      <td>M</td>\n",
       "      <td>30</td>\n",
       "      <td>f7058c1fbbed48689edd0440b4dd7ae5</td>\n",
       "      <td>20180621</td>\n",
       "      <td>55000.0</td>\n",
       "    </tr>\n",
       "    <tr>\n",
       "      <th>7860</th>\n",
       "      <td>None</td>\n",
       "      <td>118</td>\n",
       "      <td>70d11cdff70d4e7a9cb5d11cac23a88c</td>\n",
       "      <td>20171220</td>\n",
       "      <td>NaN</td>\n",
       "    </tr>\n",
       "    <tr>\n",
       "      <th>11009</th>\n",
       "      <td>M</td>\n",
       "      <td>56</td>\n",
       "      <td>bbdcf97a4eab4908a29c203ea8e133b6</td>\n",
       "      <td>20171126</td>\n",
       "      <td>73000.0</td>\n",
       "    </tr>\n",
       "    <tr>\n",
       "      <th>1641</th>\n",
       "      <td>M</td>\n",
       "      <td>54</td>\n",
       "      <td>72458fa98466484c85dd63393a243250</td>\n",
       "      <td>20170610</td>\n",
       "      <td>71000.0</td>\n",
       "    </tr>\n",
       "    <tr>\n",
       "      <th>9805</th>\n",
       "      <td>None</td>\n",
       "      <td>118</td>\n",
       "      <td>455d955f7c364290bd59e0c67f422324</td>\n",
       "      <td>20171226</td>\n",
       "      <td>NaN</td>\n",
       "    </tr>\n",
       "    <tr>\n",
       "      <th>9231</th>\n",
       "      <td>M</td>\n",
       "      <td>41</td>\n",
       "      <td>f26e371122ca443b957ce94bcd37f48d</td>\n",
       "      <td>20160610</td>\n",
       "      <td>61000.0</td>\n",
       "    </tr>\n",
       "    <tr>\n",
       "      <th>12191</th>\n",
       "      <td>F</td>\n",
       "      <td>58</td>\n",
       "      <td>ed0780d61c1a49699b6592a05f5ae459</td>\n",
       "      <td>20160228</td>\n",
       "      <td>51000.0</td>\n",
       "    </tr>\n",
       "    <tr>\n",
       "      <th>8433</th>\n",
       "      <td>F</td>\n",
       "      <td>50</td>\n",
       "      <td>13b9a30150f94769aa55535001893d4e</td>\n",
       "      <td>20160626</td>\n",
       "      <td>103000.0</td>\n",
       "    </tr>\n",
       "    <tr>\n",
       "      <th>6399</th>\n",
       "      <td>F</td>\n",
       "      <td>71</td>\n",
       "      <td>fab66562e2d74078b1306d2549e90543</td>\n",
       "      <td>20160210</td>\n",
       "      <td>79000.0</td>\n",
       "    </tr>\n",
       "  </tbody>\n",
       "</table>\n",
       "</div>"
      ],
      "text/plain": [
       "      gender  age                                id  became_member_on  \\\n",
       "12458   None  118  c28414b774094421b34abfe44c6d303c          20180313   \n",
       "1276       M   30  f7058c1fbbed48689edd0440b4dd7ae5          20180621   \n",
       "7860    None  118  70d11cdff70d4e7a9cb5d11cac23a88c          20171220   \n",
       "11009      M   56  bbdcf97a4eab4908a29c203ea8e133b6          20171126   \n",
       "1641       M   54  72458fa98466484c85dd63393a243250          20170610   \n",
       "9805    None  118  455d955f7c364290bd59e0c67f422324          20171226   \n",
       "9231       M   41  f26e371122ca443b957ce94bcd37f48d          20160610   \n",
       "12191      F   58  ed0780d61c1a49699b6592a05f5ae459          20160228   \n",
       "8433       F   50  13b9a30150f94769aa55535001893d4e          20160626   \n",
       "6399       F   71  fab66562e2d74078b1306d2549e90543          20160210   \n",
       "\n",
       "         income  \n",
       "12458       NaN  \n",
       "1276    55000.0  \n",
       "7860        NaN  \n",
       "11009   73000.0  \n",
       "1641    71000.0  \n",
       "9805        NaN  \n",
       "9231    61000.0  \n",
       "12191   51000.0  \n",
       "8433   103000.0  \n",
       "6399    79000.0  "
      ]
     },
     "execution_count": 8,
     "metadata": {},
     "output_type": "execute_result"
    }
   ],
   "source": [
    "#Glimpse of Profile data\n",
    "profile.sample(10)"
   ]
  },
  {
   "cell_type": "code",
   "execution_count": 9,
   "metadata": {},
   "outputs": [
    {
     "name": "stdout",
     "output_type": "stream",
     "text": [
      "<class 'pandas.core.frame.DataFrame'>\n",
      "RangeIndex: 17000 entries, 0 to 16999\n",
      "Data columns (total 5 columns):\n",
      " #   Column            Non-Null Count  Dtype  \n",
      "---  ------            --------------  -----  \n",
      " 0   gender            14825 non-null  object \n",
      " 1   age               17000 non-null  int64  \n",
      " 2   id                17000 non-null  object \n",
      " 3   became_member_on  17000 non-null  int64  \n",
      " 4   income            14825 non-null  float64\n",
      "dtypes: float64(1), int64(2), object(2)\n",
      "memory usage: 664.2+ KB\n"
     ]
    }
   ],
   "source": [
    "#Info of Profile data\n",
    "profile.info()"
   ]
  },
  {
   "cell_type": "code",
   "execution_count": 10,
   "metadata": {
    "scrolled": false
   },
   "outputs": [
    {
     "data": {
      "text/html": [
       "<div>\n",
       "<style scoped>\n",
       "    .dataframe tbody tr th:only-of-type {\n",
       "        vertical-align: middle;\n",
       "    }\n",
       "\n",
       "    .dataframe tbody tr th {\n",
       "        vertical-align: top;\n",
       "    }\n",
       "\n",
       "    .dataframe thead th {\n",
       "        text-align: right;\n",
       "    }\n",
       "</style>\n",
       "<table border=\"1\" class=\"dataframe\">\n",
       "  <thead>\n",
       "    <tr style=\"text-align: right;\">\n",
       "      <th></th>\n",
       "      <th>age</th>\n",
       "      <th>became_member_on</th>\n",
       "      <th>income</th>\n",
       "    </tr>\n",
       "  </thead>\n",
       "  <tbody>\n",
       "    <tr>\n",
       "      <th>count</th>\n",
       "      <td>17000.000000</td>\n",
       "      <td>1.700000e+04</td>\n",
       "      <td>14825.000000</td>\n",
       "    </tr>\n",
       "    <tr>\n",
       "      <th>mean</th>\n",
       "      <td>62.531412</td>\n",
       "      <td>2.016703e+07</td>\n",
       "      <td>65404.991568</td>\n",
       "    </tr>\n",
       "    <tr>\n",
       "      <th>std</th>\n",
       "      <td>26.738580</td>\n",
       "      <td>1.167750e+04</td>\n",
       "      <td>21598.299410</td>\n",
       "    </tr>\n",
       "    <tr>\n",
       "      <th>min</th>\n",
       "      <td>18.000000</td>\n",
       "      <td>2.013073e+07</td>\n",
       "      <td>30000.000000</td>\n",
       "    </tr>\n",
       "    <tr>\n",
       "      <th>25%</th>\n",
       "      <td>45.000000</td>\n",
       "      <td>2.016053e+07</td>\n",
       "      <td>49000.000000</td>\n",
       "    </tr>\n",
       "    <tr>\n",
       "      <th>50%</th>\n",
       "      <td>58.000000</td>\n",
       "      <td>2.017080e+07</td>\n",
       "      <td>64000.000000</td>\n",
       "    </tr>\n",
       "    <tr>\n",
       "      <th>75%</th>\n",
       "      <td>73.000000</td>\n",
       "      <td>2.017123e+07</td>\n",
       "      <td>80000.000000</td>\n",
       "    </tr>\n",
       "    <tr>\n",
       "      <th>max</th>\n",
       "      <td>118.000000</td>\n",
       "      <td>2.018073e+07</td>\n",
       "      <td>120000.000000</td>\n",
       "    </tr>\n",
       "  </tbody>\n",
       "</table>\n",
       "</div>"
      ],
      "text/plain": [
       "                age  became_member_on         income\n",
       "count  17000.000000      1.700000e+04   14825.000000\n",
       "mean      62.531412      2.016703e+07   65404.991568\n",
       "std       26.738580      1.167750e+04   21598.299410\n",
       "min       18.000000      2.013073e+07   30000.000000\n",
       "25%       45.000000      2.016053e+07   49000.000000\n",
       "50%       58.000000      2.017080e+07   64000.000000\n",
       "75%       73.000000      2.017123e+07   80000.000000\n",
       "max      118.000000      2.018073e+07  120000.000000"
      ]
     },
     "execution_count": 10,
     "metadata": {},
     "output_type": "execute_result"
    }
   ],
   "source": [
    "#Discription of Profile Data\n",
    "profile.describe()\n"
   ]
  },
  {
   "cell_type": "code",
   "execution_count": 11,
   "metadata": {},
   "outputs": [
    {
     "data": {
      "text/plain": [
       "<AxesSubplot:xlabel='age'>"
      ]
     },
     "execution_count": 11,
     "metadata": {},
     "output_type": "execute_result"
    },
    {
     "data": {
      "image/png": "[encoded data removed]",
      "text/plain": [
       "<Figure size 432x72 with 1 Axes>"
      ]
     },
     "metadata": {
      "needs_background": "light"
     },
     "output_type": "display_data"
    }
   ],
   "source": [
    "#Box plot for age distribution\n",
    "\n",
    "plt.figure(figsize=[6,1])\n",
    "sns.boxplot(data=profile, x='age')"
   ]
  },
  {
   "cell_type": "markdown",
   "metadata": {},
   "source": [
    "There seems to be few very haigh values for age(eg: 118 yrs). This is  likely to be an erronious data. "
   ]
  },
  {
   "cell_type": "code",
   "execution_count": 12,
   "metadata": {},
   "outputs": [
    {
     "name": "stdout",
     "output_type": "stream",
     "text": [
      "No of Duplicate values = 0\n",
      "\n",
      "\n",
      "No of Null values\n",
      "\n",
      " gender              2175\n",
      "age                    0\n",
      "id                     0\n",
      "became_member_on       0\n",
      "income              2175\n",
      "dtype: int64\n",
      "\n",
      "\n",
      "\n",
      "Percentage of missing data:  12.79 %\n"
     ]
    }
   ],
   "source": [
    "#Duplicate and Null values check\n",
    "\n",
    "\n",
    "print('No of Duplicate values =',profile['id'].duplicated().sum())\n",
    "print('\\n')\n",
    "print('No of Null values\\n\\n', profile.isna().sum())\n",
    "print('\\n')\n",
    "# Checking percentage of null values\n",
    "print('\\nPercentage of missing data: ', round((profile.gender.isna().sum()*100 / profile.shape[0]),2),'%')\n"
   ]
  },
  {
   "cell_type": "code",
   "execution_count": 13,
   "metadata": {},
   "outputs": [
    {
     "data": {
      "text/plain": [
       "<AxesSubplot:>"
      ]
     },
     "execution_count": 13,
     "metadata": {},
     "output_type": "execute_result"
    },
    {
     "data": {
      "image/png": "[encoded data removed]",
      "text/plain": [
       "<Figure size 432x288 with 1 Axes>"
      ]
     },
     "metadata": {
      "needs_background": "light"
     },
     "output_type": "display_data"
    }
   ],
   "source": [
    "\n",
    "# Visualize Missing Data\n",
    "sns.heatmap(profile.isnull(), yticklabels = False, cbar = False, cmap=\"Blues\")\n"
   ]
  },
  {
   "cell_type": "markdown",
   "metadata": {},
   "source": [
    "### Transcript Data\n",
    "\n",
    "**transcript.json**\n",
    "\n",
    "* event (str) - record description (ie transaction, offer received, offer viewed, etc.)\n",
    "* person (str) - customer id\n",
    "* time (int) - time in hours since start of test. The data begins at time t=0\n",
    "* value - (dict of strings) - either an offer id or transaction amount depending on the record\n"
   ]
  },
  {
   "cell_type": "code",
   "execution_count": 14,
   "metadata": {},
   "outputs": [
    {
     "data": {
      "text/html": [
       "<div>\n",
       "<style scoped>\n",
       "    .dataframe tbody tr th:only-of-type {\n",
       "        vertical-align: middle;\n",
       "    }\n",
       "\n",
       "    .dataframe tbody tr th {\n",
       "        vertical-align: top;\n",
       "    }\n",
       "\n",
       "    .dataframe thead th {\n",
       "        text-align: right;\n",
       "    }\n",
       "</style>\n",
       "<table border=\"1\" class=\"dataframe\">\n",
       "  <thead>\n",
       "    <tr style=\"text-align: right;\">\n",
       "      <th></th>\n",
       "      <th>person</th>\n",
       "      <th>event</th>\n",
       "      <th>value</th>\n",
       "      <th>time</th>\n",
       "    </tr>\n",
       "  </thead>\n",
       "  <tbody>\n",
       "    <tr>\n",
       "      <th>282117</th>\n",
       "      <td>86a32235141948dd85e67ad2a3b530c6</td>\n",
       "      <td>transaction</td>\n",
       "      <td>{'amount': 2.19}</td>\n",
       "      <td>624</td>\n",
       "    </tr>\n",
       "    <tr>\n",
       "      <th>224917</th>\n",
       "      <td>0eae927d54084bd5925a65d801a665cf</td>\n",
       "      <td>transaction</td>\n",
       "      <td>{'amount': 1.99}</td>\n",
       "      <td>516</td>\n",
       "    </tr>\n",
       "    <tr>\n",
       "      <th>240069</th>\n",
       "      <td>fff7576017104bcc8677a8d63322b5e1</td>\n",
       "      <td>transaction</td>\n",
       "      <td>{'amount': 2.08}</td>\n",
       "      <td>558</td>\n",
       "    </tr>\n",
       "    <tr>\n",
       "      <th>195712</th>\n",
       "      <td>0cca2a7a1b6c44c9b0c7b78856dfd40b</td>\n",
       "      <td>transaction</td>\n",
       "      <td>{'amount': 14.01}</td>\n",
       "      <td>480</td>\n",
       "    </tr>\n",
       "    <tr>\n",
       "      <th>118493</th>\n",
       "      <td>8ed64cd9600948b89eb41be4de183788</td>\n",
       "      <td>offer received</td>\n",
       "      <td>{'offer id': '2906b810c7d4411798c6938adc9daaa5'}</td>\n",
       "      <td>336</td>\n",
       "    </tr>\n",
       "    <tr>\n",
       "      <th>264727</th>\n",
       "      <td>7289d4edea3843f28c2ceeddcff360d2</td>\n",
       "      <td>offer viewed</td>\n",
       "      <td>{'offer id': '9b98b8c7a33c4b65b9aebfe6a799e6d9'}</td>\n",
       "      <td>582</td>\n",
       "    </tr>\n",
       "    <tr>\n",
       "      <th>272169</th>\n",
       "      <td>170fb4372d3a4cf3a09df0e5504546ee</td>\n",
       "      <td>transaction</td>\n",
       "      <td>{'amount': 15.8}</td>\n",
       "      <td>600</td>\n",
       "    </tr>\n",
       "    <tr>\n",
       "      <th>296809</th>\n",
       "      <td>e4762356dd2a488bb6e0733a06469078</td>\n",
       "      <td>transaction</td>\n",
       "      <td>{'amount': 1.58}</td>\n",
       "      <td>672</td>\n",
       "    </tr>\n",
       "    <tr>\n",
       "      <th>113012</th>\n",
       "      <td>0e1578217ad7455d8cb08509eeee1aee</td>\n",
       "      <td>offer received</td>\n",
       "      <td>{'offer id': '2298d6c36e964ae4a3e7e9706d1fb8c2'}</td>\n",
       "      <td>336</td>\n",
       "    </tr>\n",
       "    <tr>\n",
       "      <th>86854</th>\n",
       "      <td>a7322a1900194a128175928b0b0cdadb</td>\n",
       "      <td>offer viewed</td>\n",
       "      <td>{'offer id': '4d5c57ea9a6940dd891ad53e9dbe8da0'}</td>\n",
       "      <td>216</td>\n",
       "    </tr>\n",
       "  </tbody>\n",
       "</table>\n",
       "</div>"
      ],
      "text/plain": [
       "                                  person           event  \\\n",
       "282117  86a32235141948dd85e67ad2a3b530c6     transaction   \n",
       "224917  0eae927d54084bd5925a65d801a665cf     transaction   \n",
       "240069  fff7576017104bcc8677a8d63322b5e1     transaction   \n",
       "195712  0cca2a7a1b6c44c9b0c7b78856dfd40b     transaction   \n",
       "118493  8ed64cd9600948b89eb41be4de183788  offer received   \n",
       "264727  7289d4edea3843f28c2ceeddcff360d2    offer viewed   \n",
       "272169  170fb4372d3a4cf3a09df0e5504546ee     transaction   \n",
       "296809  e4762356dd2a488bb6e0733a06469078     transaction   \n",
       "113012  0e1578217ad7455d8cb08509eeee1aee  offer received   \n",
       "86854   a7322a1900194a128175928b0b0cdadb    offer viewed   \n",
       "\n",
       "                                                   value  time  \n",
       "282117                                  {'amount': 2.19}   624  \n",
       "224917                                  {'amount': 1.99}   516  \n",
       "240069                                  {'amount': 2.08}   558  \n",
       "195712                                 {'amount': 14.01}   480  \n",
       "118493  {'offer id': '2906b810c7d4411798c6938adc9daaa5'}   336  \n",
       "264727  {'offer id': '9b98b8c7a33c4b65b9aebfe6a799e6d9'}   582  \n",
       "272169                                  {'amount': 15.8}   600  \n",
       "296809                                  {'amount': 1.58}   672  \n",
       "113012  {'offer id': '2298d6c36e964ae4a3e7e9706d1fb8c2'}   336  \n",
       "86854   {'offer id': '4d5c57ea9a6940dd891ad53e9dbe8da0'}   216  "
      ]
     },
     "execution_count": 14,
     "metadata": {},
     "output_type": "execute_result"
    }
   ],
   "source": [
    "#Glimpse of Profile data\n",
    "transcript.sample(10)"
   ]
  },
  {
   "cell_type": "code",
   "execution_count": 15,
   "metadata": {},
   "outputs": [
    {
     "name": "stdout",
     "output_type": "stream",
     "text": [
      "<class 'pandas.core.frame.DataFrame'>\n",
      "RangeIndex: 306534 entries, 0 to 306533\n",
      "Data columns (total 4 columns):\n",
      " #   Column  Non-Null Count   Dtype \n",
      "---  ------  --------------   ----- \n",
      " 0   person  306534 non-null  object\n",
      " 1   event   306534 non-null  object\n",
      " 2   value   306534 non-null  object\n",
      " 3   time    306534 non-null  int64 \n",
      "dtypes: int64(1), object(3)\n",
      "memory usage: 9.4+ MB\n"
     ]
    }
   ],
   "source": [
    "#Info of Profile data\n",
    "transcript.info()"
   ]
  },
  {
   "cell_type": "code",
   "execution_count": 16,
   "metadata": {},
   "outputs": [
    {
     "data": {
      "text/html": [
       "<div>\n",
       "<style scoped>\n",
       "    .dataframe tbody tr th:only-of-type {\n",
       "        vertical-align: middle;\n",
       "    }\n",
       "\n",
       "    .dataframe tbody tr th {\n",
       "        vertical-align: top;\n",
       "    }\n",
       "\n",
       "    .dataframe thead th {\n",
       "        text-align: right;\n",
       "    }\n",
       "</style>\n",
       "<table border=\"1\" class=\"dataframe\">\n",
       "  <thead>\n",
       "    <tr style=\"text-align: right;\">\n",
       "      <th></th>\n",
       "      <th>time</th>\n",
       "    </tr>\n",
       "  </thead>\n",
       "  <tbody>\n",
       "    <tr>\n",
       "      <th>count</th>\n",
       "      <td>306534.000000</td>\n",
       "    </tr>\n",
       "    <tr>\n",
       "      <th>mean</th>\n",
       "      <td>366.382940</td>\n",
       "    </tr>\n",
       "    <tr>\n",
       "      <th>std</th>\n",
       "      <td>200.326314</td>\n",
       "    </tr>\n",
       "    <tr>\n",
       "      <th>min</th>\n",
       "      <td>0.000000</td>\n",
       "    </tr>\n",
       "    <tr>\n",
       "      <th>25%</th>\n",
       "      <td>186.000000</td>\n",
       "    </tr>\n",
       "    <tr>\n",
       "      <th>50%</th>\n",
       "      <td>408.000000</td>\n",
       "    </tr>\n",
       "    <tr>\n",
       "      <th>75%</th>\n",
       "      <td>528.000000</td>\n",
       "    </tr>\n",
       "    <tr>\n",
       "      <th>max</th>\n",
       "      <td>714.000000</td>\n",
       "    </tr>\n",
       "  </tbody>\n",
       "</table>\n",
       "</div>"
      ],
      "text/plain": [
       "                time\n",
       "count  306534.000000\n",
       "mean      366.382940\n",
       "std       200.326314\n",
       "min         0.000000\n",
       "25%       186.000000\n",
       "50%       408.000000\n",
       "75%       528.000000\n",
       "max       714.000000"
      ]
     },
     "execution_count": 16,
     "metadata": {},
     "output_type": "execute_result"
    }
   ],
   "source": [
    "#Discription of Profile Data\n",
    "transcript.describe()"
   ]
  },
  {
   "cell_type": "code",
   "execution_count": 17,
   "metadata": {},
   "outputs": [
    {
     "name": "stdout",
     "output_type": "stream",
     "text": [
      "No of Null values\n",
      "\n",
      " person    0\n",
      "event     0\n",
      "value     0\n",
      "time      0\n",
      "dtype: int64\n",
      "\n",
      "\n"
     ]
    }
   ],
   "source": [
    "#Null values check\n",
    "\n",
    "print('No of Null values\\n\\n', transcript.isna().sum())\n",
    "print('\\n')\n",
    "\n"
   ]
  },
  {
   "cell_type": "markdown",
   "metadata": {},
   "source": [
    "## Data Structuring"
   ]
  },
  {
   "cell_type": "markdown",
   "metadata": {},
   "source": [
    "### Portfolio\n",
    "\n",
    "* 'Channels' colum is in the form of list.\n",
    "* Rename column name to make it consistant actoss all datasets.\n",
    "* Create a column offer_name, assign a recogonizable identifyer\n"
   ]
  },
  {
   "cell_type": "code",
   "execution_count": 18,
   "metadata": {},
   "outputs": [],
   "source": [
    "def rename_cols(df, new_col_names):\n",
    "    \"\"\"\n",
    "    INPUT\n",
    "    ----------\n",
    "    df: input dataframe for renaming columns\n",
    "    new_col_names: define new column name for each column\n",
    "    \n",
    "    OUTPUT\n",
    "    -------\n",
    "    df: output data frame with renamed column names\n",
    "       \n",
    "    \"\"\"\n",
    "\n",
    "    df= df.rename(columns = new_col_names)\n",
    "    return df"
   ]
  },
  {
   "cell_type": "code",
   "execution_count": 19,
   "metadata": {},
   "outputs": [],
   "source": [
    "def clean_portfolio(portfolio=portfolio):\n",
    "    '''\n",
    "    INPUT:\n",
    "    portfolio - (pandas dataframe), portfolio data\n",
    "    \n",
    "    OUTPUT:\n",
    "    portfolio - (pandas dataframe), cleaned portfolio data\n",
    "\n",
    "    \n",
    "    Description:\n",
    "    This function cleans the dat and provides a DatFrame with Offer ID and other data about the offer. \n",
    "    '''    \n",
    "    new_col_names_portfolio = {'difficulty':'offer_difficulty' , 'id':'offer_id', \n",
    "                 'duration':'offer_duration', 'reward': 'offer_reward'}\n",
    "    portfolio  = portfolio.rename(columns= new_col_names_portfolio )\n",
    "    \n",
    "    \n",
    "    #Create new column Offer name to assign a recogonizable identifyer for each of the 10 offers. \n",
    "    new_col = {'offer_name' : ['offer_1', 'offer_2','offer_3','offer_4',\n",
    "                              'offer_5','offer_6','offer_7','offer_8','offer_9','offer_10' ]}\n",
    "    portfolio['offer_name'] = pd.DataFrame(new_col)\n",
    "    \n",
    "    # One hot encode the 'offertype' column\n",
    "    #offertype = pd.get_dummies(portfolio['offer_type'])\n",
    "    \n",
    "    # One hot encode the 'channels' columns\n",
    "    mlb = MultiLabelBinarizer()\n",
    "    mlb_fit = mlb.fit(portfolio['channels'])\n",
    "    channels_df = pd.DataFrame(mlb_fit.transform(portfolio['channels']),columns=mlb_fit.classes_)\n",
    "    \n",
    "    #Drop the old 'channels'\n",
    "    portfolio = portfolio.drop(columns=['channels'])\n",
    "    \n",
    "    #Replace the 'offertype' and 'channels' columns\n",
    "    portfolio = pd.concat([portfolio, channels_df], axis=1)\n",
    "    \n",
    "    \n",
    "    #Reorder the columns order\n",
    "    portfolio = portfolio[[ 'offer_id','offer_name','offer_type' ,'offer_difficulty','offer_duration',\n",
    "                           'offer_reward','email','mobile','social','web']]\n",
    "\n",
    "    return portfolio"
   ]
  },
  {
   "cell_type": "code",
   "execution_count": 20,
   "metadata": {
    "scrolled": true
   },
   "outputs": [
    {
     "data": {
      "text/html": [
       "<div>\n",
       "<style scoped>\n",
       "    .dataframe tbody tr th:only-of-type {\n",
       "        vertical-align: middle;\n",
       "    }\n",
       "\n",
       "    .dataframe tbody tr th {\n",
       "        vertical-align: top;\n",
       "    }\n",
       "\n",
       "    .dataframe thead th {\n",
       "        text-align: right;\n",
       "    }\n",
       "</style>\n",
       "<table border=\"1\" class=\"dataframe\">\n",
       "  <thead>\n",
       "    <tr style=\"text-align: right;\">\n",
       "      <th></th>\n",
       "      <th>offer_id</th>\n",
       "      <th>offer_name</th>\n",
       "      <th>offer_type</th>\n",
       "      <th>offer_difficulty</th>\n",
       "      <th>offer_duration</th>\n",
       "      <th>offer_reward</th>\n",
       "      <th>email</th>\n",
       "      <th>mobile</th>\n",
       "      <th>social</th>\n",
       "      <th>web</th>\n",
       "    </tr>\n",
       "  </thead>\n",
       "  <tbody>\n",
       "    <tr>\n",
       "      <th>0</th>\n",
       "      <td>ae264e3637204a6fb9bb56bc8210ddfd</td>\n",
       "      <td>offer_1</td>\n",
       "      <td>bogo</td>\n",
       "      <td>10</td>\n",
       "      <td>7</td>\n",
       "      <td>10</td>\n",
       "      <td>1</td>\n",
       "      <td>1</td>\n",
       "      <td>1</td>\n",
       "      <td>0</td>\n",
       "    </tr>\n",
       "    <tr>\n",
       "      <th>1</th>\n",
       "      <td>4d5c57ea9a6940dd891ad53e9dbe8da0</td>\n",
       "      <td>offer_2</td>\n",
       "      <td>bogo</td>\n",
       "      <td>10</td>\n",
       "      <td>5</td>\n",
       "      <td>10</td>\n",
       "      <td>1</td>\n",
       "      <td>1</td>\n",
       "      <td>1</td>\n",
       "      <td>1</td>\n",
       "    </tr>\n",
       "    <tr>\n",
       "      <th>2</th>\n",
       "      <td>3f207df678b143eea3cee63160fa8bed</td>\n",
       "      <td>offer_3</td>\n",
       "      <td>informational</td>\n",
       "      <td>0</td>\n",
       "      <td>4</td>\n",
       "      <td>0</td>\n",
       "      <td>1</td>\n",
       "      <td>1</td>\n",
       "      <td>0</td>\n",
       "      <td>1</td>\n",
       "    </tr>\n",
       "    <tr>\n",
       "      <th>3</th>\n",
       "      <td>9b98b8c7a33c4b65b9aebfe6a799e6d9</td>\n",
       "      <td>offer_4</td>\n",
       "      <td>bogo</td>\n",
       "      <td>5</td>\n",
       "      <td>7</td>\n",
       "      <td>5</td>\n",
       "      <td>1</td>\n",
       "      <td>1</td>\n",
       "      <td>0</td>\n",
       "      <td>1</td>\n",
       "    </tr>\n",
       "    <tr>\n",
       "      <th>4</th>\n",
       "      <td>0b1e1539f2cc45b7b9fa7c272da2e1d7</td>\n",
       "      <td>offer_5</td>\n",
       "      <td>discount</td>\n",
       "      <td>20</td>\n",
       "      <td>10</td>\n",
       "      <td>5</td>\n",
       "      <td>1</td>\n",
       "      <td>0</td>\n",
       "      <td>0</td>\n",
       "      <td>1</td>\n",
       "    </tr>\n",
       "    <tr>\n",
       "      <th>5</th>\n",
       "      <td>2298d6c36e964ae4a3e7e9706d1fb8c2</td>\n",
       "      <td>offer_6</td>\n",
       "      <td>discount</td>\n",
       "      <td>7</td>\n",
       "      <td>7</td>\n",
       "      <td>3</td>\n",
       "      <td>1</td>\n",
       "      <td>1</td>\n",
       "      <td>1</td>\n",
       "      <td>1</td>\n",
       "    </tr>\n",
       "    <tr>\n",
       "      <th>6</th>\n",
       "      <td>fafdcd668e3743c1bb461111dcafc2a4</td>\n",
       "      <td>offer_7</td>\n",
       "      <td>discount</td>\n",
       "      <td>10</td>\n",
       "      <td>10</td>\n",
       "      <td>2</td>\n",
       "      <td>1</td>\n",
       "      <td>1</td>\n",
       "      <td>1</td>\n",
       "      <td>1</td>\n",
       "    </tr>\n",
       "    <tr>\n",
       "      <th>7</th>\n",
       "      <td>5a8bc65990b245e5a138643cd4eb9837</td>\n",
       "      <td>offer_8</td>\n",
       "      <td>informational</td>\n",
       "      <td>0</td>\n",
       "      <td>3</td>\n",
       "      <td>0</td>\n",
       "      <td>1</td>\n",
       "      <td>1</td>\n",
       "      <td>1</td>\n",
       "      <td>0</td>\n",
       "    </tr>\n",
       "    <tr>\n",
       "      <th>8</th>\n",
       "      <td>f19421c1d4aa40978ebb69ca19b0e20d</td>\n",
       "      <td>offer_9</td>\n",
       "      <td>bogo</td>\n",
       "      <td>5</td>\n",
       "      <td>5</td>\n",
       "      <td>5</td>\n",
       "      <td>1</td>\n",
       "      <td>1</td>\n",
       "      <td>1</td>\n",
       "      <td>1</td>\n",
       "    </tr>\n",
       "    <tr>\n",
       "      <th>9</th>\n",
       "      <td>2906b810c7d4411798c6938adc9daaa5</td>\n",
       "      <td>offer_10</td>\n",
       "      <td>discount</td>\n",
       "      <td>10</td>\n",
       "      <td>7</td>\n",
       "      <td>2</td>\n",
       "      <td>1</td>\n",
       "      <td>1</td>\n",
       "      <td>0</td>\n",
       "      <td>1</td>\n",
       "    </tr>\n",
       "  </tbody>\n",
       "</table>\n",
       "</div>"
      ],
      "text/plain": [
       "                           offer_id offer_name     offer_type  \\\n",
       "0  ae264e3637204a6fb9bb56bc8210ddfd    offer_1           bogo   \n",
       "1  4d5c57ea9a6940dd891ad53e9dbe8da0    offer_2           bogo   \n",
       "2  3f207df678b143eea3cee63160fa8bed    offer_3  informational   \n",
       "3  9b98b8c7a33c4b65b9aebfe6a799e6d9    offer_4           bogo   \n",
       "4  0b1e1539f2cc45b7b9fa7c272da2e1d7    offer_5       discount   \n",
       "5  2298d6c36e964ae4a3e7e9706d1fb8c2    offer_6       discount   \n",
       "6  fafdcd668e3743c1bb461111dcafc2a4    offer_7       discount   \n",
       "7  5a8bc65990b245e5a138643cd4eb9837    offer_8  informational   \n",
       "8  f19421c1d4aa40978ebb69ca19b0e20d    offer_9           bogo   \n",
       "9  2906b810c7d4411798c6938adc9daaa5   offer_10       discount   \n",
       "\n",
       "   offer_difficulty  offer_duration  offer_reward  email  mobile  social  web  \n",
       "0                10               7            10      1       1       1    0  \n",
       "1                10               5            10      1       1       1    1  \n",
       "2                 0               4             0      1       1       0    1  \n",
       "3                 5               7             5      1       1       0    1  \n",
       "4                20              10             5      1       0       0    1  \n",
       "5                 7               7             3      1       1       1    1  \n",
       "6                10              10             2      1       1       1    1  \n",
       "7                 0               3             0      1       1       1    0  \n",
       "8                 5               5             5      1       1       1    1  \n",
       "9                10               7             2      1       1       0    1  "
      ]
     },
     "execution_count": 20,
     "metadata": {},
     "output_type": "execute_result"
    }
   ],
   "source": [
    "#Checking the data\n",
    "\n",
    "\n",
    "portfolio_df = clean_portfolio(portfolio)\n",
    "#portfolio_df = portfolio_df[['offer_reward', 'channels', 'offer_difficulty', \n",
    "                             #'offer_duration', 'offer_type', 'offer_id', 'offer_name']]\n",
    "    \n",
    "portfolio_df"
   ]
  },
  {
   "cell_type": "code",
   "execution_count": null,
   "metadata": {},
   "outputs": [],
   "source": []
  },
  {
   "cell_type": "markdown",
   "metadata": {},
   "source": [
    "### Profile \n",
    "\n",
    "\n",
    "* Rename 'id', 'income' column.\n",
    "* Remove rows wth no 'income' data. \n",
    "* Encode 'gender' data. \n",
    "* Change datatype of 'became_member_on' column datatime.\n",
    "* Grouup the age into age ranges. \n",
    "* Encode the age ranges. \n"
   ]
  },
  {
   "cell_type": "code",
   "execution_count": 21,
   "metadata": {},
   "outputs": [],
   "source": [
    "def clean_profile(profile = profile):\n",
    "\n",
    "    '''\n",
    "    INPUT:\n",
    "    profile - (pandas dataframe), profile data\n",
    "    \n",
    "    OUTPUT:\n",
    "    portfolio - (pandas dataframe), cleaned profile data\n",
    "\n",
    "    \n",
    "    Description:\n",
    "    This function cleans the data and provides a DatFrame with cleaned profile data. \n",
    "    '''    \n",
    "        \n",
    "    #rename profile columns\n",
    "    new_col_profile = {'id':'customer_id' , 'income':'customer_income'}\n",
    "    profile = rename_cols(profile, new_col_profile )\n",
    "    \n",
    "    #Removed those with no income data\n",
    "    profile = profile[profile['customer_income'].notnull()]\n",
    "    \n",
    "    \n",
    "    #Removed customer with unspecified Gender\n",
    "    #profile = profile[profile['gender'] != 'O']\n",
    "    profile = profile.reset_index(drop=True)\n",
    "    \n",
    "    #binarizerobj = LabelBinarizer()\n",
    "    gender_df = pd.get_dummies(profile['gender']) \n",
    "    \n",
    "    #gender_integer_map = {}\n",
    "    #for i in binarizerobj.classes_:\n",
    "      #  gender_integer_map[i] = binarizerobj.transform([i])[0,0]\n",
    "        \n",
    "        \n",
    "    \n",
    "    #Change datetype of bacame_member_on column\n",
    "    profile['became_member_on'] = pd.to_datetime(profile['became_member_on'], format = '%Y%m%d')   \n",
    "    #Encode the year values\n",
    "    profile['membership_year'] = profile['became_member_on'].apply(lambda elem: elem.year)\n",
    "    membership_year_df = pd.get_dummies(profile['membership_year'])\n",
    "    \n",
    "    \n",
    "    #Group the Salary ranges\n",
    "    sal_labels = ['Under $25K',' $25,000 - $49,999','$50,000 - $74,999','$75,000 - $99,999', '$100K']\n",
    "    \n",
    "    profile['customer_income_range'] = pd.cut(profile['customer_income'], \n",
    "                                                      bins=[1, 25000, 49999, 74999, 99999, 150000] , \n",
    "                                  labels=sal_labels, include_lowest=True)\n",
    "    # Encode for Age ranges\n",
    "    salrange_df = pd.get_dummies(profile['customer_income_range'])\n",
    "    \n",
    "    \n",
    "    #Group the age ranges\n",
    "    labels = ['GenZ(18–25)', 'Millennias(26-43)', 'GenXers(44-56)',\n",
    "                            'Boomers(57-75)', 'Matures(76+)']\n",
    "    profile['age_group'] = pd.cut(profile['age'], bins=[18, 26, 44, 57, 76, 101] , \n",
    "                                  labels=labels, include_lowest=True)\n",
    "    \n",
    "    # Encode for Age ranges\n",
    "    agerange_df = pd.get_dummies(profile['age_group'])\n",
    "    \n",
    "    \n",
    "    # Appened all the encoded variables to the main dataframe\n",
    "    profile = pd.concat([profile,gender_df,\n",
    "                         agerange_df,salrange_df,\n",
    "                         membership_year_df], axis=1)\n",
    "\n",
    "    \n",
    "    # Drop depcreated columns\n",
    "    profile_da = profile[['customer_id', 'gender','age',\n",
    "            'age_group','customer_income','customer_income_range',\n",
    "            'became_member_on','membership_year']]\n",
    "    \n",
    "    profile_m = profile[['customer_id','F','M','O',\n",
    "            'GenZ(18–25)','Millennias(26-43)','GenXers(44-56)',\n",
    "            'Boomers(57-75)','Matures(76+)',\n",
    "            '$50,000 - $74,999','$75,000 - $99,999','$100K',\n",
    "            2013, 2014, 2015, 2016, 2017, 2018]]\n",
    "\n",
    "    return profile_da , profile_m\n",
    "profile_df, profile_m = clean_profile(profile)\n"
   ]
  },
  {
   "cell_type": "code",
   "execution_count": 22,
   "metadata": {},
   "outputs": [
    {
     "data": {
      "text/plain": [
       "Index(['customer_id', 'gender', 'age', 'age_group', 'customer_income',\n",
       "       'customer_income_range', 'became_member_on', 'membership_year'],\n",
       "      dtype='object')"
      ]
     },
     "execution_count": 22,
     "metadata": {},
     "output_type": "execute_result"
    }
   ],
   "source": [
    "profile_df.columns"
   ]
  },
  {
   "cell_type": "markdown",
   "metadata": {},
   "source": [
    "### Transcript:\n",
    "\n",
    "\n",
    "* Rename 'person', 'offerid' columns. \n",
    "* Remove customer ids that are not in 'Profile' data. \n",
    "* Convert hours to days and rename the 'time' column to 'time_in_days'\n",
    "* Extract 'offer_id' and -amount' details from the 'value' column and store them in separate columns.\n",
    "* Create 2 data frames one with Transaction data and another with offer data."
   ]
  },
  {
   "cell_type": "code",
   "execution_count": 23,
   "metadata": {},
   "outputs": [],
   "source": [
    "def clean_transcript(transcript =transcript):\n",
    "    \n",
    "    # Rename Transcript columns\n",
    "    new_col_transcript = {'person': 'customer_id' , 'offerid' : 'offer_id' }\n",
    "    transcript = rename_cols(transcript, new_col_transcript)\n",
    "\n",
    "    \n",
    "    # Remove customer id's that are not in the customer profile DataFrame\n",
    "    select_data = transcript['customer_id'].isin(profile['id'])\n",
    "    transcript = transcript[select_data]\n",
    "    \n",
    "    # Convert from hours to days\n",
    "    transcript['time'] = transcript['time'] // 24   \n",
    "    \n",
    "    # Change'person' column name to 'customer_id'\n",
    "    transcript = transcript.rename(columns={'time': 'time_in_days'})\n",
    "    \n",
    "    transcript['offer_id'] =\\\n",
    "        transcript['value'].apply(lambda elem: list(elem.values())[0])\n",
    "    \n",
    "    #Create seperate Dataframes for Offers and Transactions\n",
    "    \n",
    "    #1.Create Dataframe for Transactions\n",
    "    transactions = transcript[transcript['event']=='transaction'].drop(['value'], axis =1)\n",
    "    transactions = transactions.rename(columns={'offer_id': 'amount'})\n",
    "    \n",
    "    \n",
    "    # One hot encode customer offer events\n",
    "    transcript = transcript[transcript['event'].isin(['offer received' , \n",
    "                                                      'offer completed', 'offer viewed' ])].drop(['value'], axis =1)\n",
    "    event_df = pd.get_dummies(transcript['event'])\n",
    "    \n",
    "    #2.Create Dataframe for offers\n",
    "\n",
    "    offers = pd.concat([transcript,event_df], axis =1)\n",
    "    offers  = offers.rename(columns={'offer completed': 'completed','offer received':'received' , 'offer viewed': 'viewed'})\n",
    "    #offers = offers[['offer_id','customer_id', 'time_in_days', 'completed',\n",
    "           #'received', 'viewed']]\n",
    "    \n",
    "    return offers,transactions \n",
    "offers_df,transactions_df  = clean_transcript(transcript)"
   ]
  },
  {
   "cell_type": "code",
   "execution_count": 24,
   "metadata": {},
   "outputs": [
    {
     "data": {
      "text/html": [
       "<div>\n",
       "<style scoped>\n",
       "    .dataframe tbody tr th:only-of-type {\n",
       "        vertical-align: middle;\n",
       "    }\n",
       "\n",
       "    .dataframe tbody tr th {\n",
       "        vertical-align: top;\n",
       "    }\n",
       "\n",
       "    .dataframe thead th {\n",
       "        text-align: right;\n",
       "    }\n",
       "</style>\n",
       "<table border=\"1\" class=\"dataframe\">\n",
       "  <thead>\n",
       "    <tr style=\"text-align: right;\">\n",
       "      <th></th>\n",
       "      <th>customer_id</th>\n",
       "      <th>event</th>\n",
       "      <th>time_in_days</th>\n",
       "      <th>offer_id</th>\n",
       "      <th>completed</th>\n",
       "      <th>received</th>\n",
       "      <th>viewed</th>\n",
       "    </tr>\n",
       "  </thead>\n",
       "  <tbody>\n",
       "    <tr>\n",
       "      <th>221128</th>\n",
       "      <td>99a2fe3feea44fa6ae08c09f6f39cbeb</td>\n",
       "      <td>offer viewed</td>\n",
       "      <td>21</td>\n",
       "      <td>f19421c1d4aa40978ebb69ca19b0e20d</td>\n",
       "      <td>0</td>\n",
       "      <td>0</td>\n",
       "      <td>1</td>\n",
       "    </tr>\n",
       "    <tr>\n",
       "      <th>76486</th>\n",
       "      <td>90939ddaed134ce9b21590c319154395</td>\n",
       "      <td>offer viewed</td>\n",
       "      <td>7</td>\n",
       "      <td>4d5c57ea9a6940dd891ad53e9dbe8da0</td>\n",
       "      <td>0</td>\n",
       "      <td>0</td>\n",
       "      <td>1</td>\n",
       "    </tr>\n",
       "    <tr>\n",
       "      <th>175234</th>\n",
       "      <td>172078490b5d4027add9d498e5a8db95</td>\n",
       "      <td>offer viewed</td>\n",
       "      <td>17</td>\n",
       "      <td>0b1e1539f2cc45b7b9fa7c272da2e1d7</td>\n",
       "      <td>0</td>\n",
       "      <td>0</td>\n",
       "      <td>1</td>\n",
       "    </tr>\n",
       "    <tr>\n",
       "      <th>53881</th>\n",
       "      <td>f5112242df984403bfb4176d4487aef3</td>\n",
       "      <td>offer received</td>\n",
       "      <td>7</td>\n",
       "      <td>3f207df678b143eea3cee63160fa8bed</td>\n",
       "      <td>0</td>\n",
       "      <td>1</td>\n",
       "      <td>0</td>\n",
       "    </tr>\n",
       "    <tr>\n",
       "      <th>866</th>\n",
       "      <td>5589f5c4d6164cb4bd1feaca5384315e</td>\n",
       "      <td>offer received</td>\n",
       "      <td>0</td>\n",
       "      <td>2906b810c7d4411798c6938adc9daaa5</td>\n",
       "      <td>0</td>\n",
       "      <td>1</td>\n",
       "      <td>0</td>\n",
       "    </tr>\n",
       "  </tbody>\n",
       "</table>\n",
       "</div>"
      ],
      "text/plain": [
       "                             customer_id           event  time_in_days  \\\n",
       "221128  99a2fe3feea44fa6ae08c09f6f39cbeb    offer viewed            21   \n",
       "76486   90939ddaed134ce9b21590c319154395    offer viewed             7   \n",
       "175234  172078490b5d4027add9d498e5a8db95    offer viewed            17   \n",
       "53881   f5112242df984403bfb4176d4487aef3  offer received             7   \n",
       "866     5589f5c4d6164cb4bd1feaca5384315e  offer received             0   \n",
       "\n",
       "                                offer_id  completed  received  viewed  \n",
       "221128  f19421c1d4aa40978ebb69ca19b0e20d          0         0       1  \n",
       "76486   4d5c57ea9a6940dd891ad53e9dbe8da0          0         0       1  \n",
       "175234  0b1e1539f2cc45b7b9fa7c272da2e1d7          0         0       1  \n",
       "53881   3f207df678b143eea3cee63160fa8bed          0         1       0  \n",
       "866     2906b810c7d4411798c6938adc9daaa5          0         1       0  "
      ]
     },
     "execution_count": 24,
     "metadata": {},
     "output_type": "execute_result"
    }
   ],
   "source": [
    "offers_df.sample(5)"
   ]
  },
  {
   "cell_type": "code",
   "execution_count": 25,
   "metadata": {
    "scrolled": true
   },
   "outputs": [
    {
     "data": {
      "text/html": [
       "<div>\n",
       "<style scoped>\n",
       "    .dataframe tbody tr th:only-of-type {\n",
       "        vertical-align: middle;\n",
       "    }\n",
       "\n",
       "    .dataframe tbody tr th {\n",
       "        vertical-align: top;\n",
       "    }\n",
       "\n",
       "    .dataframe thead th {\n",
       "        text-align: right;\n",
       "    }\n",
       "</style>\n",
       "<table border=\"1\" class=\"dataframe\">\n",
       "  <thead>\n",
       "    <tr style=\"text-align: right;\">\n",
       "      <th></th>\n",
       "      <th>customer_id</th>\n",
       "      <th>event</th>\n",
       "      <th>time_in_days</th>\n",
       "      <th>amount</th>\n",
       "    </tr>\n",
       "  </thead>\n",
       "  <tbody>\n",
       "    <tr>\n",
       "      <th>297023</th>\n",
       "      <td>8d30c524932649a5b4021e56f6ad9580</td>\n",
       "      <td>transaction</td>\n",
       "      <td>28</td>\n",
       "      <td>28.07</td>\n",
       "    </tr>\n",
       "    <tr>\n",
       "      <th>302919</th>\n",
       "      <td>14beaba5927246a8891d3c74257a9a99</td>\n",
       "      <td>transaction</td>\n",
       "      <td>29</td>\n",
       "      <td>11.58</td>\n",
       "    </tr>\n",
       "    <tr>\n",
       "      <th>48360</th>\n",
       "      <td>38c97d85297f457b840598663093b3ad</td>\n",
       "      <td>transaction</td>\n",
       "      <td>5</td>\n",
       "      <td>18.89</td>\n",
       "    </tr>\n",
       "    <tr>\n",
       "      <th>233551</th>\n",
       "      <td>fe245b31d1334751906c8ce0cd833a64</td>\n",
       "      <td>transaction</td>\n",
       "      <td>22</td>\n",
       "      <td>3.7</td>\n",
       "    </tr>\n",
       "    <tr>\n",
       "      <th>298835</th>\n",
       "      <td>be6ccf64d69c4b14905cfc81e614cee7</td>\n",
       "      <td>transaction</td>\n",
       "      <td>28</td>\n",
       "      <td>1.9</td>\n",
       "    </tr>\n",
       "  </tbody>\n",
       "</table>\n",
       "</div>"
      ],
      "text/plain": [
       "                             customer_id        event  time_in_days amount\n",
       "297023  8d30c524932649a5b4021e56f6ad9580  transaction            28  28.07\n",
       "302919  14beaba5927246a8891d3c74257a9a99  transaction            29  11.58\n",
       "48360   38c97d85297f457b840598663093b3ad  transaction             5  18.89\n",
       "233551  fe245b31d1334751906c8ce0cd833a64  transaction            22    3.7\n",
       "298835  be6ccf64d69c4b14905cfc81e614cee7  transaction            28    1.9"
      ]
     },
     "execution_count": 25,
     "metadata": {},
     "output_type": "execute_result"
    }
   ],
   "source": [
    "transactions_df.sample(5)"
   ]
  },
  {
   "cell_type": "code",
   "execution_count": null,
   "metadata": {},
   "outputs": [],
   "source": []
  },
  {
   "cell_type": "code",
   "execution_count": null,
   "metadata": {},
   "outputs": [],
   "source": []
  },
  {
   "cell_type": "code",
   "execution_count": null,
   "metadata": {},
   "outputs": [],
   "source": []
  },
  {
   "cell_type": "markdown",
   "metadata": {},
   "source": [
    "## Portfolio: Data Analysis"
   ]
  },
  {
   "cell_type": "code",
   "execution_count": 26,
   "metadata": {},
   "outputs": [
    {
     "data": {
      "text/html": [
       "<div>\n",
       "<style scoped>\n",
       "    .dataframe tbody tr th:only-of-type {\n",
       "        vertical-align: middle;\n",
       "    }\n",
       "\n",
       "    .dataframe tbody tr th {\n",
       "        vertical-align: top;\n",
       "    }\n",
       "\n",
       "    .dataframe thead th {\n",
       "        text-align: right;\n",
       "    }\n",
       "</style>\n",
       "<table border=\"1\" class=\"dataframe\">\n",
       "  <thead>\n",
       "    <tr style=\"text-align: right;\">\n",
       "      <th></th>\n",
       "      <th>offer_id</th>\n",
       "      <th>offer_name</th>\n",
       "      <th>offer_type</th>\n",
       "      <th>offer_difficulty</th>\n",
       "      <th>offer_duration</th>\n",
       "      <th>offer_reward</th>\n",
       "      <th>email</th>\n",
       "      <th>mobile</th>\n",
       "      <th>social</th>\n",
       "      <th>web</th>\n",
       "    </tr>\n",
       "  </thead>\n",
       "  <tbody>\n",
       "    <tr>\n",
       "      <th>0</th>\n",
       "      <td>ae264e3637204a6fb9bb56bc8210ddfd</td>\n",
       "      <td>offer_1</td>\n",
       "      <td>bogo</td>\n",
       "      <td>10</td>\n",
       "      <td>7</td>\n",
       "      <td>10</td>\n",
       "      <td>1</td>\n",
       "      <td>1</td>\n",
       "      <td>1</td>\n",
       "      <td>0</td>\n",
       "    </tr>\n",
       "    <tr>\n",
       "      <th>1</th>\n",
       "      <td>4d5c57ea9a6940dd891ad53e9dbe8da0</td>\n",
       "      <td>offer_2</td>\n",
       "      <td>bogo</td>\n",
       "      <td>10</td>\n",
       "      <td>5</td>\n",
       "      <td>10</td>\n",
       "      <td>1</td>\n",
       "      <td>1</td>\n",
       "      <td>1</td>\n",
       "      <td>1</td>\n",
       "    </tr>\n",
       "    <tr>\n",
       "      <th>2</th>\n",
       "      <td>3f207df678b143eea3cee63160fa8bed</td>\n",
       "      <td>offer_3</td>\n",
       "      <td>informational</td>\n",
       "      <td>0</td>\n",
       "      <td>4</td>\n",
       "      <td>0</td>\n",
       "      <td>1</td>\n",
       "      <td>1</td>\n",
       "      <td>0</td>\n",
       "      <td>1</td>\n",
       "    </tr>\n",
       "    <tr>\n",
       "      <th>3</th>\n",
       "      <td>9b98b8c7a33c4b65b9aebfe6a799e6d9</td>\n",
       "      <td>offer_4</td>\n",
       "      <td>bogo</td>\n",
       "      <td>5</td>\n",
       "      <td>7</td>\n",
       "      <td>5</td>\n",
       "      <td>1</td>\n",
       "      <td>1</td>\n",
       "      <td>0</td>\n",
       "      <td>1</td>\n",
       "    </tr>\n",
       "    <tr>\n",
       "      <th>4</th>\n",
       "      <td>0b1e1539f2cc45b7b9fa7c272da2e1d7</td>\n",
       "      <td>offer_5</td>\n",
       "      <td>discount</td>\n",
       "      <td>20</td>\n",
       "      <td>10</td>\n",
       "      <td>5</td>\n",
       "      <td>1</td>\n",
       "      <td>0</td>\n",
       "      <td>0</td>\n",
       "      <td>1</td>\n",
       "    </tr>\n",
       "    <tr>\n",
       "      <th>5</th>\n",
       "      <td>2298d6c36e964ae4a3e7e9706d1fb8c2</td>\n",
       "      <td>offer_6</td>\n",
       "      <td>discount</td>\n",
       "      <td>7</td>\n",
       "      <td>7</td>\n",
       "      <td>3</td>\n",
       "      <td>1</td>\n",
       "      <td>1</td>\n",
       "      <td>1</td>\n",
       "      <td>1</td>\n",
       "    </tr>\n",
       "    <tr>\n",
       "      <th>6</th>\n",
       "      <td>fafdcd668e3743c1bb461111dcafc2a4</td>\n",
       "      <td>offer_7</td>\n",
       "      <td>discount</td>\n",
       "      <td>10</td>\n",
       "      <td>10</td>\n",
       "      <td>2</td>\n",
       "      <td>1</td>\n",
       "      <td>1</td>\n",
       "      <td>1</td>\n",
       "      <td>1</td>\n",
       "    </tr>\n",
       "    <tr>\n",
       "      <th>7</th>\n",
       "      <td>5a8bc65990b245e5a138643cd4eb9837</td>\n",
       "      <td>offer_8</td>\n",
       "      <td>informational</td>\n",
       "      <td>0</td>\n",
       "      <td>3</td>\n",
       "      <td>0</td>\n",
       "      <td>1</td>\n",
       "      <td>1</td>\n",
       "      <td>1</td>\n",
       "      <td>0</td>\n",
       "    </tr>\n",
       "    <tr>\n",
       "      <th>8</th>\n",
       "      <td>f19421c1d4aa40978ebb69ca19b0e20d</td>\n",
       "      <td>offer_9</td>\n",
       "      <td>bogo</td>\n",
       "      <td>5</td>\n",
       "      <td>5</td>\n",
       "      <td>5</td>\n",
       "      <td>1</td>\n",
       "      <td>1</td>\n",
       "      <td>1</td>\n",
       "      <td>1</td>\n",
       "    </tr>\n",
       "    <tr>\n",
       "      <th>9</th>\n",
       "      <td>2906b810c7d4411798c6938adc9daaa5</td>\n",
       "      <td>offer_10</td>\n",
       "      <td>discount</td>\n",
       "      <td>10</td>\n",
       "      <td>7</td>\n",
       "      <td>2</td>\n",
       "      <td>1</td>\n",
       "      <td>1</td>\n",
       "      <td>0</td>\n",
       "      <td>1</td>\n",
       "    </tr>\n",
       "  </tbody>\n",
       "</table>\n",
       "</div>"
      ],
      "text/plain": [
       "                           offer_id offer_name     offer_type  \\\n",
       "0  ae264e3637204a6fb9bb56bc8210ddfd    offer_1           bogo   \n",
       "1  4d5c57ea9a6940dd891ad53e9dbe8da0    offer_2           bogo   \n",
       "2  3f207df678b143eea3cee63160fa8bed    offer_3  informational   \n",
       "3  9b98b8c7a33c4b65b9aebfe6a799e6d9    offer_4           bogo   \n",
       "4  0b1e1539f2cc45b7b9fa7c272da2e1d7    offer_5       discount   \n",
       "5  2298d6c36e964ae4a3e7e9706d1fb8c2    offer_6       discount   \n",
       "6  fafdcd668e3743c1bb461111dcafc2a4    offer_7       discount   \n",
       "7  5a8bc65990b245e5a138643cd4eb9837    offer_8  informational   \n",
       "8  f19421c1d4aa40978ebb69ca19b0e20d    offer_9           bogo   \n",
       "9  2906b810c7d4411798c6938adc9daaa5   offer_10       discount   \n",
       "\n",
       "   offer_difficulty  offer_duration  offer_reward  email  mobile  social  web  \n",
       "0                10               7            10      1       1       1    0  \n",
       "1                10               5            10      1       1       1    1  \n",
       "2                 0               4             0      1       1       0    1  \n",
       "3                 5               7             5      1       1       0    1  \n",
       "4                20              10             5      1       0       0    1  \n",
       "5                 7               7             3      1       1       1    1  \n",
       "6                10              10             2      1       1       1    1  \n",
       "7                 0               3             0      1       1       1    0  \n",
       "8                 5               5             5      1       1       1    1  \n",
       "9                10               7             2      1       1       0    1  "
      ]
     },
     "metadata": {},
     "output_type": "display_data"
    }
   ],
   "source": [
    "display(portfolio_df)"
   ]
  },
  {
   "cell_type": "code",
   "execution_count": 27,
   "metadata": {
    "scrolled": false
   },
   "outputs": [
    {
     "name": "stdout",
     "output_type": "stream",
     "text": [
      "<class 'pandas.core.frame.DataFrame'>\n",
      "RangeIndex: 10 entries, 0 to 9\n",
      "Data columns (total 10 columns):\n",
      " #   Column            Non-Null Count  Dtype \n",
      "---  ------            --------------  ----- \n",
      " 0   offer_id          10 non-null     object\n",
      " 1   offer_name        10 non-null     object\n",
      " 2   offer_type        10 non-null     object\n",
      " 3   offer_difficulty  10 non-null     int64 \n",
      " 4   offer_duration    10 non-null     int64 \n",
      " 5   offer_reward      10 non-null     int64 \n",
      " 6   email             10 non-null     int32 \n",
      " 7   mobile            10 non-null     int32 \n",
      " 8   social            10 non-null     int32 \n",
      " 9   web               10 non-null     int32 \n",
      "dtypes: int32(4), int64(3), object(3)\n",
      "memory usage: 768.0+ bytes\n"
     ]
    }
   ],
   "source": [
    "portfolio_df.info()"
   ]
  },
  {
   "cell_type": "code",
   "execution_count": 28,
   "metadata": {},
   "outputs": [
    {
     "data": {
      "text/plain": [
       "bogo             4\n",
       "discount         4\n",
       "informational    2\n",
       "Name: offer_type, dtype: int64"
      ]
     },
     "execution_count": 28,
     "metadata": {},
     "output_type": "execute_result"
    }
   ],
   "source": [
    "portfolio_df['offer_type'].value_counts()"
   ]
  },
  {
   "cell_type": "markdown",
   "metadata": {},
   "source": [
    "## Profile: Data Exploration"
   ]
  },
  {
   "cell_type": "code",
   "execution_count": 29,
   "metadata": {
    "scrolled": true
   },
   "outputs": [
    {
     "data": {
      "text/html": [
       "<div>\n",
       "<style scoped>\n",
       "    .dataframe tbody tr th:only-of-type {\n",
       "        vertical-align: middle;\n",
       "    }\n",
       "\n",
       "    .dataframe tbody tr th {\n",
       "        vertical-align: top;\n",
       "    }\n",
       "\n",
       "    .dataframe thead th {\n",
       "        text-align: right;\n",
       "    }\n",
       "</style>\n",
       "<table border=\"1\" class=\"dataframe\">\n",
       "  <thead>\n",
       "    <tr style=\"text-align: right;\">\n",
       "      <th></th>\n",
       "      <th>customer_id</th>\n",
       "      <th>gender</th>\n",
       "      <th>age</th>\n",
       "      <th>age_group</th>\n",
       "      <th>customer_income</th>\n",
       "      <th>customer_income_range</th>\n",
       "      <th>became_member_on</th>\n",
       "      <th>membership_year</th>\n",
       "    </tr>\n",
       "  </thead>\n",
       "  <tbody>\n",
       "    <tr>\n",
       "      <th>0</th>\n",
       "      <td>0610b486422d4921ae7d2bf64640c50b</td>\n",
       "      <td>F</td>\n",
       "      <td>55</td>\n",
       "      <td>GenXers(44-56)</td>\n",
       "      <td>112000.0</td>\n",
       "      <td>$100K</td>\n",
       "      <td>2017-07-15</td>\n",
       "      <td>2017</td>\n",
       "    </tr>\n",
       "    <tr>\n",
       "      <th>1</th>\n",
       "      <td>78afa995795e4d85b5d9ceeca43f5fef</td>\n",
       "      <td>F</td>\n",
       "      <td>75</td>\n",
       "      <td>Boomers(57-75)</td>\n",
       "      <td>100000.0</td>\n",
       "      <td>$100K</td>\n",
       "      <td>2017-05-09</td>\n",
       "      <td>2017</td>\n",
       "    </tr>\n",
       "    <tr>\n",
       "      <th>2</th>\n",
       "      <td>e2127556f4f64592b11af22de27a7932</td>\n",
       "      <td>M</td>\n",
       "      <td>68</td>\n",
       "      <td>Boomers(57-75)</td>\n",
       "      <td>70000.0</td>\n",
       "      <td>$50,000 - $74,999</td>\n",
       "      <td>2018-04-26</td>\n",
       "      <td>2018</td>\n",
       "    </tr>\n",
       "    <tr>\n",
       "      <th>3</th>\n",
       "      <td>389bc3fa690240e798340f5a15918d5c</td>\n",
       "      <td>M</td>\n",
       "      <td>65</td>\n",
       "      <td>Boomers(57-75)</td>\n",
       "      <td>53000.0</td>\n",
       "      <td>$50,000 - $74,999</td>\n",
       "      <td>2018-02-09</td>\n",
       "      <td>2018</td>\n",
       "    </tr>\n",
       "    <tr>\n",
       "      <th>4</th>\n",
       "      <td>2eeac8d8feae4a8cad5a6af0499a211d</td>\n",
       "      <td>M</td>\n",
       "      <td>58</td>\n",
       "      <td>Boomers(57-75)</td>\n",
       "      <td>51000.0</td>\n",
       "      <td>$50,000 - $74,999</td>\n",
       "      <td>2017-11-11</td>\n",
       "      <td>2017</td>\n",
       "    </tr>\n",
       "    <tr>\n",
       "      <th>...</th>\n",
       "      <td>...</td>\n",
       "      <td>...</td>\n",
       "      <td>...</td>\n",
       "      <td>...</td>\n",
       "      <td>...</td>\n",
       "      <td>...</td>\n",
       "      <td>...</td>\n",
       "      <td>...</td>\n",
       "    </tr>\n",
       "    <tr>\n",
       "      <th>14820</th>\n",
       "      <td>6d5f3a774f3d4714ab0c092238f3a1d7</td>\n",
       "      <td>F</td>\n",
       "      <td>45</td>\n",
       "      <td>GenXers(44-56)</td>\n",
       "      <td>54000.0</td>\n",
       "      <td>$50,000 - $74,999</td>\n",
       "      <td>2018-06-04</td>\n",
       "      <td>2018</td>\n",
       "    </tr>\n",
       "    <tr>\n",
       "      <th>14821</th>\n",
       "      <td>2cb4f97358b841b9a9773a7aa05a9d77</td>\n",
       "      <td>M</td>\n",
       "      <td>61</td>\n",
       "      <td>Boomers(57-75)</td>\n",
       "      <td>72000.0</td>\n",
       "      <td>$50,000 - $74,999</td>\n",
       "      <td>2018-07-13</td>\n",
       "      <td>2018</td>\n",
       "    </tr>\n",
       "    <tr>\n",
       "      <th>14822</th>\n",
       "      <td>01d26f638c274aa0b965d24cefe3183f</td>\n",
       "      <td>M</td>\n",
       "      <td>49</td>\n",
       "      <td>GenXers(44-56)</td>\n",
       "      <td>73000.0</td>\n",
       "      <td>$50,000 - $74,999</td>\n",
       "      <td>2017-01-26</td>\n",
       "      <td>2017</td>\n",
       "    </tr>\n",
       "    <tr>\n",
       "      <th>14823</th>\n",
       "      <td>9dc1421481194dcd9400aec7c9ae6366</td>\n",
       "      <td>F</td>\n",
       "      <td>83</td>\n",
       "      <td>Matures(76+)</td>\n",
       "      <td>50000.0</td>\n",
       "      <td>$50,000 - $74,999</td>\n",
       "      <td>2016-03-07</td>\n",
       "      <td>2016</td>\n",
       "    </tr>\n",
       "    <tr>\n",
       "      <th>14824</th>\n",
       "      <td>e4052622e5ba45a8b96b59aba68cf068</td>\n",
       "      <td>F</td>\n",
       "      <td>62</td>\n",
       "      <td>Boomers(57-75)</td>\n",
       "      <td>82000.0</td>\n",
       "      <td>$75,000 - $99,999</td>\n",
       "      <td>2017-07-22</td>\n",
       "      <td>2017</td>\n",
       "    </tr>\n",
       "  </tbody>\n",
       "</table>\n",
       "<p>14825 rows × 8 columns</p>\n",
       "</div>"
      ],
      "text/plain": [
       "                            customer_id gender  age       age_group  \\\n",
       "0      0610b486422d4921ae7d2bf64640c50b      F   55  GenXers(44-56)   \n",
       "1      78afa995795e4d85b5d9ceeca43f5fef      F   75  Boomers(57-75)   \n",
       "2      e2127556f4f64592b11af22de27a7932      M   68  Boomers(57-75)   \n",
       "3      389bc3fa690240e798340f5a15918d5c      M   65  Boomers(57-75)   \n",
       "4      2eeac8d8feae4a8cad5a6af0499a211d      M   58  Boomers(57-75)   \n",
       "...                                 ...    ...  ...             ...   \n",
       "14820  6d5f3a774f3d4714ab0c092238f3a1d7      F   45  GenXers(44-56)   \n",
       "14821  2cb4f97358b841b9a9773a7aa05a9d77      M   61  Boomers(57-75)   \n",
       "14822  01d26f638c274aa0b965d24cefe3183f      M   49  GenXers(44-56)   \n",
       "14823  9dc1421481194dcd9400aec7c9ae6366      F   83    Matures(76+)   \n",
       "14824  e4052622e5ba45a8b96b59aba68cf068      F   62  Boomers(57-75)   \n",
       "\n",
       "       customer_income customer_income_range became_member_on  membership_year  \n",
       "0             112000.0                 $100K       2017-07-15             2017  \n",
       "1             100000.0                 $100K       2017-05-09             2017  \n",
       "2              70000.0     $50,000 - $74,999       2018-04-26             2018  \n",
       "3              53000.0     $50,000 - $74,999       2018-02-09             2018  \n",
       "4              51000.0     $50,000 - $74,999       2017-11-11             2017  \n",
       "...                ...                   ...              ...              ...  \n",
       "14820          54000.0     $50,000 - $74,999       2018-06-04             2018  \n",
       "14821          72000.0     $50,000 - $74,999       2018-07-13             2018  \n",
       "14822          73000.0     $50,000 - $74,999       2017-01-26             2017  \n",
       "14823          50000.0     $50,000 - $74,999       2016-03-07             2016  \n",
       "14824          82000.0     $75,000 - $99,999       2017-07-22             2017  \n",
       "\n",
       "[14825 rows x 8 columns]"
      ]
     },
     "metadata": {},
     "output_type": "display_data"
    }
   ],
   "source": [
    "display(profile_df)"
   ]
  },
  {
   "cell_type": "code",
   "execution_count": 30,
   "metadata": {},
   "outputs": [
    {
     "name": "stdout",
     "output_type": "stream",
     "text": [
      "                age\n",
      "count  14825.000000\n",
      "mean      54.393524\n",
      "std       17.383705\n",
      "min       18.000000\n",
      "25%       42.000000\n",
      "50%       55.000000\n",
      "75%       66.000000\n",
      "max      101.000000\n",
      "\n",
      "       customer_income\n",
      "count     14825.000000\n",
      "mean      65404.991568\n",
      "std       21598.299410\n",
      "min       30000.000000\n",
      "25%       49000.000000\n",
      "50%       64000.000000\n",
      "75%       80000.000000\n",
      "max      120000.000000\n"
     ]
    }
   ],
   "source": [
    "print(pd.DataFrame(profile_df['age'].describe()))\n",
    "print('')\n",
    "print(pd.DataFrame(profile_df['customer_income'].describe()))"
   ]
  },
  {
   "cell_type": "markdown",
   "metadata": {},
   "source": []
  },
  {
   "cell_type": "code",
   "execution_count": 31,
   "metadata": {
    "scrolled": true
   },
   "outputs": [
    {
     "name": "stdout",
     "output_type": "stream",
     "text": [
      "<class 'pandas.core.frame.DataFrame'>\n",
      "Int64Index: 14825 entries, 0 to 14824\n",
      "Data columns (total 8 columns):\n",
      " #   Column                 Non-Null Count  Dtype         \n",
      "---  ------                 --------------  -----         \n",
      " 0   customer_id            14825 non-null  object        \n",
      " 1   gender                 14825 non-null  object        \n",
      " 2   age                    14825 non-null  int64         \n",
      " 3   age_group              14825 non-null  category      \n",
      " 4   customer_income        14825 non-null  float64       \n",
      " 5   customer_income_range  14825 non-null  category      \n",
      " 6   became_member_on       14825 non-null  datetime64[ns]\n",
      " 7   membership_year        14825 non-null  int64         \n",
      "dtypes: category(2), datetime64[ns](1), float64(1), int64(2), object(2)\n",
      "memory usage: 840.1+ KB\n",
      "None\n"
     ]
    }
   ],
   "source": [
    "profile_df = profile_df[profile_df['customer_income'].notnull()]\n",
    "print(profile_df.info())"
   ]
  },
  {
   "cell_type": "code",
   "execution_count": 32,
   "metadata": {},
   "outputs": [
    {
     "name": "stdout",
     "output_type": "stream",
     "text": [
      "Median Age  : $ 55.0\n"
     ]
    },
    {
     "data": {
      "text/plain": [
       "Text(0.5, 1.0, 'Age Distribution')"
      ]
     },
     "execution_count": 32,
     "metadata": {},
     "output_type": "execute_result"
    },
    {
     "data": {
      "image/png": "[encoded data removed]",
      "text/plain": [
       "<Figure size 432x288 with 1 Axes>"
      ]
     },
     "metadata": {
      "needs_background": "light"
     },
     "output_type": "display_data"
    },
    {
     "data": {
      "image/png": "[encoded data removed]",
      "text/plain": [
       "<Figure size 489.6x72 with 1 Axes>"
      ]
     },
     "metadata": {
      "needs_background": "light"
     },
     "output_type": "display_data"
    }
   ],
   "source": [
    "# Age Distributiobn:Histogram\n",
    "sns.set_palette(sns.color_palette('rocket',1))\n",
    "profile_df['age'].hist(bins=10)\n",
    "\n",
    "plt.title('Age Distribution')\n",
    "\n",
    "#Age distribution: Box Plot\n",
    "\n",
    "print(\"Median Age  : $\",profile_df['age'].median())\n",
    "\n",
    "\n",
    "plt.figure(figsize=[6.8,1])\n",
    "sns.boxplot(data=profile_df, x='age')\n",
    "plt.title('Age Distribution')"
   ]
  },
  {
   "cell_type": "markdown",
   "metadata": {},
   "source": [
    "Code Age in terms of Generation criteria:\n",
    "- Gen Z: 18 – 25\n",
    "- Millennials: 26 – 43\n",
    "- Gen Xers: 44 – 56\n",
    "- Boomers: 57 – 75\n",
    "- Matures: 76+ ]\n"
   ]
  },
  {
   "cell_type": "code",
   "execution_count": 33,
   "metadata": {},
   "outputs": [
    {
     "data": {
      "text/plain": [
       "Boomers(57-75)       5147\n",
       "GenXers(44-56)       4058\n",
       "Millennias(26-43)    2956\n",
       "Matures(76+)         1495\n",
       "GenZ(18–25)          1169\n",
       "Name: age_group, dtype: int64"
      ]
     },
     "execution_count": 33,
     "metadata": {},
     "output_type": "execute_result"
    }
   ],
   "source": [
    "profile_df['age_group'].value_counts()"
   ]
  },
  {
   "cell_type": "code",
   "execution_count": 34,
   "metadata": {
    "scrolled": true
   },
   "outputs": [
    {
     "data": {
      "text/plain": [
       "Text(0.5, 1.0, 'Customer Age group')"
      ]
     },
     "execution_count": 34,
     "metadata": {},
     "output_type": "execute_result"
    },
    {
     "data": {
      "image/png": "[encoded data removed]",
      "text/plain": [
       "<Figure size 864x288 with 1 Axes>"
      ]
     },
     "metadata": {
      "needs_background": "light"
     },
     "output_type": "display_data"
    }
   ],
   "source": [
    "#Group the age ranges\n",
    "sns.set_palette(sns.color_palette('Set1',5))\n",
    "fig = plt.figure(figsize = (12,4))\n",
    "sns.countplot(x='age_group',data=profile_df)\n",
    "plt.xticks(rotation=30)\n",
    "plt.title('Customer Age group')\n"
   ]
  },
  {
   "cell_type": "code",
   "execution_count": 35,
   "metadata": {
    "scrolled": false
   },
   "outputs": [
    {
     "data": {
      "text/plain": [
       "<matplotlib.legend.Legend at 0x13ed10ee9d0>"
      ]
     },
     "execution_count": 35,
     "metadata": {},
     "output_type": "execute_result"
    },
    {
     "data": {
      "image/png": "[encoded data removed]",
      "text/plain": [
       "<Figure size 432x432 with 1 Axes>"
      ]
     },
     "metadata": {
      "needs_background": "light"
     },
     "output_type": "display_data"
    },
    {
     "data": {
      "image/png": "[encoded data removed]",
      "text/plain": [
       "<Figure size 432x432 with 1 Axes>"
      ]
     },
     "metadata": {},
     "output_type": "display_data"
    }
   ],
   "source": [
    "#Gender distribution\n",
    "sns.set_palette(sns.color_palette('rocket',3))\n",
    "plt.figure(figsize=[6,6])\n",
    "sns.countplot(x= profile_df['gender'], order = profile_df['gender'].value_counts().index)\n",
    "\n",
    "plt.title('Customers count vs Gender', fontsize=19)\n",
    "\n",
    "#Gender Distribution in Percentage\n",
    "\n",
    "gender = profile_df['gender'].value_counts()\n",
    "\n",
    "plt.figure(figsize=(6, 6))\n",
    "plt.pie(gender, labels=['Male', 'Female' , 'Others'], shadow=True, autopct='%1.1f%%', \n",
    "            textprops={'color': \"w\", 'fontsize': 20})\n",
    "\n",
    "plt.axis('equal')\n",
    "plt.title('Customers vs Gender', fontsize=19)\n",
    "plt.legend(loc='best')"
   ]
  },
  {
   "cell_type": "code",
   "execution_count": 36,
   "metadata": {},
   "outputs": [
    {
     "ename": "AttributeError",
     "evalue": "'function' object has no attribute 'brewer'",
     "output_type": "error",
     "traceback": [
      "\u001b[1;31m---------------------------------------------------------------------------\u001b[0m",
      "\u001b[1;31mAttributeError\u001b[0m                            Traceback (most recent call last)",
      "\u001b[1;32m<ipython-input-36-7fd99de49d7c>\u001b[0m in \u001b[0;36m<module>\u001b[1;34m\u001b[0m\n\u001b[1;32m----> 1\u001b[1;33m \u001b[0mdisplay\u001b[0m\u001b[1;33m.\u001b[0m\u001b[0mbrewer\u001b[0m\u001b[1;33m.\u001b[0m\u001b[0mall\u001b[0m\u001b[1;33m(\u001b[0m\u001b[1;33m)\u001b[0m\u001b[1;33m\u001b[0m\u001b[1;33m\u001b[0m\u001b[0m\n\u001b[0m",
      "\u001b[1;31mAttributeError\u001b[0m: 'function' object has no attribute 'brewer'"
     ]
    }
   ],
   "source": [
    "display.brewer.all()"
   ]
  },
  {
   "cell_type": "code",
   "execution_count": null,
   "metadata": {},
   "outputs": [],
   "source": [
    "gender"
   ]
  },
  {
   "cell_type": "code",
   "execution_count": null,
   "metadata": {},
   "outputs": [],
   "source": [
    "#Analyze income:\n",
    "\n",
    "profile_df['customer_income'].describe()\n"
   ]
  },
  {
   "cell_type": "code",
   "execution_count": null,
   "metadata": {},
   "outputs": [],
   "source": [
    "#Income distribution\n",
    "sns.set_palette(sns.color_palette('rocket',3))\n",
    "plt.figure(figsize=[12,4])\n",
    "sal_hist1 = sns.histplot(data = profile_df, x = 'customer_income',  multiple = \"dodge\",element = 'step', \n",
    "                        bins = 20, kde = True ,stat = 'density' ).set_title(\"Customer Income distribution\")\n",
    "plt.xlabel(\"Salary(USD)\")\n",
    "\n",
    "#Income distribution by gender\n",
    "\n",
    "plt.figure(figsize=[12,4])\n",
    "sal_hist = sns.histplot(data = profile_df, x = 'customer_income', hue = 'gender', \n",
    "                        multiple = \"dodge\",element = 'step', bins = 20, kde = True ,stat = 'density' ).set_title(\"Gender wise Customer Income distribution\")\n",
    "plt.xlabel(\"Salary(USD)\")"
   ]
  },
  {
   "cell_type": "code",
   "execution_count": 37,
   "metadata": {},
   "outputs": [
    {
     "name": "stdout",
     "output_type": "stream",
     "text": [
      "Median Income  : $ 64000.0\n",
      "Maximum Income : $ 120000.0\n",
      "Maximum Income : $ 30000.0\n",
      "Median Income for Males  : $ 59000.0\n",
      "Median Income Females : $ 71000.0\n"
     ]
    }
   ],
   "source": [
    "#Median Income\n",
    "\n",
    "print(\"Median Income  : $\",profile_df['customer_income'].median())\n",
    "print(\"Maximum Income : $\",profile_df['customer_income'].max())\n",
    "print(\"Maximum Income : $\",profile_df['customer_income'].min())\n",
    "\n",
    "print(\"Median Income for Males  : $\",profile_df[profile_df['gender']=='M']['customer_income'].median())\n",
    "\n",
    "print(\"Median Income Females : $\",profile_df[profile_df['gender']=='F']['customer_income'].median())\n",
    "\n"
   ]
  },
  {
   "cell_type": "code",
   "execution_count": null,
   "metadata": {},
   "outputs": [],
   "source": []
  },
  {
   "cell_type": "code",
   "execution_count": 38,
   "metadata": {
    "scrolled": true
   },
   "outputs": [],
   "source": [
    "#profile_df['became_member_on'] = pd.to_datetime(profile['became_member_on'], format = '%Y%m%d') "
   ]
  },
  {
   "cell_type": "code",
   "execution_count": 39,
   "metadata": {
    "scrolled": true
   },
   "outputs": [
    {
     "data": {
      "text/plain": [
       "Text(0, 0.5, 'Number of Customers or Test Subjects')"
      ]
     },
     "execution_count": 39,
     "metadata": {},
     "output_type": "execute_result"
    },
    {
     "data": {
      "image/png": "[encoded data removed]",
      "text/plain": [
       "<Figure size 1080x432 with 1 Axes>"
      ]
     },
     "metadata": {
      "needs_background": "light"
     },
     "output_type": "display_data"
    }
   ],
   "source": [
    "# membership by year of joining\n",
    "sns.set_palette(sns.color_palette('rocket'))\n",
    "plt.figure(figsize=(15, 6))\n",
    "profile_df['became_member_on'].groupby(profile_df['became_member_on'].dt.year).hist(bins=10)\n",
    "plt.title('Customers vs Membership Year', fontsize=15)\n",
    "plt.xlabel('Memebership by Month and Year')\n",
    "plt.ylabel('Number of Customers or Test Subjects')"
   ]
  },
  {
   "cell_type": "code",
   "execution_count": 40,
   "metadata": {},
   "outputs": [
    {
     "data": {
      "text/plain": [
       "Timestamp('2013-07-29 00:00:00')"
      ]
     },
     "execution_count": 40,
     "metadata": {},
     "output_type": "execute_result"
    }
   ],
   "source": [
    "profile_df['became_member_on'].groupby(profile_df['became_member_on'].dt.year)\n",
    "profile_df['became_member_on'].min()"
   ]
  },
  {
   "cell_type": "code",
   "execution_count": 41,
   "metadata": {},
   "outputs": [
    {
     "data": {
      "text/plain": [
       "Timestamp('2018-07-26 00:00:00')"
      ]
     },
     "execution_count": 41,
     "metadata": {},
     "output_type": "execute_result"
    }
   ],
   "source": [
    "profile_df['became_member_on'].max()"
   ]
  },
  {
   "cell_type": "markdown",
   "metadata": {},
   "source": [
    "## Transcript: Data Exploration"
   ]
  },
  {
   "cell_type": "code",
   "execution_count": 42,
   "metadata": {},
   "outputs": [],
   "source": [
    "#Seperatng transaction and offer data from transcript dataframe\n",
    "\n",
    "offers_df, transactions_df = clean_transcript(transcript)"
   ]
  },
  {
   "cell_type": "code",
   "execution_count": 43,
   "metadata": {},
   "outputs": [
    {
     "data": {
      "text/html": [
       "<div>\n",
       "<style scoped>\n",
       "    .dataframe tbody tr th:only-of-type {\n",
       "        vertical-align: middle;\n",
       "    }\n",
       "\n",
       "    .dataframe tbody tr th {\n",
       "        vertical-align: top;\n",
       "    }\n",
       "\n",
       "    .dataframe thead th {\n",
       "        text-align: right;\n",
       "    }\n",
       "</style>\n",
       "<table border=\"1\" class=\"dataframe\">\n",
       "  <thead>\n",
       "    <tr style=\"text-align: right;\">\n",
       "      <th></th>\n",
       "      <th>customer_id</th>\n",
       "      <th>event</th>\n",
       "      <th>time_in_days</th>\n",
       "      <th>offer_id</th>\n",
       "      <th>completed</th>\n",
       "      <th>received</th>\n",
       "      <th>viewed</th>\n",
       "    </tr>\n",
       "  </thead>\n",
       "  <tbody>\n",
       "    <tr>\n",
       "      <th>137058</th>\n",
       "      <td>a67840bbafb045c4a2ab9491e958bbac</td>\n",
       "      <td>offer viewed</td>\n",
       "      <td>15</td>\n",
       "      <td>2298d6c36e964ae4a3e7e9706d1fb8c2</td>\n",
       "      <td>0</td>\n",
       "      <td>0</td>\n",
       "      <td>1</td>\n",
       "    </tr>\n",
       "    <tr>\n",
       "      <th>292793</th>\n",
       "      <td>549917c84f5d4f30ad2052e8e7210578</td>\n",
       "      <td>offer completed</td>\n",
       "      <td>27</td>\n",
       "      <td>f19421c1d4aa40978ebb69ca19b0e20d</td>\n",
       "      <td>1</td>\n",
       "      <td>0</td>\n",
       "      <td>0</td>\n",
       "    </tr>\n",
       "    <tr>\n",
       "      <th>259800</th>\n",
       "      <td>9d8f44ec36614d7c992fa640ae133fc3</td>\n",
       "      <td>offer viewed</td>\n",
       "      <td>24</td>\n",
       "      <td>2298d6c36e964ae4a3e7e9706d1fb8c2</td>\n",
       "      <td>0</td>\n",
       "      <td>0</td>\n",
       "      <td>1</td>\n",
       "    </tr>\n",
       "    <tr>\n",
       "      <th>58766</th>\n",
       "      <td>ec8a12c9d36142efbff26a115fcc491d</td>\n",
       "      <td>offer received</td>\n",
       "      <td>7</td>\n",
       "      <td>2906b810c7d4411798c6938adc9daaa5</td>\n",
       "      <td>0</td>\n",
       "      <td>1</td>\n",
       "      <td>0</td>\n",
       "    </tr>\n",
       "    <tr>\n",
       "      <th>128563</th>\n",
       "      <td>43ddc0d38ac4481e9bbf42310114fea3</td>\n",
       "      <td>offer viewed</td>\n",
       "      <td>14</td>\n",
       "      <td>f19421c1d4aa40978ebb69ca19b0e20d</td>\n",
       "      <td>0</td>\n",
       "      <td>0</td>\n",
       "      <td>1</td>\n",
       "    </tr>\n",
       "    <tr>\n",
       "      <th>141125</th>\n",
       "      <td>b9c59c0158ec4c4c9bdc7ad7796fd50f</td>\n",
       "      <td>offer viewed</td>\n",
       "      <td>15</td>\n",
       "      <td>fafdcd668e3743c1bb461111dcafc2a4</td>\n",
       "      <td>0</td>\n",
       "      <td>0</td>\n",
       "      <td>1</td>\n",
       "    </tr>\n",
       "    <tr>\n",
       "      <th>205610</th>\n",
       "      <td>39946f79aeb948d1be8a62ac68bf66df</td>\n",
       "      <td>offer received</td>\n",
       "      <td>21</td>\n",
       "      <td>f19421c1d4aa40978ebb69ca19b0e20d</td>\n",
       "      <td>0</td>\n",
       "      <td>1</td>\n",
       "      <td>0</td>\n",
       "    </tr>\n",
       "    <tr>\n",
       "      <th>8956</th>\n",
       "      <td>8d4d3da98c7b40d4840564524c0d0d4a</td>\n",
       "      <td>offer received</td>\n",
       "      <td>0</td>\n",
       "      <td>4d5c57ea9a6940dd891ad53e9dbe8da0</td>\n",
       "      <td>0</td>\n",
       "      <td>1</td>\n",
       "      <td>0</td>\n",
       "    </tr>\n",
       "    <tr>\n",
       "      <th>249680</th>\n",
       "      <td>020d72e77c704c42bb0a858c1aaa3bcd</td>\n",
       "      <td>offer received</td>\n",
       "      <td>24</td>\n",
       "      <td>3f207df678b143eea3cee63160fa8bed</td>\n",
       "      <td>0</td>\n",
       "      <td>1</td>\n",
       "      <td>0</td>\n",
       "    </tr>\n",
       "    <tr>\n",
       "      <th>204909</th>\n",
       "      <td>e5747aa5f9cd4079ba6d76cbd0b9363c</td>\n",
       "      <td>offer received</td>\n",
       "      <td>21</td>\n",
       "      <td>f19421c1d4aa40978ebb69ca19b0e20d</td>\n",
       "      <td>0</td>\n",
       "      <td>1</td>\n",
       "      <td>0</td>\n",
       "    </tr>\n",
       "  </tbody>\n",
       "</table>\n",
       "</div>"
      ],
      "text/plain": [
       "                             customer_id            event  time_in_days  \\\n",
       "137058  a67840bbafb045c4a2ab9491e958bbac     offer viewed            15   \n",
       "292793  549917c84f5d4f30ad2052e8e7210578  offer completed            27   \n",
       "259800  9d8f44ec36614d7c992fa640ae133fc3     offer viewed            24   \n",
       "58766   ec8a12c9d36142efbff26a115fcc491d   offer received             7   \n",
       "128563  43ddc0d38ac4481e9bbf42310114fea3     offer viewed            14   \n",
       "141125  b9c59c0158ec4c4c9bdc7ad7796fd50f     offer viewed            15   \n",
       "205610  39946f79aeb948d1be8a62ac68bf66df   offer received            21   \n",
       "8956    8d4d3da98c7b40d4840564524c0d0d4a   offer received             0   \n",
       "249680  020d72e77c704c42bb0a858c1aaa3bcd   offer received            24   \n",
       "204909  e5747aa5f9cd4079ba6d76cbd0b9363c   offer received            21   \n",
       "\n",
       "                                offer_id  completed  received  viewed  \n",
       "137058  2298d6c36e964ae4a3e7e9706d1fb8c2          0         0       1  \n",
       "292793  f19421c1d4aa40978ebb69ca19b0e20d          1         0       0  \n",
       "259800  2298d6c36e964ae4a3e7e9706d1fb8c2          0         0       1  \n",
       "58766   2906b810c7d4411798c6938adc9daaa5          0         1       0  \n",
       "128563  f19421c1d4aa40978ebb69ca19b0e20d          0         0       1  \n",
       "141125  fafdcd668e3743c1bb461111dcafc2a4          0         0       1  \n",
       "205610  f19421c1d4aa40978ebb69ca19b0e20d          0         1       0  \n",
       "8956    4d5c57ea9a6940dd891ad53e9dbe8da0          0         1       0  \n",
       "249680  3f207df678b143eea3cee63160fa8bed          0         1       0  \n",
       "204909  f19421c1d4aa40978ebb69ca19b0e20d          0         1       0  "
      ]
     },
     "execution_count": 43,
     "metadata": {},
     "output_type": "execute_result"
    }
   ],
   "source": [
    "#Offer Data\n",
    "offers_df.sample(10)"
   ]
  },
  {
   "cell_type": "code",
   "execution_count": 44,
   "metadata": {},
   "outputs": [
    {
     "data": {
      "text/html": [
       "<div>\n",
       "<style scoped>\n",
       "    .dataframe tbody tr th:only-of-type {\n",
       "        vertical-align: middle;\n",
       "    }\n",
       "\n",
       "    .dataframe tbody tr th {\n",
       "        vertical-align: top;\n",
       "    }\n",
       "\n",
       "    .dataframe thead th {\n",
       "        text-align: right;\n",
       "    }\n",
       "</style>\n",
       "<table border=\"1\" class=\"dataframe\">\n",
       "  <thead>\n",
       "    <tr style=\"text-align: right;\">\n",
       "      <th></th>\n",
       "      <th>customer_id</th>\n",
       "      <th>event</th>\n",
       "      <th>time_in_days</th>\n",
       "      <th>amount</th>\n",
       "    </tr>\n",
       "  </thead>\n",
       "  <tbody>\n",
       "    <tr>\n",
       "      <th>139190</th>\n",
       "      <td>75225655a1c44546a18f100f7c864f98</td>\n",
       "      <td>transaction</td>\n",
       "      <td>15</td>\n",
       "      <td>1.01</td>\n",
       "    </tr>\n",
       "    <tr>\n",
       "      <th>265287</th>\n",
       "      <td>ca253788781646f0a02492a0447ecf17</td>\n",
       "      <td>transaction</td>\n",
       "      <td>24</td>\n",
       "      <td>10.28</td>\n",
       "    </tr>\n",
       "    <tr>\n",
       "      <th>34338</th>\n",
       "      <td>9a138d2b107142d795f46b7600fd3dff</td>\n",
       "      <td>transaction</td>\n",
       "      <td>2</td>\n",
       "      <td>14.08</td>\n",
       "    </tr>\n",
       "    <tr>\n",
       "      <th>15546</th>\n",
       "      <td>c3844096da5e4e25a8d53a4164617b35</td>\n",
       "      <td>transaction</td>\n",
       "      <td>0</td>\n",
       "      <td>4.51</td>\n",
       "    </tr>\n",
       "    <tr>\n",
       "      <th>67254</th>\n",
       "      <td>f007c1392ef749c5b245ffb3cd5e6e35</td>\n",
       "      <td>transaction</td>\n",
       "      <td>7</td>\n",
       "      <td>20.91</td>\n",
       "    </tr>\n",
       "    <tr>\n",
       "      <th>192179</th>\n",
       "      <td>b39042dc2414439695d395c59b247a03</td>\n",
       "      <td>transaction</td>\n",
       "      <td>19</td>\n",
       "      <td>22.38</td>\n",
       "    </tr>\n",
       "    <tr>\n",
       "      <th>127195</th>\n",
       "      <td>8b5ae6d6547745d5adae0b0828de3f7d</td>\n",
       "      <td>transaction</td>\n",
       "      <td>14</td>\n",
       "      <td>29.13</td>\n",
       "    </tr>\n",
       "    <tr>\n",
       "      <th>231086</th>\n",
       "      <td>85240db9bdca4e5486b9837ae5ceea59</td>\n",
       "      <td>transaction</td>\n",
       "      <td>22</td>\n",
       "      <td>0.6</td>\n",
       "    </tr>\n",
       "    <tr>\n",
       "      <th>280713</th>\n",
       "      <td>9c53c8d4129d41908edaf53e2865baf5</td>\n",
       "      <td>transaction</td>\n",
       "      <td>25</td>\n",
       "      <td>0.77</td>\n",
       "    </tr>\n",
       "    <tr>\n",
       "      <th>128193</th>\n",
       "      <td>ad05dadd098c46cba692bb37e5fd739e</td>\n",
       "      <td>transaction</td>\n",
       "      <td>14</td>\n",
       "      <td>31.61</td>\n",
       "    </tr>\n",
       "  </tbody>\n",
       "</table>\n",
       "</div>"
      ],
      "text/plain": [
       "                             customer_id        event  time_in_days amount\n",
       "139190  75225655a1c44546a18f100f7c864f98  transaction            15   1.01\n",
       "265287  ca253788781646f0a02492a0447ecf17  transaction            24  10.28\n",
       "34338   9a138d2b107142d795f46b7600fd3dff  transaction             2  14.08\n",
       "15546   c3844096da5e4e25a8d53a4164617b35  transaction             0   4.51\n",
       "67254   f007c1392ef749c5b245ffb3cd5e6e35  transaction             7  20.91\n",
       "192179  b39042dc2414439695d395c59b247a03  transaction            19  22.38\n",
       "127195  8b5ae6d6547745d5adae0b0828de3f7d  transaction            14  29.13\n",
       "231086  85240db9bdca4e5486b9837ae5ceea59  transaction            22    0.6\n",
       "280713  9c53c8d4129d41908edaf53e2865baf5  transaction            25   0.77\n",
       "128193  ad05dadd098c46cba692bb37e5fd739e  transaction            14  31.61"
      ]
     },
     "execution_count": 44,
     "metadata": {},
     "output_type": "execute_result"
    }
   ],
   "source": [
    "#Transactions Data\n",
    "transactions_df.sample(10)"
   ]
  },
  {
   "cell_type": "code",
   "execution_count": 45,
   "metadata": {},
   "outputs": [
    {
     "name": "stdout",
     "output_type": "stream",
     "text": [
      "<class 'pandas.core.frame.DataFrame'>\n",
      "Int64Index: 167581 entries, 0 to 306527\n",
      "Data columns (total 7 columns):\n",
      " #   Column        Non-Null Count   Dtype \n",
      "---  ------        --------------   ----- \n",
      " 0   customer_id   167581 non-null  object\n",
      " 1   event         167581 non-null  object\n",
      " 2   time_in_days  167581 non-null  int64 \n",
      " 3   offer_id      167581 non-null  object\n",
      " 4   completed     167581 non-null  uint8 \n",
      " 5   received      167581 non-null  uint8 \n",
      " 6   viewed        167581 non-null  uint8 \n",
      "dtypes: int64(1), object(3), uint8(3)\n",
      "memory usage: 6.9+ MB\n"
     ]
    }
   ],
   "source": [
    "\n",
    "offers_df.info()\n"
   ]
  },
  {
   "cell_type": "code",
   "execution_count": 46,
   "metadata": {},
   "outputs": [
    {
     "name": "stdout",
     "output_type": "stream",
     "text": [
      "<class 'pandas.core.frame.DataFrame'>\n",
      "Int64Index: 138953 entries, 12654 to 306533\n",
      "Data columns (total 4 columns):\n",
      " #   Column        Non-Null Count   Dtype \n",
      "---  ------        --------------   ----- \n",
      " 0   customer_id   138953 non-null  object\n",
      " 1   event         138953 non-null  object\n",
      " 2   time_in_days  138953 non-null  int64 \n",
      " 3   amount        138953 non-null  object\n",
      "dtypes: int64(1), object(3)\n",
      "memory usage: 5.3+ MB\n"
     ]
    }
   ],
   "source": [
    "\n",
    "transactions_df.info()\n"
   ]
  },
  {
   "cell_type": "code",
   "execution_count": 47,
   "metadata": {},
   "outputs": [
    {
     "data": {
      "text/html": [
       "<div>\n",
       "<style scoped>\n",
       "    .dataframe tbody tr th:only-of-type {\n",
       "        vertical-align: middle;\n",
       "    }\n",
       "\n",
       "    .dataframe tbody tr th {\n",
       "        vertical-align: top;\n",
       "    }\n",
       "\n",
       "    .dataframe thead th {\n",
       "        text-align: right;\n",
       "    }\n",
       "</style>\n",
       "<table border=\"1\" class=\"dataframe\">\n",
       "  <thead>\n",
       "    <tr style=\"text-align: right;\">\n",
       "      <th></th>\n",
       "      <th>customer_id</th>\n",
       "      <th>event</th>\n",
       "      <th>time_in_days</th>\n",
       "      <th>offer_id</th>\n",
       "      <th>completed</th>\n",
       "      <th>received</th>\n",
       "      <th>viewed</th>\n",
       "      <th>offer_name</th>\n",
       "      <th>offer_type</th>\n",
       "      <th>offer_difficulty</th>\n",
       "      <th>offer_duration</th>\n",
       "      <th>offer_reward</th>\n",
       "      <th>email</th>\n",
       "      <th>mobile</th>\n",
       "      <th>social</th>\n",
       "      <th>web</th>\n",
       "    </tr>\n",
       "  </thead>\n",
       "  <tbody>\n",
       "    <tr>\n",
       "      <th>0</th>\n",
       "      <td>78afa995795e4d85b5d9ceeca43f5fef</td>\n",
       "      <td>offer received</td>\n",
       "      <td>0</td>\n",
       "      <td>9b98b8c7a33c4b65b9aebfe6a799e6d9</td>\n",
       "      <td>0</td>\n",
       "      <td>1</td>\n",
       "      <td>0</td>\n",
       "      <td>offer_4</td>\n",
       "      <td>bogo</td>\n",
       "      <td>5</td>\n",
       "      <td>7</td>\n",
       "      <td>5</td>\n",
       "      <td>1</td>\n",
       "      <td>1</td>\n",
       "      <td>0</td>\n",
       "      <td>1</td>\n",
       "    </tr>\n",
       "    <tr>\n",
       "      <th>1</th>\n",
       "      <td>ebe7ef46ea6f4963a7dd49f501b26779</td>\n",
       "      <td>offer received</td>\n",
       "      <td>0</td>\n",
       "      <td>9b98b8c7a33c4b65b9aebfe6a799e6d9</td>\n",
       "      <td>0</td>\n",
       "      <td>1</td>\n",
       "      <td>0</td>\n",
       "      <td>offer_4</td>\n",
       "      <td>bogo</td>\n",
       "      <td>5</td>\n",
       "      <td>7</td>\n",
       "      <td>5</td>\n",
       "      <td>1</td>\n",
       "      <td>1</td>\n",
       "      <td>0</td>\n",
       "      <td>1</td>\n",
       "    </tr>\n",
       "  </tbody>\n",
       "</table>\n",
       "</div>"
      ],
      "text/plain": [
       "                        customer_id           event  time_in_days  \\\n",
       "0  78afa995795e4d85b5d9ceeca43f5fef  offer received             0   \n",
       "1  ebe7ef46ea6f4963a7dd49f501b26779  offer received             0   \n",
       "\n",
       "                           offer_id  completed  received  viewed offer_name  \\\n",
       "0  9b98b8c7a33c4b65b9aebfe6a799e6d9          0         1       0    offer_4   \n",
       "1  9b98b8c7a33c4b65b9aebfe6a799e6d9          0         1       0    offer_4   \n",
       "\n",
       "  offer_type  offer_difficulty  offer_duration  offer_reward  email  mobile  \\\n",
       "0       bogo                 5               7             5      1       1   \n",
       "1       bogo                 5               7             5      1       1   \n",
       "\n",
       "   social  web  \n",
       "0       0    1  \n",
       "1       0    1  "
      ]
     },
     "execution_count": 47,
     "metadata": {},
     "output_type": "execute_result"
    }
   ],
   "source": [
    "offers_type = pd.merge(offers_df, portfolio_df, left_on='offer_id', right_on='offer_id', how='inner')\n",
    "offers_type.head(2)"
   ]
  },
  {
   "cell_type": "code",
   "execution_count": 48,
   "metadata": {},
   "outputs": [
    {
     "data": {
      "text/html": [
       "<div>\n",
       "<style scoped>\n",
       "    .dataframe tbody tr th:only-of-type {\n",
       "        vertical-align: middle;\n",
       "    }\n",
       "\n",
       "    .dataframe tbody tr th {\n",
       "        vertical-align: top;\n",
       "    }\n",
       "\n",
       "    .dataframe thead th {\n",
       "        text-align: right;\n",
       "    }\n",
       "</style>\n",
       "<table border=\"1\" class=\"dataframe\">\n",
       "  <thead>\n",
       "    <tr style=\"text-align: right;\">\n",
       "      <th></th>\n",
       "      <th>customer_id</th>\n",
       "      <th>event</th>\n",
       "      <th>time_in_days</th>\n",
       "      <th>offer_id</th>\n",
       "      <th>completed</th>\n",
       "      <th>received</th>\n",
       "      <th>viewed</th>\n",
       "      <th>offer_name</th>\n",
       "      <th>offer_type</th>\n",
       "      <th>offer_difficulty</th>\n",
       "      <th>...</th>\n",
       "      <th>mobile</th>\n",
       "      <th>social</th>\n",
       "      <th>web</th>\n",
       "      <th>gender</th>\n",
       "      <th>age</th>\n",
       "      <th>age_group</th>\n",
       "      <th>customer_income</th>\n",
       "      <th>customer_income_range</th>\n",
       "      <th>became_member_on</th>\n",
       "      <th>membership_year</th>\n",
       "    </tr>\n",
       "  </thead>\n",
       "  <tbody>\n",
       "    <tr>\n",
       "      <th>0</th>\n",
       "      <td>78afa995795e4d85b5d9ceeca43f5fef</td>\n",
       "      <td>offer received</td>\n",
       "      <td>0</td>\n",
       "      <td>9b98b8c7a33c4b65b9aebfe6a799e6d9</td>\n",
       "      <td>0</td>\n",
       "      <td>1</td>\n",
       "      <td>0</td>\n",
       "      <td>offer_4</td>\n",
       "      <td>bogo</td>\n",
       "      <td>5</td>\n",
       "      <td>...</td>\n",
       "      <td>1</td>\n",
       "      <td>0</td>\n",
       "      <td>1</td>\n",
       "      <td>F</td>\n",
       "      <td>75</td>\n",
       "      <td>Boomers(57-75)</td>\n",
       "      <td>100000.0</td>\n",
       "      <td>$100K</td>\n",
       "      <td>2017-05-09</td>\n",
       "      <td>2017</td>\n",
       "    </tr>\n",
       "    <tr>\n",
       "      <th>1</th>\n",
       "      <td>78afa995795e4d85b5d9ceeca43f5fef</td>\n",
       "      <td>offer viewed</td>\n",
       "      <td>0</td>\n",
       "      <td>9b98b8c7a33c4b65b9aebfe6a799e6d9</td>\n",
       "      <td>0</td>\n",
       "      <td>0</td>\n",
       "      <td>1</td>\n",
       "      <td>offer_4</td>\n",
       "      <td>bogo</td>\n",
       "      <td>5</td>\n",
       "      <td>...</td>\n",
       "      <td>1</td>\n",
       "      <td>0</td>\n",
       "      <td>1</td>\n",
       "      <td>F</td>\n",
       "      <td>75</td>\n",
       "      <td>Boomers(57-75)</td>\n",
       "      <td>100000.0</td>\n",
       "      <td>$100K</td>\n",
       "      <td>2017-05-09</td>\n",
       "      <td>2017</td>\n",
       "    </tr>\n",
       "  </tbody>\n",
       "</table>\n",
       "<p>2 rows × 23 columns</p>\n",
       "</div>"
      ],
      "text/plain": [
       "                        customer_id           event  time_in_days  \\\n",
       "0  78afa995795e4d85b5d9ceeca43f5fef  offer received             0   \n",
       "1  78afa995795e4d85b5d9ceeca43f5fef    offer viewed             0   \n",
       "\n",
       "                           offer_id  completed  received  viewed offer_name  \\\n",
       "0  9b98b8c7a33c4b65b9aebfe6a799e6d9          0         1       0    offer_4   \n",
       "1  9b98b8c7a33c4b65b9aebfe6a799e6d9          0         0       1    offer_4   \n",
       "\n",
       "  offer_type  offer_difficulty  ...  mobile  social  web  gender  age  \\\n",
       "0       bogo                 5  ...       1       0    1       F   75   \n",
       "1       bogo                 5  ...       1       0    1       F   75   \n",
       "\n",
       "        age_group customer_income  customer_income_range became_member_on  \\\n",
       "0  Boomers(57-75)        100000.0                  $100K       2017-05-09   \n",
       "1  Boomers(57-75)        100000.0                  $100K       2017-05-09   \n",
       "\n",
       "   membership_year  \n",
       "0             2017  \n",
       "1             2017  \n",
       "\n",
       "[2 rows x 23 columns]"
      ]
     },
     "execution_count": 48,
     "metadata": {},
     "output_type": "execute_result"
    }
   ],
   "source": [
    "data_all = pd.merge(offers_type, profile_df, left_on='customer_id', right_on='customer_id', how='inner')\n",
    "data_all.head(2)"
   ]
  },
  {
   "cell_type": "code",
   "execution_count": 49,
   "metadata": {
    "scrolled": true
   },
   "outputs": [
    {
     "data": {
      "text/plain": [
       "<AxesSubplot:title={'center':'Informational'}, ylabel='Count'>"
      ]
     },
     "execution_count": 49,
     "metadata": {},
     "output_type": "execute_result"
    },
    {
     "data": {
      "image/png": "[encoded data removed]",
      "text/plain": [
       "<Figure size 1440x360 with 3 Axes>"
      ]
     },
     "metadata": {
      "needs_background": "light"
     },
     "output_type": "display_data"
    }
   ],
   "source": [
    "#Comparing offer recieved, viewed, completed by offer type\n",
    "\n",
    "def offer_conversion_rate(offers_type):\n",
    "    \n",
    "    df_graph = offers_type.groupby(['event', 'offer_type'])['customer_id'].count().reset_index()\n",
    "    df_graph['event'] = pd.Categorical(df_graph['event'], [\"offer received\", \"offer viewed\", \"offer completed\"])\n",
    "\n",
    "    df_graph.sort_values('event', inplace = True)\n",
    "    df_graph = df_graph.rename(columns = {'customer_id':'customer_count'})\n",
    "\n",
    "    df_graph.sort_values('event', inplace=True)\n",
    "\n",
    "    fig, axs = plt.subplots(ncols=3, figsize=(20, 5))\n",
    "\n",
    "    sns.set_palette(sns.color_palette(\"rocket\",3))\n",
    "\n",
    "    ax = sns.barplot(x = 'event', y='customer_count', data=df_graph.query('offer_type == \"bogo\"'),ax=axs[0])\n",
    "    ax.set(xlabel='', ylabel='Count', title='BOGO')\n",
    "\n",
    "    ax = sns.barplot(x = 'event', y='customer_count', data=df_graph.query('offer_type == \"discount\"'),ax=axs[1])\n",
    "    ax.set(xlabel='', ylabel='Count', title='Discount')\n",
    "\n",
    "    ax = sns.barplot(x = 'event', y='customer_count', data=df_graph.query('offer_type == \"informational\"'), ax=axs[2])\n",
    "    ax.set(xlabel='', ylabel='Count', title='Informational')\n",
    "    \n",
    "    return ax\n",
    "\n",
    "offer_conversion_rate(offers_type)"
   ]
  },
  {
   "cell_type": "code",
   "execution_count": null,
   "metadata": {},
   "outputs": [],
   "source": []
  },
  {
   "cell_type": "code",
   "execution_count": null,
   "metadata": {},
   "outputs": [],
   "source": []
  },
  {
   "cell_type": "code",
   "execution_count": null,
   "metadata": {},
   "outputs": [],
   "source": []
  }
 ],
 "metadata": {
  "kernelspec": {
   "display_name": "Python 3",
   "language": "python",
   "name": "python3"
  },
  "language_info": {
   "codemirror_mode": {
    "name": "ipython",
    "version": 3
   },
   "file_extension": ".py",
   "mimetype": "text/x-python",
   "name": "python",
   "nbconvert_exporter": "python",
   "pygments_lexer": "ipython3",
   "version": "3.8.5"
  }
 },
 "nbformat": 4,
 "nbformat_minor": 2
}
