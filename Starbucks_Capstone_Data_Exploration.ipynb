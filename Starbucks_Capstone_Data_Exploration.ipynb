{
 "cells": [
  {
   "cell_type": "markdown",
   "metadata": {},
   "source": [
    "# Data Sets\n",
    "\n",
    "The data is contained in three files:\n",
    "\n",
    "* portfolio.json - containing offer ids and meta data about each offer (duration, type, etc.)\n",
    "* profile.json - demographic data for each customer\n",
    "* transcript.json - records for transactions, offers received, offers viewed, and offers completed\n",
    "\n",
    "Here is the schema and explanation of each variable in the files:\n",
    "\n",
    "**portfolio.json**\n",
    "* id (string) - offer id\n",
    "* offer_type (string) - type of offer ie BOGO, discount, informational\n",
    "* difficulty (int) - minimum required spend to complete an offer\n",
    "* reward (int) - reward given for completing an offer\n",
    "* duration (int) - time for offer to be open, in days\n",
    "* channels (list of strings)\n",
    "\n",
    "**profile.json**\n",
    "* age (int) - age of the customer \n",
    "* became_member_on (int) - date when customer created an app account\n",
    "* gender (str) - gender of the customer (note some entries contain 'O' for other rather than M or F)\n",
    "* id (str) - customer id\n",
    "* income (float) - customer's income\n",
    "\n",
    "**transcript.json**\n",
    "* event (str) - record description (ie transaction, offer received, offer viewed, etc.)\n",
    "* person (str) - customer id\n",
    "* time (int) - time in hours since start of test. The data begins at time t=0\n",
    "* value - (dict of strings) - either an offer id or transaction amount depending on the record\n",
    "\n",
    "**Note:** If you are using the workspace, you will need to go to the terminal and run the command `conda update pandas` before reading in the files. This is because the version of pandas in the workspace cannot read in the transcript.json file correctly, but the newest version of pandas can. You can access the termnal from the orange icon in the top left of this notebook.  \n",
    "\n",
    "You can see how to access the terminal and how the install works using the two images below.  First you need to access the terminal:\n",
    "\n",
    "<img src=\"pic1.png\"/>\n",
    "\n",
    "Then you will want to run the above command:\n",
    "\n",
    "<img src=\"pic2.png\"/>\n",
    "\n",
    "Finally, when you enter back into the notebook (use the jupyter icon again), you should be able to run the below cell without any errors."
   ]
  },
  {
   "cell_type": "code",
   "execution_count": 6,
   "metadata": {},
   "outputs": [],
   "source": [
    "import pandas as pd\n",
    "import numpy as np\n",
    "import math\n",
    "import json\n",
    "\n",
    "\n",
    "from sklearn.preprocessing import LabelBinarizer, MultiLabelBinarizer, MinMaxScaler\n",
    "import seaborn as sns #For Data visualization\n",
    "import matplotlib.pyplot as plt #Data plotting and visualization\n",
    "sns.set_palette(sns.color_palette('Set2'))\n",
    "import plotly.express as px\n",
    "%matplotlib inline\n"
   ]
  },
  {
   "cell_type": "code",
   "execution_count": 7,
   "metadata": {},
   "outputs": [],
   "source": [
    "# read in the json files\n",
    "portfolio = pd.read_json('data/portfolio.json', orient='records', lines=True)\n",
    "profile = pd.read_json('data/profile.json', orient='records', lines=True)\n",
    "transcript = pd.read_json('data/transcript.json', orient='records', lines=True)"
   ]
  },
  {
   "cell_type": "code",
   "execution_count": 8,
   "metadata": {},
   "outputs": [],
   "source": [
    "from datetime import datetime\n",
    "from sklearn.preprocessing import LabelBinarizer, MultiLabelBinarizer\n",
    "from sklearn.cluster import KMeans"
   ]
  },
  {
   "cell_type": "code",
   "execution_count": 9,
   "metadata": {},
   "outputs": [],
   "source": [
    "#Import functions\n",
    "from clean_data import clean_portfolio, clean_profile, clean_transcript\n",
    "\n",
    "\n",
    "portfolio_df = clean_portfolio(portfolio)\n",
    "portfolio_df = portfolio_df[['offer_reward', 'channels', 'offer_difficulty', \n",
    "                             'offer_duration', 'offer_type', 'offer_id', 'offer_name']]\n",
    "\n",
    "profile_df = clean_profile(profile)\n",
    "profile_df = profile_df[['gender','age', 'customer_id','became_member_on',\n",
    "            'customer_income','membership_year','age_group']]\n",
    "\n",
    "offers_df,transactions_df  = clean_transcript(transcript)\n"
   ]
  },
  {
   "cell_type": "code",
   "execution_count": 10,
   "metadata": {},
   "outputs": [
    {
     "data": {
      "text/html": [
       "<div>\n",
       "<style scoped>\n",
       "    .dataframe tbody tr th:only-of-type {\n",
       "        vertical-align: middle;\n",
       "    }\n",
       "\n",
       "    .dataframe tbody tr th {\n",
       "        vertical-align: top;\n",
       "    }\n",
       "\n",
       "    .dataframe thead th {\n",
       "        text-align: right;\n",
       "    }\n",
       "</style>\n",
       "<table border=\"1\" class=\"dataframe\">\n",
       "  <thead>\n",
       "    <tr style=\"text-align: right;\">\n",
       "      <th></th>\n",
       "      <th>customer_id</th>\n",
       "      <th>event</th>\n",
       "      <th>time_in_days</th>\n",
       "      <th>offer_id</th>\n",
       "    </tr>\n",
       "  </thead>\n",
       "  <tbody>\n",
       "    <tr>\n",
       "      <th>0</th>\n",
       "      <td>78afa995795e4d85b5d9ceeca43f5fef</td>\n",
       "      <td>offer received</td>\n",
       "      <td>0</td>\n",
       "      <td>9b98b8c7a33c4b65b9aebfe6a799e6d9</td>\n",
       "    </tr>\n",
       "    <tr>\n",
       "      <th>1</th>\n",
       "      <td>a03223e636434f42ac4c3df47e8bac43</td>\n",
       "      <td>offer received</td>\n",
       "      <td>0</td>\n",
       "      <td>0b1e1539f2cc45b7b9fa7c272da2e1d7</td>\n",
       "    </tr>\n",
       "    <tr>\n",
       "      <th>2</th>\n",
       "      <td>e2127556f4f64592b11af22de27a7932</td>\n",
       "      <td>offer received</td>\n",
       "      <td>0</td>\n",
       "      <td>2906b810c7d4411798c6938adc9daaa5</td>\n",
       "    </tr>\n",
       "    <tr>\n",
       "      <th>3</th>\n",
       "      <td>8ec6ce2a7e7949b1bf142def7d0e0586</td>\n",
       "      <td>offer received</td>\n",
       "      <td>0</td>\n",
       "      <td>fafdcd668e3743c1bb461111dcafc2a4</td>\n",
       "    </tr>\n",
       "    <tr>\n",
       "      <th>4</th>\n",
       "      <td>68617ca6246f4fbc85e91a2a49552598</td>\n",
       "      <td>offer received</td>\n",
       "      <td>0</td>\n",
       "      <td>4d5c57ea9a6940dd891ad53e9dbe8da0</td>\n",
       "    </tr>\n",
       "    <tr>\n",
       "      <th>...</th>\n",
       "      <td>...</td>\n",
       "      <td>...</td>\n",
       "      <td>...</td>\n",
       "      <td>...</td>\n",
       "    </tr>\n",
       "    <tr>\n",
       "      <th>306497</th>\n",
       "      <td>a6f84f4e976f44508c358cc9aba6d2b3</td>\n",
       "      <td>offer completed</td>\n",
       "      <td>29</td>\n",
       "      <td>2298d6c36e964ae4a3e7e9706d1fb8c2</td>\n",
       "    </tr>\n",
       "    <tr>\n",
       "      <th>306506</th>\n",
       "      <td>b895c57e8cd047a8872ce02aa54759d6</td>\n",
       "      <td>offer completed</td>\n",
       "      <td>29</td>\n",
       "      <td>fafdcd668e3743c1bb461111dcafc2a4</td>\n",
       "    </tr>\n",
       "    <tr>\n",
       "      <th>306507</th>\n",
       "      <td>8dda575c2a1d44b9ac8e8b07b93d1f8e</td>\n",
       "      <td>offer viewed</td>\n",
       "      <td>29</td>\n",
       "      <td>0b1e1539f2cc45b7b9fa7c272da2e1d7</td>\n",
       "    </tr>\n",
       "    <tr>\n",
       "      <th>306509</th>\n",
       "      <td>8431c16f8e1d440880db371a68f82dd0</td>\n",
       "      <td>offer completed</td>\n",
       "      <td>29</td>\n",
       "      <td>fafdcd668e3743c1bb461111dcafc2a4</td>\n",
       "    </tr>\n",
       "    <tr>\n",
       "      <th>306527</th>\n",
       "      <td>24f56b5e1849462093931b164eb803b5</td>\n",
       "      <td>offer completed</td>\n",
       "      <td>29</td>\n",
       "      <td>fafdcd668e3743c1bb461111dcafc2a4</td>\n",
       "    </tr>\n",
       "  </tbody>\n",
       "</table>\n",
       "<p>167581 rows × 4 columns</p>\n",
       "</div>"
      ],
      "text/plain": [
       "                             customer_id            event  time_in_days  \\\n",
       "0       78afa995795e4d85b5d9ceeca43f5fef   offer received             0   \n",
       "1       a03223e636434f42ac4c3df47e8bac43   offer received             0   \n",
       "2       e2127556f4f64592b11af22de27a7932   offer received             0   \n",
       "3       8ec6ce2a7e7949b1bf142def7d0e0586   offer received             0   \n",
       "4       68617ca6246f4fbc85e91a2a49552598   offer received             0   \n",
       "...                                  ...              ...           ...   \n",
       "306497  a6f84f4e976f44508c358cc9aba6d2b3  offer completed            29   \n",
       "306506  b895c57e8cd047a8872ce02aa54759d6  offer completed            29   \n",
       "306507  8dda575c2a1d44b9ac8e8b07b93d1f8e     offer viewed            29   \n",
       "306509  8431c16f8e1d440880db371a68f82dd0  offer completed            29   \n",
       "306527  24f56b5e1849462093931b164eb803b5  offer completed            29   \n",
       "\n",
       "                                offer_id  \n",
       "0       9b98b8c7a33c4b65b9aebfe6a799e6d9  \n",
       "1       0b1e1539f2cc45b7b9fa7c272da2e1d7  \n",
       "2       2906b810c7d4411798c6938adc9daaa5  \n",
       "3       fafdcd668e3743c1bb461111dcafc2a4  \n",
       "4       4d5c57ea9a6940dd891ad53e9dbe8da0  \n",
       "...                                  ...  \n",
       "306497  2298d6c36e964ae4a3e7e9706d1fb8c2  \n",
       "306506  fafdcd668e3743c1bb461111dcafc2a4  \n",
       "306507  0b1e1539f2cc45b7b9fa7c272da2e1d7  \n",
       "306509  fafdcd668e3743c1bb461111dcafc2a4  \n",
       "306527  fafdcd668e3743c1bb461111dcafc2a4  \n",
       "\n",
       "[167581 rows x 4 columns]"
      ]
     },
     "execution_count": 10,
     "metadata": {},
     "output_type": "execute_result"
    }
   ],
   "source": [
    "offers_df = offers_df[['customer_id', 'event', 'time_in_days', 'offer_id']]\n",
    "offers_df"
   ]
  },
  {
   "cell_type": "code",
   "execution_count": 11,
   "metadata": {},
   "outputs": [
    {
     "data": {
      "text/html": [
       "<div>\n",
       "<style scoped>\n",
       "    .dataframe tbody tr th:only-of-type {\n",
       "        vertical-align: middle;\n",
       "    }\n",
       "\n",
       "    .dataframe tbody tr th {\n",
       "        vertical-align: top;\n",
       "    }\n",
       "\n",
       "    .dataframe thead th {\n",
       "        text-align: right;\n",
       "    }\n",
       "</style>\n",
       "<table border=\"1\" class=\"dataframe\">\n",
       "  <thead>\n",
       "    <tr style=\"text-align: right;\">\n",
       "      <th></th>\n",
       "      <th>gender</th>\n",
       "      <th>age</th>\n",
       "      <th>customer_id</th>\n",
       "      <th>became_member_on</th>\n",
       "      <th>customer_income</th>\n",
       "      <th>membership_year</th>\n",
       "      <th>age_group</th>\n",
       "    </tr>\n",
       "  </thead>\n",
       "  <tbody>\n",
       "    <tr>\n",
       "      <th>0</th>\n",
       "      <td>F</td>\n",
       "      <td>55</td>\n",
       "      <td>0610b486422d4921ae7d2bf64640c50b</td>\n",
       "      <td>2017-07-15</td>\n",
       "      <td>112000.0</td>\n",
       "      <td>2017</td>\n",
       "      <td>GenXers(44-56)</td>\n",
       "    </tr>\n",
       "    <tr>\n",
       "      <th>1</th>\n",
       "      <td>F</td>\n",
       "      <td>75</td>\n",
       "      <td>78afa995795e4d85b5d9ceeca43f5fef</td>\n",
       "      <td>2017-05-09</td>\n",
       "      <td>100000.0</td>\n",
       "      <td>2017</td>\n",
       "      <td>Boomers(57-75)</td>\n",
       "    </tr>\n",
       "    <tr>\n",
       "      <th>2</th>\n",
       "      <td>M</td>\n",
       "      <td>68</td>\n",
       "      <td>e2127556f4f64592b11af22de27a7932</td>\n",
       "      <td>2018-04-26</td>\n",
       "      <td>70000.0</td>\n",
       "      <td>2018</td>\n",
       "      <td>Boomers(57-75)</td>\n",
       "    </tr>\n",
       "    <tr>\n",
       "      <th>3</th>\n",
       "      <td>M</td>\n",
       "      <td>65</td>\n",
       "      <td>389bc3fa690240e798340f5a15918d5c</td>\n",
       "      <td>2018-02-09</td>\n",
       "      <td>53000.0</td>\n",
       "      <td>2018</td>\n",
       "      <td>Boomers(57-75)</td>\n",
       "    </tr>\n",
       "    <tr>\n",
       "      <th>4</th>\n",
       "      <td>M</td>\n",
       "      <td>58</td>\n",
       "      <td>2eeac8d8feae4a8cad5a6af0499a211d</td>\n",
       "      <td>2017-11-11</td>\n",
       "      <td>51000.0</td>\n",
       "      <td>2017</td>\n",
       "      <td>Boomers(57-75)</td>\n",
       "    </tr>\n",
       "    <tr>\n",
       "      <th>...</th>\n",
       "      <td>...</td>\n",
       "      <td>...</td>\n",
       "      <td>...</td>\n",
       "      <td>...</td>\n",
       "      <td>...</td>\n",
       "      <td>...</td>\n",
       "      <td>...</td>\n",
       "    </tr>\n",
       "    <tr>\n",
       "      <th>14820</th>\n",
       "      <td>F</td>\n",
       "      <td>45</td>\n",
       "      <td>6d5f3a774f3d4714ab0c092238f3a1d7</td>\n",
       "      <td>2018-06-04</td>\n",
       "      <td>54000.0</td>\n",
       "      <td>2018</td>\n",
       "      <td>GenXers(44-56)</td>\n",
       "    </tr>\n",
       "    <tr>\n",
       "      <th>14821</th>\n",
       "      <td>M</td>\n",
       "      <td>61</td>\n",
       "      <td>2cb4f97358b841b9a9773a7aa05a9d77</td>\n",
       "      <td>2018-07-13</td>\n",
       "      <td>72000.0</td>\n",
       "      <td>2018</td>\n",
       "      <td>Boomers(57-75)</td>\n",
       "    </tr>\n",
       "    <tr>\n",
       "      <th>14822</th>\n",
       "      <td>M</td>\n",
       "      <td>49</td>\n",
       "      <td>01d26f638c274aa0b965d24cefe3183f</td>\n",
       "      <td>2017-01-26</td>\n",
       "      <td>73000.0</td>\n",
       "      <td>2017</td>\n",
       "      <td>GenXers(44-56)</td>\n",
       "    </tr>\n",
       "    <tr>\n",
       "      <th>14823</th>\n",
       "      <td>F</td>\n",
       "      <td>83</td>\n",
       "      <td>9dc1421481194dcd9400aec7c9ae6366</td>\n",
       "      <td>2016-03-07</td>\n",
       "      <td>50000.0</td>\n",
       "      <td>2016</td>\n",
       "      <td>Matures(76+)</td>\n",
       "    </tr>\n",
       "    <tr>\n",
       "      <th>14824</th>\n",
       "      <td>F</td>\n",
       "      <td>62</td>\n",
       "      <td>e4052622e5ba45a8b96b59aba68cf068</td>\n",
       "      <td>2017-07-22</td>\n",
       "      <td>82000.0</td>\n",
       "      <td>2017</td>\n",
       "      <td>Boomers(57-75)</td>\n",
       "    </tr>\n",
       "  </tbody>\n",
       "</table>\n",
       "<p>14825 rows × 7 columns</p>\n",
       "</div>"
      ],
      "text/plain": [
       "      gender  age                       customer_id became_member_on  \\\n",
       "0          F   55  0610b486422d4921ae7d2bf64640c50b       2017-07-15   \n",
       "1          F   75  78afa995795e4d85b5d9ceeca43f5fef       2017-05-09   \n",
       "2          M   68  e2127556f4f64592b11af22de27a7932       2018-04-26   \n",
       "3          M   65  389bc3fa690240e798340f5a15918d5c       2018-02-09   \n",
       "4          M   58  2eeac8d8feae4a8cad5a6af0499a211d       2017-11-11   \n",
       "...      ...  ...                               ...              ...   \n",
       "14820      F   45  6d5f3a774f3d4714ab0c092238f3a1d7       2018-06-04   \n",
       "14821      M   61  2cb4f97358b841b9a9773a7aa05a9d77       2018-07-13   \n",
       "14822      M   49  01d26f638c274aa0b965d24cefe3183f       2017-01-26   \n",
       "14823      F   83  9dc1421481194dcd9400aec7c9ae6366       2016-03-07   \n",
       "14824      F   62  e4052622e5ba45a8b96b59aba68cf068       2017-07-22   \n",
       "\n",
       "       customer_income  membership_year       age_group  \n",
       "0             112000.0             2017  GenXers(44-56)  \n",
       "1             100000.0             2017  Boomers(57-75)  \n",
       "2              70000.0             2018  Boomers(57-75)  \n",
       "3              53000.0             2018  Boomers(57-75)  \n",
       "4              51000.0             2017  Boomers(57-75)  \n",
       "...                ...              ...             ...  \n",
       "14820          54000.0             2018  GenXers(44-56)  \n",
       "14821          72000.0             2018  Boomers(57-75)  \n",
       "14822          73000.0             2017  GenXers(44-56)  \n",
       "14823          50000.0             2016    Matures(76+)  \n",
       "14824          82000.0             2017  Boomers(57-75)  \n",
       "\n",
       "[14825 rows x 7 columns]"
      ]
     },
     "execution_count": 11,
     "metadata": {},
     "output_type": "execute_result"
    }
   ],
   "source": [
    "profile_df"
   ]
  },
  {
   "cell_type": "markdown",
   "metadata": {},
   "source": [
    "## Portfolio: Data Exploration "
   ]
  },
  {
   "cell_type": "code",
   "execution_count": 12,
   "metadata": {},
   "outputs": [
    {
     "data": {
      "text/html": [
       "<div>\n",
       "<style scoped>\n",
       "    .dataframe tbody tr th:only-of-type {\n",
       "        vertical-align: middle;\n",
       "    }\n",
       "\n",
       "    .dataframe tbody tr th {\n",
       "        vertical-align: top;\n",
       "    }\n",
       "\n",
       "    .dataframe thead th {\n",
       "        text-align: right;\n",
       "    }\n",
       "</style>\n",
       "<table border=\"1\" class=\"dataframe\">\n",
       "  <thead>\n",
       "    <tr style=\"text-align: right;\">\n",
       "      <th></th>\n",
       "      <th>reward</th>\n",
       "      <th>channels</th>\n",
       "      <th>difficulty</th>\n",
       "      <th>duration</th>\n",
       "      <th>offer_type</th>\n",
       "      <th>id</th>\n",
       "    </tr>\n",
       "  </thead>\n",
       "  <tbody>\n",
       "    <tr>\n",
       "      <th>0</th>\n",
       "      <td>10</td>\n",
       "      <td>[email, mobile, social]</td>\n",
       "      <td>10</td>\n",
       "      <td>7</td>\n",
       "      <td>bogo</td>\n",
       "      <td>ae264e3637204a6fb9bb56bc8210ddfd</td>\n",
       "    </tr>\n",
       "    <tr>\n",
       "      <th>1</th>\n",
       "      <td>10</td>\n",
       "      <td>[web, email, mobile, social]</td>\n",
       "      <td>10</td>\n",
       "      <td>5</td>\n",
       "      <td>bogo</td>\n",
       "      <td>4d5c57ea9a6940dd891ad53e9dbe8da0</td>\n",
       "    </tr>\n",
       "    <tr>\n",
       "      <th>2</th>\n",
       "      <td>0</td>\n",
       "      <td>[web, email, mobile]</td>\n",
       "      <td>0</td>\n",
       "      <td>4</td>\n",
       "      <td>informational</td>\n",
       "      <td>3f207df678b143eea3cee63160fa8bed</td>\n",
       "    </tr>\n",
       "    <tr>\n",
       "      <th>3</th>\n",
       "      <td>5</td>\n",
       "      <td>[web, email, mobile]</td>\n",
       "      <td>5</td>\n",
       "      <td>7</td>\n",
       "      <td>bogo</td>\n",
       "      <td>9b98b8c7a33c4b65b9aebfe6a799e6d9</td>\n",
       "    </tr>\n",
       "    <tr>\n",
       "      <th>4</th>\n",
       "      <td>5</td>\n",
       "      <td>[web, email]</td>\n",
       "      <td>20</td>\n",
       "      <td>10</td>\n",
       "      <td>discount</td>\n",
       "      <td>0b1e1539f2cc45b7b9fa7c272da2e1d7</td>\n",
       "    </tr>\n",
       "    <tr>\n",
       "      <th>5</th>\n",
       "      <td>3</td>\n",
       "      <td>[web, email, mobile, social]</td>\n",
       "      <td>7</td>\n",
       "      <td>7</td>\n",
       "      <td>discount</td>\n",
       "      <td>2298d6c36e964ae4a3e7e9706d1fb8c2</td>\n",
       "    </tr>\n",
       "    <tr>\n",
       "      <th>6</th>\n",
       "      <td>2</td>\n",
       "      <td>[web, email, mobile, social]</td>\n",
       "      <td>10</td>\n",
       "      <td>10</td>\n",
       "      <td>discount</td>\n",
       "      <td>fafdcd668e3743c1bb461111dcafc2a4</td>\n",
       "    </tr>\n",
       "    <tr>\n",
       "      <th>7</th>\n",
       "      <td>0</td>\n",
       "      <td>[email, mobile, social]</td>\n",
       "      <td>0</td>\n",
       "      <td>3</td>\n",
       "      <td>informational</td>\n",
       "      <td>5a8bc65990b245e5a138643cd4eb9837</td>\n",
       "    </tr>\n",
       "    <tr>\n",
       "      <th>8</th>\n",
       "      <td>5</td>\n",
       "      <td>[web, email, mobile, social]</td>\n",
       "      <td>5</td>\n",
       "      <td>5</td>\n",
       "      <td>bogo</td>\n",
       "      <td>f19421c1d4aa40978ebb69ca19b0e20d</td>\n",
       "    </tr>\n",
       "    <tr>\n",
       "      <th>9</th>\n",
       "      <td>2</td>\n",
       "      <td>[web, email, mobile]</td>\n",
       "      <td>10</td>\n",
       "      <td>7</td>\n",
       "      <td>discount</td>\n",
       "      <td>2906b810c7d4411798c6938adc9daaa5</td>\n",
       "    </tr>\n",
       "  </tbody>\n",
       "</table>\n",
       "</div>"
      ],
      "text/plain": [
       "   reward                      channels  difficulty  duration     offer_type  \\\n",
       "0      10       [email, mobile, social]          10         7           bogo   \n",
       "1      10  [web, email, mobile, social]          10         5           bogo   \n",
       "2       0          [web, email, mobile]           0         4  informational   \n",
       "3       5          [web, email, mobile]           5         7           bogo   \n",
       "4       5                  [web, email]          20        10       discount   \n",
       "5       3  [web, email, mobile, social]           7         7       discount   \n",
       "6       2  [web, email, mobile, social]          10        10       discount   \n",
       "7       0       [email, mobile, social]           0         3  informational   \n",
       "8       5  [web, email, mobile, social]           5         5           bogo   \n",
       "9       2          [web, email, mobile]          10         7       discount   \n",
       "\n",
       "                                 id  \n",
       "0  ae264e3637204a6fb9bb56bc8210ddfd  \n",
       "1  4d5c57ea9a6940dd891ad53e9dbe8da0  \n",
       "2  3f207df678b143eea3cee63160fa8bed  \n",
       "3  9b98b8c7a33c4b65b9aebfe6a799e6d9  \n",
       "4  0b1e1539f2cc45b7b9fa7c272da2e1d7  \n",
       "5  2298d6c36e964ae4a3e7e9706d1fb8c2  \n",
       "6  fafdcd668e3743c1bb461111dcafc2a4  \n",
       "7  5a8bc65990b245e5a138643cd4eb9837  \n",
       "8  f19421c1d4aa40978ebb69ca19b0e20d  \n",
       "9  2906b810c7d4411798c6938adc9daaa5  "
      ]
     },
     "metadata": {},
     "output_type": "display_data"
    }
   ],
   "source": [
    "display(portfolio)"
   ]
  },
  {
   "cell_type": "code",
   "execution_count": 13,
   "metadata": {
    "scrolled": true
   },
   "outputs": [
    {
     "name": "stdout",
     "output_type": "stream",
     "text": [
      "<class 'pandas.core.frame.DataFrame'>\n",
      "RangeIndex: 10 entries, 0 to 9\n",
      "Data columns (total 6 columns):\n",
      " #   Column      Non-Null Count  Dtype \n",
      "---  ------      --------------  ----- \n",
      " 0   reward      10 non-null     int64 \n",
      " 1   channels    10 non-null     object\n",
      " 2   difficulty  10 non-null     int64 \n",
      " 3   duration    10 non-null     int64 \n",
      " 4   offer_type  10 non-null     object\n",
      " 5   id          10 non-null     object\n",
      "dtypes: int64(3), object(3)\n",
      "memory usage: 608.0+ bytes\n"
     ]
    }
   ],
   "source": [
    "portfolio.info()"
   ]
  },
  {
   "cell_type": "markdown",
   "metadata": {},
   "source": [
    "## Profile: Data Exploration"
   ]
  },
  {
   "cell_type": "code",
   "execution_count": 14,
   "metadata": {
    "scrolled": true
   },
   "outputs": [
    {
     "data": {
      "text/html": [
       "<div>\n",
       "<style scoped>\n",
       "    .dataframe tbody tr th:only-of-type {\n",
       "        vertical-align: middle;\n",
       "    }\n",
       "\n",
       "    .dataframe tbody tr th {\n",
       "        vertical-align: top;\n",
       "    }\n",
       "\n",
       "    .dataframe thead th {\n",
       "        text-align: right;\n",
       "    }\n",
       "</style>\n",
       "<table border=\"1\" class=\"dataframe\">\n",
       "  <thead>\n",
       "    <tr style=\"text-align: right;\">\n",
       "      <th></th>\n",
       "      <th>gender</th>\n",
       "      <th>age</th>\n",
       "      <th>customer_id</th>\n",
       "      <th>became_member_on</th>\n",
       "      <th>customer_income</th>\n",
       "      <th>membership_year</th>\n",
       "      <th>age_group</th>\n",
       "    </tr>\n",
       "  </thead>\n",
       "  <tbody>\n",
       "    <tr>\n",
       "      <th>0</th>\n",
       "      <td>F</td>\n",
       "      <td>55</td>\n",
       "      <td>0610b486422d4921ae7d2bf64640c50b</td>\n",
       "      <td>2017-07-15</td>\n",
       "      <td>112000.0</td>\n",
       "      <td>2017</td>\n",
       "      <td>GenXers(44-56)</td>\n",
       "    </tr>\n",
       "    <tr>\n",
       "      <th>1</th>\n",
       "      <td>F</td>\n",
       "      <td>75</td>\n",
       "      <td>78afa995795e4d85b5d9ceeca43f5fef</td>\n",
       "      <td>2017-05-09</td>\n",
       "      <td>100000.0</td>\n",
       "      <td>2017</td>\n",
       "      <td>Boomers(57-75)</td>\n",
       "    </tr>\n",
       "    <tr>\n",
       "      <th>2</th>\n",
       "      <td>M</td>\n",
       "      <td>68</td>\n",
       "      <td>e2127556f4f64592b11af22de27a7932</td>\n",
       "      <td>2018-04-26</td>\n",
       "      <td>70000.0</td>\n",
       "      <td>2018</td>\n",
       "      <td>Boomers(57-75)</td>\n",
       "    </tr>\n",
       "    <tr>\n",
       "      <th>3</th>\n",
       "      <td>M</td>\n",
       "      <td>65</td>\n",
       "      <td>389bc3fa690240e798340f5a15918d5c</td>\n",
       "      <td>2018-02-09</td>\n",
       "      <td>53000.0</td>\n",
       "      <td>2018</td>\n",
       "      <td>Boomers(57-75)</td>\n",
       "    </tr>\n",
       "    <tr>\n",
       "      <th>4</th>\n",
       "      <td>M</td>\n",
       "      <td>58</td>\n",
       "      <td>2eeac8d8feae4a8cad5a6af0499a211d</td>\n",
       "      <td>2017-11-11</td>\n",
       "      <td>51000.0</td>\n",
       "      <td>2017</td>\n",
       "      <td>Boomers(57-75)</td>\n",
       "    </tr>\n",
       "    <tr>\n",
       "      <th>...</th>\n",
       "      <td>...</td>\n",
       "      <td>...</td>\n",
       "      <td>...</td>\n",
       "      <td>...</td>\n",
       "      <td>...</td>\n",
       "      <td>...</td>\n",
       "      <td>...</td>\n",
       "    </tr>\n",
       "    <tr>\n",
       "      <th>14820</th>\n",
       "      <td>F</td>\n",
       "      <td>45</td>\n",
       "      <td>6d5f3a774f3d4714ab0c092238f3a1d7</td>\n",
       "      <td>2018-06-04</td>\n",
       "      <td>54000.0</td>\n",
       "      <td>2018</td>\n",
       "      <td>GenXers(44-56)</td>\n",
       "    </tr>\n",
       "    <tr>\n",
       "      <th>14821</th>\n",
       "      <td>M</td>\n",
       "      <td>61</td>\n",
       "      <td>2cb4f97358b841b9a9773a7aa05a9d77</td>\n",
       "      <td>2018-07-13</td>\n",
       "      <td>72000.0</td>\n",
       "      <td>2018</td>\n",
       "      <td>Boomers(57-75)</td>\n",
       "    </tr>\n",
       "    <tr>\n",
       "      <th>14822</th>\n",
       "      <td>M</td>\n",
       "      <td>49</td>\n",
       "      <td>01d26f638c274aa0b965d24cefe3183f</td>\n",
       "      <td>2017-01-26</td>\n",
       "      <td>73000.0</td>\n",
       "      <td>2017</td>\n",
       "      <td>GenXers(44-56)</td>\n",
       "    </tr>\n",
       "    <tr>\n",
       "      <th>14823</th>\n",
       "      <td>F</td>\n",
       "      <td>83</td>\n",
       "      <td>9dc1421481194dcd9400aec7c9ae6366</td>\n",
       "      <td>2016-03-07</td>\n",
       "      <td>50000.0</td>\n",
       "      <td>2016</td>\n",
       "      <td>Matures(76+)</td>\n",
       "    </tr>\n",
       "    <tr>\n",
       "      <th>14824</th>\n",
       "      <td>F</td>\n",
       "      <td>62</td>\n",
       "      <td>e4052622e5ba45a8b96b59aba68cf068</td>\n",
       "      <td>2017-07-22</td>\n",
       "      <td>82000.0</td>\n",
       "      <td>2017</td>\n",
       "      <td>Boomers(57-75)</td>\n",
       "    </tr>\n",
       "  </tbody>\n",
       "</table>\n",
       "<p>14825 rows × 7 columns</p>\n",
       "</div>"
      ],
      "text/plain": [
       "      gender  age                       customer_id became_member_on  \\\n",
       "0          F   55  0610b486422d4921ae7d2bf64640c50b       2017-07-15   \n",
       "1          F   75  78afa995795e4d85b5d9ceeca43f5fef       2017-05-09   \n",
       "2          M   68  e2127556f4f64592b11af22de27a7932       2018-04-26   \n",
       "3          M   65  389bc3fa690240e798340f5a15918d5c       2018-02-09   \n",
       "4          M   58  2eeac8d8feae4a8cad5a6af0499a211d       2017-11-11   \n",
       "...      ...  ...                               ...              ...   \n",
       "14820      F   45  6d5f3a774f3d4714ab0c092238f3a1d7       2018-06-04   \n",
       "14821      M   61  2cb4f97358b841b9a9773a7aa05a9d77       2018-07-13   \n",
       "14822      M   49  01d26f638c274aa0b965d24cefe3183f       2017-01-26   \n",
       "14823      F   83  9dc1421481194dcd9400aec7c9ae6366       2016-03-07   \n",
       "14824      F   62  e4052622e5ba45a8b96b59aba68cf068       2017-07-22   \n",
       "\n",
       "       customer_income  membership_year       age_group  \n",
       "0             112000.0             2017  GenXers(44-56)  \n",
       "1             100000.0             2017  Boomers(57-75)  \n",
       "2              70000.0             2018  Boomers(57-75)  \n",
       "3              53000.0             2018  Boomers(57-75)  \n",
       "4              51000.0             2017  Boomers(57-75)  \n",
       "...                ...              ...             ...  \n",
       "14820          54000.0             2018  GenXers(44-56)  \n",
       "14821          72000.0             2018  Boomers(57-75)  \n",
       "14822          73000.0             2017  GenXers(44-56)  \n",
       "14823          50000.0             2016    Matures(76+)  \n",
       "14824          82000.0             2017  Boomers(57-75)  \n",
       "\n",
       "[14825 rows x 7 columns]"
      ]
     },
     "execution_count": 14,
     "metadata": {},
     "output_type": "execute_result"
    }
   ],
   "source": [
    "profile_df"
   ]
  },
  {
   "cell_type": "code",
   "execution_count": 15,
   "metadata": {},
   "outputs": [
    {
     "data": {
      "text/html": [
       "<div>\n",
       "<style scoped>\n",
       "    .dataframe tbody tr th:only-of-type {\n",
       "        vertical-align: middle;\n",
       "    }\n",
       "\n",
       "    .dataframe tbody tr th {\n",
       "        vertical-align: top;\n",
       "    }\n",
       "\n",
       "    .dataframe thead th {\n",
       "        text-align: right;\n",
       "    }\n",
       "</style>\n",
       "<table border=\"1\" class=\"dataframe\">\n",
       "  <thead>\n",
       "    <tr style=\"text-align: right;\">\n",
       "      <th></th>\n",
       "      <th>gender</th>\n",
       "      <th>age</th>\n",
       "      <th>id</th>\n",
       "      <th>became_member_on</th>\n",
       "      <th>income</th>\n",
       "    </tr>\n",
       "  </thead>\n",
       "  <tbody>\n",
       "    <tr>\n",
       "      <th>0</th>\n",
       "      <td>None</td>\n",
       "      <td>118</td>\n",
       "      <td>68be06ca386d4c31939f3a4f0e3dd783</td>\n",
       "      <td>20170212</td>\n",
       "      <td>NaN</td>\n",
       "    </tr>\n",
       "    <tr>\n",
       "      <th>1</th>\n",
       "      <td>F</td>\n",
       "      <td>55</td>\n",
       "      <td>0610b486422d4921ae7d2bf64640c50b</td>\n",
       "      <td>20170715</td>\n",
       "      <td>112000.0</td>\n",
       "    </tr>\n",
       "  </tbody>\n",
       "</table>\n",
       "</div>"
      ],
      "text/plain": [
       "  gender  age                                id  became_member_on    income\n",
       "0   None  118  68be06ca386d4c31939f3a4f0e3dd783          20170212       NaN\n",
       "1      F   55  0610b486422d4921ae7d2bf64640c50b          20170715  112000.0"
      ]
     },
     "execution_count": 15,
     "metadata": {},
     "output_type": "execute_result"
    }
   ],
   "source": [
    "profile.head(2)"
   ]
  },
  {
   "cell_type": "code",
   "execution_count": 16,
   "metadata": {
    "scrolled": true
   },
   "outputs": [
    {
     "name": "stdout",
     "output_type": "stream",
     "text": [
      "<class 'pandas.core.frame.DataFrame'>\n",
      "RangeIndex: 17000 entries, 0 to 16999\n",
      "Data columns (total 5 columns):\n",
      " #   Column            Non-Null Count  Dtype  \n",
      "---  ------            --------------  -----  \n",
      " 0   gender            14825 non-null  object \n",
      " 1   age               17000 non-null  int64  \n",
      " 2   id                17000 non-null  object \n",
      " 3   became_member_on  17000 non-null  int64  \n",
      " 4   income            14825 non-null  float64\n",
      "dtypes: float64(1), int64(2), object(2)\n",
      "memory usage: 664.2+ KB\n"
     ]
    },
    {
     "data": {
      "image/png": "[encoded data removed]",
      "text/plain": [
       "<Figure size 432x288 with 1 Axes>"
      ]
     },
     "metadata": {
      "needs_background": "light"
     },
     "output_type": "display_data"
    }
   ],
   "source": [
    "# Find and visualize Missing Data\n",
    "sns.heatmap(profile.isnull(), yticklabels = False, cbar = False, cmap=\"Blues\")\n",
    "\n",
    "profile.info()"
   ]
  },
  {
   "cell_type": "code",
   "execution_count": 17,
   "metadata": {
    "scrolled": true
   },
   "outputs": [
    {
     "name": "stdout",
     "output_type": "stream",
     "text": [
      "<class 'pandas.core.frame.DataFrame'>\n",
      "RangeIndex: 17000 entries, 0 to 16999\n",
      "Data columns (total 5 columns):\n",
      " #   Column            Non-Null Count  Dtype  \n",
      "---  ------            --------------  -----  \n",
      " 0   gender            14825 non-null  object \n",
      " 1   age               17000 non-null  int64  \n",
      " 2   id                17000 non-null  object \n",
      " 3   became_member_on  17000 non-null  int64  \n",
      " 4   income            14825 non-null  float64\n",
      "dtypes: float64(1), int64(2), object(2)\n",
      "memory usage: 664.2+ KB\n"
     ]
    }
   ],
   "source": [
    "profile.info()"
   ]
  },
  {
   "cell_type": "code",
   "execution_count": 18,
   "metadata": {},
   "outputs": [
    {
     "name": "stdout",
     "output_type": "stream",
     "text": [
      "                age\n",
      "count  14825.000000\n",
      "mean      54.393524\n",
      "std       17.383705\n",
      "min       18.000000\n",
      "25%       42.000000\n",
      "50%       55.000000\n",
      "75%       66.000000\n",
      "max      101.000000\n",
      "\n",
      "       customer_income\n",
      "count     14825.000000\n",
      "mean      65404.991568\n",
      "std       21598.299410\n",
      "min       30000.000000\n",
      "25%       49000.000000\n",
      "50%       64000.000000\n",
      "75%       80000.000000\n",
      "max      120000.000000\n"
     ]
    }
   ],
   "source": [
    "print(pd.DataFrame(profile_df['age'].describe()))\n",
    "print('')\n",
    "print(pd.DataFrame(profile_df['customer_income'].describe()))"
   ]
  },
  {
   "cell_type": "code",
   "execution_count": 19,
   "metadata": {
    "scrolled": true
   },
   "outputs": [
    {
     "data": {
      "text/plain": [
       "<AxesSubplot:xlabel='age'>"
      ]
     },
     "execution_count": 19,
     "metadata": {},
     "output_type": "execute_result"
    },
    {
     "data": {
      "image/png": "[encoded data removed]",
      "text/plain": [
       "<Figure size 432x72 with 1 Axes>"
      ]
     },
     "metadata": {
      "needs_background": "light"
     },
     "output_type": "display_data"
    }
   ],
   "source": [
    "plt.figure(figsize=[6,1])\n",
    "sns.boxplot(data=profile, x='age')"
   ]
  },
  {
   "cell_type": "markdown",
   "metadata": {},
   "source": []
  },
  {
   "cell_type": "code",
   "execution_count": 20,
   "metadata": {
    "scrolled": true
   },
   "outputs": [
    {
     "name": "stdout",
     "output_type": "stream",
     "text": [
      "<class 'pandas.core.frame.DataFrame'>\n",
      "Int64Index: 14825 entries, 0 to 14824\n",
      "Data columns (total 7 columns):\n",
      " #   Column            Non-Null Count  Dtype         \n",
      "---  ------            --------------  -----         \n",
      " 0   gender            14825 non-null  object        \n",
      " 1   age               14825 non-null  int64         \n",
      " 2   customer_id       14825 non-null  object        \n",
      " 3   became_member_on  14825 non-null  datetime64[ns]\n",
      " 4   customer_income   14825 non-null  float64       \n",
      " 5   membership_year   14825 non-null  int64         \n",
      " 6   age_group         14825 non-null  category      \n",
      "dtypes: category(1), datetime64[ns](1), float64(1), int64(2), object(2)\n",
      "memory usage: 825.4+ KB\n",
      "None\n"
     ]
    }
   ],
   "source": [
    "profile_df = profile_df[profile_df['customer_income'].notnull()]\n",
    "print(profile_df.info())"
   ]
  },
  {
   "cell_type": "code",
   "execution_count": 21,
   "metadata": {},
   "outputs": [
    {
     "name": "stdout",
     "output_type": "stream",
     "text": [
      "Median Age  : $ 55.0\n"
     ]
    },
    {
     "data": {
      "text/plain": [
       "Text(0.5, 1.0, 'Age Distribution')"
      ]
     },
     "execution_count": 21,
     "metadata": {},
     "output_type": "execute_result"
    },
    {
     "data": {
      "image/png": "[encoded data removed]",
      "text/plain": [
       "<Figure size 432x288 with 1 Axes>"
      ]
     },
     "metadata": {
      "needs_background": "light"
     },
     "output_type": "display_data"
    },
    {
     "data": {
      "image/png": "[encoded data removed]",
      "text/plain": [
       "<Figure size 489.6x72 with 1 Axes>"
      ]
     },
     "metadata": {
      "needs_background": "light"
     },
     "output_type": "display_data"
    }
   ],
   "source": [
    "# Age Distributiobn:Histogram\n",
    "\n",
    "profile_df['age'].hist(bins=10)\n",
    "\n",
    "plt.title('Age Distribution')\n",
    "\n",
    "#Age distribution: Box Plot\n",
    "\n",
    "print(\"Median Age  : $\",profile_df['age'].median())\n",
    "\n",
    "\n",
    "plt.figure(figsize=[6.8,1])\n",
    "sns.boxplot(data=profile_df, x='age')\n",
    "plt.title('Age Distribution')"
   ]
  },
  {
   "cell_type": "markdown",
   "metadata": {},
   "source": [
    "Code Age in terms of Generation criteria:\n",
    "- Gen Z: 18 – 25\n",
    "- Millennials: 26 – 43\n",
    "- Gen Xers: 44 – 56\n",
    "- Boomers: 57 – 75\n",
    "- Matures: 76+ ]\n"
   ]
  },
  {
   "cell_type": "code",
   "execution_count": 79,
   "metadata": {},
   "outputs": [
    {
     "data": {
      "text/plain": [
       "Boomers(57-75)       5147\n",
       "GenXers(44-56)       4058\n",
       "Millennias(26-43)    2956\n",
       "Matures(76+)         1495\n",
       "GenZ(18–25)          1169\n",
       "Name: age_group, dtype: int64"
      ]
     },
     "execution_count": 79,
     "metadata": {},
     "output_type": "execute_result"
    }
   ],
   "source": [
    "profile_df['age_group'].value_counts()"
   ]
  },
  {
   "cell_type": "code",
   "execution_count": 78,
   "metadata": {
    "scrolled": true
   },
   "outputs": [
    {
     "ename": "AttributeError",
     "evalue": "'list' object has no attribute 'patches'",
     "output_type": "error",
     "traceback": [
      "\u001b[1;31m---------------------------------------------------------------------------\u001b[0m",
      "\u001b[1;31mAttributeError\u001b[0m                            Traceback (most recent call last)",
      "\u001b[1;32m<ipython-input-78-3db069547447>\u001b[0m in \u001b[0;36m<module>\u001b[1;34m\u001b[0m\n\u001b[0;32m      6\u001b[0m \u001b[0mplt\u001b[0m\u001b[1;33m.\u001b[0m\u001b[0mtitle\u001b[0m\u001b[1;33m(\u001b[0m\u001b[1;34m'Customer Age group'\u001b[0m\u001b[1;33m)\u001b[0m\u001b[1;33m\u001b[0m\u001b[1;33m\u001b[0m\u001b[0m\n\u001b[0;32m      7\u001b[0m \u001b[1;33m\u001b[0m\u001b[0m\n\u001b[1;32m----> 8\u001b[1;33m \u001b[0mwithout_hue\u001b[0m\u001b[1;33m(\u001b[0m\u001b[0max\u001b[0m\u001b[1;33m,\u001b[0m \u001b[0mprofile_df\u001b[0m\u001b[1;33m[\u001b[0m\u001b[1;34m'age_group'\u001b[0m\u001b[1;33m]\u001b[0m\u001b[1;33m)\u001b[0m\u001b[1;33m\u001b[0m\u001b[1;33m\u001b[0m\u001b[0m\n\u001b[0m",
      "\u001b[1;32m<ipython-input-77-b1153f003d98>\u001b[0m in \u001b[0;36mwithout_hue\u001b[1;34m(plot, feature)\u001b[0m\n\u001b[0;32m      1\u001b[0m \u001b[1;32mdef\u001b[0m \u001b[0mwithout_hue\u001b[0m\u001b[1;33m(\u001b[0m\u001b[0mplot\u001b[0m\u001b[1;33m,\u001b[0m \u001b[0mfeature\u001b[0m\u001b[1;33m)\u001b[0m\u001b[1;33m:\u001b[0m\u001b[1;33m\u001b[0m\u001b[1;33m\u001b[0m\u001b[0m\n\u001b[0;32m      2\u001b[0m     \u001b[0mtotal\u001b[0m \u001b[1;33m=\u001b[0m \u001b[0mlen\u001b[0m\u001b[1;33m(\u001b[0m\u001b[0mfeature\u001b[0m\u001b[1;33m)\u001b[0m\u001b[1;33m\u001b[0m\u001b[1;33m\u001b[0m\u001b[0m\n\u001b[1;32m----> 3\u001b[1;33m     \u001b[1;32mfor\u001b[0m \u001b[0mp\u001b[0m \u001b[1;32min\u001b[0m \u001b[0max\u001b[0m\u001b[1;33m.\u001b[0m\u001b[0mpatches\u001b[0m\u001b[1;33m:\u001b[0m\u001b[1;33m\u001b[0m\u001b[1;33m\u001b[0m\u001b[0m\n\u001b[0m\u001b[0;32m      4\u001b[0m         \u001b[0mpercentage\u001b[0m \u001b[1;33m=\u001b[0m \u001b[1;34m'{:.1f}%'\u001b[0m\u001b[1;33m.\u001b[0m\u001b[0mformat\u001b[0m\u001b[1;33m(\u001b[0m\u001b[1;36m100\u001b[0m \u001b[1;33m*\u001b[0m \u001b[0mp\u001b[0m\u001b[1;33m.\u001b[0m\u001b[0mget_height\u001b[0m\u001b[1;33m(\u001b[0m\u001b[1;33m)\u001b[0m\u001b[1;33m/\u001b[0m\u001b[0mtotal\u001b[0m\u001b[1;33m)\u001b[0m\u001b[1;33m\u001b[0m\u001b[1;33m\u001b[0m\u001b[0m\n\u001b[0;32m      5\u001b[0m         \u001b[0mx\u001b[0m \u001b[1;33m=\u001b[0m \u001b[0mp\u001b[0m\u001b[1;33m.\u001b[0m\u001b[0mget_x\u001b[0m\u001b[1;33m(\u001b[0m\u001b[1;33m)\u001b[0m \u001b[1;33m+\u001b[0m \u001b[0mp\u001b[0m\u001b[1;33m.\u001b[0m\u001b[0mget_width\u001b[0m\u001b[1;33m(\u001b[0m\u001b[1;33m)\u001b[0m \u001b[1;33m/\u001b[0m \u001b[1;36m2\u001b[0m \u001b[1;33m-\u001b[0m \u001b[1;36m0.05\u001b[0m\u001b[1;33m\u001b[0m\u001b[1;33m\u001b[0m\u001b[0m\n",
      "\u001b[1;31mAttributeError\u001b[0m: 'list' object has no attribute 'patches'"
     ]
    },
    {
     "data": {
      "image/png": "[encoded data removed]",
      "text/plain": [
       "<Figure size 864x288 with 1 Axes>"
      ]
     },
     "metadata": {
      "needs_background": "light"
     },
     "output_type": "display_data"
    }
   ],
   "source": [
    "#Group the age ranges\n",
    "\n",
    "fig = plt.figure(figsize = (12,4))\n",
    "sns.countplot(x='age_group',data=profile_df)\n",
    "plt.xticks(rotation=30)\n",
    "plt.title('Customer Age group')\n"
   ]
  },
  {
   "cell_type": "code",
   "execution_count": 23,
   "metadata": {
    "scrolled": false
   },
   "outputs": [
    {
     "data": {
      "text/plain": [
       "<matplotlib.legend.Legend at 0x1b5a3f64400>"
      ]
     },
     "execution_count": 23,
     "metadata": {},
     "output_type": "execute_result"
    },
    {
     "data": {
      "image/png": "[encoded data removed]",
      "text/plain": [
       "<Figure size 288x216 with 1 Axes>"
      ]
     },
     "metadata": {
      "needs_background": "light"
     },
     "output_type": "display_data"
    },
    {
     "data": {
      "image/png": "[encoded data removed]",
      "text/plain": [
       "<Figure size 288x216 with 1 Axes>"
      ]
     },
     "metadata": {},
     "output_type": "display_data"
    }
   ],
   "source": [
    "#Gender distribution\n",
    "\n",
    "plt.figure(figsize=[4,3])\n",
    "sns.countplot(x= profile_df['gender'], order = profile_df['gender'].value_counts().index)\n",
    "\n",
    "plt.title('Customers count vs Gender', fontsize=19)\n",
    "\n",
    "#Gender Distribution in Percentage\n",
    "\n",
    "gender = profile_df['gender'].value_counts()\n",
    "\n",
    "plt.figure(figsize=(4, 3))\n",
    "plt.pie(gender, labels=['Male', 'Female' , 'Others'], shadow=True, autopct='%1.1f%%', \n",
    "            textprops={'color': \"w\", 'fontsize': 11})\n",
    "\n",
    "plt.axis('equal')\n",
    "plt.title('Customers vs Gender', fontsize=19)\n",
    "plt.legend(loc='best')"
   ]
  },
  {
   "cell_type": "code",
   "execution_count": 24,
   "metadata": {},
   "outputs": [
    {
     "data": {
      "text/plain": [
       "M    8484\n",
       "F    6129\n",
       "O     212\n",
       "Name: gender, dtype: int64"
      ]
     },
     "execution_count": 24,
     "metadata": {},
     "output_type": "execute_result"
    }
   ],
   "source": [
    "gender"
   ]
  },
  {
   "cell_type": "code",
   "execution_count": 25,
   "metadata": {},
   "outputs": [
    {
     "data": {
      "text/plain": [
       "count     14825.000000\n",
       "mean      65404.991568\n",
       "std       21598.299410\n",
       "min       30000.000000\n",
       "25%       49000.000000\n",
       "50%       64000.000000\n",
       "75%       80000.000000\n",
       "max      120000.000000\n",
       "Name: customer_income, dtype: float64"
      ]
     },
     "execution_count": 25,
     "metadata": {},
     "output_type": "execute_result"
    }
   ],
   "source": [
    "#Analyze income:\n",
    "\n",
    "profile_df['customer_income'].describe()\n"
   ]
  },
  {
   "cell_type": "code",
   "execution_count": 26,
   "metadata": {},
   "outputs": [
    {
     "data": {
      "text/plain": [
       "Text(0.5, 0, 'Salary(USD)')"
      ]
     },
     "execution_count": 26,
     "metadata": {},
     "output_type": "execute_result"
    },
    {
     "data": {
      "image/png": "[encoded data removed]",
      "text/plain": [
       "<Figure size 720x216 with 1 Axes>"
      ]
     },
     "metadata": {
      "needs_background": "light"
     },
     "output_type": "display_data"
    },
    {
     "data": {
      "image/png": "[encoded data removed]",
      "text/plain": [
       "<Figure size 720x216 with 1 Axes>"
      ]
     },
     "metadata": {
      "needs_background": "light"
     },
     "output_type": "display_data"
    }
   ],
   "source": [
    "#Income distribution\n",
    "\n",
    "plt.figure(figsize=[10,3])\n",
    "sal_hist1 = sns.histplot(data = profile_df, x = 'customer_income',  multiple = \"dodge\",element = 'step', \n",
    "                        bins = 20, kde = True ,stat = 'density' ).set_title(\"Customer Income distribution\")\n",
    "plt.xlabel(\"Salary(USD)\")\n",
    "\n",
    "#Income distribution by gender\n",
    "\n",
    "plt.figure(figsize=[10,3])\n",
    "sal_hist = sns.histplot(data = profile_df, x = 'customer_income', hue = 'gender', \n",
    "                        multiple = \"dodge\",element = 'step', bins = 20, kde = True ,stat = 'density' ).set_title(\"Gender wise Customer Income distribution\")\n",
    "plt.xlabel(\"Salary(USD)\")"
   ]
  },
  {
   "cell_type": "code",
   "execution_count": 27,
   "metadata": {},
   "outputs": [
    {
     "name": "stdout",
     "output_type": "stream",
     "text": [
      "Median Income  : $ 64000.0\n",
      "Median Income for Males  : $ 59000.0\n",
      "Median Income Females : $ 71000.0\n"
     ]
    }
   ],
   "source": [
    "#Median Income\n",
    "\n",
    "print(\"Median Income  : $\",profile_df['customer_income'].median())\n",
    "\n",
    "print(\"Median Income for Males  : $\",profile_df[profile_df['gender']=='M']['customer_income'].median())\n",
    "\n",
    "print(\"Median Income Females : $\",profile_df[profile_df['gender']=='F']['customer_income'].median())"
   ]
  },
  {
   "cell_type": "code",
   "execution_count": 28,
   "metadata": {
    "scrolled": true
   },
   "outputs": [],
   "source": [
    "#profile_df['became_member_on'] = pd.to_datetime(profile['became_member_on'], format = '%Y%m%d') "
   ]
  },
  {
   "cell_type": "code",
   "execution_count": 29,
   "metadata": {},
   "outputs": [
    {
     "data": {
      "text/plain": [
       "Text(0, 0.5, 'Number of Customers or Test Subjects')"
      ]
     },
     "execution_count": 29,
     "metadata": {},
     "output_type": "execute_result"
    },
    {
     "data": {
      "image/png": "[encoded data removed]",
      "text/plain": [
       "<Figure size 1080x432 with 1 Axes>"
      ]
     },
     "metadata": {
      "needs_background": "light"
     },
     "output_type": "display_data"
    }
   ],
   "source": [
    "plt.figure(figsize=(15, 6))\n",
    "profile_df['became_member_on'].groupby(profile_df['became_member_on'].dt.year).hist(bins=10)\n",
    "plt.title('Customers vs Membership Month', fontsize=15)\n",
    "plt.xlabel('Memebership by Month and Year')\n",
    "plt.ylabel('Number of Customers or Test Subjects')"
   ]
  },
  {
   "cell_type": "markdown",
   "metadata": {},
   "source": [
    "## Transcript: Data Exploration"
   ]
  },
  {
   "cell_type": "code",
   "execution_count": 30,
   "metadata": {},
   "outputs": [
    {
     "data": {
      "text/html": [
       "<div>\n",
       "<style scoped>\n",
       "    .dataframe tbody tr th:only-of-type {\n",
       "        vertical-align: middle;\n",
       "    }\n",
       "\n",
       "    .dataframe tbody tr th {\n",
       "        vertical-align: top;\n",
       "    }\n",
       "\n",
       "    .dataframe thead th {\n",
       "        text-align: right;\n",
       "    }\n",
       "</style>\n",
       "<table border=\"1\" class=\"dataframe\">\n",
       "  <thead>\n",
       "    <tr style=\"text-align: right;\">\n",
       "      <th></th>\n",
       "      <th>person</th>\n",
       "      <th>event</th>\n",
       "      <th>value</th>\n",
       "      <th>time</th>\n",
       "    </tr>\n",
       "  </thead>\n",
       "  <tbody>\n",
       "    <tr>\n",
       "      <th>0</th>\n",
       "      <td>78afa995795e4d85b5d9ceeca43f5fef</td>\n",
       "      <td>offer received</td>\n",
       "      <td>{'offer id': '9b98b8c7a33c4b65b9aebfe6a799e6d9'}</td>\n",
       "      <td>0</td>\n",
       "    </tr>\n",
       "    <tr>\n",
       "      <th>1</th>\n",
       "      <td>a03223e636434f42ac4c3df47e8bac43</td>\n",
       "      <td>offer received</td>\n",
       "      <td>{'offer id': '0b1e1539f2cc45b7b9fa7c272da2e1d7'}</td>\n",
       "      <td>0</td>\n",
       "    </tr>\n",
       "    <tr>\n",
       "      <th>2</th>\n",
       "      <td>e2127556f4f64592b11af22de27a7932</td>\n",
       "      <td>offer received</td>\n",
       "      <td>{'offer id': '2906b810c7d4411798c6938adc9daaa5'}</td>\n",
       "      <td>0</td>\n",
       "    </tr>\n",
       "    <tr>\n",
       "      <th>3</th>\n",
       "      <td>8ec6ce2a7e7949b1bf142def7d0e0586</td>\n",
       "      <td>offer received</td>\n",
       "      <td>{'offer id': 'fafdcd668e3743c1bb461111dcafc2a4'}</td>\n",
       "      <td>0</td>\n",
       "    </tr>\n",
       "  </tbody>\n",
       "</table>\n",
       "</div>"
      ],
      "text/plain": [
       "                             person           event  \\\n",
       "0  78afa995795e4d85b5d9ceeca43f5fef  offer received   \n",
       "1  a03223e636434f42ac4c3df47e8bac43  offer received   \n",
       "2  e2127556f4f64592b11af22de27a7932  offer received   \n",
       "3  8ec6ce2a7e7949b1bf142def7d0e0586  offer received   \n",
       "\n",
       "                                              value  time  \n",
       "0  {'offer id': '9b98b8c7a33c4b65b9aebfe6a799e6d9'}     0  \n",
       "1  {'offer id': '0b1e1539f2cc45b7b9fa7c272da2e1d7'}     0  \n",
       "2  {'offer id': '2906b810c7d4411798c6938adc9daaa5'}     0  \n",
       "3  {'offer id': 'fafdcd668e3743c1bb461111dcafc2a4'}     0  "
      ]
     },
     "execution_count": 30,
     "metadata": {},
     "output_type": "execute_result"
    }
   ],
   "source": [
    "#Transcript Data\n",
    "transcript.head(4)"
   ]
  },
  {
   "cell_type": "code",
   "execution_count": 31,
   "metadata": {},
   "outputs": [],
   "source": [
    "#Seperatng transaction and offer data from transcript dataframe\n",
    "#offers, transactions = clean_transcript(transcript)\n"
   ]
  },
  {
   "cell_type": "code",
   "execution_count": 32,
   "metadata": {},
   "outputs": [
    {
     "name": "stdout",
     "output_type": "stream",
     "text": [
      "<class 'pandas.core.frame.DataFrame'>\n",
      "Int64Index: 167581 entries, 0 to 306527\n",
      "Data columns (total 4 columns):\n",
      " #   Column        Non-Null Count   Dtype \n",
      "---  ------        --------------   ----- \n",
      " 0   customer_id   167581 non-null  object\n",
      " 1   event         167581 non-null  object\n",
      " 2   time_in_days  167581 non-null  int64 \n",
      " 3   offer_id      167581 non-null  object\n",
      "dtypes: int64(1), object(3)\n",
      "memory usage: 6.4+ MB\n"
     ]
    }
   ],
   "source": [
    "\n",
    "offers_df.info()\n"
   ]
  },
  {
   "cell_type": "code",
   "execution_count": 33,
   "metadata": {},
   "outputs": [
    {
     "name": "stdout",
     "output_type": "stream",
     "text": [
      "<class 'pandas.core.frame.DataFrame'>\n",
      "Int64Index: 138953 entries, 12654 to 306533\n",
      "Data columns (total 4 columns):\n",
      " #   Column        Non-Null Count   Dtype \n",
      "---  ------        --------------   ----- \n",
      " 0   customer_id   138953 non-null  object\n",
      " 1   event         138953 non-null  object\n",
      " 2   time_in_days  138953 non-null  int64 \n",
      " 3   amount        138953 non-null  object\n",
      "dtypes: int64(1), object(3)\n",
      "memory usage: 5.3+ MB\n"
     ]
    }
   ],
   "source": [
    "\n",
    "transactions_df.info()\n"
   ]
  },
  {
   "cell_type": "code",
   "execution_count": 34,
   "metadata": {},
   "outputs": [
    {
     "data": {
      "text/html": [
       "<div>\n",
       "<style scoped>\n",
       "    .dataframe tbody tr th:only-of-type {\n",
       "        vertical-align: middle;\n",
       "    }\n",
       "\n",
       "    .dataframe tbody tr th {\n",
       "        vertical-align: top;\n",
       "    }\n",
       "\n",
       "    .dataframe thead th {\n",
       "        text-align: right;\n",
       "    }\n",
       "</style>\n",
       "<table border=\"1\" class=\"dataframe\">\n",
       "  <thead>\n",
       "    <tr style=\"text-align: right;\">\n",
       "      <th></th>\n",
       "      <th>customer_id</th>\n",
       "      <th>event</th>\n",
       "      <th>time_in_days</th>\n",
       "      <th>offer_id</th>\n",
       "      <th>offer_reward</th>\n",
       "      <th>channels</th>\n",
       "      <th>offer_difficulty</th>\n",
       "      <th>offer_duration</th>\n",
       "      <th>offer_type</th>\n",
       "      <th>offer_name</th>\n",
       "    </tr>\n",
       "  </thead>\n",
       "  <tbody>\n",
       "    <tr>\n",
       "      <th>0</th>\n",
       "      <td>78afa995795e4d85b5d9ceeca43f5fef</td>\n",
       "      <td>offer received</td>\n",
       "      <td>0</td>\n",
       "      <td>9b98b8c7a33c4b65b9aebfe6a799e6d9</td>\n",
       "      <td>5</td>\n",
       "      <td>[web, email, mobile]</td>\n",
       "      <td>5</td>\n",
       "      <td>7</td>\n",
       "      <td>bogo</td>\n",
       "      <td>offer_4</td>\n",
       "    </tr>\n",
       "    <tr>\n",
       "      <th>1</th>\n",
       "      <td>ebe7ef46ea6f4963a7dd49f501b26779</td>\n",
       "      <td>offer received</td>\n",
       "      <td>0</td>\n",
       "      <td>9b98b8c7a33c4b65b9aebfe6a799e6d9</td>\n",
       "      <td>5</td>\n",
       "      <td>[web, email, mobile]</td>\n",
       "      <td>5</td>\n",
       "      <td>7</td>\n",
       "      <td>bogo</td>\n",
       "      <td>offer_4</td>\n",
       "    </tr>\n",
       "  </tbody>\n",
       "</table>\n",
       "</div>"
      ],
      "text/plain": [
       "                        customer_id           event  time_in_days  \\\n",
       "0  78afa995795e4d85b5d9ceeca43f5fef  offer received             0   \n",
       "1  ebe7ef46ea6f4963a7dd49f501b26779  offer received             0   \n",
       "\n",
       "                           offer_id  offer_reward              channels  \\\n",
       "0  9b98b8c7a33c4b65b9aebfe6a799e6d9             5  [web, email, mobile]   \n",
       "1  9b98b8c7a33c4b65b9aebfe6a799e6d9             5  [web, email, mobile]   \n",
       "\n",
       "   offer_difficulty  offer_duration offer_type offer_name  \n",
       "0                 5               7       bogo    offer_4  \n",
       "1                 5               7       bogo    offer_4  "
      ]
     },
     "execution_count": 34,
     "metadata": {},
     "output_type": "execute_result"
    }
   ],
   "source": [
    "offers_type = pd.merge(offers_df, portfolio_df, left_on='offer_id', right_on='offer_id', how='inner')\n",
    "offers_type.head(2)"
   ]
  },
  {
   "cell_type": "code",
   "execution_count": 35,
   "metadata": {},
   "outputs": [
    {
     "data": {
      "text/html": [
       "<div>\n",
       "<style scoped>\n",
       "    .dataframe tbody tr th:only-of-type {\n",
       "        vertical-align: middle;\n",
       "    }\n",
       "\n",
       "    .dataframe tbody tr th {\n",
       "        vertical-align: top;\n",
       "    }\n",
       "\n",
       "    .dataframe thead th {\n",
       "        text-align: right;\n",
       "    }\n",
       "</style>\n",
       "<table border=\"1\" class=\"dataframe\">\n",
       "  <thead>\n",
       "    <tr style=\"text-align: right;\">\n",
       "      <th></th>\n",
       "      <th>customer_id</th>\n",
       "      <th>event</th>\n",
       "      <th>time_in_days</th>\n",
       "      <th>offer_id</th>\n",
       "      <th>offer_reward</th>\n",
       "      <th>channels</th>\n",
       "      <th>offer_difficulty</th>\n",
       "      <th>offer_duration</th>\n",
       "      <th>offer_type</th>\n",
       "      <th>offer_name</th>\n",
       "      <th>gender</th>\n",
       "      <th>age</th>\n",
       "      <th>became_member_on</th>\n",
       "      <th>customer_income</th>\n",
       "      <th>membership_year</th>\n",
       "      <th>age_group</th>\n",
       "    </tr>\n",
       "  </thead>\n",
       "  <tbody>\n",
       "    <tr>\n",
       "      <th>0</th>\n",
       "      <td>78afa995795e4d85b5d9ceeca43f5fef</td>\n",
       "      <td>offer received</td>\n",
       "      <td>0</td>\n",
       "      <td>9b98b8c7a33c4b65b9aebfe6a799e6d9</td>\n",
       "      <td>5</td>\n",
       "      <td>[web, email, mobile]</td>\n",
       "      <td>5</td>\n",
       "      <td>7</td>\n",
       "      <td>bogo</td>\n",
       "      <td>offer_4</td>\n",
       "      <td>F</td>\n",
       "      <td>75</td>\n",
       "      <td>2017-05-09</td>\n",
       "      <td>100000.0</td>\n",
       "      <td>2017</td>\n",
       "      <td>Boomers(57-75)</td>\n",
       "    </tr>\n",
       "    <tr>\n",
       "      <th>1</th>\n",
       "      <td>78afa995795e4d85b5d9ceeca43f5fef</td>\n",
       "      <td>offer viewed</td>\n",
       "      <td>0</td>\n",
       "      <td>9b98b8c7a33c4b65b9aebfe6a799e6d9</td>\n",
       "      <td>5</td>\n",
       "      <td>[web, email, mobile]</td>\n",
       "      <td>5</td>\n",
       "      <td>7</td>\n",
       "      <td>bogo</td>\n",
       "      <td>offer_4</td>\n",
       "      <td>F</td>\n",
       "      <td>75</td>\n",
       "      <td>2017-05-09</td>\n",
       "      <td>100000.0</td>\n",
       "      <td>2017</td>\n",
       "      <td>Boomers(57-75)</td>\n",
       "    </tr>\n",
       "  </tbody>\n",
       "</table>\n",
       "</div>"
      ],
      "text/plain": [
       "                        customer_id           event  time_in_days  \\\n",
       "0  78afa995795e4d85b5d9ceeca43f5fef  offer received             0   \n",
       "1  78afa995795e4d85b5d9ceeca43f5fef    offer viewed             0   \n",
       "\n",
       "                           offer_id  offer_reward              channels  \\\n",
       "0  9b98b8c7a33c4b65b9aebfe6a799e6d9             5  [web, email, mobile]   \n",
       "1  9b98b8c7a33c4b65b9aebfe6a799e6d9             5  [web, email, mobile]   \n",
       "\n",
       "   offer_difficulty  offer_duration offer_type offer_name gender  age  \\\n",
       "0                 5               7       bogo    offer_4      F   75   \n",
       "1                 5               7       bogo    offer_4      F   75   \n",
       "\n",
       "  became_member_on  customer_income  membership_year       age_group  \n",
       "0       2017-05-09         100000.0             2017  Boomers(57-75)  \n",
       "1       2017-05-09         100000.0             2017  Boomers(57-75)  "
      ]
     },
     "execution_count": 35,
     "metadata": {},
     "output_type": "execute_result"
    }
   ],
   "source": [
    "data_all = pd.merge(offers_type, profile_df, left_on='customer_id', right_on='customer_id', how='inner')\n",
    "data_all.head(2)"
   ]
  },
  {
   "cell_type": "code",
   "execution_count": 36,
   "metadata": {
    "scrolled": true
   },
   "outputs": [
    {
     "data": {
      "text/plain": [
       "[Text(0.5, 0, ''), Text(0, 0.5, 'Count'), Text(0.5, 1.0, 'Informational')]"
      ]
     },
     "execution_count": 36,
     "metadata": {},
     "output_type": "execute_result"
    },
    {
     "data": {
      "image/png": "[encoded data removed]",
      "text/plain": [
       "<Figure size 1440x360 with 3 Axes>"
      ]
     },
     "metadata": {
      "needs_background": "light"
     },
     "output_type": "display_data"
    }
   ],
   "source": [
    "#Comparing offer recieved, viewed, completed by offer type\n",
    "\n",
    "df_graph = offers_type.groupby(['event', 'offer_type'])['customer_id'].count().reset_index()\n",
    "df_graph['event'] = pd.Categorical(df_graph['event'], [\"offer received\", \"offer viewed\", \"offer completed\"])\n",
    "\n",
    "df_graph.sort_values('event', inplace = True)\n",
    "df_graph = df_graph.rename(columns = {'customer_id':'customer_count'})\n",
    "\n",
    "df_graph.sort_values('event', inplace=True)\n",
    "\n",
    "fig, axs = plt.subplots(ncols=3, figsize=(20, 5))\n",
    "\n",
    "sns.set_palette(sns.color_palette('Set2'))\n",
    "\n",
    "ax = sns.barplot(x = 'event', y='customer_count', data=df_graph.query('offer_type == \"bogo\"'),ax=axs[0])\n",
    "ax.set(xlabel='', ylabel='Count', title='BOGO')\n",
    "\n",
    "ax = sns.barplot(x = 'event', y='customer_count', data=df_graph.query('offer_type == \"discount\"'),ax=axs[1])\n",
    "ax.set(xlabel='', ylabel='Count', title='Discount')\n",
    "\n",
    "ax = sns.barplot(x = 'event', y='customer_count', data=df_graph.query('offer_type == \"informational\"'), ax=axs[2])\n",
    "ax.set(xlabel='', ylabel='Count', title='Informational')"
   ]
  },
  {
   "cell_type": "markdown",
   "metadata": {},
   "source": [
    "## RFM Analysis "
   ]
  },
  {
   "cell_type": "markdown",
   "metadata": {},
   "source": [
    "In this section we are going to perform Recency Frequecy Monetary value analysis of the customer. \n",
    "\n",
    "Its a metric used in marketing analytics to segments customers into groups based n the recency, frequency and monetary sum of the transaction made over a period of time to identifyt he best customers. "
   ]
  },
  {
   "cell_type": "code",
   "execution_count": 37,
   "metadata": {},
   "outputs": [],
   "source": [
    "#RFM Analysis"
   ]
  },
  {
   "cell_type": "code",
   "execution_count": 38,
   "metadata": {},
   "outputs": [],
   "source": [
    "def rfm_funct(transactions = transactions_df):\n",
    "    \n",
    "    rfm_df = transactions.groupby('customer_id').agg(\n",
    "    {'time_in_days': 'max' ,'amount': ['count', 'sum'] }).reset_index(col_level=1)\n",
    "    \n",
    "    rfm_df.columns = ['customer_id' , 'time_in_days'  ,'Frequency', 'Monetary']\n",
    "    \n",
    "    rfm_df = rfm_df.sort_values(['time_in_days', 'Frequency', 'Monetary'], ascending=False)\n",
    "    \n",
    "    rfm_df['Recency']  = rfm_df['time_in_days'].max() - rfm_df['time_in_days']\n",
    "    \n",
    "    rfm_df = rfm_df[['customer_id', 'Recency', 'Frequency', 'Monetary']]\n",
    "    \n",
    "    return rfm_df\n",
    "\n",
    "\n",
    "rfm_df = rfm_funct(transactions_df)"
   ]
  },
  {
   "cell_type": "code",
   "execution_count": 39,
   "metadata": {},
   "outputs": [
    {
     "data": {
      "text/html": [
       "<div>\n",
       "<style scoped>\n",
       "    .dataframe tbody tr th:only-of-type {\n",
       "        vertical-align: middle;\n",
       "    }\n",
       "\n",
       "    .dataframe tbody tr th {\n",
       "        vertical-align: top;\n",
       "    }\n",
       "\n",
       "    .dataframe thead th {\n",
       "        text-align: right;\n",
       "    }\n",
       "</style>\n",
       "<table border=\"1\" class=\"dataframe\">\n",
       "  <thead>\n",
       "    <tr style=\"text-align: right;\">\n",
       "      <th></th>\n",
       "      <th>customer_id</th>\n",
       "      <th>Recency</th>\n",
       "      <th>Frequency</th>\n",
       "      <th>Monetary</th>\n",
       "    </tr>\n",
       "  </thead>\n",
       "  <tbody>\n",
       "    <tr>\n",
       "      <th>7887</th>\n",
       "      <td>79d9d4f86aca4bed9290350fb43817c2</td>\n",
       "      <td>0</td>\n",
       "      <td>36</td>\n",
       "      <td>173.41</td>\n",
       "    </tr>\n",
       "    <tr>\n",
       "      <th>9702</th>\n",
       "      <td>94de646f7b6041228ca7dec82adb97d2</td>\n",
       "      <td>0</td>\n",
       "      <td>35</td>\n",
       "      <td>90.23</td>\n",
       "    </tr>\n",
       "    <tr>\n",
       "      <th>10740</th>\n",
       "      <td>a42ed50acc4d4b25bca647c9e0b916ad</td>\n",
       "      <td>0</td>\n",
       "      <td>31</td>\n",
       "      <td>461.09</td>\n",
       "    </tr>\n",
       "    <tr>\n",
       "      <th>11192</th>\n",
       "      <td>ab25fd6fbd5040f880751921e4029757</td>\n",
       "      <td>0</td>\n",
       "      <td>30</td>\n",
       "      <td>717.21</td>\n",
       "    </tr>\n",
       "    <tr>\n",
       "      <th>13558</th>\n",
       "      <td>d0a80415b84c4df4908b8403b19765e3</td>\n",
       "      <td>0</td>\n",
       "      <td>30</td>\n",
       "      <td>260.69</td>\n",
       "    </tr>\n",
       "  </tbody>\n",
       "</table>\n",
       "</div>"
      ],
      "text/plain": [
       "                            customer_id  Recency  Frequency  Monetary\n",
       "7887   79d9d4f86aca4bed9290350fb43817c2        0         36    173.41\n",
       "9702   94de646f7b6041228ca7dec82adb97d2        0         35     90.23\n",
       "10740  a42ed50acc4d4b25bca647c9e0b916ad        0         31    461.09\n",
       "11192  ab25fd6fbd5040f880751921e4029757        0         30    717.21\n",
       "13558  d0a80415b84c4df4908b8403b19765e3        0         30    260.69"
      ]
     },
     "execution_count": 39,
     "metadata": {},
     "output_type": "execute_result"
    }
   ],
   "source": [
    "rfm_df.head()"
   ]
  },
  {
   "cell_type": "code",
   "execution_count": 40,
   "metadata": {},
   "outputs": [
    {
     "data": {
      "text/html": [
       "<div>\n",
       "<style scoped>\n",
       "    .dataframe tbody tr th:only-of-type {\n",
       "        vertical-align: middle;\n",
       "    }\n",
       "\n",
       "    .dataframe tbody tr th {\n",
       "        vertical-align: top;\n",
       "    }\n",
       "\n",
       "    .dataframe thead th {\n",
       "        text-align: right;\n",
       "    }\n",
       "</style>\n",
       "<table border=\"1\" class=\"dataframe\">\n",
       "  <thead>\n",
       "    <tr style=\"text-align: right;\">\n",
       "      <th></th>\n",
       "      <th>Recency</th>\n",
       "      <th>Frequency</th>\n",
       "      <th>Monetary</th>\n",
       "    </tr>\n",
       "  </thead>\n",
       "  <tbody>\n",
       "    <tr>\n",
       "      <th>count</th>\n",
       "      <td>16578.000000</td>\n",
       "      <td>16578.000000</td>\n",
       "      <td>16578.000000</td>\n",
       "    </tr>\n",
       "    <tr>\n",
       "      <th>mean</th>\n",
       "      <td>3.202015</td>\n",
       "      <td>8.381771</td>\n",
       "      <td>107.096874</td>\n",
       "    </tr>\n",
       "    <tr>\n",
       "      <th>std</th>\n",
       "      <td>3.442917</td>\n",
       "      <td>5.009822</td>\n",
       "      <td>126.393939</td>\n",
       "    </tr>\n",
       "    <tr>\n",
       "      <th>min</th>\n",
       "      <td>0.000000</td>\n",
       "      <td>1.000000</td>\n",
       "      <td>0.050000</td>\n",
       "    </tr>\n",
       "    <tr>\n",
       "      <th>25%</th>\n",
       "      <td>1.000000</td>\n",
       "      <td>5.000000</td>\n",
       "      <td>23.682500</td>\n",
       "    </tr>\n",
       "    <tr>\n",
       "      <th>50%</th>\n",
       "      <td>2.000000</td>\n",
       "      <td>7.000000</td>\n",
       "      <td>72.410000</td>\n",
       "    </tr>\n",
       "    <tr>\n",
       "      <th>75%</th>\n",
       "      <td>5.000000</td>\n",
       "      <td>11.000000</td>\n",
       "      <td>150.937500</td>\n",
       "    </tr>\n",
       "    <tr>\n",
       "      <th>max</th>\n",
       "      <td>29.000000</td>\n",
       "      <td>36.000000</td>\n",
       "      <td>1608.690000</td>\n",
       "    </tr>\n",
       "  </tbody>\n",
       "</table>\n",
       "</div>"
      ],
      "text/plain": [
       "            Recency     Frequency      Monetary\n",
       "count  16578.000000  16578.000000  16578.000000\n",
       "mean       3.202015      8.381771    107.096874\n",
       "std        3.442917      5.009822    126.393939\n",
       "min        0.000000      1.000000      0.050000\n",
       "25%        1.000000      5.000000     23.682500\n",
       "50%        2.000000      7.000000     72.410000\n",
       "75%        5.000000     11.000000    150.937500\n",
       "max       29.000000     36.000000   1608.690000"
      ]
     },
     "metadata": {},
     "output_type": "display_data"
    }
   ],
   "source": [
    "#Discriptive analysis\n",
    "display(rfm_df.describe())"
   ]
  },
  {
   "cell_type": "code",
   "execution_count": 41,
   "metadata": {},
   "outputs": [
    {
     "data": {
      "text/plain": [
       "Text(0, 0.5, 'Customer count')"
      ]
     },
     "execution_count": 41,
     "metadata": {},
     "output_type": "execute_result"
    },
    {
     "data": {
      "image/png": "[encoded data removed]",
      "text/plain": [
       "<Figure size 720x216 with 1 Axes>"
      ]
     },
     "metadata": {
      "needs_background": "light"
     },
     "output_type": "display_data"
    },
    {
     "data": {
      "image/png": "[encoded data removed]",
      "text/plain": [
       "<Figure size 720x216 with 1 Axes>"
      ]
     },
     "metadata": {
      "needs_background": "light"
     },
     "output_type": "display_data"
    },
    {
     "data": {
      "image/png": "[encoded data removed]",
      "text/plain": [
       "<Figure size 720x216 with 1 Axes>"
      ]
     },
     "metadata": {
      "needs_background": "light"
     },
     "output_type": "display_data"
    }
   ],
   "source": [
    "#Recency distribution\n",
    "\n",
    "plt.figure(figsize=[10,3])\n",
    "rfm_hist1 = sns.histplot(data = rfm_df, x = 'Recency',  multiple = \"dodge\",element = 'step', \n",
    "                        bins = 30, kde = True ,stat = 'count' ).set_title(\"Recency distribution\")\n",
    "plt.xlabel(\"Recency\")\n",
    "plt.ylabel(\"Customer count\")\n",
    "\n",
    "\n",
    "#Frequency distribution\n",
    "\n",
    "plt.figure(figsize=[10,3])\n",
    "rfm_hist1 = sns.histplot(data = rfm_df, x = 'Frequency',  multiple = \"dodge\",element = 'step', \n",
    "                        bins = 20, kde = True ,stat = 'count' ).set_title(\"Frequency distribution\")\n",
    "plt.xlabel(\"Frequency\")\n",
    "plt.ylabel(\"Customer count\")\n",
    "\n",
    "\n",
    "#Monetary distribution\n",
    "\n",
    "plt.figure(figsize=[10,3])\n",
    "rfm_hist1 = sns.histplot(data = rfm_df, x = 'Monetary',  multiple = \"dodge\",element = 'step', \n",
    "                        bins = 100, kde = True ,stat = 'count' ).set_title(\"Spend distribution\")\n",
    "plt.xlabel(\"Monetary(USD)\")\n",
    "plt.ylabel(\"Customer count\")"
   ]
  },
  {
   "cell_type": "code",
   "execution_count": 42,
   "metadata": {
    "scrolled": false
   },
   "outputs": [
    {
     "data": {
      "text/plain": [
       "Text(0.5, 1.0, 'Correlation Heatmap')"
      ]
     },
     "execution_count": 42,
     "metadata": {},
     "output_type": "execute_result"
    },
    {
     "data": {
      "image/png": "[encoded data removed]",
      "text/plain": [
       "<Figure size 432x288 with 2 Axes>"
      ]
     },
     "metadata": {
      "needs_background": "light"
     },
     "output_type": "display_data"
    }
   ],
   "source": [
    "#Correlation between Recency, Frequency and monetary values\n",
    "\n",
    "sns.heatmap(rfm_df.iloc[:,1:4].corr() )\n",
    "plt.title('Correlation Heatmap')"
   ]
  },
  {
   "cell_type": "markdown",
   "metadata": {},
   "source": [
    "We can observe some correlation between Frequency of purchase and the Monetary value. "
   ]
  },
  {
   "cell_type": "markdown",
   "metadata": {},
   "source": [
    "### Computation of RFM\n",
    "\n",
    "Here we are going to determing how to compute the Recency,Frequency and Monetary data values. \n",
    "\n",
    "Ther are few approcahes to do this. Here we are going to check two such approches and check which shows the best results. \n",
    "\n",
    "The two approaches that we are going to check are:\n",
    "\n",
    "#### Method 1: \n",
    "Compute the RFM codes by using K-Means clusteing algorithm. \n",
    "\n",
    "#### Method 2: \n",
    "Sort customers based on R, F, M values and then combine into RFM codes using traditional method,then use K-means clustering to determine cluster. \n",
    "\n"
   ]
  },
  {
   "cell_type": "code",
   "execution_count": 43,
   "metadata": {},
   "outputs": [],
   "source": [
    "#Method1:\n",
    "\n",
    "#Since the recency, frequency and monetary data is highly skewed to right. We perform normalization \n",
    "scaler = MinMaxScaler()\n",
    "rfm_normalized = pd.DataFrame(scaler.fit_transform(rfm_df[['Recency', 'Frequency', 'Monetary']]))\n",
    "rfm_normalized.columns = ['Recency_n', 'Frequency_n', 'Monetary_n']"
   ]
  },
  {
   "cell_type": "code",
   "execution_count": 44,
   "metadata": {},
   "outputs": [
    {
     "data": {
      "image/png": "[encoded data removed]",
      "text/plain": [
       "<Figure size 432x288 with 1 Axes>"
      ]
     },
     "metadata": {
      "needs_background": "light"
     },
     "output_type": "display_data"
    }
   ],
   "source": [
    "#Use elbow method to determine the optimum number of clusters needed for Method1\n",
    "\n",
    "wcss = []\n",
    "\n",
    "for i in range(1,11):\n",
    "    kmeans = KMeans(n_clusters = i,init = 'k-means++', random_state = 42)\n",
    "    kmeans.fit(rfm_normalized)\n",
    "    wcss.append(kmeans.inertia_)\n",
    "    \n",
    "sns.pointplot(x=list(range(1,11)), y=wcss)\n",
    "plt.title('The Elbow method')\n",
    "plt.xlabel('Number of clusters')\n",
    "plt.xlabel('WCSS')\n",
    "plt.show()"
   ]
  },
  {
   "cell_type": "markdown",
   "metadata": {},
   "source": [
    "The WCSS value starts slowing down after the 4th cluster. 'Elbow' at k=4, thus the optimal cluster is 4. "
   ]
  },
  {
   "cell_type": "code",
   "execution_count": 45,
   "metadata": {
    "scrolled": true
   },
   "outputs": [
    {
     "data": {
      "text/plain": [
       "Text(0.5, 0, 'Monetary')"
      ]
     },
     "execution_count": 45,
     "metadata": {},
     "output_type": "execute_result"
    },
    {
     "data": {
      "image/png": "[encoded data removed]",
      "text/plain": [
       "<Figure size 360x360 with 1 Axes>"
      ]
     },
     "metadata": {
      "needs_background": "light"
     },
     "output_type": "display_data"
    }
   ],
   "source": [
    "kmeans = KMeans(n_clusters = 4,init = 'k-means++', random_state = 42)\n",
    "kmeans.fit(rfm_normalized)\n",
    "centers = kmeans.cluster_centers_\n",
    "\n",
    "sns.set_palette(sns.color_palette('Set2'))\n",
    "\n",
    "fig = plt.figure(figsize=[5,5])\n",
    "ax = fig.add_subplot(111,projection = '3d')\n",
    "ax.scatter(rfm_normalized['Recency_n'],rfm_normalized['Frequency_n'],rfm_normalized['Monetary_n'], \n",
    "           cmap = 'brg', c=kmeans.predict(rfm_normalized))\n",
    "\n",
    "\n",
    "ax.set_xlabel(\"Recency\")\n",
    "ax.set_ylabel(\"Frequency\")\n",
    "ax.set_zlabel(\"Monetary\")\n",
    "\n",
    "#ax.scatter(centers[:,0], centers[:,1], c='black')"
   ]
  },
  {
   "cell_type": "code",
   "execution_count": 46,
   "metadata": {},
   "outputs": [
    {
     "name": "stderr",
     "output_type": "stream",
     "text": [
      "C:\\Users\\Arjun Achuthan\\anaconda3\\lib\\site-packages\\seaborn\\_decorators.py:36: FutureWarning: Pass the following variables as keyword args: x, y. From version 0.12, the only valid positional argument will be `data`, and passing other arguments without an explicit keyword will result in an error or misinterpretation.\n",
      "  warnings.warn(\n"
     ]
    },
    {
     "data": {
      "text/plain": [
       "<matplotlib.legend.Legend at 0x1b5a3c2ca90>"
      ]
     },
     "execution_count": 46,
     "metadata": {},
     "output_type": "execute_result"
    },
    {
     "data": {
      "image/png": "[encoded data removed]",
      "text/plain": [
       "<Figure size 432x288 with 1 Axes>"
      ]
     },
     "metadata": {
      "needs_background": "light"
     },
     "output_type": "display_data"
    }
   ],
   "source": [
    "rfm_plot2 = rfm_normalized #pd.DataFrame(scaler.inverse_transform(rfm_normalized))\n",
    "rfm_plot2.columns = rfm_df[['Recency', 'Frequency', 'Monetary']].columns\n",
    "rfm_plot2['Index_a'] = rfm_df.index\n",
    "rfm_plot2['cluster'] = kmeans.labels_\n",
    "\n",
    "melted_rfm_normalized = pd.melt(rfm_plot2.reset_index(), id_vars=['Index_a','cluster'],\n",
    "                                value_vars = ['Recency', 'Frequency', 'Monetary'],\n",
    "                                var_name = 'Features', value_name = 'Value')\n",
    "\n",
    "sns.lineplot('Features', 'Value', hue = 'cluster', data = melted_rfm_normalized)\n",
    "plt.legend()"
   ]
  },
  {
   "cell_type": "code",
   "execution_count": null,
   "metadata": {},
   "outputs": [],
   "source": []
  },
  {
   "cell_type": "code",
   "execution_count": 47,
   "metadata": {},
   "outputs": [],
   "source": [
    "#Method 2:\n",
    "\n",
    "\n",
    "\n",
    "#Assign recency variables to three equal quartile groups\n",
    "r_labels = range(4,0,-1)\n",
    "r_groups = pd.qcut(rfm_df['Recency'], q=4, labels= r_labels)\n",
    "rfm_df['r_score'] = pd.DataFrame(r_groups)\n",
    "\n",
    "#Assign recency variables to three equal quartile groups\n",
    "f_labels = range(1,5)\n",
    "f_groups = pd.qcut(rfm_df['Frequency'], q=4, labels= f_labels)\n",
    "rfm_df['f_score'] = pd.DataFrame(f_groups)\n",
    "\n",
    "#Assign recency variables to three equal quartile groups\n",
    "m_labels = range(1,5)\n",
    "m_groups = pd.qcut(rfm_df['Monetary'], q=4, labels= m_labels)\n",
    "rfm_df['m_score'] = pd.DataFrame(m_groups)\n",
    "\n"
   ]
  },
  {
   "cell_type": "code",
   "execution_count": 48,
   "metadata": {},
   "outputs": [
    {
     "data": {
      "text/html": [
       "<div>\n",
       "<style scoped>\n",
       "    .dataframe tbody tr th:only-of-type {\n",
       "        vertical-align: middle;\n",
       "    }\n",
       "\n",
       "    .dataframe tbody tr th {\n",
       "        vertical-align: top;\n",
       "    }\n",
       "\n",
       "    .dataframe thead th {\n",
       "        text-align: right;\n",
       "    }\n",
       "</style>\n",
       "<table border=\"1\" class=\"dataframe\">\n",
       "  <thead>\n",
       "    <tr style=\"text-align: right;\">\n",
       "      <th></th>\n",
       "      <th>customer_id</th>\n",
       "      <th>Recency</th>\n",
       "      <th>Frequency</th>\n",
       "      <th>Monetary</th>\n",
       "      <th>r_score</th>\n",
       "      <th>f_score</th>\n",
       "      <th>m_score</th>\n",
       "    </tr>\n",
       "  </thead>\n",
       "  <tbody>\n",
       "    <tr>\n",
       "      <th>7887</th>\n",
       "      <td>79d9d4f86aca4bed9290350fb43817c2</td>\n",
       "      <td>0</td>\n",
       "      <td>36</td>\n",
       "      <td>173.41</td>\n",
       "      <td>4</td>\n",
       "      <td>4</td>\n",
       "      <td>4</td>\n",
       "    </tr>\n",
       "    <tr>\n",
       "      <th>9702</th>\n",
       "      <td>94de646f7b6041228ca7dec82adb97d2</td>\n",
       "      <td>0</td>\n",
       "      <td>35</td>\n",
       "      <td>90.23</td>\n",
       "      <td>4</td>\n",
       "      <td>4</td>\n",
       "      <td>3</td>\n",
       "    </tr>\n",
       "    <tr>\n",
       "      <th>10740</th>\n",
       "      <td>a42ed50acc4d4b25bca647c9e0b916ad</td>\n",
       "      <td>0</td>\n",
       "      <td>31</td>\n",
       "      <td>461.09</td>\n",
       "      <td>4</td>\n",
       "      <td>4</td>\n",
       "      <td>4</td>\n",
       "    </tr>\n",
       "    <tr>\n",
       "      <th>11192</th>\n",
       "      <td>ab25fd6fbd5040f880751921e4029757</td>\n",
       "      <td>0</td>\n",
       "      <td>30</td>\n",
       "      <td>717.21</td>\n",
       "      <td>4</td>\n",
       "      <td>4</td>\n",
       "      <td>4</td>\n",
       "    </tr>\n",
       "    <tr>\n",
       "      <th>13558</th>\n",
       "      <td>d0a80415b84c4df4908b8403b19765e3</td>\n",
       "      <td>0</td>\n",
       "      <td>30</td>\n",
       "      <td>260.69</td>\n",
       "      <td>4</td>\n",
       "      <td>4</td>\n",
       "      <td>4</td>\n",
       "    </tr>\n",
       "  </tbody>\n",
       "</table>\n",
       "</div>"
      ],
      "text/plain": [
       "                            customer_id  Recency  Frequency  Monetary  \\\n",
       "7887   79d9d4f86aca4bed9290350fb43817c2        0         36    173.41   \n",
       "9702   94de646f7b6041228ca7dec82adb97d2        0         35     90.23   \n",
       "10740  a42ed50acc4d4b25bca647c9e0b916ad        0         31    461.09   \n",
       "11192  ab25fd6fbd5040f880751921e4029757        0         30    717.21   \n",
       "13558  d0a80415b84c4df4908b8403b19765e3        0         30    260.69   \n",
       "\n",
       "       r_score  f_score  m_score  \n",
       "7887         4        4        4  \n",
       "9702         4        4        3  \n",
       "10740        4        4        4  \n",
       "11192        4        4        4  \n",
       "13558        4        4        4  "
      ]
     },
     "execution_count": 48,
     "metadata": {},
     "output_type": "execute_result"
    }
   ],
   "source": [
    "rfm_df.head()"
   ]
  },
  {
   "cell_type": "code",
   "execution_count": 49,
   "metadata": {},
   "outputs": [
    {
     "data": {
      "image/png": "[encoded data removed]",
      "text/plain": [
       "<Figure size 432x288 with 1 Axes>"
      ]
     },
     "metadata": {
      "needs_background": "light"
     },
     "output_type": "display_data"
    }
   ],
   "source": [
    "#Use elbow method to determine the optimum number of clusters needed for Method2\n",
    "wcss = []\n",
    "\n",
    "for i in range(1,11):\n",
    "    kmeans = KMeans(n_clusters = i,init = 'k-means++', random_state = 42)\n",
    "    kmeans.fit(rfm_df.iloc[:,4:7])\n",
    "    wcss.append(kmeans.inertia_)\n",
    "    \n",
    "sns.pointplot(x=list(range(1,11)), y=wcss)\n",
    "plt.title('The Elbow method')\n",
    "plt.xlabel('Number of clusters')\n",
    "plt.xlabel('WCSS')\n",
    "plt.show()"
   ]
  },
  {
   "cell_type": "code",
   "execution_count": 50,
   "metadata": {
    "scrolled": true
   },
   "outputs": [
    {
     "data": {
      "text/plain": [
       "<mpl_toolkits.mplot3d.art3d.Path3DCollection at 0x1b5a3a17850>"
      ]
     },
     "execution_count": 50,
     "metadata": {},
     "output_type": "execute_result"
    },
    {
     "data": {
      "image/png": "[encoded data removed]",
      "text/plain": [
       "<Figure size 360x360 with 1 Axes>"
      ]
     },
     "metadata": {
      "needs_background": "light"
     },
     "output_type": "display_data"
    }
   ],
   "source": [
    "kmeans = KMeans(n_clusters = 4,init = 'k-means++', random_state = 42)\n",
    "kmeans.fit(rfm_df.iloc[:,4:7])\n",
    "centers = kmeans.cluster_centers_\n",
    "\n",
    "fig = plt.figure(figsize=[5,5])\n",
    "ax = fig.add_subplot(111,projection = '3d')\n",
    "ax.scatter(rfm_df['r_score'],rfm_df['f_score'],rfm_df['m_score'], \n",
    "           cmap = 'brg', c=kmeans.predict(rfm_df.iloc[:,4:7]))\n",
    "\n",
    "ax.set_xlabel(\"Recency\")\n",
    "ax.set_ylabel(\"Frequency\")\n",
    "ax.set_zlabel(\"Monetary\")\n",
    "\n",
    "ax.scatter(centers[:,0], centers[:,1], c='black')"
   ]
  },
  {
   "cell_type": "code",
   "execution_count": 51,
   "metadata": {},
   "outputs": [],
   "source": [
    "rfm_df_1 = rfm_df.iloc[:,4:7] #pd.DataFrame(scaler.inverse_transform(rfm_normalized))\n",
    "rfm_df_1.columns = rfm_df_1[['r_score', 'f_score', 'm_score']].columns\n",
    "rfm_df_1['index_a'] = rfm_df.index\n",
    "rfm_df_1['cluster'] = kmeans.labels_"
   ]
  },
  {
   "cell_type": "code",
   "execution_count": 52,
   "metadata": {},
   "outputs": [
    {
     "name": "stderr",
     "output_type": "stream",
     "text": [
      "C:\\Users\\Arjun Achuthan\\anaconda3\\lib\\site-packages\\seaborn\\_decorators.py:36: FutureWarning: Pass the following variables as keyword args: x, y. From version 0.12, the only valid positional argument will be `data`, and passing other arguments without an explicit keyword will result in an error or misinterpretation.\n",
      "  warnings.warn(\n"
     ]
    },
    {
     "data": {
      "text/plain": [
       "<matplotlib.legend.Legend at 0x1b5a3a0cca0>"
      ]
     },
     "execution_count": 52,
     "metadata": {},
     "output_type": "execute_result"
    },
    {
     "data": {
      "image/png": "[encoded data removed]",
      "text/plain": [
       "<Figure size 432x288 with 1 Axes>"
      ]
     },
     "metadata": {
      "needs_background": "light"
     },
     "output_type": "display_data"
    }
   ],
   "source": [
    "melted_rfm = pd.melt(rfm_df_1, id_vars=['index_a','cluster'],\n",
    "                                value_vars = ['r_score', 'f_score', 'm_score'],\n",
    "                                var_name = 'Features', value_name = 'Value')\n",
    "\n",
    "sns.lineplot('Features', 'Value', hue = 'cluster', data = melted_rfm)\n",
    "plt.legend()"
   ]
  },
  {
   "cell_type": "markdown",
   "metadata": {},
   "source": [
    "0 - Low recency , Hight frequency and High monetary = High value wih high risk of leaving\n",
    "\n",
    "1 - High reency, low frequency and low monetary = New Customer\n",
    "\n",
    "2 - High recency , high frequency and high monetary = Best Customer\n",
    "\n",
    "3 - Low recency, low frequency and low monetary = Low value customer"
   ]
  },
  {
   "cell_type": "code",
   "execution_count": 53,
   "metadata": {},
   "outputs": [],
   "source": [
    "rfm_df['cluster']= rfm_df_1['cluster']"
   ]
  },
  {
   "cell_type": "code",
   "execution_count": 54,
   "metadata": {},
   "outputs": [
    {
     "data": {
      "text/html": [
       "<div>\n",
       "<style scoped>\n",
       "    .dataframe tbody tr th:only-of-type {\n",
       "        vertical-align: middle;\n",
       "    }\n",
       "\n",
       "    .dataframe tbody tr th {\n",
       "        vertical-align: top;\n",
       "    }\n",
       "\n",
       "    .dataframe thead tr th {\n",
       "        text-align: left;\n",
       "    }\n",
       "\n",
       "    .dataframe thead tr:last-of-type th {\n",
       "        text-align: right;\n",
       "    }\n",
       "</style>\n",
       "<table border=\"1\" class=\"dataframe\">\n",
       "  <thead>\n",
       "    <tr>\n",
       "      <th></th>\n",
       "      <th colspan=\"5\" halign=\"left\">Recency</th>\n",
       "      <th colspan=\"5\" halign=\"left\">Frequency</th>\n",
       "      <th colspan=\"5\" halign=\"left\">Monetary</th>\n",
       "    </tr>\n",
       "    <tr>\n",
       "      <th></th>\n",
       "      <th>count</th>\n",
       "      <th>mean</th>\n",
       "      <th>median</th>\n",
       "      <th>min</th>\n",
       "      <th>max</th>\n",
       "      <th>count</th>\n",
       "      <th>mean</th>\n",
       "      <th>median</th>\n",
       "      <th>min</th>\n",
       "      <th>max</th>\n",
       "      <th>count</th>\n",
       "      <th>mean</th>\n",
       "      <th>median</th>\n",
       "      <th>min</th>\n",
       "      <th>max</th>\n",
       "    </tr>\n",
       "    <tr>\n",
       "      <th>cluster</th>\n",
       "      <th></th>\n",
       "      <th></th>\n",
       "      <th></th>\n",
       "      <th></th>\n",
       "      <th></th>\n",
       "      <th></th>\n",
       "      <th></th>\n",
       "      <th></th>\n",
       "      <th></th>\n",
       "      <th></th>\n",
       "      <th></th>\n",
       "      <th></th>\n",
       "      <th></th>\n",
       "      <th></th>\n",
       "      <th></th>\n",
       "    </tr>\n",
       "  </thead>\n",
       "  <tbody>\n",
       "    <tr>\n",
       "      <th>0</th>\n",
       "      <td>3243</td>\n",
       "      <td>4.637064</td>\n",
       "      <td>4</td>\n",
       "      <td>2</td>\n",
       "      <td>18</td>\n",
       "      <td>3243</td>\n",
       "      <td>10.134135</td>\n",
       "      <td>9</td>\n",
       "      <td>2</td>\n",
       "      <td>29</td>\n",
       "      <td>3243</td>\n",
       "      <td>166.951230</td>\n",
       "      <td>145.970</td>\n",
       "      <td>14.43</td>\n",
       "      <td>1327.74</td>\n",
       "    </tr>\n",
       "    <tr>\n",
       "      <th>1</th>\n",
       "      <td>4008</td>\n",
       "      <td>0.933134</td>\n",
       "      <td>1</td>\n",
       "      <td>0</td>\n",
       "      <td>2</td>\n",
       "      <td>4008</td>\n",
       "      <td>5.787425</td>\n",
       "      <td>6</td>\n",
       "      <td>1</td>\n",
       "      <td>11</td>\n",
       "      <td>4008</td>\n",
       "      <td>51.383860</td>\n",
       "      <td>29.200</td>\n",
       "      <td>0.05</td>\n",
       "      <td>1153.11</td>\n",
       "    </tr>\n",
       "    <tr>\n",
       "      <th>2</th>\n",
       "      <td>4871</td>\n",
       "      <td>0.814822</td>\n",
       "      <td>1</td>\n",
       "      <td>0</td>\n",
       "      <td>2</td>\n",
       "      <td>4871</td>\n",
       "      <td>13.282899</td>\n",
       "      <td>13</td>\n",
       "      <td>6</td>\n",
       "      <td>36</td>\n",
       "      <td>4871</td>\n",
       "      <td>175.729388</td>\n",
       "      <td>157.270</td>\n",
       "      <td>12.91</td>\n",
       "      <td>1608.69</td>\n",
       "    </tr>\n",
       "    <tr>\n",
       "      <th>3</th>\n",
       "      <td>4456</td>\n",
       "      <td>6.807899</td>\n",
       "      <td>6</td>\n",
       "      <td>3</td>\n",
       "      <td>29</td>\n",
       "      <td>4456</td>\n",
       "      <td>4.082361</td>\n",
       "      <td>4</td>\n",
       "      <td>1</td>\n",
       "      <td>11</td>\n",
       "      <td>4456</td>\n",
       "      <td>38.623153</td>\n",
       "      <td>21.425</td>\n",
       "      <td>0.05</td>\n",
       "      <td>150.63</td>\n",
       "    </tr>\n",
       "  </tbody>\n",
       "</table>\n",
       "</div>"
      ],
      "text/plain": [
       "        Recency                          Frequency                            \\\n",
       "          count      mean median min max     count       mean median min max   \n",
       "cluster                                                                        \n",
       "0          3243  4.637064      4   2  18      3243  10.134135      9   2  29   \n",
       "1          4008  0.933134      1   0   2      4008   5.787425      6   1  11   \n",
       "2          4871  0.814822      1   0   2      4871  13.282899     13   6  36   \n",
       "3          4456  6.807899      6   3  29      4456   4.082361      4   1  11   \n",
       "\n",
       "        Monetary                                       \n",
       "           count        mean   median    min      max  \n",
       "cluster                                                \n",
       "0           3243  166.951230  145.970  14.43  1327.74  \n",
       "1           4008   51.383860   29.200   0.05  1153.11  \n",
       "2           4871  175.729388  157.270  12.91  1608.69  \n",
       "3           4456   38.623153   21.425   0.05   150.63  "
      ]
     },
     "execution_count": 54,
     "metadata": {},
     "output_type": "execute_result"
    }
   ],
   "source": [
    "rfm_df.groupby('cluster').agg({\n",
    "    'Recency': ['count','mean', 'median','min','max'],\n",
    "    'Frequency': ['count','mean', 'median','min', 'max'],\n",
    "    'Monetary': ['count','mean', 'median','min', 'max']\n",
    "})"
   ]
  },
  {
   "cell_type": "code",
   "execution_count": 55,
   "metadata": {},
   "outputs": [
    {
     "data": {
      "text/html": [
       "<div>\n",
       "<style scoped>\n",
       "    .dataframe tbody tr th:only-of-type {\n",
       "        vertical-align: middle;\n",
       "    }\n",
       "\n",
       "    .dataframe tbody tr th {\n",
       "        vertical-align: top;\n",
       "    }\n",
       "\n",
       "    .dataframe thead th {\n",
       "        text-align: right;\n",
       "    }\n",
       "</style>\n",
       "<table border=\"1\" class=\"dataframe\">\n",
       "  <thead>\n",
       "    <tr style=\"text-align: right;\">\n",
       "      <th></th>\n",
       "      <th>customer_id</th>\n",
       "      <th>Recency</th>\n",
       "      <th>Frequency</th>\n",
       "      <th>Monetary</th>\n",
       "      <th>r_score</th>\n",
       "      <th>f_score</th>\n",
       "      <th>m_score</th>\n",
       "      <th>cluster</th>\n",
       "    </tr>\n",
       "  </thead>\n",
       "  <tbody>\n",
       "    <tr>\n",
       "      <th>7887</th>\n",
       "      <td>79d9d4f86aca4bed9290350fb43817c2</td>\n",
       "      <td>0</td>\n",
       "      <td>36</td>\n",
       "      <td>173.41</td>\n",
       "      <td>4</td>\n",
       "      <td>4</td>\n",
       "      <td>4</td>\n",
       "      <td>2</td>\n",
       "    </tr>\n",
       "    <tr>\n",
       "      <th>9702</th>\n",
       "      <td>94de646f7b6041228ca7dec82adb97d2</td>\n",
       "      <td>0</td>\n",
       "      <td>35</td>\n",
       "      <td>90.23</td>\n",
       "      <td>4</td>\n",
       "      <td>4</td>\n",
       "      <td>3</td>\n",
       "      <td>2</td>\n",
       "    </tr>\n",
       "  </tbody>\n",
       "</table>\n",
       "</div>"
      ],
      "text/plain": [
       "                           customer_id  Recency  Frequency  Monetary  r_score  \\\n",
       "7887  79d9d4f86aca4bed9290350fb43817c2        0         36    173.41        4   \n",
       "9702  94de646f7b6041228ca7dec82adb97d2        0         35     90.23        4   \n",
       "\n",
       "      f_score  m_score  cluster  \n",
       "7887        4        4        2  \n",
       "9702        4        3        2  "
      ]
     },
     "execution_count": 55,
     "metadata": {},
     "output_type": "execute_result"
    }
   ],
   "source": [
    "rfm_df.head(2)"
   ]
  },
  {
   "cell_type": "markdown",
   "metadata": {},
   "source": [
    "### Now lets analyze demographics of each clusters"
   ]
  },
  {
   "cell_type": "code",
   "execution_count": 56,
   "metadata": {},
   "outputs": [],
   "source": [
    "profile_analysis = pd.merge(profile_df, rfm_df, left_on='customer_id', right_on='customer_id', how='inner')"
   ]
  },
  {
   "cell_type": "code",
   "execution_count": 57,
   "metadata": {},
   "outputs": [
    {
     "data": {
      "text/html": [
       "<div>\n",
       "<style scoped>\n",
       "    .dataframe tbody tr th:only-of-type {\n",
       "        vertical-align: middle;\n",
       "    }\n",
       "\n",
       "    .dataframe tbody tr th {\n",
       "        vertical-align: top;\n",
       "    }\n",
       "\n",
       "    .dataframe thead th {\n",
       "        text-align: right;\n",
       "    }\n",
       "</style>\n",
       "<table border=\"1\" class=\"dataframe\">\n",
       "  <thead>\n",
       "    <tr style=\"text-align: right;\">\n",
       "      <th></th>\n",
       "      <th>gender</th>\n",
       "      <th>age</th>\n",
       "      <th>customer_id</th>\n",
       "      <th>became_member_on</th>\n",
       "      <th>customer_income</th>\n",
       "      <th>membership_year</th>\n",
       "      <th>age_group</th>\n",
       "      <th>Recency</th>\n",
       "      <th>Frequency</th>\n",
       "      <th>Monetary</th>\n",
       "      <th>r_score</th>\n",
       "      <th>f_score</th>\n",
       "      <th>m_score</th>\n",
       "      <th>cluster</th>\n",
       "    </tr>\n",
       "  </thead>\n",
       "  <tbody>\n",
       "    <tr>\n",
       "      <th>0</th>\n",
       "      <td>F</td>\n",
       "      <td>55</td>\n",
       "      <td>0610b486422d4921ae7d2bf64640c50b</td>\n",
       "      <td>2017-07-15</td>\n",
       "      <td>112000.0</td>\n",
       "      <td>2017</td>\n",
       "      <td>GenXers(44-56)</td>\n",
       "      <td>7</td>\n",
       "      <td>3</td>\n",
       "      <td>77.01</td>\n",
       "      <td>1</td>\n",
       "      <td>1</td>\n",
       "      <td>3</td>\n",
       "      <td>3</td>\n",
       "    </tr>\n",
       "    <tr>\n",
       "      <th>1</th>\n",
       "      <td>F</td>\n",
       "      <td>75</td>\n",
       "      <td>78afa995795e4d85b5d9ceeca43f5fef</td>\n",
       "      <td>2017-05-09</td>\n",
       "      <td>100000.0</td>\n",
       "      <td>2017</td>\n",
       "      <td>Boomers(57-75)</td>\n",
       "      <td>7</td>\n",
       "      <td>7</td>\n",
       "      <td>159.27</td>\n",
       "      <td>1</td>\n",
       "      <td>2</td>\n",
       "      <td>4</td>\n",
       "      <td>0</td>\n",
       "    </tr>\n",
       "    <tr>\n",
       "      <th>2</th>\n",
       "      <td>M</td>\n",
       "      <td>68</td>\n",
       "      <td>e2127556f4f64592b11af22de27a7932</td>\n",
       "      <td>2018-04-26</td>\n",
       "      <td>70000.0</td>\n",
       "      <td>2018</td>\n",
       "      <td>Boomers(57-75)</td>\n",
       "      <td>8</td>\n",
       "      <td>3</td>\n",
       "      <td>57.73</td>\n",
       "      <td>1</td>\n",
       "      <td>1</td>\n",
       "      <td>2</td>\n",
       "      <td>3</td>\n",
       "    </tr>\n",
       "    <tr>\n",
       "      <th>3</th>\n",
       "      <td>M</td>\n",
       "      <td>65</td>\n",
       "      <td>389bc3fa690240e798340f5a15918d5c</td>\n",
       "      <td>2018-02-09</td>\n",
       "      <td>53000.0</td>\n",
       "      <td>2018</td>\n",
       "      <td>Boomers(57-75)</td>\n",
       "      <td>4</td>\n",
       "      <td>3</td>\n",
       "      <td>36.43</td>\n",
       "      <td>2</td>\n",
       "      <td>1</td>\n",
       "      <td>2</td>\n",
       "      <td>3</td>\n",
       "    </tr>\n",
       "  </tbody>\n",
       "</table>\n",
       "</div>"
      ],
      "text/plain": [
       "  gender  age                       customer_id became_member_on  \\\n",
       "0      F   55  0610b486422d4921ae7d2bf64640c50b       2017-07-15   \n",
       "1      F   75  78afa995795e4d85b5d9ceeca43f5fef       2017-05-09   \n",
       "2      M   68  e2127556f4f64592b11af22de27a7932       2018-04-26   \n",
       "3      M   65  389bc3fa690240e798340f5a15918d5c       2018-02-09   \n",
       "\n",
       "   customer_income  membership_year       age_group  Recency  Frequency  \\\n",
       "0         112000.0             2017  GenXers(44-56)        7          3   \n",
       "1         100000.0             2017  Boomers(57-75)        7          7   \n",
       "2          70000.0             2018  Boomers(57-75)        8          3   \n",
       "3          53000.0             2018  Boomers(57-75)        4          3   \n",
       "\n",
       "   Monetary  r_score  f_score  m_score  cluster  \n",
       "0     77.01        1        1        3        3  \n",
       "1    159.27        1        2        4        0  \n",
       "2     57.73        1        1        2        3  \n",
       "3     36.43        2        1        2        3  "
      ]
     },
     "execution_count": 57,
     "metadata": {},
     "output_type": "execute_result"
    }
   ],
   "source": [
    "profile_analysis.head(4)"
   ]
  },
  {
   "cell_type": "code",
   "execution_count": 58,
   "metadata": {},
   "outputs": [],
   "source": [
    "profile_analysis_c0 = profile_analysis[profile_analysis['cluster']==0]\n",
    "profile_analysis_c1 = profile_analysis[profile_analysis['cluster']==1]\n",
    "profile_analysis_c2 = profile_analysis[profile_analysis['cluster']==2]\n",
    "profile_analysis_c3 = profile_analysis[profile_analysis['cluster']==3]"
   ]
  },
  {
   "cell_type": "code",
   "execution_count": 59,
   "metadata": {},
   "outputs": [
    {
     "data": {
      "text/plain": [
       "[Text(0.5, 1.0, 'Cluster 3')]"
      ]
     },
     "execution_count": 59,
     "metadata": {},
     "output_type": "execute_result"
    },
    {
     "data": {
      "image/png": "[encoded data removed]",
      "text/plain": [
       "<Figure size 1440x720 with 4 Axes>"
      ]
     },
     "metadata": {
      "needs_background": "light"
     },
     "output_type": "display_data"
    }
   ],
   "source": [
    "#Group the age ranges\n",
    "sns.set_palette(sns.color_palette('Set2'))\n",
    "\n",
    "fig, axs = plt.subplots( nrows = 2,ncols=2, figsize=(20, 10))\n",
    "\n",
    "ax = sns.countplot(x='age_group',data=profile_analysis_c0,  ax= axs[0,0])\n",
    "ax.set(title = 'Cluster 0')\n",
    "\n",
    "\n",
    "ax = sns.countplot(x='age_group',data=profile_analysis_c1,  ax= axs[0,1])\n",
    "ax.set( title = 'Cluster 1')\n",
    "\n",
    "ax = sns.countplot(x='age_group',data=profile_analysis_c2,  ax= axs[1,0])\n",
    "ax.set(title = 'Cluster 2')\n",
    "\n",
    "ax = sns.countplot(x='age_group',data=profile_analysis_c3,  ax= axs[1,1])\n",
    "ax.set( title = 'Cluster 3')\n"
   ]
  },
  {
   "cell_type": "code",
   "execution_count": 61,
   "metadata": {},
   "outputs": [
    {
     "data": {
      "text/plain": [
       "[Text(0.5, 1.0, 'Cluster 3')]"
      ]
     },
     "execution_count": 61,
     "metadata": {},
     "output_type": "execute_result"
    },
    {
     "data": {
      "image/png": "[encoded data removed]",
      "text/plain": [
       "<Figure size 1440x360 with 4 Axes>"
      ]
     },
     "metadata": {
      "needs_background": "light"
     },
     "output_type": "display_data"
    }
   ],
   "source": [
    "#Group the age ranges\n",
    "\n",
    "\n",
    "fig, axs = plt.subplots(ncols=4, figsize=(20, 5))\n",
    "sns.set_palette(sns.color_palette('Set2'))\n",
    "\n",
    "ax = sns.countplot(x= profile_analysis_c0['gender'], order = profile_analysis_c0['gender'].value_counts().index , ax= axs[0])\n",
    "ax.set(title = 'Cluster 0')\n",
    "\n",
    "ax = sns.countplot(x= profile_analysis_c1['gender'], order = profile_analysis_c1['gender'].value_counts().index , ax= axs[1])\n",
    "ax.set(title = 'Cluster 1')\n",
    "\n",
    "ax = sns.countplot(x= profile_analysis_c2['gender'], order = profile_analysis_c2['gender'].value_counts().index , ax= axs[2])\n",
    "ax.set(title = 'Cluster 2')\n",
    "\n",
    "ax = sns.countplot(x= profile_analysis_c3['gender'], order = profile_analysis_c3['gender'].value_counts().index , ax= axs[3])\n",
    "ax.set(title = 'Cluster 3')\n"
   ]
  },
  {
   "cell_type": "code",
   "execution_count": 63,
   "metadata": {},
   "outputs": [
    {
     "data": {
      "text/plain": [
       "Text(0, 0.5, 'Salary(USD)')"
      ]
     },
     "execution_count": 63,
     "metadata": {},
     "output_type": "execute_result"
    },
    {
     "data": {
      "image/png": "[encoded data removed]",
      "text/plain": [
       "<Figure size 1080x504 with 1 Axes>"
      ]
     },
     "metadata": {
      "needs_background": "light"
     },
     "output_type": "display_data"
    }
   ],
   "source": [
    "#Income distribution by gender\n",
    "sns.set_palette(sns.color_palette('Set2'))\n",
    "plt.figure(figsize=[15,7])\n",
    "sal_hist = sns.boxplot(data = profile_analysis, x = 'cluster', y = 'customer_income' ).set_title(\"Cluster wise Customer Income distribution\")\n",
    "plt.ylabel(\"Salary(USD)\")"
   ]
  },
  {
   "cell_type": "code",
   "execution_count": 64,
   "metadata": {},
   "outputs": [
    {
     "data": {
      "image/png": "[encoded data removed]",
      "text/plain": [
       "<Figure size 1440x360 with 4 Axes>"
      ]
     },
     "metadata": {
      "needs_background": "light"
     },
     "output_type": "display_data"
    }
   ],
   "source": [
    "#Group the Membership year\n",
    "\n",
    "fig, axs = plt.subplots(ncols=4, figsize=(20, 5))\n",
    "sns.set_palette(sns.color_palette('Set2'))\n",
    "\n",
    "ax = sns.countplot(x='membership_year',data=profile_analysis_c0, ax=axs[0]).set(title = 'Cluster 0')\n",
    "ax = sns.countplot(x='membership_year',data=profile_analysis_c1, ax=axs[1]).set(title = 'Cluster 1')\n",
    "ax = sns.countplot(x='membership_year',data=profile_analysis_c2, ax=axs[2]).set(title = 'Cluster 2')\n",
    "ax = sns.countplot(x='membership_year',data=profile_analysis_c3, ax=axs[3]).set(title = 'Cluster 3')"
   ]
  },
  {
   "cell_type": "markdown",
   "metadata": {},
   "source": [
    "### Offer analysis"
   ]
  },
  {
   "cell_type": "code",
   "execution_count": 65,
   "metadata": {},
   "outputs": [],
   "source": [
    "offers, transactions = clean_transcript(transcript)"
   ]
  },
  {
   "cell_type": "code",
   "execution_count": 66,
   "metadata": {},
   "outputs": [],
   "source": [
    "def offer_conversion(offers= offers):\n",
    "    \n",
    "\n",
    "    offer_stat = offers.groupby(['customer_id', 'offer_id']).agg({'completed': 'sum' ,'received': 'sum' , 'viewed': 'sum' })\n",
    "    offer_stat.reset_index(level=[0,1], inplace=True)\n",
    "\n",
    "    # Figure out if a offer was successful or not\n",
    "    offer_success_temp = offer_stat['completed'] * offer_stat['viewed']\n",
    "    offer_stat['offer_success'] = offer_success_temp.apply(lambda x: 1 if x > 0 else 0)\n",
    "    \n",
    "    offer_stat  = pd.merge(offer_stat, portfolio_df, left_on='offer_id', right_on='offer_id', how='inner')\n",
    "    \n",
    "    return offer_stat\n",
    "\n",
    "offer_stat= offer_conversion(offers)"
   ]
  },
  {
   "cell_type": "code",
   "execution_count": 67,
   "metadata": {
    "scrolled": true
   },
   "outputs": [
    {
     "data": {
      "text/html": [
       "<div>\n",
       "<style scoped>\n",
       "    .dataframe tbody tr th:only-of-type {\n",
       "        vertical-align: middle;\n",
       "    }\n",
       "\n",
       "    .dataframe tbody tr th {\n",
       "        vertical-align: top;\n",
       "    }\n",
       "\n",
       "    .dataframe thead th {\n",
       "        text-align: right;\n",
       "    }\n",
       "</style>\n",
       "<table border=\"1\" class=\"dataframe\">\n",
       "  <thead>\n",
       "    <tr style=\"text-align: right;\">\n",
       "      <th></th>\n",
       "      <th>customer_id</th>\n",
       "      <th>offer_id</th>\n",
       "      <th>completed</th>\n",
       "      <th>received</th>\n",
       "      <th>viewed</th>\n",
       "      <th>offer_success</th>\n",
       "      <th>offer_reward</th>\n",
       "      <th>channels</th>\n",
       "      <th>offer_difficulty</th>\n",
       "      <th>offer_duration</th>\n",
       "      <th>offer_type</th>\n",
       "      <th>offer_name</th>\n",
       "      <th>Recency</th>\n",
       "      <th>Frequency</th>\n",
       "      <th>Monetary</th>\n",
       "      <th>r_score</th>\n",
       "      <th>f_score</th>\n",
       "      <th>m_score</th>\n",
       "      <th>cluster</th>\n",
       "    </tr>\n",
       "  </thead>\n",
       "  <tbody>\n",
       "    <tr>\n",
       "      <th>0</th>\n",
       "      <td>0009655768c64bdeb2e877511632db8f</td>\n",
       "      <td>2906b810c7d4411798c6938adc9daaa5</td>\n",
       "      <td>1</td>\n",
       "      <td>1</td>\n",
       "      <td>0</td>\n",
       "      <td>0</td>\n",
       "      <td>2</td>\n",
       "      <td>[web, email, mobile]</td>\n",
       "      <td>10</td>\n",
       "      <td>7</td>\n",
       "      <td>discount</td>\n",
       "      <td>offer_10</td>\n",
       "      <td>0</td>\n",
       "      <td>8</td>\n",
       "      <td>127.6</td>\n",
       "      <td>4</td>\n",
       "      <td>3</td>\n",
       "      <td>3</td>\n",
       "      <td>2</td>\n",
       "    </tr>\n",
       "    <tr>\n",
       "      <th>1</th>\n",
       "      <td>0009655768c64bdeb2e877511632db8f</td>\n",
       "      <td>3f207df678b143eea3cee63160fa8bed</td>\n",
       "      <td>0</td>\n",
       "      <td>1</td>\n",
       "      <td>1</td>\n",
       "      <td>0</td>\n",
       "      <td>0</td>\n",
       "      <td>[web, email, mobile]</td>\n",
       "      <td>0</td>\n",
       "      <td>4</td>\n",
       "      <td>informational</td>\n",
       "      <td>offer_3</td>\n",
       "      <td>0</td>\n",
       "      <td>8</td>\n",
       "      <td>127.6</td>\n",
       "      <td>4</td>\n",
       "      <td>3</td>\n",
       "      <td>3</td>\n",
       "      <td>2</td>\n",
       "    </tr>\n",
       "  </tbody>\n",
       "</table>\n",
       "</div>"
      ],
      "text/plain": [
       "                        customer_id                          offer_id  \\\n",
       "0  0009655768c64bdeb2e877511632db8f  2906b810c7d4411798c6938adc9daaa5   \n",
       "1  0009655768c64bdeb2e877511632db8f  3f207df678b143eea3cee63160fa8bed   \n",
       "\n",
       "   completed  received  viewed  offer_success  offer_reward  \\\n",
       "0          1         1       0              0             2   \n",
       "1          0         1       1              0             0   \n",
       "\n",
       "               channels  offer_difficulty  offer_duration     offer_type  \\\n",
       "0  [web, email, mobile]                10               7       discount   \n",
       "1  [web, email, mobile]                 0               4  informational   \n",
       "\n",
       "  offer_name  Recency  Frequency  Monetary  r_score  f_score  m_score  cluster  \n",
       "0   offer_10        0          8     127.6        4        3        3        2  \n",
       "1    offer_3        0          8     127.6        4        3        3        2  "
      ]
     },
     "execution_count": 67,
     "metadata": {},
     "output_type": "execute_result"
    }
   ],
   "source": [
    "offer_analysis = pd.merge(offer_stat, rfm_df, left_on='customer_id', right_on='customer_id', how='inner')\n",
    "offer_analysis.head(2)"
   ]
  },
  {
   "cell_type": "code",
   "execution_count": 72,
   "metadata": {},
   "outputs": [
    {
     "data": {
      "text/plain": [
       "Text(0.5, 1.0, 'Customers count vs Gender')"
      ]
     },
     "execution_count": 72,
     "metadata": {},
     "output_type": "execute_result"
    },
    {
     "data": {
      "image/png": "[encoded data removed]",
      "text/plain": [
       "<Figure size 720x360 with 1 Axes>"
      ]
     },
     "metadata": {
      "needs_background": "light"
     },
     "output_type": "display_data"
    }
   ],
   "source": [
    "#Acceptance rate per offer\n",
    "\n",
    "plt.figure(figsize=[10,5])\n",
    "sns.countplot(x= offer_analysis['cluster'], hue = offer_analysis['offer_success'])\n",
    "\n",
    "plt.title('Customers count vs Gender', fontsize=19)"
   ]
  },
  {
   "cell_type": "code",
   "execution_count": 70,
   "metadata": {},
   "outputs": [
    {
     "data": {
      "text/plain": [
       "<AxesSubplot:title={'center':'Cluster 3'}, xlabel='offer_name', ylabel='count'>"
      ]
     },
     "execution_count": 70,
     "metadata": {},
     "output_type": "execute_result"
    },
    {
     "data": {
      "image/png": "[encoded data removed]",
      "text/plain": [
       "<Figure size 1440x864 with 4 Axes>"
      ]
     },
     "metadata": {
      "needs_background": "light"
     },
     "output_type": "display_data"
    }
   ],
   "source": [
    "#Gender distribution\n",
    "\n",
    "def plot_test(offer_analysis= offer_analysis):\n",
    "    \n",
    "    \n",
    "    offer_analysis_c0 = offer_analysis[offer_analysis['cluster']==0]\n",
    "    offer_analysis_c1 = offer_analysis[offer_analysis['cluster']==1]\n",
    "    offer_analysis_c2 = offer_analysis[offer_analysis['cluster']==2]\n",
    "    offer_analysis_c3 = offer_analysis[offer_analysis['cluster']==3]\n",
    "    \n",
    "    fig, axs = plt.subplots( nrows = 2,ncols=2, figsize=(20, 12))\n",
    "\n",
    "    #plt.figure(figsize=[10,5])\n",
    "    ax = sns.countplot(x= offer_analysis_c0['offer_name'], hue = offer_analysis_c0['offer_success'], \n",
    "                  order = offer_analysis['offer_name'].value_counts().index, ax= axs[0,0])\n",
    "\n",
    "    ax.set(title = 'Cluster 0')\n",
    "\n",
    "\n",
    "\n",
    "    #Gender distribution\n",
    "    #plt.figure(figsize=[10,5])\n",
    "    ax = sns.countplot(x= offer_analysis_c1['offer_name'], hue = offer_analysis_c1['offer_success'],\n",
    "                 order = offer_analysis['offer_name'].value_counts().index, ax= axs[0,1])\n",
    "\n",
    "    ax.set(title = 'Cluster 1')\n",
    "\n",
    "\n",
    "\n",
    "    #Gender distribution\n",
    "\n",
    "    #plt.figure(figsize=[10,5])\n",
    "    ax = sns.countplot(x= offer_analysis_c2['offer_name'], hue = offer_analysis_c2['offer_success'],\n",
    "                 order = offer_analysis['offer_name'].value_counts().index, ax= axs[1,0])\n",
    "\n",
    "    ax.set(title = 'Cluster 2')\n",
    "\n",
    "\n",
    "\n",
    "    #Gender distribution\n",
    "\n",
    "    #plt.figure(figsize=[10,5])\n",
    "    ax = sns.countplot(x= offer_analysis_c3['offer_name'], hue = offer_analysis_c3['offer_success'],\n",
    "                 order = offer_analysis['offer_name'].value_counts().index, ax= axs[1,1])\n",
    "\n",
    "    ax.set(title = 'Cluster 3')\n",
    "    \n",
    "    return(ax)\n",
    "a = plot_test(offer_analysis)\n",
    "a"
   ]
  },
  {
   "cell_type": "code",
   "execution_count": 73,
   "metadata": {},
   "outputs": [
    {
     "data": {
      "text/html": [
       "<div>\n",
       "<style scoped>\n",
       "    .dataframe tbody tr th:only-of-type {\n",
       "        vertical-align: middle;\n",
       "    }\n",
       "\n",
       "    .dataframe tbody tr th {\n",
       "        vertical-align: top;\n",
       "    }\n",
       "\n",
       "    .dataframe thead th {\n",
       "        text-align: right;\n",
       "    }\n",
       "</style>\n",
       "<table border=\"1\" class=\"dataframe\">\n",
       "  <thead>\n",
       "    <tr style=\"text-align: right;\">\n",
       "      <th></th>\n",
       "      <th>customer_id</th>\n",
       "      <th>offer_id</th>\n",
       "      <th>completed</th>\n",
       "      <th>received</th>\n",
       "      <th>viewed</th>\n",
       "      <th>offer_success</th>\n",
       "      <th>offer_reward</th>\n",
       "      <th>channels</th>\n",
       "      <th>offer_difficulty</th>\n",
       "      <th>offer_duration</th>\n",
       "      <th>offer_type</th>\n",
       "      <th>offer_name</th>\n",
       "      <th>Recency</th>\n",
       "      <th>Frequency</th>\n",
       "      <th>Monetary</th>\n",
       "      <th>r_score</th>\n",
       "      <th>f_score</th>\n",
       "      <th>m_score</th>\n",
       "      <th>cluster</th>\n",
       "    </tr>\n",
       "  </thead>\n",
       "  <tbody>\n",
       "    <tr>\n",
       "      <th>0</th>\n",
       "      <td>0009655768c64bdeb2e877511632db8f</td>\n",
       "      <td>2906b810c7d4411798c6938adc9daaa5</td>\n",
       "      <td>1</td>\n",
       "      <td>1</td>\n",
       "      <td>0</td>\n",
       "      <td>0</td>\n",
       "      <td>2</td>\n",
       "      <td>[web, email, mobile]</td>\n",
       "      <td>10</td>\n",
       "      <td>7</td>\n",
       "      <td>discount</td>\n",
       "      <td>offer_10</td>\n",
       "      <td>0</td>\n",
       "      <td>8</td>\n",
       "      <td>127.6</td>\n",
       "      <td>4</td>\n",
       "      <td>3</td>\n",
       "      <td>3</td>\n",
       "      <td>2</td>\n",
       "    </tr>\n",
       "    <tr>\n",
       "      <th>1</th>\n",
       "      <td>0009655768c64bdeb2e877511632db8f</td>\n",
       "      <td>3f207df678b143eea3cee63160fa8bed</td>\n",
       "      <td>0</td>\n",
       "      <td>1</td>\n",
       "      <td>1</td>\n",
       "      <td>0</td>\n",
       "      <td>0</td>\n",
       "      <td>[web, email, mobile]</td>\n",
       "      <td>0</td>\n",
       "      <td>4</td>\n",
       "      <td>informational</td>\n",
       "      <td>offer_3</td>\n",
       "      <td>0</td>\n",
       "      <td>8</td>\n",
       "      <td>127.6</td>\n",
       "      <td>4</td>\n",
       "      <td>3</td>\n",
       "      <td>3</td>\n",
       "      <td>2</td>\n",
       "    </tr>\n",
       "  </tbody>\n",
       "</table>\n",
       "</div>"
      ],
      "text/plain": [
       "                        customer_id                          offer_id  \\\n",
       "0  0009655768c64bdeb2e877511632db8f  2906b810c7d4411798c6938adc9daaa5   \n",
       "1  0009655768c64bdeb2e877511632db8f  3f207df678b143eea3cee63160fa8bed   \n",
       "\n",
       "   completed  received  viewed  offer_success  offer_reward  \\\n",
       "0          1         1       0              0             2   \n",
       "1          0         1       1              0             0   \n",
       "\n",
       "               channels  offer_difficulty  offer_duration     offer_type  \\\n",
       "0  [web, email, mobile]                10               7       discount   \n",
       "1  [web, email, mobile]                 0               4  informational   \n",
       "\n",
       "  offer_name  Recency  Frequency  Monetary  r_score  f_score  m_score  cluster  \n",
       "0   offer_10        0          8     127.6        4        3        3        2  \n",
       "1    offer_3        0          8     127.6        4        3        3        2  "
      ]
     },
     "execution_count": 73,
     "metadata": {},
     "output_type": "execute_result"
    }
   ],
   "source": [
    "offer_analysis.head(2)"
   ]
  },
  {
   "cell_type": "code",
   "execution_count": null,
   "metadata": {},
   "outputs": [],
   "source": []
  },
  {
   "cell_type": "code",
   "execution_count": null,
   "metadata": {},
   "outputs": [],
   "source": []
  }
 ],
 "metadata": {
  "kernelspec": {
   "display_name": "Python 3",
   "language": "python",
   "name": "python3"
  },
  "language_info": {
   "codemirror_mode": {
    "name": "ipython",
    "version": 3
   },
   "file_extension": ".py",
   "mimetype": "text/x-python",
   "name": "python",
   "nbconvert_exporter": "python",
   "pygments_lexer": "ipython3",
   "version": "3.8.5"
  }
 },
 "nbformat": 4,
 "nbformat_minor": 2
}
